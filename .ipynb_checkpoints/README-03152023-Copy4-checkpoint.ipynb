{
 "cells": [
  {
   "cell_type": "markdown",
   "id": "a8f1ba25",
   "metadata": {},
   "source": [
    "# GRegulNet\n",
    "\n",
    "## Gene Regular(ized/atory) Network\n",
    "\n",
    "#### By: Saniya Khullar, Xiang Huang, Daifeng Wang"
   ]
  },
  {
   "cell_type": "markdown",
   "id": "f4c83cfa",
   "metadata": {},
   "source": [
    "## Summary\n",
    "\n",
    "Regression techniques often face the challenge of dealing with correlated predictors, which can lead to unreliable model estimates. In biology, the variables are usually highly interconnected, and the relationships between them are complex and non-linear, making it difficult to obtain accurate regression models without incorporating prior knowledge. Traditional regression methods may not consider the potential impact of correlated predictors, including those representing Transcription Factors that regulate target genes in gene regulatory networks (GRNs), for instance. Network-constrained regularization addresses this issue by imposing constraints on the regression coefficients based on a network structure, ensuring that the model is consistent with the underlying biology and reducing the risk of overfitting to noise. In recent years, several software packages, including GRegulNet, have been developed that implement network-constrained regularization approaches for biological applications. These methods enable the identification of complex and non-linear relationships between variables, which traditional regression methods may miss. GRegulNet incorporates information from a prior network to improve predictions and is particularly useful for analyzing biological data. By leveraging the underlying network structure, network-constrained regularization methods can help identify relationships, highlight important nodes and edges in the network, provide insight into the underlying biological processes, and improve model accuracy and biological/clinical significance of the models. GRegulNet can be applied to other biological and non-biological applications, and for various types of network-based learning tasks where predictors are correlated or interconnected. In summary, network-constrained regularization is essential in biological applications, as it enables the construction of more accurate and interpretable models that incorporate prior knowledge of the biological network structure. GRegulNet is a critical tool that allows for the incorporation of multiple types of network data, including protein-protein interaction networks, GRNs, and metabolic networks, leading to better understanding of complex biological systems. Overall, incorporating network-constrained regularization using tools such as GRegulNet is a critical step towards improving the accuracy and interpretability of regression models in biological and other applications."
   ]
  },
  {
   "cell_type": "markdown",
   "id": "3472044b",
   "metadata": {},
   "source": [
    "## Pipeline\n",
    "\n",
    "*Pipeline image of Gregulnet*\n",
    "\n",
    "Alternate names:\n",
    "* LassoRegNet\n",
    "* LassoNet\n",
    "*"
   ]
  },
  {
   "cell_type": "markdown",
   "id": "37bbb95d",
   "metadata": {},
   "source": [
    "## Hardware Requirements\n",
    "\n",
    "The analysis is based on Python 3.10.6. Please note that larger prior networks may require more memory, space, and time. \n",
    "We anticipate that you would only need a standard computer with enough RAM to support the operations. A Linux system with 32 GB RAM and 32GB storage would be enough to support GRegulNet. "
   ]
  },
  {
   "cell_type": "markdown",
   "id": "079a07ae",
   "metadata": {},
   "source": [
    "## Software Requirements\n"
   ]
  },
  {
   "attachments": {},
   "cell_type": "markdown",
   "id": "520dc905",
   "metadata": {},
   "source": [
    "Please open a terminal window or command prompt window and navigate to your project directory using the command line or terminal.\n",
    "\n",
    "Please ensure you have cloned or downloaded our GRegulNet Github code and package.  We have provided a *requirements.txt* file, which lists the key packages and respective versions needed. To install these packages properly, please run the following command in the terminal or command prompt window to install the packages specified in the *requirements.txt* file:\n",
    "\n",
    "**pip install -r requirements.txt**\n",
    "\n",
    "This command will install all the packages listed in the *requirements.txt* file, including any specified versions or dependencies.\n",
    "\n",
    "In short, please note that we need to import the following Python packages needed to run our code:\n",
    "\n",
    "* matplotlib.pyplot\n",
    "* networkx\n",
    "* numpy\n",
    "* numpy.typing\n",
    "* os\n",
    "* pandas\n",
    "* plotly.express\n",
    "* random\n",
    "* scipy\n",
    "* sklearn\n",
    "* sys\n",
    "* tqdm\n",
    "* warnings\n",
    "\n",
    "To install these packages manually, please run *pip install [package]* or *pip3 install [package]* in the terminal or run *conda install [package]* in the Anaconda prompt."
   ]
  },
  {
   "cell_type": "markdown",
   "id": "31f63137",
   "metadata": {},
   "source": [
    "## Functions in the GRegulNet pipeline\n"
   ]
  },
  {
   "cell_type": "markdown",
   "id": "469db820",
   "metadata": {},
   "source": [
    "<!-- \n",
    "# * parameter 1: edge_list\n",
    "# * beta_network_val\n",
    "# * alpha_lasso_val, beta_network_val.  -->"
   ]
  },
  {
   "cell_type": "markdown",
   "id": "9611b02e",
   "metadata": {},
   "source": [
    "Please note that our package, GRegulNet, is run by the following function **geneRegulatNet** in Python.\n",
    "\n",
    "The function, **geneRegulatNet**, inputs the edge list of the prior graph network (to be used to constrain the model via network-based regularization) and a beta_network_val ($\\beta_{network} \\geq 0$) that scales the network-based regularization penalty. The user has 2 options with respect to the lasso regularization on the overall model: \n",
    "* default option: the user may  specify an alpha_lasso_val ($\\alpha_{lasso} \\geq 0$) manually (if *cv_for_alpha_lasso_model_bool = False*). If no alpha_lasso_val is specified, 0.1 will be used as the default. \n",
    "* alternative option: the user may opt for GRegulNet to select the alpha_lasso_val ($\\alpha_{lasso} \\geq 0$) based on cross-validation on the training data (if *cv_for_alpha_lasso_model_bool = True*)\n",
    "\n",
    "Ultimately, this function builds an estimator object from the class GRegulNet. This estimator is then able to take in input $X$ and $y$ data and transform those data inputs (to $\\tilde{X}$ and $\\tilde{y}$, respectively) based on the prior network edge lists and $\\beta_{network}$ value. Next, the estimator can fit a Lasso regression model on $\\tilde{X}$ and $\\tilde{y}$ using the regularization value of alpha_lasso_val ($\\alpha_{lasso} \\geq 0$), which is either provided by the user (if *cv_for_alpha_lasso_model_bool = False*) or determined by GRegulNet (based on cross-validation on training data, if *cv_for_alpha_lasso_model_bool = True*). Overall, the trained and fitted models are more reflective of an underlying network structure among predictors and may be more biologically meaningful and interpretable. \n",
    "\n",
    "\n",
    "**geneRegulatNet**:\n",
    "\n",
    "The basic version of geneRegulatNet requires that the user is aware of at least the following 4 parameters, which we list and explain in the *Main Input* section. That is, *geneRegulatNet(edge_list, beta_network_val, cv_for_alpha_lasso_model_bool, alpha_lasso_val)*. At minimum, the user needs to specify just 3 parameters. \n",
    "\n",
    "$$\n",
    "\\begin{cases}\n",
    "  \\text{geneRegulatNet(edge_list, } \\beta_{network}, \\text{cv_for_alpha_lasso_model_bool = } False, \\alpha_{lasso}\\text{)} & \\text{if cv_for_alpha_lasso_model_bool = } False \\\\\n",
    "  \\text{geneRegulatNet(edge_list, } \\beta_{network}, \\text{cv_for_alpha_lasso_model_bool = } True) & \\text{if cv_for_alpha_lasso_model_bool = } True \\\\\n",
    "\\end{cases}\n",
    "$$\n",
    "\n",
    "There are several additional parameters that can be adjusted in the geneRegulatNet function, which will be explained later in the *Default Parameters* section. \n",
    "\n",
    "### Main Input:\n",
    "\n",
    "* *edge_list*: A list of lists corresponding to a prior network involving the predictors (as nodes) and relationships among them as edges. We will utilize this prior network to constrain our machine learning model. For instance, this could be a Protein-Protein Interaction (PPI) network of interactions among the predictors. If the weights are missing for any edge, then the default_weight will be used for that respective edge. We assume that this network is undirected and thereby symmetric, so the user only needs to specify edges in 1 direction (and the other direction will be assumed automatically). \n",
    "\n",
    "For instance:\n",
    "\n",
    "[[source$_{1}$, target$_{1}$, weight$_{1}$], [source$_{2}$, target$_{2}$, weight$_{2}$], ..., [source$_{Z}$, target$_{Z}$, weight$_{Z}$]]. \n",
    "\n",
    "Where weight$_{1}$, weight$_{2}$, ..., weight$_{3}$ are optional. If an edge is missing its respective edge weight, then the default edge weights will be utilized. \n",
    "\n",
    "The edge_list will be represented by:\n",
    "\n",
    "| Source | Target |  Weight |\n",
    "| --------- | ---------- | ---------- |\n",
    "|source$_{1}$    | target$_{1}$ | weight$_{1}$ |\n",
    "|source$_{2}$    | target$_{2}$ | weight$_{2}$ |\n",
    "|...    | ... | ... |\n",
    "|source$_{Z}$    | target$_{Z}$ | weight$_{Z}$ |\n",
    "|target$_{1}$    | source$_{1}$ | weight$_{1}$ |\n",
    "|target$_{2}$    | source$_{2}$ | weight$_{2}$ |\n",
    "|...    | ... | ... |\n",
    "|target$_{Z}$    | source$_{Z}$ | weight$_{Z}$ |\n",
    "\n",
    "* *beta_network_val*:  A numerical value for $\\beta_{network} \\geq 0$. \n",
    "\n",
    "<!-- * *cv_for_alpha_lasso_model_bool*: A boolean value (True or False). This parameter asks the user if the user wants GRegulNet to perform cross-validation (CV) on the training data to determine the optimal alpha_lasso_val ($\\alpha_{lasso} \\geq 0$). The default value is False, which means that the user wants to specify the value of $\\alpha_{lasso}$.  -->\n",
    "\n",
    "* *cv_for_alpha_lasso_model_bool*:\n",
    "\n",
    "$$ = \\begin{cases}\n",
    "  \\text{if cv_for_alpha_lasso_model_bool = } False & \\text{default: user wants to specify the value of }  \\alpha_{lasso}  \\\\\n",
    "  \\text{if cv_for_alpha_lasso_model_bool = } True & \\text{GRegulNet will perform cross-validation (CV) on training data to determine optimal } \\alpha_{lasso} \\\\\n",
    "\\end{cases}\n",
    "$$\n",
    "\n",
    "\n",
    "\n",
    "<!-- $$ = \\begin{cases}\n",
    "  \\text{default: user wants to specify the value of }  \\alpha_{lasso} & \\text{if cv_for_alpha_lasso_model_bool = } False \\\\\n",
    "  \\text{GRegulNet will perform cross-validation (CV) on training data to determine optimal } \\alpha_{lasso} & \\text{if cv_for_alpha_lasso_model_bool = } True \\\\\n",
    "\\end{cases}\n",
    "$$\n",
    " -->\n",
    "##### If *cv_for_alpha_lasso_model_bool* is False, we need to specify alpha_lasso_val $\\alpha_{lasso}$ #####\n",
    "\n",
    "* *alpha_lasso_val*:  A numerical value for $\\alpha_{lasso} \\geq 0$. Thus, if *cv_for_alpha_lasso_model_bool* is False, the user is then advised to specify this $\\alpha_{lasso}$ parameter (alpha_lasso_val). Otherwise, please note that if no $\\alpha_{lasso}$ value is specified, then the default value of $\\alpha_{lasso} = 0.1$ will be used. \n",
    "\n",
    "\n",
    "### Summary of main inputs needed:\n",
    "| Parameter | Definition | Default |\n",
    "| --------- | ---------- | ---------- |\n",
    "| edge_list       | list of lists: [[source$_{1}$, target$_{1}$, weight$_{1}$], ..., [source$_{Z}$, target$_{Z}$, weight$_{Z}$]] | value needed |\n",
    "| $\\beta_{network}$  | Regularization parameter for network penalization | value needed |\n",
    "| cv_for_alpha_lasso_model_bool  | Should GRegulNet perform Cross Validation to determine $\\alpha_{lasso}$  | False |\n",
    "| $\\alpha_{lasso}$  | Regularization parameter for lasso | value needed if cv_for_alpha_lasso_model_bool = False; default: 0.1 |\n",
    "\n",
    "\n",
    "\n",
    "\n",
    "                 \n",
    "\n",
    "<!-- Hence, please note that these are the minimum arguments needed:\n",
    " -->\n",
    "<!-- geneRegulatNet(edge_list, beta_network_val, cv_for_alpha_lasso_model_bool = False, alpha_lasso_val)\n",
    " -->\n",
    "\n",
    "\n",
    "\n",
    "\n",
    "<!-- $$\n",
    "\\begin{cases}\n",
    "  \\text{geneRegulatNet(edge_list, beta_network_val, cross_validation_for_alpha_lasso_model_bool = False, alpha_lasso_val)} & \\text{if cross_validation_for_alpha_lasso_model_bool = False} \\\\\n",
    "  geneRegulatNet(edge_list, beta_network_val, cross_validation_for_alpha_lasso_model_bool = True) & \\text{if } cross_validation_for_alpha_lasso_model_bool = True \\\\\n",
    "\\end{cases}\n",
    "$$ -->\n",
    "\n",
    "\n",
    "<!-- If $cross\\_validation\\_for\\_alpha\\_lasso\\_model\\_bool=False$, then \n",
    "\n",
    "$$geneRegulatNet(edge\\_list, beta\\_network\\_val, cross\\_validation\\_for\\_alpha\\_lasso\\_model\\_bool = False, alpha\\_lasso\\_val)$$ \n",
    "\n",
    "is run. \n",
    "\n",
    "Otherwise, if $cross\\_validation\\_for\\_alpha\\_lasso\\_model\\_bool=True$, then \n",
    "\n",
    "$$geneRegulatNet(edge\\_list, beta\\_network\\_val, cross\\_validation\\_for\\_alpha\\_lasso\\_model\\_bool = True)$$ \n",
    "\n",
    "is run. -->\n",
    "\n",
    "\n",
    "<!-- enhancer: a data frame containing chr,start,end for enhancers\n",
    " -->\n",
    " \n",
    "### Default parameters ###\n",
    "\n",
    "Please note these parameters that can be adjusted as needed for user needs and specifications. \n",
    "\n",
    "* Parameters for the graph prior network:\n",
    "| Parameter | Definition | Default |\n",
    "| --------- | ---------- | ---------- |\n",
    "| default_edge_weight  | If an edge is missing an edge weight, this is weight assigned to that edge | 0.1 |\n",
    "| consider_self_loops  | For Degree Matrix D. True: Add 1 to each degree (for self-loops)| False|\n",
    "| pseudocount_for_diagonal_matrix  | For Degree Matrix D. Pseudocount to add for each degree (node). | 0.001 |\n",
    "| use_edge_weight_values_for_degrees_bool  | For Degree Matrix D. True: edge weights used; False: threshold used | False|\n",
    "\n",
    "\n",
    "If *use_edge_weight_values_for_degrees_bool is False*, we will use a threshold to assign degrees:\n",
    "\n",
    "| Parameter | Definition | Default |\n",
    "| --------- | ---------- | ---------- |\n",
    "| threshold_for_degree  | For Degree Matrix D. Edges with weight > threshold_for_degree are counted as 1 towards degree | 0.5 |\n",
    "\n",
    "\n",
    "If *use_edge_weight_values_for_degrees_bool is True*, we can use the edge weights $w$ directly, $\\sqrt{w}$, or $w^{2}$ for the degree:\n",
    "\n",
    "| Parameter | Definition | Default |\n",
    "| --------- | ---------- | ---------- |\n",
    "| square_root_weights_for_degree_sum_bool  | Sum square root of edge weights $\\sqrt{w}$ for degree for a given node | False |\n",
    "| squaring_weights_for_degree_sum_bool  | Sum squared edge weights $w^{2}$ for degree for a given node | False |\n",
    "\n",
    "* Parameters for the network-based regularized model:\n",
    "\n",
    "| Parameter | Definition | Default |\n",
    "| --------- | ---------- | ---------- |\n",
    "| use_network  | If False, we will run a standard Lasso regression model on the original $X$ and $y$ data (baseline). | True |\n",
    "| fit_y_intercept_bool  | Should a y-intercept be fitted for the final model by GRegulNet | False |\n",
    "\n",
    "\n",
    "if *cv_for_alpha_lasso_model_bool is False* (the default):\n",
    "\n",
    "| Parameter | Definition | Default |\n",
    "| --------- | ---------- | ---------- |\n",
    "| max_lasso_iterations  | the maximum # of iterations we will run Lasso regression model | 10000 |\n",
    "\n",
    "\n",
    "If *cv_for_alpha_lasso_model_bool is True*:\n",
    "\n",
    "| Parameter | Definition | Default |\n",
    "| --------- | ---------- | ---------- |\n",
    "| num_cv_folds  | the # of cross-validation (cv) folds we fit on training data when building model | 5 |\n",
    "\n",
    "\n",
    "### output ###\n",
    "\n",
    "* A Fitted Estimator from the GRegulNet class.\n",
    "\n",
    "There are several attributes available for objects in the GRegulNet class. \n",
    "\n",
    "We can fit our GRegulNet estimator on $X$ and $y$ training data and retrieve coefficients for the GRegulNet network-regularized linear model. Then, we can evaluate our model performance capabilities on testing data.  We evaluate our model predictive performance using the Mean Squared Error (MSE). \n",
    "\n",
    "\n",
    "\n",
    "\n",
    "<!-- | use_edge_weight_values_for_degrees_bool  | For Degree Matrix D. True: edge weights used; False: threshold used | False|\n",
    "| consider_self_loops  | For Degree Matrix D. True: Add 1 to each degree (for self-loops)| False|\n",
    "| pseudocount_for_diagonal_matrix  | For Degree Matrix D. Pseudocount to add for each degree (node). | 0.001 |\n",
    "| default_edge_weight  | If an edge is missing an edge weight, this is weight assigned to that edge | 0.1 | -->\n",
    "\n",
    "\n",
    "<!-- | Parameter | Definition | Default |\n",
    "| --------- | ---------- | ---------- |\n",
    "| $N$       | # of predictors | value needed |\n",
    "| $M$       | # of samples | value needed |\n",
    "| edge_list       | list of lists: [[source$_{1}$, target$_{1}$, weight$_{1}$], ..., [source$_{Z}$, target$_{Z}$, weight$_{Z}$]] | value needed |\n",
    "| $\\beta_{network}$  | Regularization parameter for network penalization | value needed |\n",
    "| $\\alpha_{lasso}$  | Regularization parameter for lasso | value needed |\n",
    "\n",
    "\n",
    "| use_edge_weight_values_for_degrees_bool  | For Degree Matrix D. True: edge weights used; False: threshold used | False|\n",
    "| consider_self_loops  | For Degree Matrix D. True: Add 1 to each degree (for self-loops)| False|\n",
    "| pseudocount_for_diagonal_matrix  | For Degree Matrix D. Pseudocount to add for each degree (node). | 0.001 |\n",
    "| default_edge_weight  | If an edge is missing an edge weight, this is weight assigned to that edge | 0.1 |\n",
    " -->\n",
    "\n",
    "\n",
    "<!-- data frame containing gene, gene_chr, promoter_start, promoter_end,\n",
    "enh_chr,enh_start,enh_end\n",
    "\n",
    "The function, scGRNom_interaction inputs the chromatin interaction data (e.g., Hi-C) and predicts all possible interactions between enhancers and promoters in the data or the user-provided list; i.e., ones from Topologically Associating Domains (TADs) in Hi-C data. In addition, the function uses an R package, GenomicInteractions [2] to annotate interacting regions and link them to genes. The genome annotation was from TxDb.Hsapiens.UCSC.hg19.knownGene [3]. -->\n",
    "\n",
    "\n",
    "\n",
    "<!-- geneRegulatNet(edge_list, beta_network_val, alpha_lasso_val = 0.1, cross_validation_for_alpha_lasso_model_bool = False\n",
    "\n",
    "\n",
    "**geneRegulatNet(edge_list, beta_network_val, alpha_lasso_val)**\n",
    " -->\n",
    "\n",
    "\n",
    "\n",
    "<!-- $y = \\tilde{y}$, $X = \\tilde{X}$\n",
    "enables the training of a machine learning model based on a variant form of Lasso Regression on the original data. \n",
    "\n",
    "so that the machine learning models are built using a variant of Lasso Regression \n",
    "\n",
    "\n",
    "\n",
    "\n",
    "based on whether the user wants to specify an alpha_lasso_val or have that value be selected by cross-validation on the training data. \n",
    "\n",
    "* \n",
    "\n",
    "and an alpha_lasso_val ($\\alpha_{lasso} \\geq 0$) that scales the lasso regularization on the overall \n",
    "\n",
    "\n",
    "\n",
    "\n",
    "alpha_lasso_val, and a beta_network_val\n",
    "\n",
    "\n",
    "At the minimum, you need to specify these 3 parameters: \n",
    "* 1. edge_list: [[source$_{1}$, target$_{1}$, weight$_{1}$], [source$_{2}$, target$_{2}$, weight$_{2}$], ..., [source$_{Z}$, target$_{Z}$, weight$_{Z}$]]. \n",
    "\n",
    "If the weights are missing for any edge, then the default_weight will be used for that respective edge. \n",
    "\n",
    "* 2. alpha_lasso_val: $\\alpha_{lasso} \\geq 0$\n",
    "* 3. beta_network_val: $\\beta_{network} \\geq 0$ -->"
   ]
  },
  {
   "cell_type": "markdown",
   "id": "a24d0bd5",
   "metadata": {},
   "source": [
    "<!-- Let $f(x)$ be defined as:\n",
    "\n",
    "$$\n",
    "f(x) =\n",
    "\\begin{cases}\n",
    "  0 & \\text{if } x < 0 \\\\\n",
    "  1 & \\text{if } 0 \\leq x < 1 \\\\\n",
    "  2 & \\text{if } x \\geq 1\n",
    "\\end{cases}\n",
    "$$ -->"
   ]
  },
  {
   "cell_type": "markdown",
   "id": "af479e4c",
   "metadata": {},
   "source": [
    "<!-- | Parameter | Definition | Default |\n",
    "| --------- | ---------- | ---------- |\n",
    "| $N$       | # of predictors | value needed |\n",
    "| $M$       | # of samples | value needed |\n",
    "| edge_list       | list of lists: [[source$_{1}$, target$_{1}$, weight$_{1}$], ..., [source$_{Z}$, target$_{Z}$, weight$_{Z}$]] | value needed |\n",
    "| $\\beta_{network}$  | Regularization parameter for network penalization | value needed |\n",
    "| $\\alpha_{lasso}$  | Regularization parameter for lasso | value needed |\n",
    "| use_edge_weight_values_for_degrees_bool  | For Degree Matrix D. True: edge weights used; False: threshold used | False|\n",
    "| consider_self_loops  | For Degree Matrix D. True: Add 1 to each degree (for self-loops)| False|\n",
    "| pseudocount_for_diagonal_matrix  | For Degree Matrix D. Pseudocount to add for each degree (node). | 0.001 |\n",
    "| default_edge_weight  | If an edge is missing an edge weight, this is weight assigned to that edge | 0.1 |\n",
    "\n",
    "\n",
    "<!-- use_edge_weight_values_for_degrees_bool = False,\n",
    "                  consider_self_loops = False, pseudocount_for_diagonal_matrix = 1e-3, \n",
    "                  default_edge_weight = 0.1, square_root_weights_for_degree_sum_bool = False, \n",
    "                  squaring_weights_for_degree_sum_bool = False, threshold_for_degree = 0.5,\n",
    "                 use_cross_validation_for_model_bool = False, num_cv_folds = 5, \n",
    "                model_type = \"Lasso\", use_network = True, fit_y_intercept_bool = False,\n",
    "                   max_lasso_iterations = 10000 --> "
   ]
  },
  {
   "cell_type": "markdown",
   "id": "f5ad53b7",
   "metadata": {},
   "source": [
    "## Demo\n",
    "\n",
    "Building the GRegulNet estimator for a network of 5 Transcription Factors (TFs): [$TF_{0}$, $TF_{1}$, $TF_{2}$, $TF_{3}$, and $TF_{4}$] for [$TF_{0}$, $TF_{1}$, $TF_{2}$, $TF_{3}$, and $TF_{4}$]."
   ]
  },
  {
   "cell_type": "code",
   "execution_count": 1,
   "id": "f767f9f9",
   "metadata": {},
   "outputs": [
    {
     "name": "stdout",
     "output_type": "stream",
     "text": [
      ":) Please note that we count the number of edges with weight > 0.5 to get the degree for a given node.\n",
      ":) We also add 0.001 as a pseudocount to our degree value for each node.\n",
      "\n"
     ]
    },
    {
     "data": {
      "image/png": "[encoded data removed]",
      "text/plain": [
       "<Figure size 640x480 with 1 Axes>"
      ]
     },
     "metadata": {},
     "output_type": "display_data"
    }
   ],
   "source": [
    "# To load in our package, GRegulNet, please run this in Python:\n",
    "from gregulnetClasses import *\n",
    "edge_list = [[0, 1, 0.9], [3, 4, 0.75], [0, 2], [0, 3], [0, 4], \n",
    "              [1, 2], [1, 3], [1, 4], [2, 3], [2, 4]]\n",
    "beta_network_val = 10\n",
    "# by default, cv_for_alpha_lasso_model_bool is False, so alpha_lasso_val will be specified.\n",
    "alpha_lasso_val = 0.01\n",
    "\n",
    "# Building the network regularized regression model. \n",
    "gregulnet_demo = geneRegulatNet(edge_list = edge_list, \n",
    "                          beta_network_val = beta_network_val,\n",
    "                          alpha_lasso_val = alpha_lasso_val)"
   ]
  },
  {
   "cell_type": "markdown",
   "id": "44f8371a",
   "metadata": {},
   "source": [
    "We can specify our $X$ and $y$ data to train our GRegulNet object using the *DemoDataBuilderXandY* class.  Please note that we explain more details about this class in *DemoDataBuilderXandY_explanation.ipynb*.\n",
    "\n",
    "* 1. *DemoDataBuilderXandY*:\n",
    "    \n",
    "In our demo, we utilize the *demo_dict* dictionary below to encode values for 3 parameters for our demo. We specify *num_samples_M* is 100 samples. We have $N$ = 5 predictors: [X$_{1}$, X$_{2}$, X$_{3}$, X$_{4}$, X$_{5}$] since we have 5 elements for *corrVals*: [cor(X$_{1}$, Y) = 0.9, cor(X$_{2}$, Y) = 0.5, cor(X$_{3}$, Y) = 0.1, cor(X$_{4}$, Y) = -0.2, cor(X$_{5}$, Y) = -0.8].\n",
    "\n",
    "<!-- For simplicity, we will keep the training data the same as the testing data, by specifying *True* for *same_train_and_test_data_bool*.  -->\n",
    "\n",
    "There are additional parameters that we can adjust for our demo, but we wanted to retain simplicity.\n",
    "    "
   ]
  },
  {
   "cell_type": "code",
   "execution_count": 2,
   "id": "046e8632",
   "metadata": {},
   "outputs": [
    {
     "name": "stdout",
     "output_type": "stream",
     "text": [
      ":) Please note that since we hold out 30.0% of our 100 samples for testing, we have:\n",
      ":) X_train = 70 rows (samples) and 5 columns (N = 5 predictors) for training.\n",
      ":) X_test = 30 rows (samples) and 5 columns (N = 5 predictors) for testing.\n",
      ":) y_train = 70 corresponding rows (samples) for training.\n",
      ":) y_test = 30 corresponding rows (samples) for testing.\n"
     ]
    },
    {
     "name": "stderr",
     "output_type": "stream",
     "text": [
      "100%|██████████████████████████████████████████████████████████████████████████████████| 5/5 [00:00<00:00, 5002.75it/s]\n",
      "100%|██████████████████████████████████████████████████████████████████████████████████| 5/5 [00:00<00:00, 5005.14it/s]\n",
      "100%|██████████████████████████████████████████████████████████████████████████████████| 5/5 [00:00<00:00, 4999.17it/s]"
     ]
    },
    {
     "name": "stdout",
     "output_type": "stream",
     "text": [
      "Training y (response) data:\n",
      "           y\n",
      "0   0.050186\n",
      "1  -0.081154\n",
      "2  -0.622764\n",
      "3   0.783163\n",
      "4   1.295948\n",
      "..       ...\n",
      "65 -1.037413\n",
      "66  1.404902\n",
      "67  1.263499\n",
      "68 -0.370610\n",
      "69 -0.324603\n",
      "\n",
      "[70 rows x 1 columns]\n",
      "Training X (predictors) data:\n"
     ]
    },
    {
     "name": "stderr",
     "output_type": "stream",
     "text": [
      "\n"
     ]
    },
    {
     "data": {
      "text/html": [
       "<div>\n",
       "<style scoped>\n",
       "    .dataframe tbody tr th:only-of-type {\n",
       "        vertical-align: middle;\n",
       "    }\n",
       "\n",
       "    .dataframe tbody tr th {\n",
       "        vertical-align: top;\n",
       "    }\n",
       "\n",
       "    .dataframe thead th {\n",
       "        text-align: right;\n",
       "    }\n",
       "</style>\n",
       "<table border=\"1\" class=\"dataframe\">\n",
       "  <thead>\n",
       "    <tr style=\"text-align: right;\">\n",
       "      <th></th>\n",
       "      <th>TF0</th>\n",
       "      <th>TF1</th>\n",
       "      <th>TF2</th>\n",
       "      <th>TF3</th>\n",
       "      <th>TF4</th>\n",
       "    </tr>\n",
       "  </thead>\n",
       "  <tbody>\n",
       "    <tr>\n",
       "      <th>0</th>\n",
       "      <td>0.902250</td>\n",
       "      <td>0.343490</td>\n",
       "      <td>-1.317465</td>\n",
       "      <td>1.404691</td>\n",
       "      <td>0.745724</td>\n",
       "    </tr>\n",
       "    <tr>\n",
       "      <th>1</th>\n",
       "      <td>-1.936549</td>\n",
       "      <td>1.110822</td>\n",
       "      <td>-0.696995</td>\n",
       "      <td>1.109920</td>\n",
       "      <td>0.028946</td>\n",
       "    </tr>\n",
       "    <tr>\n",
       "      <th>2</th>\n",
       "      <td>0.000611</td>\n",
       "      <td>2.197287</td>\n",
       "      <td>-0.074302</td>\n",
       "      <td>0.389102</td>\n",
       "      <td>2.369909</td>\n",
       "    </tr>\n",
       "    <tr>\n",
       "      <th>3</th>\n",
       "      <td>1.418952</td>\n",
       "      <td>-0.594274</td>\n",
       "      <td>0.705211</td>\n",
       "      <td>0.316235</td>\n",
       "      <td>-0.986833</td>\n",
       "    </tr>\n",
       "    <tr>\n",
       "      <th>4</th>\n",
       "      <td>1.944057</td>\n",
       "      <td>0.095329</td>\n",
       "      <td>0.838374</td>\n",
       "      <td>-0.469584</td>\n",
       "      <td>-0.271817</td>\n",
       "    </tr>\n",
       "    <tr>\n",
       "      <th>...</th>\n",
       "      <td>...</td>\n",
       "      <td>...</td>\n",
       "      <td>...</td>\n",
       "      <td>...</td>\n",
       "      <td>...</td>\n",
       "    </tr>\n",
       "    <tr>\n",
       "      <th>65</th>\n",
       "      <td>-3.487191</td>\n",
       "      <td>-0.422931</td>\n",
       "      <td>0.995947</td>\n",
       "      <td>-0.074390</td>\n",
       "      <td>2.302656</td>\n",
       "    </tr>\n",
       "    <tr>\n",
       "      <th>66</th>\n",
       "      <td>1.400222</td>\n",
       "      <td>2.073150</td>\n",
       "      <td>-0.442513</td>\n",
       "      <td>1.308010</td>\n",
       "      <td>-0.914659</td>\n",
       "    </tr>\n",
       "    <tr>\n",
       "      <th>67</th>\n",
       "      <td>5.301917</td>\n",
       "      <td>0.710964</td>\n",
       "      <td>0.255702</td>\n",
       "      <td>-0.137869</td>\n",
       "      <td>-3.410627</td>\n",
       "    </tr>\n",
       "    <tr>\n",
       "      <th>68</th>\n",
       "      <td>-1.040646</td>\n",
       "      <td>-2.847201</td>\n",
       "      <td>1.193733</td>\n",
       "      <td>0.693281</td>\n",
       "      <td>2.438833</td>\n",
       "    </tr>\n",
       "    <tr>\n",
       "      <th>69</th>\n",
       "      <td>-0.414916</td>\n",
       "      <td>0.060991</td>\n",
       "      <td>-1.031228</td>\n",
       "      <td>0.517423</td>\n",
       "      <td>0.078903</td>\n",
       "    </tr>\n",
       "  </tbody>\n",
       "</table>\n",
       "<p>70 rows × 5 columns</p>\n",
       "</div>"
      ],
      "text/plain": [
       "         TF0       TF1       TF2       TF3       TF4\n",
       "0   0.902250  0.343490 -1.317465  1.404691  0.745724\n",
       "1  -1.936549  1.110822 -0.696995  1.109920  0.028946\n",
       "2   0.000611  2.197287 -0.074302  0.389102  2.369909\n",
       "3   1.418952 -0.594274  0.705211  0.316235 -0.986833\n",
       "4   1.944057  0.095329  0.838374 -0.469584 -0.271817\n",
       "..       ...       ...       ...       ...       ...\n",
       "65 -3.487191 -0.422931  0.995947 -0.074390  2.302656\n",
       "66  1.400222  2.073150 -0.442513  1.308010 -0.914659\n",
       "67  5.301917  0.710964  0.255702 -0.137869 -3.410627\n",
       "68 -1.040646 -2.847201  1.193733  0.693281  2.438833\n",
       "69 -0.414916  0.060991 -1.031228  0.517423  0.078903\n",
       "\n",
       "[70 rows x 5 columns]"
      ]
     },
     "execution_count": 2,
     "metadata": {},
     "output_type": "execute_result"
    }
   ],
   "source": [
    "demo_dict = {\"num_samples_M\": 100,\n",
    "            \"corrVals\": [0.9, 0.5, 0.1, -0.2, -0.8],\n",
    "            \"same_train_and_test_data_bool\": False}\n",
    "dummy_data = DemoDataBuilderXandY(**demo_dict)\n",
    "\n",
    "X_train = dummy_data.X_train\n",
    "y_train = dummy_data.y_train\n",
    "\n",
    "# we can view the y_train data as a neat dataframe:\n",
    "y_train_df = pd.DataFrame(y_train, columns = [\"y\"])\n",
    "print(\"Training y (response) data:\")\n",
    "print(y_train_df)\n",
    "\n",
    "# we can view the X_train data as a neat dataframe:\n",
    "X_train_df = pd.DataFrame(X_train, columns = gregulnet_demo.tf_names_list)\n",
    "print(\"Training X (predictors) data:\")\n",
    "X_train_df"
   ]
  },
  {
   "cell_type": "markdown",
   "id": "29b68f21",
   "metadata": {},
   "source": [
    "To see all of the parameters (specified and default) that are used for the model:\n"
   ]
  },
  {
   "cell_type": "code",
   "execution_count": 3,
   "id": "d0a00754",
   "metadata": {},
   "outputs": [
    {
     "data": {
      "text/html": [
       "<div>\n",
       "<style scoped>\n",
       "    .dataframe tbody tr th:only-of-type {\n",
       "        vertical-align: middle;\n",
       "    }\n",
       "\n",
       "    .dataframe tbody tr th {\n",
       "        vertical-align: top;\n",
       "    }\n",
       "\n",
       "    .dataframe thead th {\n",
       "        text-align: right;\n",
       "    }\n",
       "</style>\n",
       "<table border=\"1\" class=\"dataframe\">\n",
       "  <thead>\n",
       "    <tr style=\"text-align: right;\">\n",
       "      <th></th>\n",
       "      <th>parameter</th>\n",
       "      <th>data type</th>\n",
       "      <th>description</th>\n",
       "      <th>value</th>\n",
       "      <th>class</th>\n",
       "    </tr>\n",
       "  </thead>\n",
       "  <tbody>\n",
       "    <tr>\n",
       "      <th>0</th>\n",
       "      <td>default_edge_weight</td>\n",
       "      <td>&gt;= 0</td>\n",
       "      <td>edge weight for any edge with missing weight info</td>\n",
       "      <td>0.1</td>\n",
       "      <td>PriorGraphNetwork</td>\n",
       "    </tr>\n",
       "    <tr>\n",
       "      <th>1</th>\n",
       "      <td>consider_self_loops</td>\n",
       "      <td>boolean</td>\n",
       "      <td>add 1 to the degree for each node (based on se...</td>\n",
       "      <td>False</td>\n",
       "      <td>PriorGraphNetwork</td>\n",
       "    </tr>\n",
       "    <tr>\n",
       "      <th>2</th>\n",
       "      <td>pseudocount_for_diagonal_matrix</td>\n",
       "      <td>&gt;= 0</td>\n",
       "      <td>to ensure that no nodes have 0 degree value in...</td>\n",
       "      <td>0.001</td>\n",
       "      <td>PriorGraphNetwork</td>\n",
       "    </tr>\n",
       "    <tr>\n",
       "      <th>3</th>\n",
       "      <td>use_edge_weight_values_for_degrees_bool</td>\n",
       "      <td>boolean</td>\n",
       "      <td>if False, we use a threshold instead to derive...</td>\n",
       "      <td>False</td>\n",
       "      <td>PriorGraphNetwork</td>\n",
       "    </tr>\n",
       "    <tr>\n",
       "      <th>4</th>\n",
       "      <td>threshold_for_degree</td>\n",
       "      <td>&gt;= 0</td>\n",
       "      <td>edge weights &gt; 0.5 are counted as 1 for the de...</td>\n",
       "      <td>0.5</td>\n",
       "      <td>PriorGraphNetwork</td>\n",
       "    </tr>\n",
       "    <tr>\n",
       "      <th>5</th>\n",
       "      <td>model_type</td>\n",
       "      <td>set of options</td>\n",
       "      <td>which model type should be used for geneRegula...</td>\n",
       "      <td>Lasso</td>\n",
       "      <td>GRegulNet</td>\n",
       "    </tr>\n",
       "    <tr>\n",
       "      <th>6</th>\n",
       "      <td>max_lasso_iterations</td>\n",
       "      <td>&gt;= 1</td>\n",
       "      <td>the maximum # of iterations for Lasso</td>\n",
       "      <td>Lasso</td>\n",
       "      <td>GRegulNet</td>\n",
       "    </tr>\n",
       "    <tr>\n",
       "      <th>7</th>\n",
       "      <td>use_cross_validation_for_model_bool</td>\n",
       "      <td>boolean</td>\n",
       "      <td>should we use cross validation for training th...</td>\n",
       "      <td>False</td>\n",
       "      <td>GRegulNet</td>\n",
       "    </tr>\n",
       "    <tr>\n",
       "      <th>8</th>\n",
       "      <td>alpha_lasso</td>\n",
       "      <td>&gt;= 0</td>\n",
       "      <td>value for alpha for the lasso problem</td>\n",
       "      <td>0.01</td>\n",
       "      <td>GRegulNet</td>\n",
       "    </tr>\n",
       "    <tr>\n",
       "      <th>9</th>\n",
       "      <td>use_network</td>\n",
       "      <td>boolean</td>\n",
       "      <td>perform network regularization using a network...</td>\n",
       "      <td>True</td>\n",
       "      <td>GRegulNet</td>\n",
       "    </tr>\n",
       "    <tr>\n",
       "      <th>10</th>\n",
       "      <td>beta_network</td>\n",
       "      <td>&gt;= 0</td>\n",
       "      <td>value of beta for the network regularization p...</td>\n",
       "      <td>10</td>\n",
       "      <td>GRegulNet</td>\n",
       "    </tr>\n",
       "    <tr>\n",
       "      <th>11</th>\n",
       "      <td>fit_y_intercept_bool</td>\n",
       "      <td>boolean</td>\n",
       "      <td>fit a y-intercept for our regression problem</td>\n",
       "      <td>False</td>\n",
       "      <td>GRegulNet</td>\n",
       "    </tr>\n",
       "  </tbody>\n",
       "</table>\n",
       "</div>"
      ],
      "text/plain": [
       "                                  parameter       data type  \\\n",
       "0                       default_edge_weight            >= 0   \n",
       "1                       consider_self_loops         boolean   \n",
       "2           pseudocount_for_diagonal_matrix            >= 0   \n",
       "3   use_edge_weight_values_for_degrees_bool         boolean   \n",
       "4                      threshold_for_degree            >= 0   \n",
       "5                                model_type  set of options   \n",
       "6                      max_lasso_iterations            >= 1   \n",
       "7       use_cross_validation_for_model_bool         boolean   \n",
       "8                               alpha_lasso            >= 0   \n",
       "9                               use_network         boolean   \n",
       "10                             beta_network            >= 0   \n",
       "11                     fit_y_intercept_bool         boolean   \n",
       "\n",
       "                                          description  value  \\\n",
       "0   edge weight for any edge with missing weight info    0.1   \n",
       "1   add 1 to the degree for each node (based on se...  False   \n",
       "2   to ensure that no nodes have 0 degree value in...  0.001   \n",
       "3   if False, we use a threshold instead to derive...  False   \n",
       "4   edge weights > 0.5 are counted as 1 for the de...    0.5   \n",
       "5   which model type should be used for geneRegula...  Lasso   \n",
       "6               the maximum # of iterations for Lasso  Lasso   \n",
       "7   should we use cross validation for training th...  False   \n",
       "8               value for alpha for the lasso problem   0.01   \n",
       "9   perform network regularization using a network...   True   \n",
       "10  value of beta for the network regularization p...     10   \n",
       "11       fit a y-intercept for our regression problem  False   \n",
       "\n",
       "                class  \n",
       "0   PriorGraphNetwork  \n",
       "1   PriorGraphNetwork  \n",
       "2   PriorGraphNetwork  \n",
       "3   PriorGraphNetwork  \n",
       "4   PriorGraphNetwork  \n",
       "5           GRegulNet  \n",
       "6           GRegulNet  \n",
       "7           GRegulNet  \n",
       "8           GRegulNet  \n",
       "9           GRegulNet  \n",
       "10          GRegulNet  \n",
       "11          GRegulNet  "
      ]
     },
     "execution_count": 3,
     "metadata": {},
     "output_type": "execute_result"
    }
   ],
   "source": [
    "gregulnet_demo.parameters_df"
   ]
  },
  {
   "cell_type": "markdown",
   "id": "e4e00f37",
   "metadata": {},
   "source": [
    "Here, $gregulnet_{demo}$, is an object of the *GRegulNet* class. We fit a model using the $X_{train}$ and $y_{train}$ data sets."
   ]
  },
  {
   "cell_type": "code",
   "execution_count": 4,
   "id": "8b87865c",
   "metadata": {},
   "outputs": [
    {
     "name": "stdout",
     "output_type": "stream",
     "text": [
      "network used\n",
      "Training GRegulNet :)\n"
     ]
    },
    {
     "data": {
      "text/plain": [
       "<gregulnetClasses.GRegulNet at 0x12b541ce920>"
      ]
     },
     "execution_count": 4,
     "metadata": {},
     "output_type": "execute_result"
    }
   ],
   "source": [
    "gregulnet_demo.fit(X_train, y_train)"
   ]
  },
  {
   "cell_type": "markdown",
   "id": "a0ea1720",
   "metadata": {},
   "source": [
    "To view the model coefficients for the predictors: "
   ]
  },
  {
   "cell_type": "code",
   "execution_count": 5,
   "id": "94619829",
   "metadata": {},
   "outputs": [
    {
     "data": {
      "text/plain": [
       "array([ 0.23655573,  0.11430656,  0.00148755, -0.03512912, -0.16009479])"
      ]
     },
     "execution_count": 5,
     "metadata": {},
     "output_type": "execute_result"
    }
   ],
   "source": [
    "gregulnet_demo.coef"
   ]
  },
  {
   "cell_type": "code",
   "execution_count": 6,
   "id": "22dd3b1d",
   "metadata": {},
   "outputs": [
    {
     "data": {
      "text/html": [
       "<div>\n",
       "<style scoped>\n",
       "    .dataframe tbody tr th:only-of-type {\n",
       "        vertical-align: middle;\n",
       "    }\n",
       "\n",
       "    .dataframe tbody tr th {\n",
       "        vertical-align: top;\n",
       "    }\n",
       "\n",
       "    .dataframe thead th {\n",
       "        text-align: right;\n",
       "    }\n",
       "</style>\n",
       "<table border=\"1\" class=\"dataframe\">\n",
       "  <thead>\n",
       "    <tr style=\"text-align: right;\">\n",
       "      <th></th>\n",
       "      <th>y_intercept</th>\n",
       "      <th>TF0</th>\n",
       "      <th>TF1</th>\n",
       "      <th>TF2</th>\n",
       "      <th>TF3</th>\n",
       "      <th>TF4</th>\n",
       "    </tr>\n",
       "  </thead>\n",
       "  <tbody>\n",
       "    <tr>\n",
       "      <th>0</th>\n",
       "      <td>None</td>\n",
       "      <td>0.236556</td>\n",
       "      <td>0.114307</td>\n",
       "      <td>0.001488</td>\n",
       "      <td>-0.035129</td>\n",
       "      <td>-0.160095</td>\n",
       "    </tr>\n",
       "  </tbody>\n",
       "</table>\n",
       "</div>"
      ],
      "text/plain": [
       "  y_intercept       TF0       TF1       TF2       TF3       TF4\n",
       "0        None  0.236556  0.114307  0.001488 -0.035129 -0.160095"
      ]
     },
     "execution_count": 6,
     "metadata": {},
     "output_type": "execute_result"
    }
   ],
   "source": [
    "gregulnet_demo.model_coefficients_df"
   ]
  },
  {
   "cell_type": "markdown",
   "id": "e4cd9eec",
   "metadata": {},
   "source": [
    "We can test the performance of our data on new, unseen data, to understand better the generalizability of our GRegulNet model on new data. "
   ]
  },
  {
   "cell_type": "code",
   "execution_count": 7,
   "id": "ea7d8bdc",
   "metadata": {
    "scrolled": true
   },
   "outputs": [
    {
     "name": "stdout",
     "output_type": "stream",
     "text": [
      "Testing y (response) data:\n",
      "           y\n",
      "0  -0.198628\n",
      "1  -2.488737\n",
      "2  -0.587804\n",
      "3   0.287809\n",
      "4   0.444063\n",
      "5   1.368741\n",
      "6  -0.860851\n",
      "7  -2.133039\n",
      "8   0.601721\n",
      "9  -0.267448\n",
      "10  0.574385\n",
      "11 -0.074269\n",
      "12 -0.946926\n",
      "13 -0.629289\n",
      "14  0.311761\n",
      "15 -1.201815\n",
      "16  1.293564\n",
      "17  1.187778\n",
      "18 -0.741803\n",
      "19  0.090601\n",
      "20  2.042182\n",
      "21  0.355343\n",
      "22  0.692365\n",
      "23 -1.634915\n",
      "24  0.994337\n",
      "25 -0.460755\n",
      "26 -0.211216\n",
      "27 -2.020236\n",
      "28  0.939372\n",
      "29  0.222055\n",
      "Testing X (predictors) data:\n"
     ]
    },
    {
     "data": {
      "text/html": [
       "<div>\n",
       "<style scoped>\n",
       "    .dataframe tbody tr th:only-of-type {\n",
       "        vertical-align: middle;\n",
       "    }\n",
       "\n",
       "    .dataframe tbody tr th {\n",
       "        vertical-align: top;\n",
       "    }\n",
       "\n",
       "    .dataframe thead th {\n",
       "        text-align: right;\n",
       "    }\n",
       "</style>\n",
       "<table border=\"1\" class=\"dataframe\">\n",
       "  <thead>\n",
       "    <tr style=\"text-align: right;\">\n",
       "      <th></th>\n",
       "      <th>TF0</th>\n",
       "      <th>TF1</th>\n",
       "      <th>TF2</th>\n",
       "      <th>TF3</th>\n",
       "      <th>TF4</th>\n",
       "    </tr>\n",
       "  </thead>\n",
       "  <tbody>\n",
       "    <tr>\n",
       "      <th>0</th>\n",
       "      <td>0.263202</td>\n",
       "      <td>-0.995175</td>\n",
       "      <td>0.248797</td>\n",
       "      <td>-0.755467</td>\n",
       "      <td>-1.484214</td>\n",
       "    </tr>\n",
       "    <tr>\n",
       "      <th>1</th>\n",
       "      <td>-7.034347</td>\n",
       "      <td>-0.720368</td>\n",
       "      <td>-0.535171</td>\n",
       "      <td>0.095236</td>\n",
       "      <td>0.607330</td>\n",
       "    </tr>\n",
       "    <tr>\n",
       "      <th>2</th>\n",
       "      <td>0.259201</td>\n",
       "      <td>-0.928826</td>\n",
       "      <td>0.051216</td>\n",
       "      <td>-0.999568</td>\n",
       "      <td>2.240629</td>\n",
       "    </tr>\n",
       "    <tr>\n",
       "      <th>3</th>\n",
       "      <td>-0.804365</td>\n",
       "      <td>-0.698938</td>\n",
       "      <td>-0.616339</td>\n",
       "      <td>-1.323494</td>\n",
       "      <td>-1.537090</td>\n",
       "    </tr>\n",
       "    <tr>\n",
       "      <th>4</th>\n",
       "      <td>0.675801</td>\n",
       "      <td>-0.790465</td>\n",
       "      <td>0.002748</td>\n",
       "      <td>-0.852372</td>\n",
       "      <td>-0.471373</td>\n",
       "    </tr>\n",
       "    <tr>\n",
       "      <th>5</th>\n",
       "      <td>4.388396</td>\n",
       "      <td>2.192212</td>\n",
       "      <td>-0.118921</td>\n",
       "      <td>-0.892500</td>\n",
       "      <td>-4.234699</td>\n",
       "    </tr>\n",
       "    <tr>\n",
       "      <th>6</th>\n",
       "      <td>-0.504579</td>\n",
       "      <td>-1.491449</td>\n",
       "      <td>-0.685401</td>\n",
       "      <td>-1.485232</td>\n",
       "      <td>0.816566</td>\n",
       "    </tr>\n",
       "    <tr>\n",
       "      <th>7</th>\n",
       "      <td>-4.194619</td>\n",
       "      <td>-2.003116</td>\n",
       "      <td>-0.370393</td>\n",
       "      <td>-0.719803</td>\n",
       "      <td>2.062496</td>\n",
       "    </tr>\n",
       "    <tr>\n",
       "      <th>8</th>\n",
       "      <td>2.284898</td>\n",
       "      <td>0.633291</td>\n",
       "      <td>-1.400780</td>\n",
       "      <td>-0.729766</td>\n",
       "      <td>0.913916</td>\n",
       "    </tr>\n",
       "    <tr>\n",
       "      <th>9</th>\n",
       "      <td>1.296446</td>\n",
       "      <td>-0.674408</td>\n",
       "      <td>-0.109297</td>\n",
       "      <td>-0.035722</td>\n",
       "      <td>0.045178</td>\n",
       "    </tr>\n",
       "    <tr>\n",
       "      <th>10</th>\n",
       "      <td>0.995555</td>\n",
       "      <td>1.665029</td>\n",
       "      <td>0.317118</td>\n",
       "      <td>1.111166</td>\n",
       "      <td>0.270371</td>\n",
       "    </tr>\n",
       "    <tr>\n",
       "      <th>11</th>\n",
       "      <td>-0.285037</td>\n",
       "      <td>0.153781</td>\n",
       "      <td>-3.244078</td>\n",
       "      <td>-0.250636</td>\n",
       "      <td>-0.019821</td>\n",
       "    </tr>\n",
       "    <tr>\n",
       "      <th>12</th>\n",
       "      <td>-2.993961</td>\n",
       "      <td>-0.131718</td>\n",
       "      <td>0.040880</td>\n",
       "      <td>-2.013646</td>\n",
       "      <td>0.571662</td>\n",
       "    </tr>\n",
       "    <tr>\n",
       "      <th>13</th>\n",
       "      <td>0.891601</td>\n",
       "      <td>-1.660448</td>\n",
       "      <td>-1.149137</td>\n",
       "      <td>1.901803</td>\n",
       "      <td>-0.026753</td>\n",
       "    </tr>\n",
       "    <tr>\n",
       "      <th>14</th>\n",
       "      <td>1.307319</td>\n",
       "      <td>1.556493</td>\n",
       "      <td>-0.075776</td>\n",
       "      <td>-0.326977</td>\n",
       "      <td>-1.051767</td>\n",
       "    </tr>\n",
       "    <tr>\n",
       "      <th>15</th>\n",
       "      <td>-1.885422</td>\n",
       "      <td>-1.517346</td>\n",
       "      <td>-1.557101</td>\n",
       "      <td>-0.073828</td>\n",
       "      <td>0.093321</td>\n",
       "    </tr>\n",
       "    <tr>\n",
       "      <th>16</th>\n",
       "      <td>5.726571</td>\n",
       "      <td>0.746963</td>\n",
       "      <td>0.067587</td>\n",
       "      <td>-0.446420</td>\n",
       "      <td>-2.169038</td>\n",
       "    </tr>\n",
       "    <tr>\n",
       "      <th>17</th>\n",
       "      <td>3.849779</td>\n",
       "      <td>-0.293518</td>\n",
       "      <td>0.713968</td>\n",
       "      <td>-0.050416</td>\n",
       "      <td>-0.638652</td>\n",
       "    </tr>\n",
       "    <tr>\n",
       "      <th>18</th>\n",
       "      <td>-2.950768</td>\n",
       "      <td>-0.052465</td>\n",
       "      <td>-0.509255</td>\n",
       "      <td>0.828412</td>\n",
       "      <td>-1.068672</td>\n",
       "    </tr>\n",
       "    <tr>\n",
       "      <th>19</th>\n",
       "      <td>1.224247</td>\n",
       "      <td>2.303423</td>\n",
       "      <td>-0.555071</td>\n",
       "      <td>-1.526219</td>\n",
       "      <td>-0.343406</td>\n",
       "    </tr>\n",
       "    <tr>\n",
       "      <th>20</th>\n",
       "      <td>4.955593</td>\n",
       "      <td>1.654696</td>\n",
       "      <td>-1.059789</td>\n",
       "      <td>-0.072458</td>\n",
       "      <td>-2.420475</td>\n",
       "    </tr>\n",
       "    <tr>\n",
       "      <th>21</th>\n",
       "      <td>0.403694</td>\n",
       "      <td>-1.688300</td>\n",
       "      <td>0.150042</td>\n",
       "      <td>-0.122959</td>\n",
       "      <td>-0.255787</td>\n",
       "    </tr>\n",
       "    <tr>\n",
       "      <th>22</th>\n",
       "      <td>3.265867</td>\n",
       "      <td>1.991152</td>\n",
       "      <td>0.234054</td>\n",
       "      <td>-0.175812</td>\n",
       "      <td>-0.216673</td>\n",
       "    </tr>\n",
       "    <tr>\n",
       "      <th>23</th>\n",
       "      <td>-3.891673</td>\n",
       "      <td>-1.909404</td>\n",
       "      <td>1.769778</td>\n",
       "      <td>-1.477766</td>\n",
       "      <td>0.875559</td>\n",
       "    </tr>\n",
       "    <tr>\n",
       "      <th>24</th>\n",
       "      <td>1.700974</td>\n",
       "      <td>-1.176515</td>\n",
       "      <td>-0.174246</td>\n",
       "      <td>-0.442414</td>\n",
       "      <td>-0.769607</td>\n",
       "    </tr>\n",
       "    <tr>\n",
       "      <th>25</th>\n",
       "      <td>-1.584646</td>\n",
       "      <td>0.714789</td>\n",
       "      <td>-0.252391</td>\n",
       "      <td>1.047281</td>\n",
       "      <td>0.949806</td>\n",
       "    </tr>\n",
       "    <tr>\n",
       "      <th>26</th>\n",
       "      <td>-0.618957</td>\n",
       "      <td>1.806866</td>\n",
       "      <td>0.154445</td>\n",
       "      <td>-0.705566</td>\n",
       "      <td>-0.941159</td>\n",
       "    </tr>\n",
       "    <tr>\n",
       "      <th>27</th>\n",
       "      <td>-2.720957</td>\n",
       "      <td>-1.117462</td>\n",
       "      <td>0.710165</td>\n",
       "      <td>0.468198</td>\n",
       "      <td>3.925075</td>\n",
       "    </tr>\n",
       "    <tr>\n",
       "      <th>28</th>\n",
       "      <td>1.792105</td>\n",
       "      <td>1.250198</td>\n",
       "      <td>-0.433382</td>\n",
       "      <td>1.964711</td>\n",
       "      <td>-0.463077</td>\n",
       "    </tr>\n",
       "    <tr>\n",
       "      <th>29</th>\n",
       "      <td>0.861336</td>\n",
       "      <td>0.866646</td>\n",
       "      <td>1.529670</td>\n",
       "      <td>-0.991619</td>\n",
       "      <td>0.903659</td>\n",
       "    </tr>\n",
       "  </tbody>\n",
       "</table>\n",
       "</div>"
      ],
      "text/plain": [
       "         TF0       TF1       TF2       TF3       TF4\n",
       "0   0.263202 -0.995175  0.248797 -0.755467 -1.484214\n",
       "1  -7.034347 -0.720368 -0.535171  0.095236  0.607330\n",
       "2   0.259201 -0.928826  0.051216 -0.999568  2.240629\n",
       "3  -0.804365 -0.698938 -0.616339 -1.323494 -1.537090\n",
       "4   0.675801 -0.790465  0.002748 -0.852372 -0.471373\n",
       "5   4.388396  2.192212 -0.118921 -0.892500 -4.234699\n",
       "6  -0.504579 -1.491449 -0.685401 -1.485232  0.816566\n",
       "7  -4.194619 -2.003116 -0.370393 -0.719803  2.062496\n",
       "8   2.284898  0.633291 -1.400780 -0.729766  0.913916\n",
       "9   1.296446 -0.674408 -0.109297 -0.035722  0.045178\n",
       "10  0.995555  1.665029  0.317118  1.111166  0.270371\n",
       "11 -0.285037  0.153781 -3.244078 -0.250636 -0.019821\n",
       "12 -2.993961 -0.131718  0.040880 -2.013646  0.571662\n",
       "13  0.891601 -1.660448 -1.149137  1.901803 -0.026753\n",
       "14  1.307319  1.556493 -0.075776 -0.326977 -1.051767\n",
       "15 -1.885422 -1.517346 -1.557101 -0.073828  0.093321\n",
       "16  5.726571  0.746963  0.067587 -0.446420 -2.169038\n",
       "17  3.849779 -0.293518  0.713968 -0.050416 -0.638652\n",
       "18 -2.950768 -0.052465 -0.509255  0.828412 -1.068672\n",
       "19  1.224247  2.303423 -0.555071 -1.526219 -0.343406\n",
       "20  4.955593  1.654696 -1.059789 -0.072458 -2.420475\n",
       "21  0.403694 -1.688300  0.150042 -0.122959 -0.255787\n",
       "22  3.265867  1.991152  0.234054 -0.175812 -0.216673\n",
       "23 -3.891673 -1.909404  1.769778 -1.477766  0.875559\n",
       "24  1.700974 -1.176515 -0.174246 -0.442414 -0.769607\n",
       "25 -1.584646  0.714789 -0.252391  1.047281  0.949806\n",
       "26 -0.618957  1.806866  0.154445 -0.705566 -0.941159\n",
       "27 -2.720957 -1.117462  0.710165  0.468198  3.925075\n",
       "28  1.792105  1.250198 -0.433382  1.964711 -0.463077\n",
       "29  0.861336  0.866646  1.529670 -0.991619  0.903659"
      ]
     },
     "execution_count": 7,
     "metadata": {},
     "output_type": "execute_result"
    }
   ],
   "source": [
    "y_test = dummy_data.y_test \n",
    "X_test = dummy_data.X_test\n",
    "\n",
    "# we can view the y_train data as a neat dataframe:\n",
    "y_test_df = pd.DataFrame(y_test, columns = [\"y\"])\n",
    "print(\"Testing y (response) data:\")\n",
    "print(y_test_df)\n",
    "\n",
    "# we can view the X_test data as a neat dataframe:\n",
    "X_test_df = pd.DataFrame(X_test, columns = gregulnet_demo.tf_names_list)\n",
    "print(\"Testing X (predictors) data:\")\n",
    "X_test_df"
   ]
  },
  {
   "cell_type": "markdown",
   "id": "0cb1e042",
   "metadata": {},
   "source": [
    "## References"
   ]
  },
  {
   "cell_type": "markdown",
   "id": "fd3199d7",
   "metadata": {},
   "source": [
    "[1]: Wilkinson, M.D., Dumontier, M., Aalbersberg, I.J. et al. The FAIR Guiding Principles for scientific data management and stewardship. Sci Data 3, 160018 (2016). https://doi.org/10.1038/sdata.2016.18\n",
    "\n",
    "[2]: Zhang, Y., Akutsu, T., & Ching, W. K. (2016). Incorporating network topology and phylogenetic constraints for protein-protein interaction prediction. BMC bioinformatics, 17(1), 1-15. https://doi.org/10.1186/s12859-016-1310-4\n",
    "\n",
    "[3]: Jia, C., Zhang, Y., Chen, K., & Zhang, S. (2018). A novel feature extraction method with improved consistency for identifying cell cycle regulated genes. Bioinformatics, 34(5), 896-903. https://doi.org/10.1093/bioinformatics/btx657\n",
    "\n",
    "[4]: Lu, Y., Chen, X., & Hu, Z. (2017). Recognition of protein/gene names from text using an ensemble of classifiers and effective abbreviation resolution. BMC bioinformatics, 18(1), 1-11. https://doi.org/10.1186/s12859-017-1515-1\n",
    "\n",
    "[5]: Pedregosa, F., Varoquaux, G., Gramfort, A., Michel, V., Thirion, B., Grisel, O., ... & Vanderplas, J. (2011). Scikit-learn: Machine learning in Python. Journal of Machine Learning Research, 12(Oct), 2825-2830."
   ]
  },
  {
   "cell_type": "markdown",
   "id": "27faf1ee",
   "metadata": {},
   "source": [
    "Network-constrained regularization has become an essential tool for the analysis of biological data due to its ability to incorporate prior knowledge into regression models. In biological applications, the variables are often highly interconnected, and the relationships between them are complex and non-linear. This makes it challenging to obtain accurate regression models without incorporating some prior knowledge. Network-constrained regularization allows us to incorporate this knowledge by imposing constraints on the regression coefficients based on a network structure. This network prior ensures that the model is consistent with the underlying biology and reduces the risk of overfitting to noise. In summary, network-constrained regularization is crucial in biological applications because it enables us to build more accurate and interpretable models by incorporating prior knowledge of the biological network structure. One of the challenges in regression techniques is dealing with correlated predictors, which can lead to unstable and unreliable model estimates. Network-constrained regularization addresses this issue by leveraging the underlying network structure to identify true underlying relationships between the predictors. This is especially important in biological applications, where the relationships between variables are often complex and non-linear. Gene regulatory networks, for example, can involve masked or indirect relationships between predictors that traditional regression methods may not be able to capture. By incorporating prior knowledge of the network structure, network-constrained regularization methods like GRegulNet can help identify these relationships and improve the accuracy of regression models. In summary, the use of network-constrained regularization in biological applications can help detect true underlying relationships that may exist between predictors, even in the presence of correlations and other complexities.\n",
    "\n",
    "In recent years, several software packages have been developed that implement network-constrained regularization approaches for biological applications. One such package is our package, GRegulNet, which incorporates information from a prior network to improve predictions. While GRegulNet stands for Gene Regular(ized/atory) Network, it can be applied in other non-biological applications and for various types of network-based learning tasks where the predictors are correlated or interconnected. GRegulNet has been shown to outperform traditional regression methods, such as elastic net, ridge regression, and lasso regression, in terms of both prediction accuracy and interpretability. By incorporating prior knowledge of the network structure, GRegulNet is able to identify important nodes and edges in the network and provide insight into the underlying biological processes. Additionally, GRegulNet allows for the incorporation of multiple types of network data, including protein-protein interaction networks, gene regulatory networks, and metabolic networks. Overall, the incorporation of network-constrained regularization using tools such as GRegulNet is a critical step towards improving the accuracy and interpretability of regression models in biological applications as well as in other applications.\n",
    "\n",
    "\n",
    "\n",
    "\n",
    "In short, GRegulNet, helps build regression models that incorporate information from prior networks, by performing network regularization. That is, our tool will help build models and return coefficients for predictors that are based on a prior biological network. \n",
    "\n",
    "\n",
    "\n",
    "\n",
    "we introduce a network-constrained regularization procedure for linear regression analysis in order to incorporate the information from these graphs into an analysis of the numerical data,\n",
    "\n",
    "\n",
    "\n",
    "To load in our package, GRegulNet, please run this in Python:"
   ]
  },
  {
   "cell_type": "code",
   "execution_count": 28,
   "id": "0693b65c",
   "metadata": {},
   "outputs": [],
   "source": [
    "from gregulnetClasses import *"
   ]
  },
  {
   "cell_type": "markdown",
   "id": "a6f82221",
   "metadata": {},
   "source": [
    "Please note that our package, GRegulNet, is run by the following function in Python:\n",
    "\n",
    "**geneRegulatNet(edge_list, alpha_lasso_val, beta_network_val)**\n",
    "\n",
    "\n",
    "At the minimum, you need to specify these 3 parameters: \n",
    "* 1. edge_list: [[source$_{1}$, target$_{1}$, weight$_{1}$], [source$_{2}$, target$_{2}$, weight$_{2}$], ... [source$_{Z}$, target$_{Z}$, weight$_{Z}$]]. \n",
    "\n",
    "If the weights are missing for any edge, then the default_weight will be used for that respective edge. \n",
    "\n",
    "* 2. alpha_lasso_val: $\\alpha_{lasso} \\geq 0$\n",
    "* 3. beta_network_val: $\\beta_{network} \\geq 0$\n",
    "\n",
    "The optimization problem is:\n",
    "\n",
    "\\begin{equation}\n",
    "\\min_{c  \\in  \\mathbb{R}^N} \\frac{1}{2M} ||y - Xc||_2^2 + \\frac{\\beta_{network}}{2N^2} c^T Ac + \\alpha_{lasso} ||c||_1\n",
    "\\end{equation}\n",
    "\n",
    "This can be converted to Lasso by $y = \\tilde{y}$, $X = \\tilde{X}$, where $\\tilde{y}$ and $\\tilde{X}$ are the normalized versions of $y$ and $X$, respectively:\n",
    "\n",
    "\\begin{equation}\n",
    "\\min_{c  \\in  \\mathbb{R}^N} \\frac{1}{2M} ||\\tilde{y} - \\tilde{X}c||_2^2 + \\alpha_{lasso} ||c||_1\n",
    "\\end{equation}\n",
    "\n",
    "where $M$ is the number of samples and $N$ is the dimension of $c$ (that is, the # of predictors).\n",
    "\n",
    "\n",
    "Please note that we utilize 3 main classes, which can be imported directly by running: \"from gregulnetClasses import * \"\n",
    "in the Jupyter notebook cell. Class 1 is optional and is for running our demo. We have other classes (e.g. DiagonalLinearOperator) that help optimize our code. \n",
    "\n",
    "* 1. *DemoDataBuilderXandY*\n",
    "\n",
    "We recommend that you run our demo first (1st class) before trying out our function on your own X and y data (and respective training and/or testing data). \n",
    "\n",
    "* 2. *PriorGraphNetwork*\n",
    "* 3. *GRegulNet*\n",
    "\n",
    "Below is a quick example of how we can run our code to generate results. We walk through this code step-by-step later."
   ]
  },
  {
   "cell_type": "markdown",
   "id": "42100c43",
   "metadata": {},
   "source": [
    "* 1. *DemoDataBuilderXandY*"
   ]
  },
  {
   "cell_type": "code",
   "execution_count": 29,
   "id": "ded40bd7",
   "metadata": {},
   "outputs": [
    {
     "name": "stdout",
     "output_type": "stream",
     "text": [
      ":) Please note that since we use the same data for training and for testing :) of our 100 samples. Thus, we have:\n",
      ":) X_train = X_test = 100 rows (samples) and 5 columns (N = 5 predictors) for training and for testing\n",
      ":) y_train = y_test = 100 corresponding rows (samples) for training and for testing.\n"
     ]
    },
    {
     "name": "stderr",
     "output_type": "stream",
     "text": [
      "100%|██████████████████████████████████████████████████████████████████████████████████| 5/5 [00:00<00:00, 4999.17it/s]\n",
      "100%|██████████████████████████████████████████████████████████████████████████████████| 5/5 [00:00<00:00, 2476.56it/s]\n",
      "100%|██████████████████████████████████████████████████████████████████████████████████| 5/5 [00:00<00:00, 5001.55it/s]\n"
     ]
    },
    {
     "data": {
      "application/vnd.plotly.v1+json": {
       "config": {
        "plotlyServerURL": "https://plot.ly"
       },
       "data": [
        {
         "alignmentgroup": "True",
         "hovertemplate": "TF=%{x}<br>correlation=%{y}<extra></extra>",
         "legendgroup": "",
         "marker": {
          "color": "#636efa",
          "pattern": {
           "shape": ""
          }
         },
         "name": "",
         "offsetgroup": "",
         "orientation": "v",
         "showlegend": false,
         "textposition": "auto",
         "type": "bar",
         "x": [
          "TF0",
          "TF1",
          "TF2",
          "TF3",
          "TF4"
         ],
         "xaxis": "x",
         "y": [
          0.9,
          0.5,
          0.1,
          -0.2,
          -0.8
         ],
         "yaxis": "y"
        }
       ],
       "layout": {
        "barmode": "group",
        "legend": {
         "tracegroupgap": 0
        },
        "margin": {
         "t": 60
        },
        "template": {
         "data": {
          "bar": [
           {
            "error_x": {
             "color": "#2a3f5f"
            },
            "error_y": {
             "color": "#2a3f5f"
            },
            "marker": {
             "line": {
              "color": "#E5ECF6",
              "width": 0.5
             },
             "pattern": {
              "fillmode": "overlay",
              "size": 10,
              "solidity": 0.2
             }
            },
            "type": "bar"
           }
          ],
          "barpolar": [
           {
            "marker": {
             "line": {
              "color": "#E5ECF6",
              "width": 0.5
             },
             "pattern": {
              "fillmode": "overlay",
              "size": 10,
              "solidity": 0.2
             }
            },
            "type": "barpolar"
           }
          ],
          "carpet": [
           {
            "aaxis": {
             "endlinecolor": "#2a3f5f",
             "gridcolor": "white",
             "linecolor": "white",
             "minorgridcolor": "white",
             "startlinecolor": "#2a3f5f"
            },
            "baxis": {
             "endlinecolor": "#2a3f5f",
             "gridcolor": "white",
             "linecolor": "white",
             "minorgridcolor": "white",
             "startlinecolor": "#2a3f5f"
            },
            "type": "carpet"
           }
          ],
          "choropleth": [
           {
            "colorbar": {
             "outlinewidth": 0,
             "ticks": ""
            },
            "type": "choropleth"
           }
          ],
          "contour": [
           {
            "colorbar": {
             "outlinewidth": 0,
             "ticks": ""
            },
            "colorscale": [
             [
              0,
              "#0d0887"
             ],
             [
              0.1111111111111111,
              "#46039f"
             ],
             [
              0.2222222222222222,
              "#7201a8"
             ],
             [
              0.3333333333333333,
              "#9c179e"
             ],
             [
              0.4444444444444444,
              "#bd3786"
             ],
             [
              0.5555555555555556,
              "#d8576b"
             ],
             [
              0.6666666666666666,
              "#ed7953"
             ],
             [
              0.7777777777777778,
              "#fb9f3a"
             ],
             [
              0.8888888888888888,
              "#fdca26"
             ],
             [
              1,
              "#f0f921"
             ]
            ],
            "type": "contour"
           }
          ],
          "contourcarpet": [
           {
            "colorbar": {
             "outlinewidth": 0,
             "ticks": ""
            },
            "type": "contourcarpet"
           }
          ],
          "heatmap": [
           {
            "colorbar": {
             "outlinewidth": 0,
             "ticks": ""
            },
            "colorscale": [
             [
              0,
              "#0d0887"
             ],
             [
              0.1111111111111111,
              "#46039f"
             ],
             [
              0.2222222222222222,
              "#7201a8"
             ],
             [
              0.3333333333333333,
              "#9c179e"
             ],
             [
              0.4444444444444444,
              "#bd3786"
             ],
             [
              0.5555555555555556,
              "#d8576b"
             ],
             [
              0.6666666666666666,
              "#ed7953"
             ],
             [
              0.7777777777777778,
              "#fb9f3a"
             ],
             [
              0.8888888888888888,
              "#fdca26"
             ],
             [
              1,
              "#f0f921"
             ]
            ],
            "type": "heatmap"
           }
          ],
          "heatmapgl": [
           {
            "colorbar": {
             "outlinewidth": 0,
             "ticks": ""
            },
            "colorscale": [
             [
              0,
              "#0d0887"
             ],
             [
              0.1111111111111111,
              "#46039f"
             ],
             [
              0.2222222222222222,
              "#7201a8"
             ],
             [
              0.3333333333333333,
              "#9c179e"
             ],
             [
              0.4444444444444444,
              "#bd3786"
             ],
             [
              0.5555555555555556,
              "#d8576b"
             ],
             [
              0.6666666666666666,
              "#ed7953"
             ],
             [
              0.7777777777777778,
              "#fb9f3a"
             ],
             [
              0.8888888888888888,
              "#fdca26"
             ],
             [
              1,
              "#f0f921"
             ]
            ],
            "type": "heatmapgl"
           }
          ],
          "histogram": [
           {
            "marker": {
             "pattern": {
              "fillmode": "overlay",
              "size": 10,
              "solidity": 0.2
             }
            },
            "type": "histogram"
           }
          ],
          "histogram2d": [
           {
            "colorbar": {
             "outlinewidth": 0,
             "ticks": ""
            },
            "colorscale": [
             [
              0,
              "#0d0887"
             ],
             [
              0.1111111111111111,
              "#46039f"
             ],
             [
              0.2222222222222222,
              "#7201a8"
             ],
             [
              0.3333333333333333,
              "#9c179e"
             ],
             [
              0.4444444444444444,
              "#bd3786"
             ],
             [
              0.5555555555555556,
              "#d8576b"
             ],
             [
              0.6666666666666666,
              "#ed7953"
             ],
             [
              0.7777777777777778,
              "#fb9f3a"
             ],
             [
              0.8888888888888888,
              "#fdca26"
             ],
             [
              1,
              "#f0f921"
             ]
            ],
            "type": "histogram2d"
           }
          ],
          "histogram2dcontour": [
           {
            "colorbar": {
             "outlinewidth": 0,
             "ticks": ""
            },
            "colorscale": [
             [
              0,
              "#0d0887"
             ],
             [
              0.1111111111111111,
              "#46039f"
             ],
             [
              0.2222222222222222,
              "#7201a8"
             ],
             [
              0.3333333333333333,
              "#9c179e"
             ],
             [
              0.4444444444444444,
              "#bd3786"
             ],
             [
              0.5555555555555556,
              "#d8576b"
             ],
             [
              0.6666666666666666,
              "#ed7953"
             ],
             [
              0.7777777777777778,
              "#fb9f3a"
             ],
             [
              0.8888888888888888,
              "#fdca26"
             ],
             [
              1,
              "#f0f921"
             ]
            ],
            "type": "histogram2dcontour"
           }
          ],
          "mesh3d": [
           {
            "colorbar": {
             "outlinewidth": 0,
             "ticks": ""
            },
            "type": "mesh3d"
           }
          ],
          "parcoords": [
           {
            "line": {
             "colorbar": {
              "outlinewidth": 0,
              "ticks": ""
             }
            },
            "type": "parcoords"
           }
          ],
          "pie": [
           {
            "automargin": true,
            "type": "pie"
           }
          ],
          "scatter": [
           {
            "fillpattern": {
             "fillmode": "overlay",
             "size": 10,
             "solidity": 0.2
            },
            "type": "scatter"
           }
          ],
          "scatter3d": [
           {
            "line": {
             "colorbar": {
              "outlinewidth": 0,
              "ticks": ""
             }
            },
            "marker": {
             "colorbar": {
              "outlinewidth": 0,
              "ticks": ""
             }
            },
            "type": "scatter3d"
           }
          ],
          "scattercarpet": [
           {
            "marker": {
             "colorbar": {
              "outlinewidth": 0,
              "ticks": ""
             }
            },
            "type": "scattercarpet"
           }
          ],
          "scattergeo": [
           {
            "marker": {
             "colorbar": {
              "outlinewidth": 0,
              "ticks": ""
             }
            },
            "type": "scattergeo"
           }
          ],
          "scattergl": [
           {
            "marker": {
             "colorbar": {
              "outlinewidth": 0,
              "ticks": ""
             }
            },
            "type": "scattergl"
           }
          ],
          "scattermapbox": [
           {
            "marker": {
             "colorbar": {
              "outlinewidth": 0,
              "ticks": ""
             }
            },
            "type": "scattermapbox"
           }
          ],
          "scatterpolar": [
           {
            "marker": {
             "colorbar": {
              "outlinewidth": 0,
              "ticks": ""
             }
            },
            "type": "scatterpolar"
           }
          ],
          "scatterpolargl": [
           {
            "marker": {
             "colorbar": {
              "outlinewidth": 0,
              "ticks": ""
             }
            },
            "type": "scatterpolargl"
           }
          ],
          "scatterternary": [
           {
            "marker": {
             "colorbar": {
              "outlinewidth": 0,
              "ticks": ""
             }
            },
            "type": "scatterternary"
           }
          ],
          "surface": [
           {
            "colorbar": {
             "outlinewidth": 0,
             "ticks": ""
            },
            "colorscale": [
             [
              0,
              "#0d0887"
             ],
             [
              0.1111111111111111,
              "#46039f"
             ],
             [
              0.2222222222222222,
              "#7201a8"
             ],
             [
              0.3333333333333333,
              "#9c179e"
             ],
             [
              0.4444444444444444,
              "#bd3786"
             ],
             [
              0.5555555555555556,
              "#d8576b"
             ],
             [
              0.6666666666666666,
              "#ed7953"
             ],
             [
              0.7777777777777778,
              "#fb9f3a"
             ],
             [
              0.8888888888888888,
              "#fdca26"
             ],
             [
              1,
              "#f0f921"
             ]
            ],
            "type": "surface"
           }
          ],
          "table": [
           {
            "cells": {
             "fill": {
              "color": "#EBF0F8"
             },
             "line": {
              "color": "white"
             }
            },
            "header": {
             "fill": {
              "color": "#C8D4E3"
             },
             "line": {
              "color": "white"
             }
            },
            "type": "table"
           }
          ]
         },
         "layout": {
          "annotationdefaults": {
           "arrowcolor": "#2a3f5f",
           "arrowhead": 0,
           "arrowwidth": 1
          },
          "autotypenumbers": "strict",
          "coloraxis": {
           "colorbar": {
            "outlinewidth": 0,
            "ticks": ""
           }
          },
          "colorscale": {
           "diverging": [
            [
             0,
             "#8e0152"
            ],
            [
             0.1,
             "#c51b7d"
            ],
            [
             0.2,
             "#de77ae"
            ],
            [
             0.3,
             "#f1b6da"
            ],
            [
             0.4,
             "#fde0ef"
            ],
            [
             0.5,
             "#f7f7f7"
            ],
            [
             0.6,
             "#e6f5d0"
            ],
            [
             0.7,
             "#b8e186"
            ],
            [
             0.8,
             "#7fbc41"
            ],
            [
             0.9,
             "#4d9221"
            ],
            [
             1,
             "#276419"
            ]
           ],
           "sequential": [
            [
             0,
             "#0d0887"
            ],
            [
             0.1111111111111111,
             "#46039f"
            ],
            [
             0.2222222222222222,
             "#7201a8"
            ],
            [
             0.3333333333333333,
             "#9c179e"
            ],
            [
             0.4444444444444444,
             "#bd3786"
            ],
            [
             0.5555555555555556,
             "#d8576b"
            ],
            [
             0.6666666666666666,
             "#ed7953"
            ],
            [
             0.7777777777777778,
             "#fb9f3a"
            ],
            [
             0.8888888888888888,
             "#fdca26"
            ],
            [
             1,
             "#f0f921"
            ]
           ],
           "sequentialminus": [
            [
             0,
             "#0d0887"
            ],
            [
             0.1111111111111111,
             "#46039f"
            ],
            [
             0.2222222222222222,
             "#7201a8"
            ],
            [
             0.3333333333333333,
             "#9c179e"
            ],
            [
             0.4444444444444444,
             "#bd3786"
            ],
            [
             0.5555555555555556,
             "#d8576b"
            ],
            [
             0.6666666666666666,
             "#ed7953"
            ],
            [
             0.7777777777777778,
             "#fb9f3a"
            ],
            [
             0.8888888888888888,
             "#fdca26"
            ],
            [
             1,
             "#f0f921"
            ]
           ]
          },
          "colorway": [
           "#636efa",
           "#EF553B",
           "#00cc96",
           "#ab63fa",
           "#FFA15A",
           "#19d3f3",
           "#FF6692",
           "#B6E880",
           "#FF97FF",
           "#FECB52"
          ],
          "font": {
           "color": "#2a3f5f"
          },
          "geo": {
           "bgcolor": "white",
           "lakecolor": "white",
           "landcolor": "#E5ECF6",
           "showlakes": true,
           "showland": true,
           "subunitcolor": "white"
          },
          "hoverlabel": {
           "align": "left"
          },
          "hovermode": "closest",
          "mapbox": {
           "style": "light"
          },
          "paper_bgcolor": "white",
          "plot_bgcolor": "#E5ECF6",
          "polar": {
           "angularaxis": {
            "gridcolor": "white",
            "linecolor": "white",
            "ticks": ""
           },
           "bgcolor": "#E5ECF6",
           "radialaxis": {
            "gridcolor": "white",
            "linecolor": "white",
            "ticks": ""
           }
          },
          "scene": {
           "xaxis": {
            "backgroundcolor": "#E5ECF6",
            "gridcolor": "white",
            "gridwidth": 2,
            "linecolor": "white",
            "showbackground": true,
            "ticks": "",
            "zerolinecolor": "white"
           },
           "yaxis": {
            "backgroundcolor": "#E5ECF6",
            "gridcolor": "white",
            "gridwidth": 2,
            "linecolor": "white",
            "showbackground": true,
            "ticks": "",
            "zerolinecolor": "white"
           },
           "zaxis": {
            "backgroundcolor": "#E5ECF6",
            "gridcolor": "white",
            "gridwidth": 2,
            "linecolor": "white",
            "showbackground": true,
            "ticks": "",
            "zerolinecolor": "white"
           }
          },
          "shapedefaults": {
           "line": {
            "color": "#2a3f5f"
           }
          },
          "ternary": {
           "aaxis": {
            "gridcolor": "white",
            "linecolor": "white",
            "ticks": ""
           },
           "baxis": {
            "gridcolor": "white",
            "linecolor": "white",
            "ticks": ""
           },
           "bgcolor": "#E5ECF6",
           "caxis": {
            "gridcolor": "white",
            "linecolor": "white",
            "ticks": ""
           }
          },
          "title": {
           "x": 0.05
          },
          "xaxis": {
           "automargin": true,
           "gridcolor": "white",
           "linecolor": "white",
           "ticks": "",
           "title": {
            "standoff": 15
           },
           "zerolinecolor": "white",
           "zerolinewidth": 2
          },
          "yaxis": {
           "automargin": true,
           "gridcolor": "white",
           "linecolor": "white",
           "ticks": "",
           "title": {
            "standoff": 15
           },
           "zerolinecolor": "white",
           "zerolinewidth": 2
          }
         }
        },
        "xaxis": {
         "anchor": "y",
         "domain": [
          0,
          1
         ],
         "title": {
          "text": "TF"
         }
        },
        "yaxis": {
         "anchor": "x",
         "domain": [
          0,
          1
         ],
         "title": {
          "text": "correlation"
         }
        }
       }
      },
      "text/html": [
       "<div>                            <div id=\"3d12528f-8296-4276-939f-1920769fda98\" class=\"plotly-graph-div\" style=\"height:525px; width:100%;\"></div>            <script type=\"text/javascript\">                require([\"plotly\"], function(Plotly) {                    window.PLOTLYENV=window.PLOTLYENV || {};                                    if (document.getElementById(\"3d12528f-8296-4276-939f-1920769fda98\")) {                    Plotly.newPlot(                        \"3d12528f-8296-4276-939f-1920769fda98\",                        [{\"alignmentgroup\":\"True\",\"hovertemplate\":\"TF=%{x}<br>correlation=%{y}<extra></extra>\",\"legendgroup\":\"\",\"marker\":{\"color\":\"#636efa\",\"pattern\":{\"shape\":\"\"}},\"name\":\"\",\"offsetgroup\":\"\",\"orientation\":\"v\",\"showlegend\":false,\"textposition\":\"auto\",\"x\":[\"TF0\",\"TF1\",\"TF2\",\"TF3\",\"TF4\"],\"xaxis\":\"x\",\"y\":[0.9,0.5,0.1,-0.2,-0.8],\"yaxis\":\"y\",\"type\":\"bar\"}],                        {\"template\":{\"data\":{\"histogram2dcontour\":[{\"type\":\"histogram2dcontour\",\"colorbar\":{\"outlinewidth\":0,\"ticks\":\"\"},\"colorscale\":[[0.0,\"#0d0887\"],[0.1111111111111111,\"#46039f\"],[0.2222222222222222,\"#7201a8\"],[0.3333333333333333,\"#9c179e\"],[0.4444444444444444,\"#bd3786\"],[0.5555555555555556,\"#d8576b\"],[0.6666666666666666,\"#ed7953\"],[0.7777777777777778,\"#fb9f3a\"],[0.8888888888888888,\"#fdca26\"],[1.0,\"#f0f921\"]]}],\"choropleth\":[{\"type\":\"choropleth\",\"colorbar\":{\"outlinewidth\":0,\"ticks\":\"\"}}],\"histogram2d\":[{\"type\":\"histogram2d\",\"colorbar\":{\"outlinewidth\":0,\"ticks\":\"\"},\"colorscale\":[[0.0,\"#0d0887\"],[0.1111111111111111,\"#46039f\"],[0.2222222222222222,\"#7201a8\"],[0.3333333333333333,\"#9c179e\"],[0.4444444444444444,\"#bd3786\"],[0.5555555555555556,\"#d8576b\"],[0.6666666666666666,\"#ed7953\"],[0.7777777777777778,\"#fb9f3a\"],[0.8888888888888888,\"#fdca26\"],[1.0,\"#f0f921\"]]}],\"heatmap\":[{\"type\":\"heatmap\",\"colorbar\":{\"outlinewidth\":0,\"ticks\":\"\"},\"colorscale\":[[0.0,\"#0d0887\"],[0.1111111111111111,\"#46039f\"],[0.2222222222222222,\"#7201a8\"],[0.3333333333333333,\"#9c179e\"],[0.4444444444444444,\"#bd3786\"],[0.5555555555555556,\"#d8576b\"],[0.6666666666666666,\"#ed7953\"],[0.7777777777777778,\"#fb9f3a\"],[0.8888888888888888,\"#fdca26\"],[1.0,\"#f0f921\"]]}],\"heatmapgl\":[{\"type\":\"heatmapgl\",\"colorbar\":{\"outlinewidth\":0,\"ticks\":\"\"},\"colorscale\":[[0.0,\"#0d0887\"],[0.1111111111111111,\"#46039f\"],[0.2222222222222222,\"#7201a8\"],[0.3333333333333333,\"#9c179e\"],[0.4444444444444444,\"#bd3786\"],[0.5555555555555556,\"#d8576b\"],[0.6666666666666666,\"#ed7953\"],[0.7777777777777778,\"#fb9f3a\"],[0.8888888888888888,\"#fdca26\"],[1.0,\"#f0f921\"]]}],\"contourcarpet\":[{\"type\":\"contourcarpet\",\"colorbar\":{\"outlinewidth\":0,\"ticks\":\"\"}}],\"contour\":[{\"type\":\"contour\",\"colorbar\":{\"outlinewidth\":0,\"ticks\":\"\"},\"colorscale\":[[0.0,\"#0d0887\"],[0.1111111111111111,\"#46039f\"],[0.2222222222222222,\"#7201a8\"],[0.3333333333333333,\"#9c179e\"],[0.4444444444444444,\"#bd3786\"],[0.5555555555555556,\"#d8576b\"],[0.6666666666666666,\"#ed7953\"],[0.7777777777777778,\"#fb9f3a\"],[0.8888888888888888,\"#fdca26\"],[1.0,\"#f0f921\"]]}],\"surface\":[{\"type\":\"surface\",\"colorbar\":{\"outlinewidth\":0,\"ticks\":\"\"},\"colorscale\":[[0.0,\"#0d0887\"],[0.1111111111111111,\"#46039f\"],[0.2222222222222222,\"#7201a8\"],[0.3333333333333333,\"#9c179e\"],[0.4444444444444444,\"#bd3786\"],[0.5555555555555556,\"#d8576b\"],[0.6666666666666666,\"#ed7953\"],[0.7777777777777778,\"#fb9f3a\"],[0.8888888888888888,\"#fdca26\"],[1.0,\"#f0f921\"]]}],\"mesh3d\":[{\"type\":\"mesh3d\",\"colorbar\":{\"outlinewidth\":0,\"ticks\":\"\"}}],\"scatter\":[{\"fillpattern\":{\"fillmode\":\"overlay\",\"size\":10,\"solidity\":0.2},\"type\":\"scatter\"}],\"parcoords\":[{\"type\":\"parcoords\",\"line\":{\"colorbar\":{\"outlinewidth\":0,\"ticks\":\"\"}}}],\"scatterpolargl\":[{\"type\":\"scatterpolargl\",\"marker\":{\"colorbar\":{\"outlinewidth\":0,\"ticks\":\"\"}}}],\"bar\":[{\"error_x\":{\"color\":\"#2a3f5f\"},\"error_y\":{\"color\":\"#2a3f5f\"},\"marker\":{\"line\":{\"color\":\"#E5ECF6\",\"width\":0.5},\"pattern\":{\"fillmode\":\"overlay\",\"size\":10,\"solidity\":0.2}},\"type\":\"bar\"}],\"scattergeo\":[{\"type\":\"scattergeo\",\"marker\":{\"colorbar\":{\"outlinewidth\":0,\"ticks\":\"\"}}}],\"scatterpolar\":[{\"type\":\"scatterpolar\",\"marker\":{\"colorbar\":{\"outlinewidth\":0,\"ticks\":\"\"}}}],\"histogram\":[{\"marker\":{\"pattern\":{\"fillmode\":\"overlay\",\"size\":10,\"solidity\":0.2}},\"type\":\"histogram\"}],\"scattergl\":[{\"type\":\"scattergl\",\"marker\":{\"colorbar\":{\"outlinewidth\":0,\"ticks\":\"\"}}}],\"scatter3d\":[{\"type\":\"scatter3d\",\"line\":{\"colorbar\":{\"outlinewidth\":0,\"ticks\":\"\"}},\"marker\":{\"colorbar\":{\"outlinewidth\":0,\"ticks\":\"\"}}}],\"scattermapbox\":[{\"type\":\"scattermapbox\",\"marker\":{\"colorbar\":{\"outlinewidth\":0,\"ticks\":\"\"}}}],\"scatterternary\":[{\"type\":\"scatterternary\",\"marker\":{\"colorbar\":{\"outlinewidth\":0,\"ticks\":\"\"}}}],\"scattercarpet\":[{\"type\":\"scattercarpet\",\"marker\":{\"colorbar\":{\"outlinewidth\":0,\"ticks\":\"\"}}}],\"carpet\":[{\"aaxis\":{\"endlinecolor\":\"#2a3f5f\",\"gridcolor\":\"white\",\"linecolor\":\"white\",\"minorgridcolor\":\"white\",\"startlinecolor\":\"#2a3f5f\"},\"baxis\":{\"endlinecolor\":\"#2a3f5f\",\"gridcolor\":\"white\",\"linecolor\":\"white\",\"minorgridcolor\":\"white\",\"startlinecolor\":\"#2a3f5f\"},\"type\":\"carpet\"}],\"table\":[{\"cells\":{\"fill\":{\"color\":\"#EBF0F8\"},\"line\":{\"color\":\"white\"}},\"header\":{\"fill\":{\"color\":\"#C8D4E3\"},\"line\":{\"color\":\"white\"}},\"type\":\"table\"}],\"barpolar\":[{\"marker\":{\"line\":{\"color\":\"#E5ECF6\",\"width\":0.5},\"pattern\":{\"fillmode\":\"overlay\",\"size\":10,\"solidity\":0.2}},\"type\":\"barpolar\"}],\"pie\":[{\"automargin\":true,\"type\":\"pie\"}]},\"layout\":{\"autotypenumbers\":\"strict\",\"colorway\":[\"#636efa\",\"#EF553B\",\"#00cc96\",\"#ab63fa\",\"#FFA15A\",\"#19d3f3\",\"#FF6692\",\"#B6E880\",\"#FF97FF\",\"#FECB52\"],\"font\":{\"color\":\"#2a3f5f\"},\"hovermode\":\"closest\",\"hoverlabel\":{\"align\":\"left\"},\"paper_bgcolor\":\"white\",\"plot_bgcolor\":\"#E5ECF6\",\"polar\":{\"bgcolor\":\"#E5ECF6\",\"angularaxis\":{\"gridcolor\":\"white\",\"linecolor\":\"white\",\"ticks\":\"\"},\"radialaxis\":{\"gridcolor\":\"white\",\"linecolor\":\"white\",\"ticks\":\"\"}},\"ternary\":{\"bgcolor\":\"#E5ECF6\",\"aaxis\":{\"gridcolor\":\"white\",\"linecolor\":\"white\",\"ticks\":\"\"},\"baxis\":{\"gridcolor\":\"white\",\"linecolor\":\"white\",\"ticks\":\"\"},\"caxis\":{\"gridcolor\":\"white\",\"linecolor\":\"white\",\"ticks\":\"\"}},\"coloraxis\":{\"colorbar\":{\"outlinewidth\":0,\"ticks\":\"\"}},\"colorscale\":{\"sequential\":[[0.0,\"#0d0887\"],[0.1111111111111111,\"#46039f\"],[0.2222222222222222,\"#7201a8\"],[0.3333333333333333,\"#9c179e\"],[0.4444444444444444,\"#bd3786\"],[0.5555555555555556,\"#d8576b\"],[0.6666666666666666,\"#ed7953\"],[0.7777777777777778,\"#fb9f3a\"],[0.8888888888888888,\"#fdca26\"],[1.0,\"#f0f921\"]],\"sequentialminus\":[[0.0,\"#0d0887\"],[0.1111111111111111,\"#46039f\"],[0.2222222222222222,\"#7201a8\"],[0.3333333333333333,\"#9c179e\"],[0.4444444444444444,\"#bd3786\"],[0.5555555555555556,\"#d8576b\"],[0.6666666666666666,\"#ed7953\"],[0.7777777777777778,\"#fb9f3a\"],[0.8888888888888888,\"#fdca26\"],[1.0,\"#f0f921\"]],\"diverging\":[[0,\"#8e0152\"],[0.1,\"#c51b7d\"],[0.2,\"#de77ae\"],[0.3,\"#f1b6da\"],[0.4,\"#fde0ef\"],[0.5,\"#f7f7f7\"],[0.6,\"#e6f5d0\"],[0.7,\"#b8e186\"],[0.8,\"#7fbc41\"],[0.9,\"#4d9221\"],[1,\"#276419\"]]},\"xaxis\":{\"gridcolor\":\"white\",\"linecolor\":\"white\",\"ticks\":\"\",\"title\":{\"standoff\":15},\"zerolinecolor\":\"white\",\"automargin\":true,\"zerolinewidth\":2},\"yaxis\":{\"gridcolor\":\"white\",\"linecolor\":\"white\",\"ticks\":\"\",\"title\":{\"standoff\":15},\"zerolinecolor\":\"white\",\"automargin\":true,\"zerolinewidth\":2},\"scene\":{\"xaxis\":{\"backgroundcolor\":\"#E5ECF6\",\"gridcolor\":\"white\",\"linecolor\":\"white\",\"showbackground\":true,\"ticks\":\"\",\"zerolinecolor\":\"white\",\"gridwidth\":2},\"yaxis\":{\"backgroundcolor\":\"#E5ECF6\",\"gridcolor\":\"white\",\"linecolor\":\"white\",\"showbackground\":true,\"ticks\":\"\",\"zerolinecolor\":\"white\",\"gridwidth\":2},\"zaxis\":{\"backgroundcolor\":\"#E5ECF6\",\"gridcolor\":\"white\",\"linecolor\":\"white\",\"showbackground\":true,\"ticks\":\"\",\"zerolinecolor\":\"white\",\"gridwidth\":2}},\"shapedefaults\":{\"line\":{\"color\":\"#2a3f5f\"}},\"annotationdefaults\":{\"arrowcolor\":\"#2a3f5f\",\"arrowhead\":0,\"arrowwidth\":1},\"geo\":{\"bgcolor\":\"white\",\"landcolor\":\"#E5ECF6\",\"subunitcolor\":\"white\",\"showland\":true,\"showlakes\":true,\"lakecolor\":\"white\"},\"title\":{\"x\":0.05},\"mapbox\":{\"style\":\"light\"}}},\"xaxis\":{\"anchor\":\"y\",\"domain\":[0.0,1.0],\"title\":{\"text\":\"TF\"}},\"yaxis\":{\"anchor\":\"x\",\"domain\":[0.0,1.0],\"title\":{\"text\":\"correlation\"}},\"legend\":{\"tracegroupgap\":0},\"margin\":{\"t\":60},\"barmode\":\"group\"},                        {\"responsive\": true}                    ).then(function(){\n",
       "                            \n",
       "var gd = document.getElementById('3d12528f-8296-4276-939f-1920769fda98');\n",
       "var x = new MutationObserver(function (mutations, observer) {{\n",
       "        var display = window.getComputedStyle(gd).display;\n",
       "        if (!display || display === 'none') {{\n",
       "            console.log([gd, 'removed!']);\n",
       "            Plotly.purge(gd);\n",
       "            observer.disconnect();\n",
       "        }}\n",
       "}});\n",
       "\n",
       "// Listen for the removal of the full notebook cells\n",
       "var notebookContainer = gd.closest('#notebook-container');\n",
       "if (notebookContainer) {{\n",
       "    x.observe(notebookContainer, {childList: true});\n",
       "}}\n",
       "\n",
       "// Listen for the clearing of the current output cell\n",
       "var outputEl = gd.closest('.output');\n",
       "if (outputEl) {{\n",
       "    x.observe(outputEl, {childList: true});\n",
       "}}\n",
       "\n",
       "                        })                };                });            </script>        </div>"
      ]
     },
     "metadata": {},
     "output_type": "display_data"
    }
   ],
   "source": [
    "demo_dict = {\"M\": 100,\n",
    "            \"corrVals\": [0.9, 0.5, 0.1, -0.2, -0.8],\n",
    "            \"same_train_and_test_data_bool\": True}\n",
    "dummy_data = DemoDataBuilderXandY(**demo_dict)\n",
    "\n",
    "X_train = dummy_data.X_train\n",
    "y_train = dummy_data.y_train\n",
    "X_test = dummy_data.X_test\n",
    "y_test = dummy_data.y_test "
   ]
  },
  {
   "cell_type": "markdown",
   "id": "887d9c98",
   "metadata": {},
   "source": [
    "* 2. *PriorGraphNetwork*"
   ]
  },
  {
   "cell_type": "code",
   "execution_count": null,
   "id": "54953531",
   "metadata": {},
   "outputs": [],
   "source": []
  },
  {
   "cell_type": "code",
   "execution_count": 3,
   "id": "667df0c0",
   "metadata": {},
   "outputs": [],
   "source": [
    "edge_list = [[0, 1, 10], [3, 4, 0.8], [0, 2], [0, 3], [0, 4], # may specify edge weights if we want\n",
    "              [1, 2], [1, 3], [1, 4], [2, 3], [2, 4]]"
   ]
  },
  {
   "cell_type": "markdown",
   "id": "939e7f61",
   "metadata": {},
   "source": [
    "* 3. *GRegulNet*:"
   ]
  },
  {
   "cell_type": "code",
   "execution_count": 4,
   "id": "58275e77",
   "metadata": {},
   "outputs": [
    {
     "name": "stdout",
     "output_type": "stream",
     "text": [
      "undirected_edge_list_to_matrix\n",
      ":) Please note that we count the number of edges with weight > 0.5 to get the degree for a given node.\n",
      ":) We also add 0.001 as a pseudocount to our degree value for each node.\n",
      "\n",
      ":) A is symmetric!\n",
      "network used\n",
      "Train\n",
      "Lasso\n"
     ]
    },
    {
     "data": {
      "text/plain": [
       "<gregulnetClasses.GRegulNet at 0x19765abb880>"
      ]
     },
     "execution_count": 4,
     "metadata": {},
     "output_type": "execute_result"
    },
    {
     "data": {
      "image/png": "[encoded data removed]",
      "text/plain": [
       "<Figure size 640x480 with 1 Axes>"
      ]
     },
     "metadata": {},
     "output_type": "display_data"
    }
   ],
   "source": [
    "alpha_lasso_val = 0.01\n",
    "beta_network_val = 10\n",
    "\n",
    "grn_demo = geneRegulatNet(edge_list = edge_list, \n",
    "                          beta_network_val = beta_network_val,\n",
    "                          alpha_lasso_val = alpha_lasso_val)\n",
    "grn_demo.fit(X_train, y_train)\n",
    "grn_demo"
   ]
  },
  {
   "cell_type": "code",
   "execution_count": 5,
   "id": "ef61ff76",
   "metadata": {},
   "outputs": [
    {
     "data": {
      "text/html": [
       "<div>\n",
       "<style scoped>\n",
       "    .dataframe tbody tr th:only-of-type {\n",
       "        vertical-align: middle;\n",
       "    }\n",
       "\n",
       "    .dataframe tbody tr th {\n",
       "        vertical-align: top;\n",
       "    }\n",
       "\n",
       "    .dataframe thead th {\n",
       "        text-align: right;\n",
       "    }\n",
       "</style>\n",
       "<table border=\"1\" class=\"dataframe\">\n",
       "  <thead>\n",
       "    <tr style=\"text-align: right;\">\n",
       "      <th></th>\n",
       "      <th>parameter</th>\n",
       "      <th>data type</th>\n",
       "      <th>description</th>\n",
       "      <th>value</th>\n",
       "      <th>class</th>\n",
       "    </tr>\n",
       "  </thead>\n",
       "  <tbody>\n",
       "    <tr>\n",
       "      <th>0</th>\n",
       "      <td>default_edge_weight</td>\n",
       "      <td>&gt;= 0</td>\n",
       "      <td>edge weight for any edge with missing weight info</td>\n",
       "      <td>0.1</td>\n",
       "      <td>PriorGraphNetwork</td>\n",
       "    </tr>\n",
       "    <tr>\n",
       "      <th>1</th>\n",
       "      <td>consider_self_loops</td>\n",
       "      <td>boolean</td>\n",
       "      <td>add 1 to the degree for each node (based on se...</td>\n",
       "      <td>False</td>\n",
       "      <td>PriorGraphNetwork</td>\n",
       "    </tr>\n",
       "    <tr>\n",
       "      <th>2</th>\n",
       "      <td>pseudocount_for_diagonal_matrix</td>\n",
       "      <td>&gt;= 0</td>\n",
       "      <td>to ensure that no nodes have 0 degree value in...</td>\n",
       "      <td>0.001</td>\n",
       "      <td>PriorGraphNetwork</td>\n",
       "    </tr>\n",
       "    <tr>\n",
       "      <th>3</th>\n",
       "      <td>use_edge_weight_values_for_degrees_bool</td>\n",
       "      <td>boolean</td>\n",
       "      <td>if False, we use a threshold instead to derive...</td>\n",
       "      <td>False</td>\n",
       "      <td>PriorGraphNetwork</td>\n",
       "    </tr>\n",
       "    <tr>\n",
       "      <th>4</th>\n",
       "      <td>threshold_for_degree</td>\n",
       "      <td>&gt;= 0</td>\n",
       "      <td>edge weights &gt; 0.5 are counted as 1 for the de...</td>\n",
       "      <td>0.5</td>\n",
       "      <td>PriorGraphNetwork</td>\n",
       "    </tr>\n",
       "    <tr>\n",
       "      <th>5</th>\n",
       "      <td>model_type</td>\n",
       "      <td>set of options</td>\n",
       "      <td>which model type should be used for geneRegula...</td>\n",
       "      <td>Lasso</td>\n",
       "      <td>GRegulNet</td>\n",
       "    </tr>\n",
       "    <tr>\n",
       "      <th>6</th>\n",
       "      <td>max_lasso_iterations</td>\n",
       "      <td>&gt;= 1</td>\n",
       "      <td>the maximum # of iterations for Lasso</td>\n",
       "      <td>Lasso</td>\n",
       "      <td>GRegulNet</td>\n",
       "    </tr>\n",
       "    <tr>\n",
       "      <th>7</th>\n",
       "      <td>use_cross_validation_for_model_bool</td>\n",
       "      <td>boolean</td>\n",
       "      <td>should we use cross validation for training th...</td>\n",
       "      <td>False</td>\n",
       "      <td>GRegulNet</td>\n",
       "    </tr>\n",
       "    <tr>\n",
       "      <th>8</th>\n",
       "      <td>alpha_lasso</td>\n",
       "      <td>&gt;= 0</td>\n",
       "      <td>value for alpha for the lasso problem</td>\n",
       "      <td>0.01</td>\n",
       "      <td>GRegulNet</td>\n",
       "    </tr>\n",
       "    <tr>\n",
       "      <th>9</th>\n",
       "      <td>use_network</td>\n",
       "      <td>boolean</td>\n",
       "      <td>perform network regularization using a network...</td>\n",
       "      <td>True</td>\n",
       "      <td>GRegulNet</td>\n",
       "    </tr>\n",
       "    <tr>\n",
       "      <th>10</th>\n",
       "      <td>beta_network</td>\n",
       "      <td>&gt;= 0</td>\n",
       "      <td>value of beta for the network regularization p...</td>\n",
       "      <td>10</td>\n",
       "      <td>GRegulNet</td>\n",
       "    </tr>\n",
       "    <tr>\n",
       "      <th>11</th>\n",
       "      <td>fit_y_intercept_bool</td>\n",
       "      <td>boolean</td>\n",
       "      <td>fit a y-intercept for our regression problem</td>\n",
       "      <td>False</td>\n",
       "      <td>GRegulNet</td>\n",
       "    </tr>\n",
       "  </tbody>\n",
       "</table>\n",
       "</div>"
      ],
      "text/plain": [
       "                                  parameter       data type  \\\n",
       "0                       default_edge_weight            >= 0   \n",
       "1                       consider_self_loops         boolean   \n",
       "2           pseudocount_for_diagonal_matrix            >= 0   \n",
       "3   use_edge_weight_values_for_degrees_bool         boolean   \n",
       "4                      threshold_for_degree            >= 0   \n",
       "5                                model_type  set of options   \n",
       "6                      max_lasso_iterations            >= 1   \n",
       "7       use_cross_validation_for_model_bool         boolean   \n",
       "8                               alpha_lasso            >= 0   \n",
       "9                               use_network         boolean   \n",
       "10                             beta_network            >= 0   \n",
       "11                     fit_y_intercept_bool         boolean   \n",
       "\n",
       "                                          description  value  \\\n",
       "0   edge weight for any edge with missing weight info    0.1   \n",
       "1   add 1 to the degree for each node (based on se...  False   \n",
       "2   to ensure that no nodes have 0 degree value in...  0.001   \n",
       "3   if False, we use a threshold instead to derive...  False   \n",
       "4   edge weights > 0.5 are counted as 1 for the de...    0.5   \n",
       "5   which model type should be used for geneRegula...  Lasso   \n",
       "6               the maximum # of iterations for Lasso  Lasso   \n",
       "7   should we use cross validation for training th...  False   \n",
       "8               value for alpha for the lasso problem   0.01   \n",
       "9   perform network regularization using a network...   True   \n",
       "10  value of beta for the network regularization p...     10   \n",
       "11       fit a y-intercept for our regression problem  False   \n",
       "\n",
       "                class  \n",
       "0   PriorGraphNetwork  \n",
       "1   PriorGraphNetwork  \n",
       "2   PriorGraphNetwork  \n",
       "3   PriorGraphNetwork  \n",
       "4   PriorGraphNetwork  \n",
       "5           GRegulNet  \n",
       "6           GRegulNet  \n",
       "7           GRegulNet  \n",
       "8           GRegulNet  \n",
       "9           GRegulNet  \n",
       "10          GRegulNet  \n",
       "11          GRegulNet  "
      ]
     },
     "execution_count": 5,
     "metadata": {},
     "output_type": "execute_result"
    }
   ],
   "source": [
    "# There are many parameters we specified in the 2nd and 3rd classes:\n",
    "grn_demo.parameters_df"
   ]
  },
  {
   "cell_type": "markdown",
   "id": "1e4cdb2e",
   "metadata": {},
   "source": [
    "## Explanation of each class and features available:"
   ]
  },
  {
   "cell_type": "markdown",
   "id": "b31b1037",
   "metadata": {},
   "source": [
    "### Demo of GRegulNet:"
   ]
  },
  {
   "cell_type": "markdown",
   "id": "d76a94ba",
   "metadata": {},
   "source": [
    "* 1. *DemoDataBuilderXandY*:\n",
    "\n",
    ":) Please note that this class focuses on building Y data based on a normal distribution (specified mean and standard deviation). M is the # of samples we want to generate. Thus, Y is a vector with M elements. Then, this class returns X for a set of N predictors (each with M # of samples) based on a list of N correlation values. For instance, if N = 5 predictors (the Transcription Factors (TFs)), we have [X$_{1}$, X$_{2}$, X$_{3}$, X$_{4}$, X$_{5}$], and a respective list of correlation values: [cor(X$_{1}$, Y), cor(X$_{2}$, Y), cor(X$_{3}$, Y), cor(X$_{4}$, Y), cor(X$_{5}$, Y)]. Then, this class will generate X, a matrix of those 5 predictors (based on similar distribution as Y) with these respective Pearson correlations (r).\n",
    "    \n",
    "In our demo, we utilize the *demo_dict* dictionary below to encode values for 3 parameters for our demo. We specify $M$ is 100 samples. We have $N$ = 5 predictors: [X$_{1}$, X$_{2}$, X$_{3}$, X$_{4}$, X$_{5}$] since we have 5 elements for *corrVals*: [cor(X$_{1}$, Y) = 0.9, cor(X$_{2}$, Y) = 0.5, cor(X$_{3}$, Y) = 0.1, cor(X$_{4}$, Y) = -0.2, cor(X$_{5}$, Y) = -0.8].\n",
    "\n",
    "For simplicity, we will keep the training data the same as the testing data, by specifying *True* for *same_train_and_test_data_bool*. \n",
    "\n",
    "There are additional parameters that we can adjust for our demo, but we wanted to retain simplicity.\n",
    "    "
   ]
  },
  {
   "cell_type": "code",
   "execution_count": 6,
   "id": "9dded124",
   "metadata": {},
   "outputs": [
    {
     "name": "stdout",
     "output_type": "stream",
     "text": [
      ":) Please note that since we use the same data for training and for testing :) of our 100 samples. Thus, we have:\n",
      ":) X_train = X_test = 100 rows (samples) and 5 columns (N = 5 predictors) for training and for testing\n",
      ":) y_train = y_test = 100 corresponding rows (samples) for training and for testing.\n"
     ]
    },
    {
     "name": "stderr",
     "output_type": "stream",
     "text": [
      "100%|██████████████████████████████████████████████████████████████████████████████████| 5/5 [00:00<00:00, 5005.14it/s]\n",
      "100%|██████████████████████████████████████████████████████████████████████████████████| 5/5 [00:00<00:00, 5000.36it/s]\n",
      "100%|██████████████████████████████████████████████████████████████████████████████████| 5/5 [00:00<00:00, 2500.48it/s]\n"
     ]
    },
    {
     "data": {
      "application/vnd.plotly.v1+json": {
       "config": {
        "plotlyServerURL": "https://plot.ly"
       },
       "data": [
        {
         "alignmentgroup": "True",
         "hovertemplate": "TF=%{x}<br>correlation=%{y}<extra></extra>",
         "legendgroup": "",
         "marker": {
          "color": "#636efa",
          "pattern": {
           "shape": ""
          }
         },
         "name": "",
         "offsetgroup": "",
         "orientation": "v",
         "showlegend": false,
         "textposition": "auto",
         "type": "bar",
         "x": [
          "TF0",
          "TF1",
          "TF2",
          "TF3",
          "TF4"
         ],
         "xaxis": "x",
         "y": [
          0.9,
          0.5,
          0.1,
          -0.2,
          -0.8
         ],
         "yaxis": "y"
        }
       ],
       "layout": {
        "barmode": "group",
        "legend": {
         "tracegroupgap": 0
        },
        "margin": {
         "t": 60
        },
        "template": {
         "data": {
          "bar": [
           {
            "error_x": {
             "color": "#2a3f5f"
            },
            "error_y": {
             "color": "#2a3f5f"
            },
            "marker": {
             "line": {
              "color": "#E5ECF6",
              "width": 0.5
             },
             "pattern": {
              "fillmode": "overlay",
              "size": 10,
              "solidity": 0.2
             }
            },
            "type": "bar"
           }
          ],
          "barpolar": [
           {
            "marker": {
             "line": {
              "color": "#E5ECF6",
              "width": 0.5
             },
             "pattern": {
              "fillmode": "overlay",
              "size": 10,
              "solidity": 0.2
             }
            },
            "type": "barpolar"
           }
          ],
          "carpet": [
           {
            "aaxis": {
             "endlinecolor": "#2a3f5f",
             "gridcolor": "white",
             "linecolor": "white",
             "minorgridcolor": "white",
             "startlinecolor": "#2a3f5f"
            },
            "baxis": {
             "endlinecolor": "#2a3f5f",
             "gridcolor": "white",
             "linecolor": "white",
             "minorgridcolor": "white",
             "startlinecolor": "#2a3f5f"
            },
            "type": "carpet"
           }
          ],
          "choropleth": [
           {
            "colorbar": {
             "outlinewidth": 0,
             "ticks": ""
            },
            "type": "choropleth"
           }
          ],
          "contour": [
           {
            "colorbar": {
             "outlinewidth": 0,
             "ticks": ""
            },
            "colorscale": [
             [
              0,
              "#0d0887"
             ],
             [
              0.1111111111111111,
              "#46039f"
             ],
             [
              0.2222222222222222,
              "#7201a8"
             ],
             [
              0.3333333333333333,
              "#9c179e"
             ],
             [
              0.4444444444444444,
              "#bd3786"
             ],
             [
              0.5555555555555556,
              "#d8576b"
             ],
             [
              0.6666666666666666,
              "#ed7953"
             ],
             [
              0.7777777777777778,
              "#fb9f3a"
             ],
             [
              0.8888888888888888,
              "#fdca26"
             ],
             [
              1,
              "#f0f921"
             ]
            ],
            "type": "contour"
           }
          ],
          "contourcarpet": [
           {
            "colorbar": {
             "outlinewidth": 0,
             "ticks": ""
            },
            "type": "contourcarpet"
           }
          ],
          "heatmap": [
           {
            "colorbar": {
             "outlinewidth": 0,
             "ticks": ""
            },
            "colorscale": [
             [
              0,
              "#0d0887"
             ],
             [
              0.1111111111111111,
              "#46039f"
             ],
             [
              0.2222222222222222,
              "#7201a8"
             ],
             [
              0.3333333333333333,
              "#9c179e"
             ],
             [
              0.4444444444444444,
              "#bd3786"
             ],
             [
              0.5555555555555556,
              "#d8576b"
             ],
             [
              0.6666666666666666,
              "#ed7953"
             ],
             [
              0.7777777777777778,
              "#fb9f3a"
             ],
             [
              0.8888888888888888,
              "#fdca26"
             ],
             [
              1,
              "#f0f921"
             ]
            ],
            "type": "heatmap"
           }
          ],
          "heatmapgl": [
           {
            "colorbar": {
             "outlinewidth": 0,
             "ticks": ""
            },
            "colorscale": [
             [
              0,
              "#0d0887"
             ],
             [
              0.1111111111111111,
              "#46039f"
             ],
             [
              0.2222222222222222,
              "#7201a8"
             ],
             [
              0.3333333333333333,
              "#9c179e"
             ],
             [
              0.4444444444444444,
              "#bd3786"
             ],
             [
              0.5555555555555556,
              "#d8576b"
             ],
             [
              0.6666666666666666,
              "#ed7953"
             ],
             [
              0.7777777777777778,
              "#fb9f3a"
             ],
             [
              0.8888888888888888,
              "#fdca26"
             ],
             [
              1,
              "#f0f921"
             ]
            ],
            "type": "heatmapgl"
           }
          ],
          "histogram": [
           {
            "marker": {
             "pattern": {
              "fillmode": "overlay",
              "size": 10,
              "solidity": 0.2
             }
            },
            "type": "histogram"
           }
          ],
          "histogram2d": [
           {
            "colorbar": {
             "outlinewidth": 0,
             "ticks": ""
            },
            "colorscale": [
             [
              0,
              "#0d0887"
             ],
             [
              0.1111111111111111,
              "#46039f"
             ],
             [
              0.2222222222222222,
              "#7201a8"
             ],
             [
              0.3333333333333333,
              "#9c179e"
             ],
             [
              0.4444444444444444,
              "#bd3786"
             ],
             [
              0.5555555555555556,
              "#d8576b"
             ],
             [
              0.6666666666666666,
              "#ed7953"
             ],
             [
              0.7777777777777778,
              "#fb9f3a"
             ],
             [
              0.8888888888888888,
              "#fdca26"
             ],
             [
              1,
              "#f0f921"
             ]
            ],
            "type": "histogram2d"
           }
          ],
          "histogram2dcontour": [
           {
            "colorbar": {
             "outlinewidth": 0,
             "ticks": ""
            },
            "colorscale": [
             [
              0,
              "#0d0887"
             ],
             [
              0.1111111111111111,
              "#46039f"
             ],
             [
              0.2222222222222222,
              "#7201a8"
             ],
             [
              0.3333333333333333,
              "#9c179e"
             ],
             [
              0.4444444444444444,
              "#bd3786"
             ],
             [
              0.5555555555555556,
              "#d8576b"
             ],
             [
              0.6666666666666666,
              "#ed7953"
             ],
             [
              0.7777777777777778,
              "#fb9f3a"
             ],
             [
              0.8888888888888888,
              "#fdca26"
             ],
             [
              1,
              "#f0f921"
             ]
            ],
            "type": "histogram2dcontour"
           }
          ],
          "mesh3d": [
           {
            "colorbar": {
             "outlinewidth": 0,
             "ticks": ""
            },
            "type": "mesh3d"
           }
          ],
          "parcoords": [
           {
            "line": {
             "colorbar": {
              "outlinewidth": 0,
              "ticks": ""
             }
            },
            "type": "parcoords"
           }
          ],
          "pie": [
           {
            "automargin": true,
            "type": "pie"
           }
          ],
          "scatter": [
           {
            "fillpattern": {
             "fillmode": "overlay",
             "size": 10,
             "solidity": 0.2
            },
            "type": "scatter"
           }
          ],
          "scatter3d": [
           {
            "line": {
             "colorbar": {
              "outlinewidth": 0,
              "ticks": ""
             }
            },
            "marker": {
             "colorbar": {
              "outlinewidth": 0,
              "ticks": ""
             }
            },
            "type": "scatter3d"
           }
          ],
          "scattercarpet": [
           {
            "marker": {
             "colorbar": {
              "outlinewidth": 0,
              "ticks": ""
             }
            },
            "type": "scattercarpet"
           }
          ],
          "scattergeo": [
           {
            "marker": {
             "colorbar": {
              "outlinewidth": 0,
              "ticks": ""
             }
            },
            "type": "scattergeo"
           }
          ],
          "scattergl": [
           {
            "marker": {
             "colorbar": {
              "outlinewidth": 0,
              "ticks": ""
             }
            },
            "type": "scattergl"
           }
          ],
          "scattermapbox": [
           {
            "marker": {
             "colorbar": {
              "outlinewidth": 0,
              "ticks": ""
             }
            },
            "type": "scattermapbox"
           }
          ],
          "scatterpolar": [
           {
            "marker": {
             "colorbar": {
              "outlinewidth": 0,
              "ticks": ""
             }
            },
            "type": "scatterpolar"
           }
          ],
          "scatterpolargl": [
           {
            "marker": {
             "colorbar": {
              "outlinewidth": 0,
              "ticks": ""
             }
            },
            "type": "scatterpolargl"
           }
          ],
          "scatterternary": [
           {
            "marker": {
             "colorbar": {
              "outlinewidth": 0,
              "ticks": ""
             }
            },
            "type": "scatterternary"
           }
          ],
          "surface": [
           {
            "colorbar": {
             "outlinewidth": 0,
             "ticks": ""
            },
            "colorscale": [
             [
              0,
              "#0d0887"
             ],
             [
              0.1111111111111111,
              "#46039f"
             ],
             [
              0.2222222222222222,
              "#7201a8"
             ],
             [
              0.3333333333333333,
              "#9c179e"
             ],
             [
              0.4444444444444444,
              "#bd3786"
             ],
             [
              0.5555555555555556,
              "#d8576b"
             ],
             [
              0.6666666666666666,
              "#ed7953"
             ],
             [
              0.7777777777777778,
              "#fb9f3a"
             ],
             [
              0.8888888888888888,
              "#fdca26"
             ],
             [
              1,
              "#f0f921"
             ]
            ],
            "type": "surface"
           }
          ],
          "table": [
           {
            "cells": {
             "fill": {
              "color": "#EBF0F8"
             },
             "line": {
              "color": "white"
             }
            },
            "header": {
             "fill": {
              "color": "#C8D4E3"
             },
             "line": {
              "color": "white"
             }
            },
            "type": "table"
           }
          ]
         },
         "layout": {
          "annotationdefaults": {
           "arrowcolor": "#2a3f5f",
           "arrowhead": 0,
           "arrowwidth": 1
          },
          "autotypenumbers": "strict",
          "coloraxis": {
           "colorbar": {
            "outlinewidth": 0,
            "ticks": ""
           }
          },
          "colorscale": {
           "diverging": [
            [
             0,
             "#8e0152"
            ],
            [
             0.1,
             "#c51b7d"
            ],
            [
             0.2,
             "#de77ae"
            ],
            [
             0.3,
             "#f1b6da"
            ],
            [
             0.4,
             "#fde0ef"
            ],
            [
             0.5,
             "#f7f7f7"
            ],
            [
             0.6,
             "#e6f5d0"
            ],
            [
             0.7,
             "#b8e186"
            ],
            [
             0.8,
             "#7fbc41"
            ],
            [
             0.9,
             "#4d9221"
            ],
            [
             1,
             "#276419"
            ]
           ],
           "sequential": [
            [
             0,
             "#0d0887"
            ],
            [
             0.1111111111111111,
             "#46039f"
            ],
            [
             0.2222222222222222,
             "#7201a8"
            ],
            [
             0.3333333333333333,
             "#9c179e"
            ],
            [
             0.4444444444444444,
             "#bd3786"
            ],
            [
             0.5555555555555556,
             "#d8576b"
            ],
            [
             0.6666666666666666,
             "#ed7953"
            ],
            [
             0.7777777777777778,
             "#fb9f3a"
            ],
            [
             0.8888888888888888,
             "#fdca26"
            ],
            [
             1,
             "#f0f921"
            ]
           ],
           "sequentialminus": [
            [
             0,
             "#0d0887"
            ],
            [
             0.1111111111111111,
             "#46039f"
            ],
            [
             0.2222222222222222,
             "#7201a8"
            ],
            [
             0.3333333333333333,
             "#9c179e"
            ],
            [
             0.4444444444444444,
             "#bd3786"
            ],
            [
             0.5555555555555556,
             "#d8576b"
            ],
            [
             0.6666666666666666,
             "#ed7953"
            ],
            [
             0.7777777777777778,
             "#fb9f3a"
            ],
            [
             0.8888888888888888,
             "#fdca26"
            ],
            [
             1,
             "#f0f921"
            ]
           ]
          },
          "colorway": [
           "#636efa",
           "#EF553B",
           "#00cc96",
           "#ab63fa",
           "#FFA15A",
           "#19d3f3",
           "#FF6692",
           "#B6E880",
           "#FF97FF",
           "#FECB52"
          ],
          "font": {
           "color": "#2a3f5f"
          },
          "geo": {
           "bgcolor": "white",
           "lakecolor": "white",
           "landcolor": "#E5ECF6",
           "showlakes": true,
           "showland": true,
           "subunitcolor": "white"
          },
          "hoverlabel": {
           "align": "left"
          },
          "hovermode": "closest",
          "mapbox": {
           "style": "light"
          },
          "paper_bgcolor": "white",
          "plot_bgcolor": "#E5ECF6",
          "polar": {
           "angularaxis": {
            "gridcolor": "white",
            "linecolor": "white",
            "ticks": ""
           },
           "bgcolor": "#E5ECF6",
           "radialaxis": {
            "gridcolor": "white",
            "linecolor": "white",
            "ticks": ""
           }
          },
          "scene": {
           "xaxis": {
            "backgroundcolor": "#E5ECF6",
            "gridcolor": "white",
            "gridwidth": 2,
            "linecolor": "white",
            "showbackground": true,
            "ticks": "",
            "zerolinecolor": "white"
           },
           "yaxis": {
            "backgroundcolor": "#E5ECF6",
            "gridcolor": "white",
            "gridwidth": 2,
            "linecolor": "white",
            "showbackground": true,
            "ticks": "",
            "zerolinecolor": "white"
           },
           "zaxis": {
            "backgroundcolor": "#E5ECF6",
            "gridcolor": "white",
            "gridwidth": 2,
            "linecolor": "white",
            "showbackground": true,
            "ticks": "",
            "zerolinecolor": "white"
           }
          },
          "shapedefaults": {
           "line": {
            "color": "#2a3f5f"
           }
          },
          "ternary": {
           "aaxis": {
            "gridcolor": "white",
            "linecolor": "white",
            "ticks": ""
           },
           "baxis": {
            "gridcolor": "white",
            "linecolor": "white",
            "ticks": ""
           },
           "bgcolor": "#E5ECF6",
           "caxis": {
            "gridcolor": "white",
            "linecolor": "white",
            "ticks": ""
           }
          },
          "title": {
           "x": 0.05
          },
          "xaxis": {
           "automargin": true,
           "gridcolor": "white",
           "linecolor": "white",
           "ticks": "",
           "title": {
            "standoff": 15
           },
           "zerolinecolor": "white",
           "zerolinewidth": 2
          },
          "yaxis": {
           "automargin": true,
           "gridcolor": "white",
           "linecolor": "white",
           "ticks": "",
           "title": {
            "standoff": 15
           },
           "zerolinecolor": "white",
           "zerolinewidth": 2
          }
         }
        },
        "xaxis": {
         "anchor": "y",
         "domain": [
          0,
          1
         ],
         "title": {
          "text": "TF"
         }
        },
        "yaxis": {
         "anchor": "x",
         "domain": [
          0,
          1
         ],
         "title": {
          "text": "correlation"
         }
        }
       }
      },
      "text/html": [
       "<div>                            <div id=\"ab20bd24-7ff1-4606-9763-70d8238feadf\" class=\"plotly-graph-div\" style=\"height:525px; width:100%;\"></div>            <script type=\"text/javascript\">                require([\"plotly\"], function(Plotly) {                    window.PLOTLYENV=window.PLOTLYENV || {};                                    if (document.getElementById(\"ab20bd24-7ff1-4606-9763-70d8238feadf\")) {                    Plotly.newPlot(                        \"ab20bd24-7ff1-4606-9763-70d8238feadf\",                        [{\"alignmentgroup\":\"True\",\"hovertemplate\":\"TF=%{x}<br>correlation=%{y}<extra></extra>\",\"legendgroup\":\"\",\"marker\":{\"color\":\"#636efa\",\"pattern\":{\"shape\":\"\"}},\"name\":\"\",\"offsetgroup\":\"\",\"orientation\":\"v\",\"showlegend\":false,\"textposition\":\"auto\",\"x\":[\"TF0\",\"TF1\",\"TF2\",\"TF3\",\"TF4\"],\"xaxis\":\"x\",\"y\":[0.9,0.5,0.1,-0.2,-0.8],\"yaxis\":\"y\",\"type\":\"bar\"}],                        {\"template\":{\"data\":{\"histogram2dcontour\":[{\"type\":\"histogram2dcontour\",\"colorbar\":{\"outlinewidth\":0,\"ticks\":\"\"},\"colorscale\":[[0.0,\"#0d0887\"],[0.1111111111111111,\"#46039f\"],[0.2222222222222222,\"#7201a8\"],[0.3333333333333333,\"#9c179e\"],[0.4444444444444444,\"#bd3786\"],[0.5555555555555556,\"#d8576b\"],[0.6666666666666666,\"#ed7953\"],[0.7777777777777778,\"#fb9f3a\"],[0.8888888888888888,\"#fdca26\"],[1.0,\"#f0f921\"]]}],\"choropleth\":[{\"type\":\"choropleth\",\"colorbar\":{\"outlinewidth\":0,\"ticks\":\"\"}}],\"histogram2d\":[{\"type\":\"histogram2d\",\"colorbar\":{\"outlinewidth\":0,\"ticks\":\"\"},\"colorscale\":[[0.0,\"#0d0887\"],[0.1111111111111111,\"#46039f\"],[0.2222222222222222,\"#7201a8\"],[0.3333333333333333,\"#9c179e\"],[0.4444444444444444,\"#bd3786\"],[0.5555555555555556,\"#d8576b\"],[0.6666666666666666,\"#ed7953\"],[0.7777777777777778,\"#fb9f3a\"],[0.8888888888888888,\"#fdca26\"],[1.0,\"#f0f921\"]]}],\"heatmap\":[{\"type\":\"heatmap\",\"colorbar\":{\"outlinewidth\":0,\"ticks\":\"\"},\"colorscale\":[[0.0,\"#0d0887\"],[0.1111111111111111,\"#46039f\"],[0.2222222222222222,\"#7201a8\"],[0.3333333333333333,\"#9c179e\"],[0.4444444444444444,\"#bd3786\"],[0.5555555555555556,\"#d8576b\"],[0.6666666666666666,\"#ed7953\"],[0.7777777777777778,\"#fb9f3a\"],[0.8888888888888888,\"#fdca26\"],[1.0,\"#f0f921\"]]}],\"heatmapgl\":[{\"type\":\"heatmapgl\",\"colorbar\":{\"outlinewidth\":0,\"ticks\":\"\"},\"colorscale\":[[0.0,\"#0d0887\"],[0.1111111111111111,\"#46039f\"],[0.2222222222222222,\"#7201a8\"],[0.3333333333333333,\"#9c179e\"],[0.4444444444444444,\"#bd3786\"],[0.5555555555555556,\"#d8576b\"],[0.6666666666666666,\"#ed7953\"],[0.7777777777777778,\"#fb9f3a\"],[0.8888888888888888,\"#fdca26\"],[1.0,\"#f0f921\"]]}],\"contourcarpet\":[{\"type\":\"contourcarpet\",\"colorbar\":{\"outlinewidth\":0,\"ticks\":\"\"}}],\"contour\":[{\"type\":\"contour\",\"colorbar\":{\"outlinewidth\":0,\"ticks\":\"\"},\"colorscale\":[[0.0,\"#0d0887\"],[0.1111111111111111,\"#46039f\"],[0.2222222222222222,\"#7201a8\"],[0.3333333333333333,\"#9c179e\"],[0.4444444444444444,\"#bd3786\"],[0.5555555555555556,\"#d8576b\"],[0.6666666666666666,\"#ed7953\"],[0.7777777777777778,\"#fb9f3a\"],[0.8888888888888888,\"#fdca26\"],[1.0,\"#f0f921\"]]}],\"surface\":[{\"type\":\"surface\",\"colorbar\":{\"outlinewidth\":0,\"ticks\":\"\"},\"colorscale\":[[0.0,\"#0d0887\"],[0.1111111111111111,\"#46039f\"],[0.2222222222222222,\"#7201a8\"],[0.3333333333333333,\"#9c179e\"],[0.4444444444444444,\"#bd3786\"],[0.5555555555555556,\"#d8576b\"],[0.6666666666666666,\"#ed7953\"],[0.7777777777777778,\"#fb9f3a\"],[0.8888888888888888,\"#fdca26\"],[1.0,\"#f0f921\"]]}],\"mesh3d\":[{\"type\":\"mesh3d\",\"colorbar\":{\"outlinewidth\":0,\"ticks\":\"\"}}],\"scatter\":[{\"fillpattern\":{\"fillmode\":\"overlay\",\"size\":10,\"solidity\":0.2},\"type\":\"scatter\"}],\"parcoords\":[{\"type\":\"parcoords\",\"line\":{\"colorbar\":{\"outlinewidth\":0,\"ticks\":\"\"}}}],\"scatterpolargl\":[{\"type\":\"scatterpolargl\",\"marker\":{\"colorbar\":{\"outlinewidth\":0,\"ticks\":\"\"}}}],\"bar\":[{\"error_x\":{\"color\":\"#2a3f5f\"},\"error_y\":{\"color\":\"#2a3f5f\"},\"marker\":{\"line\":{\"color\":\"#E5ECF6\",\"width\":0.5},\"pattern\":{\"fillmode\":\"overlay\",\"size\":10,\"solidity\":0.2}},\"type\":\"bar\"}],\"scattergeo\":[{\"type\":\"scattergeo\",\"marker\":{\"colorbar\":{\"outlinewidth\":0,\"ticks\":\"\"}}}],\"scatterpolar\":[{\"type\":\"scatterpolar\",\"marker\":{\"colorbar\":{\"outlinewidth\":0,\"ticks\":\"\"}}}],\"histogram\":[{\"marker\":{\"pattern\":{\"fillmode\":\"overlay\",\"size\":10,\"solidity\":0.2}},\"type\":\"histogram\"}],\"scattergl\":[{\"type\":\"scattergl\",\"marker\":{\"colorbar\":{\"outlinewidth\":0,\"ticks\":\"\"}}}],\"scatter3d\":[{\"type\":\"scatter3d\",\"line\":{\"colorbar\":{\"outlinewidth\":0,\"ticks\":\"\"}},\"marker\":{\"colorbar\":{\"outlinewidth\":0,\"ticks\":\"\"}}}],\"scattermapbox\":[{\"type\":\"scattermapbox\",\"marker\":{\"colorbar\":{\"outlinewidth\":0,\"ticks\":\"\"}}}],\"scatterternary\":[{\"type\":\"scatterternary\",\"marker\":{\"colorbar\":{\"outlinewidth\":0,\"ticks\":\"\"}}}],\"scattercarpet\":[{\"type\":\"scattercarpet\",\"marker\":{\"colorbar\":{\"outlinewidth\":0,\"ticks\":\"\"}}}],\"carpet\":[{\"aaxis\":{\"endlinecolor\":\"#2a3f5f\",\"gridcolor\":\"white\",\"linecolor\":\"white\",\"minorgridcolor\":\"white\",\"startlinecolor\":\"#2a3f5f\"},\"baxis\":{\"endlinecolor\":\"#2a3f5f\",\"gridcolor\":\"white\",\"linecolor\":\"white\",\"minorgridcolor\":\"white\",\"startlinecolor\":\"#2a3f5f\"},\"type\":\"carpet\"}],\"table\":[{\"cells\":{\"fill\":{\"color\":\"#EBF0F8\"},\"line\":{\"color\":\"white\"}},\"header\":{\"fill\":{\"color\":\"#C8D4E3\"},\"line\":{\"color\":\"white\"}},\"type\":\"table\"}],\"barpolar\":[{\"marker\":{\"line\":{\"color\":\"#E5ECF6\",\"width\":0.5},\"pattern\":{\"fillmode\":\"overlay\",\"size\":10,\"solidity\":0.2}},\"type\":\"barpolar\"}],\"pie\":[{\"automargin\":true,\"type\":\"pie\"}]},\"layout\":{\"autotypenumbers\":\"strict\",\"colorway\":[\"#636efa\",\"#EF553B\",\"#00cc96\",\"#ab63fa\",\"#FFA15A\",\"#19d3f3\",\"#FF6692\",\"#B6E880\",\"#FF97FF\",\"#FECB52\"],\"font\":{\"color\":\"#2a3f5f\"},\"hovermode\":\"closest\",\"hoverlabel\":{\"align\":\"left\"},\"paper_bgcolor\":\"white\",\"plot_bgcolor\":\"#E5ECF6\",\"polar\":{\"bgcolor\":\"#E5ECF6\",\"angularaxis\":{\"gridcolor\":\"white\",\"linecolor\":\"white\",\"ticks\":\"\"},\"radialaxis\":{\"gridcolor\":\"white\",\"linecolor\":\"white\",\"ticks\":\"\"}},\"ternary\":{\"bgcolor\":\"#E5ECF6\",\"aaxis\":{\"gridcolor\":\"white\",\"linecolor\":\"white\",\"ticks\":\"\"},\"baxis\":{\"gridcolor\":\"white\",\"linecolor\":\"white\",\"ticks\":\"\"},\"caxis\":{\"gridcolor\":\"white\",\"linecolor\":\"white\",\"ticks\":\"\"}},\"coloraxis\":{\"colorbar\":{\"outlinewidth\":0,\"ticks\":\"\"}},\"colorscale\":{\"sequential\":[[0.0,\"#0d0887\"],[0.1111111111111111,\"#46039f\"],[0.2222222222222222,\"#7201a8\"],[0.3333333333333333,\"#9c179e\"],[0.4444444444444444,\"#bd3786\"],[0.5555555555555556,\"#d8576b\"],[0.6666666666666666,\"#ed7953\"],[0.7777777777777778,\"#fb9f3a\"],[0.8888888888888888,\"#fdca26\"],[1.0,\"#f0f921\"]],\"sequentialminus\":[[0.0,\"#0d0887\"],[0.1111111111111111,\"#46039f\"],[0.2222222222222222,\"#7201a8\"],[0.3333333333333333,\"#9c179e\"],[0.4444444444444444,\"#bd3786\"],[0.5555555555555556,\"#d8576b\"],[0.6666666666666666,\"#ed7953\"],[0.7777777777777778,\"#fb9f3a\"],[0.8888888888888888,\"#fdca26\"],[1.0,\"#f0f921\"]],\"diverging\":[[0,\"#8e0152\"],[0.1,\"#c51b7d\"],[0.2,\"#de77ae\"],[0.3,\"#f1b6da\"],[0.4,\"#fde0ef\"],[0.5,\"#f7f7f7\"],[0.6,\"#e6f5d0\"],[0.7,\"#b8e186\"],[0.8,\"#7fbc41\"],[0.9,\"#4d9221\"],[1,\"#276419\"]]},\"xaxis\":{\"gridcolor\":\"white\",\"linecolor\":\"white\",\"ticks\":\"\",\"title\":{\"standoff\":15},\"zerolinecolor\":\"white\",\"automargin\":true,\"zerolinewidth\":2},\"yaxis\":{\"gridcolor\":\"white\",\"linecolor\":\"white\",\"ticks\":\"\",\"title\":{\"standoff\":15},\"zerolinecolor\":\"white\",\"automargin\":true,\"zerolinewidth\":2},\"scene\":{\"xaxis\":{\"backgroundcolor\":\"#E5ECF6\",\"gridcolor\":\"white\",\"linecolor\":\"white\",\"showbackground\":true,\"ticks\":\"\",\"zerolinecolor\":\"white\",\"gridwidth\":2},\"yaxis\":{\"backgroundcolor\":\"#E5ECF6\",\"gridcolor\":\"white\",\"linecolor\":\"white\",\"showbackground\":true,\"ticks\":\"\",\"zerolinecolor\":\"white\",\"gridwidth\":2},\"zaxis\":{\"backgroundcolor\":\"#E5ECF6\",\"gridcolor\":\"white\",\"linecolor\":\"white\",\"showbackground\":true,\"ticks\":\"\",\"zerolinecolor\":\"white\",\"gridwidth\":2}},\"shapedefaults\":{\"line\":{\"color\":\"#2a3f5f\"}},\"annotationdefaults\":{\"arrowcolor\":\"#2a3f5f\",\"arrowhead\":0,\"arrowwidth\":1},\"geo\":{\"bgcolor\":\"white\",\"landcolor\":\"#E5ECF6\",\"subunitcolor\":\"white\",\"showland\":true,\"showlakes\":true,\"lakecolor\":\"white\"},\"title\":{\"x\":0.05},\"mapbox\":{\"style\":\"light\"}}},\"xaxis\":{\"anchor\":\"y\",\"domain\":[0.0,1.0],\"title\":{\"text\":\"TF\"}},\"yaxis\":{\"anchor\":\"x\",\"domain\":[0.0,1.0],\"title\":{\"text\":\"correlation\"}},\"legend\":{\"tracegroupgap\":0},\"margin\":{\"t\":60},\"barmode\":\"group\"},                        {\"responsive\": true}                    ).then(function(){\n",
       "                            \n",
       "var gd = document.getElementById('ab20bd24-7ff1-4606-9763-70d8238feadf');\n",
       "var x = new MutationObserver(function (mutations, observer) {{\n",
       "        var display = window.getComputedStyle(gd).display;\n",
       "        if (!display || display === 'none') {{\n",
       "            console.log([gd, 'removed!']);\n",
       "            Plotly.purge(gd);\n",
       "            observer.disconnect();\n",
       "        }}\n",
       "}});\n",
       "\n",
       "// Listen for the removal of the full notebook cells\n",
       "var notebookContainer = gd.closest('#notebook-container');\n",
       "if (notebookContainer) {{\n",
       "    x.observe(notebookContainer, {childList: true});\n",
       "}}\n",
       "\n",
       "// Listen for the clearing of the current output cell\n",
       "var outputEl = gd.closest('.output');\n",
       "if (outputEl) {{\n",
       "    x.observe(outputEl, {childList: true});\n",
       "}}\n",
       "\n",
       "                        })                };                });            </script>        </div>"
      ]
     },
     "metadata": {},
     "output_type": "display_data"
    }
   ],
   "source": [
    "demo_dict = {\"M\": 100,\n",
    "            \"corrVals\": [0.9, 0.5, 0.1, -0.2, -0.8],\n",
    "            \"same_train_and_test_data_bool\": True}\n",
    "dummy_data = DemoDataBuilderXandY(**demo_dict)\n",
    "\n",
    "X_train = dummy_data.X_train\n",
    "y_train = dummy_data.y_train\n",
    "X_test = dummy_data.X_test\n",
    "y_test = dummy_data.y_test "
   ]
  },
  {
   "cell_type": "markdown",
   "id": "8747a323",
   "metadata": {},
   "source": [
    "    \n",
    " ### 2. *PriorGraphNetwork*:\n",
    "\n",
    ":) Please note that this class focuses on incorporating information from a prior network (in our case, \n",
    "    a biological network of some sort). The input would be an edge list with: source, target, weight. If no\n",
    "    weights are given then a weight specified by the default_weight parameter will be automatically assumed. \n",
    "   Currently, we assume that the input prior graph is undirected and thereby symmetric. \n",
    "\n",
    "This class will use the prior network (specified by the edge list) to build our W matrix and derive a degree matrix D. \n",
    "The V matrix is also built. Ultimately, these 3 matrices (W, D, and V) are used to derive our A matrix, which will be used for our network regularization penalty for our regression model. Later, this A matrix will be multiplied by a factor, beta_network, which will impact the strength of the network regularization in determining our regression model. \n",
    "\n",
    "In our example, we will specify an edge_list where we can just specify 1 edge (source, target), and the opposite edge (target, source) will also be included (as we assume the network is undirected):"
   ]
  },
  {
   "cell_type": "markdown",
   "id": "510dac48",
   "metadata": {},
   "source": [
    "| Source | Target |  Weight |\n",
    "| --------- | ---------- | ---------- |\n",
    "|source$_{1}$    | target$_{1}$ | weight$_{1}$ |\n",
    "|source$_{2}$    | target$_{2}$ | weight$_{2}$ |\n",
    "|...    | ... | ... |\n",
    "|source$_{Z}$    | target$_{Z}$ | weight$_{Z}$ |\n",
    "\n",
    "\n",
    "In our case, we specified:"
   ]
  },
  {
   "cell_type": "code",
   "execution_count": 27,
   "id": "eb6aad27",
   "metadata": {},
   "outputs": [
    {
     "name": "stdout",
     "output_type": "stream",
     "text": [
      "[[0, 1, 10], [3, 4, 0.8], [0, 2], [0, 3], [0, 4], [1, 2], [1, 3], [1, 4], [2, 3], [2, 4]]\n"
     ]
    }
   ],
   "source": [
    "print(edge_list)"
   ]
  },
  {
   "cell_type": "markdown",
   "id": "1837a24e",
   "metadata": {},
   "source": [
    "Then, we derived this symmetric edge list:\n",
    "\n",
    "| Source | Target |  Weight |\n",
    "| --------- | ---------- | ---------- |\n",
    "|0    | 1 | 10 |\n",
    "| 3    | 4 | 0.8 |\n",
    "| 0    | 2 | default (0.1) |\n",
    "| 0    | 3 | default (0.1)|\n",
    "| 0    | 4 | default (0.1) |\n",
    "| 1    | 2 | default (0.1) |\n",
    "| 1    | 3 | default (0.1) |\n",
    "| 1   | 4 | default (0.1) |\n",
    "| 2   | 3 | default (0.1) |\n",
    "| 2   | 4 | default (0.1) |\n",
    "|1    | 0 | 10 |\n",
    "| 4   | 3 | 0.8 |\n",
    "| 2    | 0 | default (0.1) |\n",
    "| 3    | 0 | default (0.1)|\n",
    "| 4    | 0 | default (0.1) |\n",
    "| 2    | 1 | default (0.1) |\n",
    "| 3    | 1 | default (0.1) |\n",
    "| 4   | 1 | default (0.1) |\n",
    "| 3   | 2 | default (0.1) |\n",
    "| 4   | 2 | default (0.1) |"
   ]
  },
  {
   "cell_type": "markdown",
   "id": "ef8ead04",
   "metadata": {},
   "source": [
    "Below is an example of how the *geneRegulatNet* function calls the *PriorGraphNetwork* class based on the prior graph network inputs, such as the edge list."
   ]
  },
  {
   "cell_type": "code",
   "execution_count": 8,
   "id": "217d77db",
   "metadata": {
    "scrolled": true
   },
   "outputs": [
    {
     "name": "stdout",
     "output_type": "stream",
     "text": [
      "undirected_edge_list_to_matrix\n",
      ":) Please note that we count the number of edges with weight > 0.5 to get the degree for a given node.\n",
      ":) We also add 0.001 as a pseudocount to our degree value for each node.\n",
      "\n",
      ":) A is symmetric!\n"
     ]
    },
    {
     "data": {
      "text/plain": [
       "<gregulnetClasses.PriorGraphNetwork at 0x19768807ca0>"
      ]
     },
     "execution_count": 8,
     "metadata": {},
     "output_type": "execute_result"
    },
    {
     "data": {
      "image/png": "[encoded data removed]",
      "text/plain": [
       "<Figure size 640x480 with 1 Axes>"
      ]
     },
     "metadata": {},
     "output_type": "display_data"
    }
   ],
   "source": [
    "prior_graph_dict = {\"edge_list\": edge_list}\n",
    "prior_network = PriorGraphNetwork(**prior_graph_dict)\n",
    "prior_network"
   ]
  },
  {
   "cell_type": "code",
   "execution_count": 9,
   "id": "df6942ba",
   "metadata": {},
   "outputs": [
    {
     "data": {
      "text/html": [
       "<div>\n",
       "<style scoped>\n",
       "    .dataframe tbody tr th:only-of-type {\n",
       "        vertical-align: middle;\n",
       "    }\n",
       "\n",
       "    .dataframe tbody tr th {\n",
       "        vertical-align: top;\n",
       "    }\n",
       "\n",
       "    .dataframe thead th {\n",
       "        text-align: right;\n",
       "    }\n",
       "</style>\n",
       "<table border=\"1\" class=\"dataframe\">\n",
       "  <thead>\n",
       "    <tr style=\"text-align: right;\">\n",
       "      <th></th>\n",
       "      <th>parameter</th>\n",
       "      <th>data type</th>\n",
       "      <th>description</th>\n",
       "      <th>value</th>\n",
       "      <th>class</th>\n",
       "    </tr>\n",
       "  </thead>\n",
       "  <tbody>\n",
       "    <tr>\n",
       "      <th>0</th>\n",
       "      <td>default_edge_weight</td>\n",
       "      <td>&gt;= 0</td>\n",
       "      <td>edge weight for any edge with missing weight info</td>\n",
       "      <td>0.1</td>\n",
       "      <td>PriorGraphNetwork</td>\n",
       "    </tr>\n",
       "    <tr>\n",
       "      <th>1</th>\n",
       "      <td>consider_self_loops</td>\n",
       "      <td>boolean</td>\n",
       "      <td>add 1 to the degree for each node (based on se...</td>\n",
       "      <td>False</td>\n",
       "      <td>PriorGraphNetwork</td>\n",
       "    </tr>\n",
       "    <tr>\n",
       "      <th>2</th>\n",
       "      <td>pseudocount_for_diagonal_matrix</td>\n",
       "      <td>&gt;= 0</td>\n",
       "      <td>to ensure that no nodes have 0 degree value in...</td>\n",
       "      <td>0.001</td>\n",
       "      <td>PriorGraphNetwork</td>\n",
       "    </tr>\n",
       "    <tr>\n",
       "      <th>3</th>\n",
       "      <td>use_edge_weight_values_for_degrees_bool</td>\n",
       "      <td>boolean</td>\n",
       "      <td>if False, we use a threshold instead to derive...</td>\n",
       "      <td>False</td>\n",
       "      <td>PriorGraphNetwork</td>\n",
       "    </tr>\n",
       "    <tr>\n",
       "      <th>4</th>\n",
       "      <td>threshold_for_degree</td>\n",
       "      <td>&gt;= 0</td>\n",
       "      <td>edge weights &gt; 0.5 are counted as 1 for the de...</td>\n",
       "      <td>0.5</td>\n",
       "      <td>PriorGraphNetwork</td>\n",
       "    </tr>\n",
       "  </tbody>\n",
       "</table>\n",
       "</div>"
      ],
      "text/plain": [
       "                                 parameter data type  \\\n",
       "0                      default_edge_weight      >= 0   \n",
       "1                      consider_self_loops   boolean   \n",
       "2          pseudocount_for_diagonal_matrix      >= 0   \n",
       "3  use_edge_weight_values_for_degrees_bool   boolean   \n",
       "4                     threshold_for_degree      >= 0   \n",
       "\n",
       "                                         description  value              class  \n",
       "0  edge weight for any edge with missing weight info    0.1  PriorGraphNetwork  \n",
       "1  add 1 to the degree for each node (based on se...  False  PriorGraphNetwork  \n",
       "2  to ensure that no nodes have 0 degree value in...  0.001  PriorGraphNetwork  \n",
       "3  if False, we use a threshold instead to derive...  False  PriorGraphNetwork  \n",
       "4  edge weights > 0.5 are counted as 1 for the de...    0.5  PriorGraphNetwork  "
      ]
     },
     "execution_count": 9,
     "metadata": {},
     "output_type": "execute_result"
    }
   ],
   "source": [
    "# These are the parameters and the defaults we specified for our prior graph network:\n",
    "prior_network.param_df"
   ]
  },
  {
   "cell_type": "code",
   "execution_count": 10,
   "id": "071fe9d6",
   "metadata": {},
   "outputs": [],
   "source": [
    "tf_names_list = prior_network.tf_names_list\n",
    "\n",
    "# we can extract information on each of the components involved in building our A matrix:\n",
    "V_matrix = prior_network.V # the V matrix\n",
    "W_matrix = prior_network.W # the W matrix\n",
    "D_matrix = prior_network.D # the D matrix\n",
    "A_matrix = prior_network.A # the A matrix"
   ]
  },
  {
   "cell_type": "code",
   "execution_count": 11,
   "id": "5f33f802",
   "metadata": {},
   "outputs": [
    {
     "data": {
      "text/html": [
       "<div>\n",
       "<style scoped>\n",
       "    .dataframe tbody tr th:only-of-type {\n",
       "        vertical-align: middle;\n",
       "    }\n",
       "\n",
       "    .dataframe tbody tr th {\n",
       "        vertical-align: top;\n",
       "    }\n",
       "\n",
       "    .dataframe thead th {\n",
       "        text-align: right;\n",
       "    }\n",
       "</style>\n",
       "<table border=\"1\" class=\"dataframe\">\n",
       "  <thead>\n",
       "    <tr style=\"text-align: right;\">\n",
       "      <th></th>\n",
       "      <th>TF0</th>\n",
       "      <th>TF1</th>\n",
       "      <th>TF2</th>\n",
       "      <th>TF3</th>\n",
       "      <th>TF4</th>\n",
       "    </tr>\n",
       "  </thead>\n",
       "  <tbody>\n",
       "    <tr>\n",
       "      <th>TF0</th>\n",
       "      <td>4.0</td>\n",
       "      <td>-1.0</td>\n",
       "      <td>-1.0</td>\n",
       "      <td>-1.0</td>\n",
       "      <td>-1.0</td>\n",
       "    </tr>\n",
       "    <tr>\n",
       "      <th>TF1</th>\n",
       "      <td>-1.0</td>\n",
       "      <td>4.0</td>\n",
       "      <td>-1.0</td>\n",
       "      <td>-1.0</td>\n",
       "      <td>-1.0</td>\n",
       "    </tr>\n",
       "    <tr>\n",
       "      <th>TF2</th>\n",
       "      <td>-1.0</td>\n",
       "      <td>-1.0</td>\n",
       "      <td>4.0</td>\n",
       "      <td>-1.0</td>\n",
       "      <td>-1.0</td>\n",
       "    </tr>\n",
       "    <tr>\n",
       "      <th>TF3</th>\n",
       "      <td>-1.0</td>\n",
       "      <td>-1.0</td>\n",
       "      <td>-1.0</td>\n",
       "      <td>4.0</td>\n",
       "      <td>-1.0</td>\n",
       "    </tr>\n",
       "    <tr>\n",
       "      <th>TF4</th>\n",
       "      <td>-1.0</td>\n",
       "      <td>-1.0</td>\n",
       "      <td>-1.0</td>\n",
       "      <td>-1.0</td>\n",
       "      <td>4.0</td>\n",
       "    </tr>\n",
       "  </tbody>\n",
       "</table>\n",
       "</div>"
      ],
      "text/plain": [
       "     TF0  TF1  TF2  TF3  TF4\n",
       "TF0  4.0 -1.0 -1.0 -1.0 -1.0\n",
       "TF1 -1.0  4.0 -1.0 -1.0 -1.0\n",
       "TF2 -1.0 -1.0  4.0 -1.0 -1.0\n",
       "TF3 -1.0 -1.0 -1.0  4.0 -1.0\n",
       "TF4 -1.0 -1.0 -1.0 -1.0  4.0"
      ]
     },
     "execution_count": 11,
     "metadata": {},
     "output_type": "execute_result"
    }
   ],
   "source": [
    "# The V matrix:\n",
    "V_df = pd.DataFrame(V_matrix, columns = tf_names_list, index = tf_names_list)\n",
    "V_df"
   ]
  },
  {
   "cell_type": "markdown",
   "id": "7766df4e",
   "metadata": {},
   "source": [
    "The edge list is used to define the Weight Matrix $W$ and the Degree Matrix (for each node) $D$"
   ]
  },
  {
   "cell_type": "code",
   "execution_count": 12,
   "id": "a208267e",
   "metadata": {},
   "outputs": [
    {
     "data": {
      "text/html": [
       "<div>\n",
       "<style scoped>\n",
       "    .dataframe tbody tr th:only-of-type {\n",
       "        vertical-align: middle;\n",
       "    }\n",
       "\n",
       "    .dataframe tbody tr th {\n",
       "        vertical-align: top;\n",
       "    }\n",
       "\n",
       "    .dataframe thead th {\n",
       "        text-align: right;\n",
       "    }\n",
       "</style>\n",
       "<table border=\"1\" class=\"dataframe\">\n",
       "  <thead>\n",
       "    <tr style=\"text-align: right;\">\n",
       "      <th></th>\n",
       "      <th>TF0</th>\n",
       "      <th>TF1</th>\n",
       "      <th>TF2</th>\n",
       "      <th>TF3</th>\n",
       "      <th>TF4</th>\n",
       "    </tr>\n",
       "  </thead>\n",
       "  <tbody>\n",
       "    <tr>\n",
       "      <th>TF0</th>\n",
       "      <td>2.575</td>\n",
       "      <td>10.000</td>\n",
       "      <td>0.1</td>\n",
       "      <td>0.100</td>\n",
       "      <td>0.100</td>\n",
       "    </tr>\n",
       "    <tr>\n",
       "      <th>TF1</th>\n",
       "      <td>10.000</td>\n",
       "      <td>2.575</td>\n",
       "      <td>0.1</td>\n",
       "      <td>0.100</td>\n",
       "      <td>0.100</td>\n",
       "    </tr>\n",
       "    <tr>\n",
       "      <th>TF2</th>\n",
       "      <td>0.100</td>\n",
       "      <td>0.100</td>\n",
       "      <td>0.1</td>\n",
       "      <td>0.100</td>\n",
       "      <td>0.100</td>\n",
       "    </tr>\n",
       "    <tr>\n",
       "      <th>TF3</th>\n",
       "      <td>0.100</td>\n",
       "      <td>0.100</td>\n",
       "      <td>0.1</td>\n",
       "      <td>0.275</td>\n",
       "      <td>0.800</td>\n",
       "    </tr>\n",
       "    <tr>\n",
       "      <th>TF4</th>\n",
       "      <td>0.100</td>\n",
       "      <td>0.100</td>\n",
       "      <td>0.1</td>\n",
       "      <td>0.800</td>\n",
       "      <td>0.275</td>\n",
       "    </tr>\n",
       "  </tbody>\n",
       "</table>\n",
       "</div>"
      ],
      "text/plain": [
       "        TF0     TF1  TF2    TF3    TF4\n",
       "TF0   2.575  10.000  0.1  0.100  0.100\n",
       "TF1  10.000   2.575  0.1  0.100  0.100\n",
       "TF2   0.100   0.100  0.1  0.100  0.100\n",
       "TF3   0.100   0.100  0.1  0.275  0.800\n",
       "TF4   0.100   0.100  0.1  0.800  0.275"
      ]
     },
     "execution_count": 12,
     "metadata": {},
     "output_type": "execute_result"
    }
   ],
   "source": [
    "# The W matrix:\n",
    "W_df = pd.DataFrame(W_matrix, columns = tf_names_list, index = tf_names_list)\n",
    "W_df"
   ]
  },
  {
   "cell_type": "code",
   "execution_count": 13,
   "id": "d8a17c0e",
   "metadata": {},
   "outputs": [
    {
     "data": {
      "text/html": [
       "<div>\n",
       "<style scoped>\n",
       "    .dataframe tbody tr th:only-of-type {\n",
       "        vertical-align: middle;\n",
       "    }\n",
       "\n",
       "    .dataframe tbody tr th {\n",
       "        vertical-align: top;\n",
       "    }\n",
       "\n",
       "    .dataframe thead th {\n",
       "        text-align: right;\n",
       "    }\n",
       "</style>\n",
       "<table border=\"1\" class=\"dataframe\">\n",
       "  <thead>\n",
       "    <tr style=\"text-align: right;\">\n",
       "      <th></th>\n",
       "      <th>TF0</th>\n",
       "      <th>TF1</th>\n",
       "      <th>TF2</th>\n",
       "      <th>TF3</th>\n",
       "      <th>TF4</th>\n",
       "    </tr>\n",
       "  </thead>\n",
       "  <tbody>\n",
       "    <tr>\n",
       "      <th>TF0</th>\n",
       "      <td>0.9995</td>\n",
       "      <td>0.0000</td>\n",
       "      <td>0.000000</td>\n",
       "      <td>0.0000</td>\n",
       "      <td>0.0000</td>\n",
       "    </tr>\n",
       "    <tr>\n",
       "      <th>TF1</th>\n",
       "      <td>0.0000</td>\n",
       "      <td>0.9995</td>\n",
       "      <td>0.000000</td>\n",
       "      <td>0.0000</td>\n",
       "      <td>0.0000</td>\n",
       "    </tr>\n",
       "    <tr>\n",
       "      <th>TF2</th>\n",
       "      <td>0.0000</td>\n",
       "      <td>0.0000</td>\n",
       "      <td>31.622777</td>\n",
       "      <td>0.0000</td>\n",
       "      <td>0.0000</td>\n",
       "    </tr>\n",
       "    <tr>\n",
       "      <th>TF3</th>\n",
       "      <td>0.0000</td>\n",
       "      <td>0.0000</td>\n",
       "      <td>0.000000</td>\n",
       "      <td>0.9995</td>\n",
       "      <td>0.0000</td>\n",
       "    </tr>\n",
       "    <tr>\n",
       "      <th>TF4</th>\n",
       "      <td>0.0000</td>\n",
       "      <td>0.0000</td>\n",
       "      <td>0.000000</td>\n",
       "      <td>0.0000</td>\n",
       "      <td>0.9995</td>\n",
       "    </tr>\n",
       "  </tbody>\n",
       "</table>\n",
       "</div>"
      ],
      "text/plain": [
       "        TF0     TF1        TF2     TF3     TF4\n",
       "TF0  0.9995  0.0000   0.000000  0.0000  0.0000\n",
       "TF1  0.0000  0.9995   0.000000  0.0000  0.0000\n",
       "TF2  0.0000  0.0000  31.622777  0.0000  0.0000\n",
       "TF3  0.0000  0.0000   0.000000  0.9995  0.0000\n",
       "TF4  0.0000  0.0000   0.000000  0.0000  0.9995"
      ]
     },
     "execution_count": 13,
     "metadata": {},
     "output_type": "execute_result"
    }
   ],
   "source": [
    "# The D matrix:\n",
    "D_df = pd.DataFrame(D_matrix, columns = tf_names_list, index = tf_names_list)\n",
    "D_df"
   ]
  },
  {
   "cell_type": "markdown",
   "id": "c321841a",
   "metadata": {},
   "source": [
    "The $A$ matrix is thus derived based on this prior graph network and $A$ is a symmetric matrix.\n",
    "\n",
    "$$ A = (D^\\top) (V \\cdot W) D $$"
   ]
  },
  {
   "cell_type": "code",
   "execution_count": 14,
   "id": "3b4e2e8b",
   "metadata": {},
   "outputs": [
    {
     "data": {
      "text/html": [
       "<div>\n",
       "<style scoped>\n",
       "    .dataframe tbody tr th:only-of-type {\n",
       "        vertical-align: middle;\n",
       "    }\n",
       "\n",
       "    .dataframe tbody tr th {\n",
       "        vertical-align: top;\n",
       "    }\n",
       "\n",
       "    .dataframe thead th {\n",
       "        text-align: right;\n",
       "    }\n",
       "</style>\n",
       "<table border=\"1\" class=\"dataframe\">\n",
       "  <thead>\n",
       "    <tr style=\"text-align: right;\">\n",
       "      <th></th>\n",
       "      <th>TF0</th>\n",
       "      <th>TF1</th>\n",
       "      <th>TF2</th>\n",
       "      <th>TF3</th>\n",
       "      <th>TF4</th>\n",
       "    </tr>\n",
       "  </thead>\n",
       "  <tbody>\n",
       "    <tr>\n",
       "      <th>TF0</th>\n",
       "      <td>10.289710</td>\n",
       "      <td>-9.990010</td>\n",
       "      <td>-3.160698</td>\n",
       "      <td>-0.099900</td>\n",
       "      <td>-0.099900</td>\n",
       "    </tr>\n",
       "    <tr>\n",
       "      <th>TF1</th>\n",
       "      <td>-9.990010</td>\n",
       "      <td>10.289710</td>\n",
       "      <td>-3.160698</td>\n",
       "      <td>-0.099900</td>\n",
       "      <td>-0.099900</td>\n",
       "    </tr>\n",
       "    <tr>\n",
       "      <th>TF2</th>\n",
       "      <td>-3.160698</td>\n",
       "      <td>-3.160698</td>\n",
       "      <td>400.000000</td>\n",
       "      <td>-3.160698</td>\n",
       "      <td>-3.160698</td>\n",
       "    </tr>\n",
       "    <tr>\n",
       "      <th>TF3</th>\n",
       "      <td>-0.099900</td>\n",
       "      <td>-0.099900</td>\n",
       "      <td>-3.160698</td>\n",
       "      <td>1.098901</td>\n",
       "      <td>-0.799201</td>\n",
       "    </tr>\n",
       "    <tr>\n",
       "      <th>TF4</th>\n",
       "      <td>-0.099900</td>\n",
       "      <td>-0.099900</td>\n",
       "      <td>-3.160698</td>\n",
       "      <td>-0.799201</td>\n",
       "      <td>1.098901</td>\n",
       "    </tr>\n",
       "  </tbody>\n",
       "</table>\n",
       "</div>"
      ],
      "text/plain": [
       "           TF0        TF1         TF2       TF3       TF4\n",
       "TF0  10.289710  -9.990010   -3.160698 -0.099900 -0.099900\n",
       "TF1  -9.990010  10.289710   -3.160698 -0.099900 -0.099900\n",
       "TF2  -3.160698  -3.160698  400.000000 -3.160698 -3.160698\n",
       "TF3  -0.099900  -0.099900   -3.160698  1.098901 -0.799201\n",
       "TF4  -0.099900  -0.099900   -3.160698 -0.799201  1.098901"
      ]
     },
     "execution_count": 14,
     "metadata": {},
     "output_type": "execute_result"
    }
   ],
   "source": [
    "# The A matrix:\n",
    "A_df = pd.DataFrame(A_matrix, columns = tf_names_list, index = tf_names_list)\n",
    "A_df"
   ]
  },
  {
   "cell_type": "markdown",
   "id": "67ec66c0",
   "metadata": {},
   "source": [
    "In our demo, we ran \n",
    "\n",
    "*grn_demo = geneRegulatNet(edge_list = edge_list, \n",
    "                          alpha_lasso_val = alpha_lasso_val, \n",
    "                          beta_network_val = beta_network_val)*\n",
    "                          \n",
    "To extract this prior graph network information directly from the *geneRegulatNet* function, we can also do this:"
   ]
  },
  {
   "cell_type": "code",
   "execution_count": 15,
   "id": "e14cd860",
   "metadata": {},
   "outputs": [
    {
     "data": {
      "text/plain": [
       "<gregulnetClasses.PriorGraphNetwork at 0x19765abb9a0>"
      ]
     },
     "execution_count": 15,
     "metadata": {},
     "output_type": "execute_result"
    }
   ],
   "source": [
    "prior_graph_network = grn_demo.network\n",
    "prior_graph_network"
   ]
  },
  {
   "cell_type": "code",
   "execution_count": 16,
   "id": "8fe072de",
   "metadata": {},
   "outputs": [
    {
     "data": {
      "text/plain": [
       "array([[ 1.02897103e+01, -9.99000999e+00, -3.16069771e+00,\n",
       "        -9.99000999e-02, -9.99000999e-02],\n",
       "       [-9.99000999e+00,  1.02897103e+01, -3.16069771e+00,\n",
       "        -9.99000999e-02, -9.99000999e-02],\n",
       "       [-3.16069771e+00, -3.16069771e+00,  4.00000000e+02,\n",
       "        -3.16069771e+00, -3.16069771e+00],\n",
       "       [-9.99000999e-02, -9.99000999e-02, -3.16069771e+00,\n",
       "         1.09890110e+00, -7.99200799e-01],\n",
       "       [-9.99000999e-02, -9.99000999e-02, -3.16069771e+00,\n",
       "        -7.99200799e-01,  1.09890110e+00]])"
      ]
     },
     "execution_count": 16,
     "metadata": {},
     "output_type": "execute_result"
    }
   ],
   "source": [
    "# for instance, we can find the A matrix like this:\n",
    "prior_graph_network.A"
   ]
  },
  {
   "cell_type": "markdown",
   "id": "f0becdbc",
   "metadata": {},
   "source": [
    "The edge list becomes encoded as:\n",
    "\n"
   ]
  },
  {
   "cell_type": "code",
   "execution_count": null,
   "id": "9216ecc9",
   "metadata": {},
   "outputs": [],
   "source": []
  },
  {
   "cell_type": "markdown",
   "id": "e603a57f",
   "metadata": {},
   "source": [
    "* 3. *GRegulNet*:\n",
    "\n",
    ":) Please note that this class focuses on building a Gene Regulatory Network (GRN) from gene expression data for Transcription Factors (TFs), gene expression data for the target gene (TG), and a prior biological network (provided as an edge list, which is then used to derive the A matrix using the PriorGraphNetwork class).\n",
    "\n",
    "This GRegulNet class performs Network-penalized regression using the lasso approach :). Machine learning models are built using Python's scikit-learn library. When beta_network is 0, then the problem becomes simply one of a lasso regression on the original X and y data.  There is an option to perform cross validation on the training data (parameter: use_cross_validation_for_model_bool) when building the model (that is, LassoCV); otherwise, the traditional Lasso model is used. When alpha_lasso is 0, then linear regression is performed. \n",
    "\n",
    "In this example, we have: \n",
    "\n",
    "* alpha_lasso_val = $\\alpha_{lasso}$ = 0.01\n",
    "* beta_network_val = $\\beta_{network}$ = 10"
   ]
  },
  {
   "cell_type": "code",
   "execution_count": 17,
   "id": "991ae134",
   "metadata": {},
   "outputs": [],
   "source": [
    "alpha_lasso_val = 0.01\n",
    "beta_network_val = 10"
   ]
  },
  {
   "cell_type": "code",
   "execution_count": 18,
   "id": "3405401e",
   "metadata": {},
   "outputs": [
    {
     "name": "stdout",
     "output_type": "stream",
     "text": [
      "undirected_edge_list_to_matrix\n",
      ":) Please note that we count the number of edges with weight > 0.5 to get the degree for a given node.\n",
      ":) We also add 0.001 as a pseudocount to our degree value for each node.\n",
      "\n",
      ":) A is symmetric!\n",
      "network used\n",
      "Train\n",
      "Lasso\n"
     ]
    },
    {
     "data": {
      "text/plain": [
       "<gregulnetClasses.GRegulNet at 0x19768ac9ea0>"
      ]
     },
     "execution_count": 18,
     "metadata": {},
     "output_type": "execute_result"
    },
    {
     "data": {
      "image/png": "[encoded data removed]",
      "text/plain": [
       "<Figure size 640x480 with 1 Axes>"
      ]
     },
     "metadata": {},
     "output_type": "display_data"
    }
   ],
   "source": [
    "grn_demo = geneRegulatNet(edge_list = edge_list, \n",
    "                          alpha_lasso_val = alpha_lasso_val, \n",
    "                          beta_network_val = beta_network_val)\n",
    "grn_demo.fit(X_train, y_train)"
   ]
  },
  {
   "cell_type": "code",
   "execution_count": 23,
   "id": "17f1446f",
   "metadata": {},
   "outputs": [
    {
     "name": "stdout",
     "output_type": "stream",
     "text": [
      "Test\n",
      ":) Please note that the testing data mean square error is 8.46638210259092e-05\n"
     ]
    }
   ],
   "source": [
    "# Please note the mean square error (MSE) on the testing data:\n",
    "# in our demo, we assume the testing and training data are the same.\n",
    "mse_test = grn_demo.predict(X_test, y_test)\n",
    "print(f\":) Please note that the testing data mean square error is {mse_test}\")"
   ]
  },
  {
   "cell_type": "markdown",
   "id": "be7d09ac",
   "metadata": {},
   "source": [
    "**Please note the following Python packages needed to run our code:**\n",
    "\n",
    "* pandas\n",
    "* numpy\n",
    "* numpy.typing\n",
    "* random\n",
    "* tqdm\n",
    "* os\n",
    "* sys\n",
    "* networkx\n",
    "* scipy\n",
    "* sklearn\n",
    "* plotly.express\n",
    "* warnings\n",
    "* matplotlib.pyplot\n",
    "\n",
    "To install these packages please run *pip install [package_name]* or *pip3 install [package_name]* in the terminal or run *conda install [package_name]* in the Anaconda prompt."
   ]
  },
  {
   "cell_type": "code",
   "execution_count": null,
   "id": "632ec310",
   "metadata": {},
   "outputs": [],
   "source": []
  },
  {
   "cell_type": "code",
   "execution_count": null,
   "id": "648c97f3",
   "metadata": {},
   "outputs": [],
   "source": []
  },
  {
   "cell_type": "code",
   "execution_count": 30,
   "id": "548b689d",
   "metadata": {},
   "outputs": [
    {
     "data": {
      "text/html": [
       "<div>\n",
       "<style scoped>\n",
       "    .dataframe tbody tr th:only-of-type {\n",
       "        vertical-align: middle;\n",
       "    }\n",
       "\n",
       "    .dataframe tbody tr th {\n",
       "        vertical-align: top;\n",
       "    }\n",
       "\n",
       "    .dataframe thead th {\n",
       "        text-align: right;\n",
       "    }\n",
       "</style>\n",
       "<table border=\"1\" class=\"dataframe\">\n",
       "  <thead>\n",
       "    <tr style=\"text-align: right;\">\n",
       "      <th></th>\n",
       "      <th>source</th>\n",
       "      <th>target</th>\n",
       "      <th>weight</th>\n",
       "    </tr>\n",
       "  </thead>\n",
       "  <tbody>\n",
       "    <tr>\n",
       "      <th>0</th>\n",
       "      <td>0</td>\n",
       "      <td>1</td>\n",
       "      <td>10.0</td>\n",
       "    </tr>\n",
       "    <tr>\n",
       "      <th>1</th>\n",
       "      <td>3</td>\n",
       "      <td>4</td>\n",
       "      <td>0.8</td>\n",
       "    </tr>\n",
       "    <tr>\n",
       "      <th>2</th>\n",
       "      <td>0</td>\n",
       "      <td>2</td>\n",
       "      <td>NaN</td>\n",
       "    </tr>\n",
       "    <tr>\n",
       "      <th>3</th>\n",
       "      <td>0</td>\n",
       "      <td>3</td>\n",
       "      <td>NaN</td>\n",
       "    </tr>\n",
       "    <tr>\n",
       "      <th>4</th>\n",
       "      <td>0</td>\n",
       "      <td>4</td>\n",
       "      <td>NaN</td>\n",
       "    </tr>\n",
       "    <tr>\n",
       "      <th>5</th>\n",
       "      <td>1</td>\n",
       "      <td>2</td>\n",
       "      <td>NaN</td>\n",
       "    </tr>\n",
       "    <tr>\n",
       "      <th>6</th>\n",
       "      <td>1</td>\n",
       "      <td>3</td>\n",
       "      <td>NaN</td>\n",
       "    </tr>\n",
       "    <tr>\n",
       "      <th>7</th>\n",
       "      <td>1</td>\n",
       "      <td>4</td>\n",
       "      <td>NaN</td>\n",
       "    </tr>\n",
       "    <tr>\n",
       "      <th>8</th>\n",
       "      <td>2</td>\n",
       "      <td>3</td>\n",
       "      <td>NaN</td>\n",
       "    </tr>\n",
       "    <tr>\n",
       "      <th>9</th>\n",
       "      <td>2</td>\n",
       "      <td>4</td>\n",
       "      <td>NaN</td>\n",
       "    </tr>\n",
       "  </tbody>\n",
       "</table>\n",
       "</div>"
      ],
      "text/plain": [
       "   source  target  weight\n",
       "0       0       1    10.0\n",
       "1       3       4     0.8\n",
       "2       0       2     NaN\n",
       "3       0       3     NaN\n",
       "4       0       4     NaN\n",
       "5       1       2     NaN\n",
       "6       1       3     NaN\n",
       "7       1       4     NaN\n",
       "8       2       3     NaN\n",
       "9       2       4     NaN"
      ]
     },
     "execution_count": 30,
     "metadata": {},
     "output_type": "execute_result"
    }
   ],
   "source": [
    "pd.DataFrame(edge_list, columns = [\"source\", \"target\", \"weight\"])\n",
    "\n",
    "# table using R markdown..."
   ]
  },
  {
   "cell_type": "code",
   "execution_count": 31,
   "id": "2f37dbdb",
   "metadata": {},
   "outputs": [
    {
     "data": {
      "text/plain": [
       "array([[ 2.28489787e+00,  6.33291185e-01, -1.40078015e+00,\n",
       "        -7.29765761e-01,  9.13916183e-01],\n",
       "       [ 2.03530097e+00,  1.93639074e+00, -6.64798785e-01,\n",
       "        -9.68197948e-01, -1.50623028e+00],\n",
       "       [-3.54785514e+00, -1.23543959e+00, -6.72739174e-01,\n",
       "         2.54745667e+00,  3.85305778e+00],\n",
       "       [ 8.61336418e-01,  8.66645704e-01,  1.52967044e+00,\n",
       "        -9.91619010e-01,  9.03659303e-01],\n",
       "       [-2.29793895e+00,  4.55407296e-01, -1.56473260e+00,\n",
       "         5.48461250e-02,  8.92137879e-02],\n",
       "       [-1.06813495e+00, -1.30071729e+00, -5.58066999e-01,\n",
       "         7.24297900e-01, -1.16485371e+00],\n",
       "       [ 2.63201521e-01, -9.95174598e-01,  2.48796956e-01,\n",
       "        -7.55466767e-01, -1.48421395e+00],\n",
       "       [-2.80425493e+00, -5.80501723e-01, -2.88661634e-01,\n",
       "         2.78896759e+00,  2.34789247e+00],\n",
       "       [ 8.91601401e-01, -1.66044767e+00, -1.14913695e+00,\n",
       "         1.90180342e+00, -2.67527131e-02],\n",
       "       [ 2.39600632e-01,  6.64960391e-01,  1.68689124e+00,\n",
       "         1.59305714e+00,  1.54466027e+00],\n",
       "       [ 9.02250168e-01,  3.43489604e-01, -1.31746508e+00,\n",
       "         1.40469118e+00,  7.45724113e-01],\n",
       "       [-2.17396776e+00, -1.72636771e+00,  4.04698511e-02,\n",
       "         6.96308260e-01,  2.80594185e-01],\n",
       "       [-8.14456334e-01, -2.04617163e+00,  1.06289811e+00,\n",
       "        -4.36562008e-01, -2.87989170e-01],\n",
       "       [ 1.40022237e+00,  2.07314954e+00, -4.42512951e-01,\n",
       "         1.30801035e+00, -9.14658766e-01],\n",
       "       [-2.21212092e-01, -4.97200120e-01, -1.14166200e+00,\n",
       "         1.98559411e+00, -3.30860315e-01],\n",
       "       [-3.48719069e+00, -4.22930678e-01,  9.95946781e-01,\n",
       "        -7.43898867e-02,  2.30265584e+00],\n",
       "       [-2.95076751e+00, -5.24652338e-02, -5.09254897e-01,\n",
       "         8.28411687e-01, -1.06867207e+00],\n",
       "       [ 5.30191735e+00,  7.10963549e-01,  2.55702495e-01,\n",
       "        -1.37869126e-01, -3.41062716e+00],\n",
       "       [-3.08041292e+00, -8.28993220e-01,  1.12199345e+00,\n",
       "        -5.62043730e-01,  1.34614264e+00],\n",
       "       [ 1.79373816e+00, -9.58753389e-01, -2.08321669e-01,\n",
       "         1.78154259e+00, -2.89284837e+00],\n",
       "       [-6.27102124e-01,  1.00343248e-01,  7.42069875e-01,\n",
       "         1.61749567e+00, -2.27275197e-01],\n",
       "       [-1.29300455e+00, -1.34163068e-02, -7.10838859e-01,\n",
       "        -7.86843697e-01, -7.31445733e-02],\n",
       "       [-1.24574217e+00,  3.34488950e-01,  1.95018499e-01,\n",
       "        -3.64930616e-01,  2.70380587e+00],\n",
       "       [ 1.88717017e+00, -2.13661760e-01,  3.13878234e-01,\n",
       "         1.00417332e+00, -9.50995337e-01],\n",
       "       [-3.25870437e+00, -3.72643802e-01,  1.29487444e+00,\n",
       "         1.18021126e-01,  1.88843854e+00],\n",
       "       [ 3.18107801e+00, -6.23587463e-01, -1.63943141e+00,\n",
       "        -1.35981970e+00, -1.49168454e+00],\n",
       "       [-1.37608656e+00,  1.14724079e+00, -2.12457252e-01,\n",
       "         1.19571868e-01,  2.90294901e-01],\n",
       "       [-1.28384496e+00,  1.24678663e-01, -1.06136513e+00,\n",
       "         1.75710302e+00,  4.38986310e-02],\n",
       "       [ 6.75800795e-01, -7.90465354e-01,  2.74782141e-03,\n",
       "        -8.52372003e-01, -4.71373431e-01],\n",
       "       [ 1.77624407e+00,  3.90181081e-01, -5.86286835e-01,\n",
       "        -4.27347977e-01, -3.43357956e-02],\n",
       "       [ 4.38839606e+00,  2.19221227e+00, -1.18921026e-01,\n",
       "        -8.92499639e-01, -4.23469863e+00],\n",
       "       [-2.04530059e+00, -6.45196108e-01,  3.04123986e-01,\n",
       "         3.02492326e-01,  5.81357275e-01],\n",
       "       [-2.85036594e-01,  1.53780865e-01, -3.24407836e+00,\n",
       "        -2.50635574e-01, -1.98207460e-02],\n",
       "       [ 1.79210502e+00,  1.25019773e+00, -4.33382189e-01,\n",
       "         1.96471138e+00, -4.63076567e-01],\n",
       "       [-1.54647132e+00, -4.51052762e-01, -1.02510405e+00,\n",
       "         6.20981727e-02,  1.04613687e+00],\n",
       "       [-1.62205766e+00, -8.73921165e-01, -1.59651484e+00,\n",
       "        -4.10605754e-01,  2.87337164e+00],\n",
       "       [-4.19461929e+00, -2.00311614e+00, -3.70392948e-01,\n",
       "        -7.19802740e-01,  2.06249576e+00],\n",
       "       [ 1.57355304e+00,  1.48312236e+00, -1.26013739e+00,\n",
       "        -1.09263423e+00, -2.48318203e+00],\n",
       "       [-4.33611409e+00, -2.81394773e+00,  3.88359093e-01,\n",
       "         2.76831926e-01,  2.62360947e+00],\n",
       "       [ 1.70398247e-01,  1.19696755e+00, -1.44798813e-01,\n",
       "         5.23091133e-01, -5.45411930e-01],\n",
       "       [-4.14915966e-01,  6.09914526e-02, -1.03122838e+00,\n",
       "         5.17423001e-01,  7.89032249e-02],\n",
       "       [-2.09004723e+00, -1.44812608e+00,  3.68563012e-01,\n",
       "         1.85559607e+00,  7.99289056e-01],\n",
       "       [ 1.69347171e+00,  1.66380759e+00,  1.96859536e-01,\n",
       "         1.93225660e-01, -1.82395665e+00],\n",
       "       [ 5.72657139e+00,  7.46962935e-01,  6.75871891e-02,\n",
       "        -4.46420267e-01, -2.16903836e+00],\n",
       "       [ 2.63973803e+00,  1.45040147e+00,  5.29918894e-01,\n",
       "         8.67533920e-01, -1.29451684e+00],\n",
       "       [ 4.58205367e-01,  1.89394212e+00, -4.62455697e-01,\n",
       "        -1.53013506e+00, -1.69190515e+00],\n",
       "       [-8.04365205e-01, -6.98937525e-01, -6.16338954e-01,\n",
       "        -1.32349368e+00, -1.53708989e+00],\n",
       "       [-1.26367392e+00, -5.73246507e-01, -7.48301699e-01,\n",
       "        -1.55948165e+00,  1.71300665e+00],\n",
       "       [-4.72931321e+00, -2.43714775e+00,  2.57966183e-01,\n",
       "         1.54372154e+00,  1.99063489e+00],\n",
       "       [ 1.69096646e+00,  2.14656535e+00,  4.97249193e-01,\n",
       "         4.37050918e-02,  2.49714016e-01],\n",
       "       [ 1.94405710e+00,  9.53291714e-02,  8.38373891e-01,\n",
       "        -4.69583704e-01, -2.71817357e-01],\n",
       "       [-6.20154390e-01, -3.03146995e-02, -2.38771316e-01,\n",
       "         1.33684580e+00,  1.46525632e+00],\n",
       "       [ 1.30731859e+00,  1.55649280e+00, -7.57760372e-02,\n",
       "        -3.26976932e-01, -1.05176733e+00],\n",
       "       [-1.88542218e+00, -1.51734631e+00, -1.55710134e+00,\n",
       "        -7.38276941e-02,  9.33212274e-02],\n",
       "       [ 1.70097370e+00, -1.17651473e+00, -1.74246087e-01,\n",
       "        -4.42414006e-01, -7.69607088e-01],\n",
       "       [ 1.29644635e+00, -6.74407788e-01, -1.09296743e-01,\n",
       "        -3.57218832e-02,  4.51782488e-02],\n",
       "       [-4.62794536e+00, -6.63125104e-02, -1.99286871e+00,\n",
       "         9.65459878e-02,  2.51317443e+00],\n",
       "       [ 4.03694307e-01, -1.68830026e+00,  1.50041538e-01,\n",
       "        -1.22959235e-01, -2.55787233e-01],\n",
       "       [ 2.58489222e+00, -8.82803411e-02, -1.17340074e-01,\n",
       "        -1.00166486e+00, -1.42697215e+00],\n",
       "       [-3.89167289e+00, -1.90940375e+00,  1.76977755e+00,\n",
       "        -1.47776605e+00,  8.75559286e-01],\n",
       "       [ 5.75046084e-01, -4.40541500e-01,  6.67895837e-01,\n",
       "        -9.75245899e-01,  1.15681331e-01],\n",
       "       [-2.99396058e+00, -1.31718023e-01,  4.08796679e-02,\n",
       "        -2.01364642e+00,  5.71662337e-01],\n",
       "       [ 7.18174653e-01, -1.05362201e+00,  7.38561908e-01,\n",
       "        -5.47581635e-01,  2.60481006e-02],\n",
       "       [-1.93486692e+00,  5.67767042e-01, -1.07439381e+00,\n",
       "        -1.20996301e+00, -4.15319508e-01],\n",
       "       [ 2.24823855e+00, -1.90657001e-01,  9.20096276e-01,\n",
       "         3.53521659e-04, -1.91994028e+00],\n",
       "       [ 1.44690709e+00, -2.09147107e-02, -1.91558641e-01,\n",
       "        -1.80733034e+00, -5.71243310e-01],\n",
       "       [-5.92088168e-01, -3.96281633e-01,  1.75396704e-01,\n",
       "         1.63241344e+00, -5.02059543e-02],\n",
       "       [-3.21586297e-01,  2.60036522e-01,  1.05774481e+00,\n",
       "        -1.86701738e+00, -1.23155015e+00],\n",
       "       [-1.78279480e+00, -3.33479204e-01,  1.09698398e-01,\n",
       "         8.48034199e-02,  1.99001917e+00],\n",
       "       [-7.03434706e+00, -7.20368339e-01, -5.35171186e-01,\n",
       "         9.52362000e-02,  6.07330436e-01],\n",
       "       [ 4.08894382e+00, -3.80450847e-02, -8.88836426e-01,\n",
       "        -7.37128565e-01, -2.11466523e+00],\n",
       "       [ 2.59201364e-01, -9.28826172e-01,  5.12159601e-02,\n",
       "        -9.99567975e-01,  2.24062851e+00],\n",
       "       [-1.49321532e+00,  7.92375006e-01,  1.16627385e+00,\n",
       "         2.09756467e-01, -1.40374593e+00],\n",
       "       [-1.20268487e+00,  7.58855038e-01, -6.74867349e-01,\n",
       "        -2.21012282e-01,  9.77001319e-01],\n",
       "       [-3.03620446e+00, -2.12181775e+00,  1.45509499e-03,\n",
       "         2.00278855e+00,  1.88687439e+00],\n",
       "       [-2.21993738e+00, -1.66347335e+00, -7.16150280e-01,\n",
       "        -2.14114536e-01,  6.52463488e-01],\n",
       "       [-2.72095737e+00, -1.11746231e+00,  7.10165105e-01,\n",
       "         4.68198035e-01,  3.92507537e+00],\n",
       "       [-1.58464605e+00,  7.14789343e-01, -2.52391406e-01,\n",
       "         1.04728120e+00,  9.49805710e-01],\n",
       "       [ 3.17653514e+00,  1.37110804e+00,  1.70253083e+00,\n",
       "         6.85509296e-01, -4.74567989e-01],\n",
       "       [ 5.17621669e+00,  9.07074291e-01,  1.22281657e+00,\n",
       "        -3.11448828e+00, -4.60544509e+00],\n",
       "       [-1.04064564e+00, -2.84720126e+00,  1.19373319e+00,\n",
       "         6.93280507e-01,  2.43883306e+00],\n",
       "       [ 1.22424666e+00,  2.30342276e+00, -5.55070713e-01,\n",
       "        -1.52621946e+00, -3.43406158e-01],\n",
       "       [ 1.41895199e+00, -5.94274002e-01,  7.05211193e-01,\n",
       "         3.16235318e-01, -9.86832755e-01],\n",
       "       [-7.06625971e-01,  5.98426042e-01,  2.33739657e-02,\n",
       "        -1.99161485e-01,  1.25297770e+00],\n",
       "       [-5.04579415e-01, -1.49144855e+00, -6.85401318e-01,\n",
       "        -1.48523158e+00,  8.16566396e-01],\n",
       "       [-1.86893053e+00,  1.45849096e+00, -5.48118692e-01,\n",
       "        -8.84677725e-01,  1.56297303e+00],\n",
       "       [-7.01323452e-02,  1.35161768e-01,  1.92975377e-01,\n",
       "        -2.04953401e+00, -3.71101970e-01],\n",
       "       [ 2.06610447e+00,  2.08419623e-01,  6.10651027e-01,\n",
       "         3.17457978e-01, -2.51443890e+00],\n",
       "       [ 4.95559302e+00,  1.65469649e+00, -1.05978856e+00,\n",
       "        -7.24584070e-02, -2.42047532e+00],\n",
       "       [ 3.26586737e+00,  1.99115202e+00,  2.34053551e-01,\n",
       "        -1.75811921e-01, -2.16672855e-01],\n",
       "       [-3.40597502e+00, -1.00451946e+00,  1.06033329e+00,\n",
       "        -1.01566621e-01,  2.62258778e+00],\n",
       "       [ 4.92617950e-01,  4.42182492e-01,  1.05863557e+00,\n",
       "        -3.13805554e-01, -1.28699283e+00],\n",
       "       [-1.93654946e+00,  1.11082233e+00, -6.96995431e-01,\n",
       "         1.10992029e+00,  2.89456857e-02],\n",
       "       [ 2.13779314e+00,  3.81576258e-01,  3.73323303e-01,\n",
       "        -1.68366559e+00, -1.02189481e+00],\n",
       "       [ 3.84977912e+00, -2.93518017e-01,  7.13968079e-01,\n",
       "        -5.04157918e-02, -6.38652313e-01],\n",
       "       [ 9.95555270e-01,  1.66502885e+00,  3.17117632e-01,\n",
       "         1.11116622e+00,  2.70371199e-01],\n",
       "       [-6.18957202e-01,  1.80686560e+00,  1.54444581e-01,\n",
       "        -7.05566274e-01, -9.41158725e-01],\n",
       "       [ 1.56411739e+00, -4.10144596e-01,  7.89627789e-01,\n",
       "        -5.06767775e-03, -2.46459653e+00],\n",
       "       [ 6.10617686e-04,  2.19728658e+00, -7.43020023e-02,\n",
       "         3.89101655e-01,  2.36990937e+00],\n",
       "       [ 2.93964886e+00,  9.42767880e-02, -1.17603590e+00,\n",
       "         5.99884109e-01, -2.79970666e+00]])"
      ]
     },
     "execution_count": 31,
     "metadata": {},
     "output_type": "execute_result"
    }
   ],
   "source": [
    "#use_cross_validation_for_model_bool\n",
    "X_train"
   ]
  },
  {
   "cell_type": "markdown",
   "id": "8a724f03",
   "metadata": {},
   "source": [
    "Building the network regularized regression model. "
   ]
  },
  {
   "cell_type": "code",
   "execution_count": 32,
   "id": "7ce2dda3",
   "metadata": {},
   "outputs": [
    {
     "name": "stdout",
     "output_type": "stream",
     "text": [
      "undirected_edge_list_to_matrix\n",
      ":) Please note that we count the number of edges with weight > 0.5 to get the degree for a given node.\n",
      ":) We also add 0.001 as a pseudocount to our degree value for each node.\n",
      "\n",
      ":) A is symmetric!\n",
      "network used\n",
      "Train\n",
      "Lasso\n"
     ]
    },
    {
     "data": {
      "text/plain": [
       "<gregulnetClasses.GRegulNet at 0x1dda1c744f0>"
      ]
     },
     "execution_count": 32,
     "metadata": {},
     "output_type": "execute_result"
    },
    {
     "data": {
      "image/png": "[encoded data removed]",
      "text/plain": [
       "<Figure size 640x480 with 1 Axes>"
      ]
     },
     "metadata": {},
     "output_type": "display_data"
    }
   ],
   "source": [
    "grn_demo = geneRegulatNet(edge_list = edge_list, \n",
    "                          alpha_lasso_val = alpha_lasso_val, \n",
    "                          beta_network_val = beta_network_val)\n",
    "grn_demo.fit(X_train, y_train)"
   ]
  },
  {
   "cell_type": "code",
   "execution_count": 33,
   "id": "6faf5790",
   "metadata": {},
   "outputs": [],
   "source": [
    "# grn_demo = geneRegulatNet(edge_list = edge_list, \n",
    "#                           alpha_lasso_val = alpha_lasso_val, \n",
    "#                           beta_network_val = beta_network_val, \n",
    "#                           use_cross_validation_for_model_bool = True,\n",
    "#                          consider_self_loops = True)\n",
    "# grn_demo.fit(X_train, y_train)"
   ]
  },
  {
   "cell_type": "code",
   "execution_count": 34,
   "id": "68a6a5e8",
   "metadata": {},
   "outputs": [
    {
     "data": {
      "text/html": [
       "<div>\n",
       "<style scoped>\n",
       "    .dataframe tbody tr th:only-of-type {\n",
       "        vertical-align: middle;\n",
       "    }\n",
       "\n",
       "    .dataframe tbody tr th {\n",
       "        vertical-align: top;\n",
       "    }\n",
       "\n",
       "    .dataframe thead th {\n",
       "        text-align: right;\n",
       "    }\n",
       "</style>\n",
       "<table border=\"1\" class=\"dataframe\">\n",
       "  <thead>\n",
       "    <tr style=\"text-align: right;\">\n",
       "      <th></th>\n",
       "      <th>parameter</th>\n",
       "      <th>data type</th>\n",
       "      <th>description</th>\n",
       "      <th>value</th>\n",
       "      <th>class</th>\n",
       "    </tr>\n",
       "  </thead>\n",
       "  <tbody>\n",
       "    <tr>\n",
       "      <th>0</th>\n",
       "      <td>default_edge_weight</td>\n",
       "      <td>&gt;= 0</td>\n",
       "      <td>edge weight for any edge with missing weight info</td>\n",
       "      <td>0.1</td>\n",
       "      <td>PriorGraphNetwork</td>\n",
       "    </tr>\n",
       "    <tr>\n",
       "      <th>1</th>\n",
       "      <td>consider_self_loops</td>\n",
       "      <td>boolean</td>\n",
       "      <td>add 1 to the degree for each node (based on se...</td>\n",
       "      <td>False</td>\n",
       "      <td>PriorGraphNetwork</td>\n",
       "    </tr>\n",
       "    <tr>\n",
       "      <th>2</th>\n",
       "      <td>pseudocount_for_diagonal_matrix</td>\n",
       "      <td>&gt;= 0</td>\n",
       "      <td>to ensure that no nodes have 0 degree value in...</td>\n",
       "      <td>0.001</td>\n",
       "      <td>PriorGraphNetwork</td>\n",
       "    </tr>\n",
       "    <tr>\n",
       "      <th>3</th>\n",
       "      <td>use_edge_weight_values_for_degrees_bool</td>\n",
       "      <td>boolean</td>\n",
       "      <td>if False, we use a threshold instead to derive...</td>\n",
       "      <td>False</td>\n",
       "      <td>PriorGraphNetwork</td>\n",
       "    </tr>\n",
       "    <tr>\n",
       "      <th>4</th>\n",
       "      <td>threshold_for_degree</td>\n",
       "      <td>&gt;= 0</td>\n",
       "      <td>edge weights &gt; 0.5 are counted as 1 for the de...</td>\n",
       "      <td>0.5</td>\n",
       "      <td>PriorGraphNetwork</td>\n",
       "    </tr>\n",
       "    <tr>\n",
       "      <th>5</th>\n",
       "      <td>model_type</td>\n",
       "      <td>set of options</td>\n",
       "      <td>which model type should be used for geneRegula...</td>\n",
       "      <td>Lasso</td>\n",
       "      <td>GRegulNet</td>\n",
       "    </tr>\n",
       "    <tr>\n",
       "      <th>6</th>\n",
       "      <td>max_lasso_iterations</td>\n",
       "      <td>&gt;= 1</td>\n",
       "      <td>the maximum # of iterations for Lasso</td>\n",
       "      <td>Lasso</td>\n",
       "      <td>GRegulNet</td>\n",
       "    </tr>\n",
       "    <tr>\n",
       "      <th>7</th>\n",
       "      <td>use_cross_validation_for_model_bool</td>\n",
       "      <td>boolean</td>\n",
       "      <td>should we use cross validation for training th...</td>\n",
       "      <td>False</td>\n",
       "      <td>GRegulNet</td>\n",
       "    </tr>\n",
       "    <tr>\n",
       "      <th>8</th>\n",
       "      <td>alpha_lasso</td>\n",
       "      <td>&gt;= 0</td>\n",
       "      <td>value for alpha for the lasso problem</td>\n",
       "      <td>0.01</td>\n",
       "      <td>GRegulNet</td>\n",
       "    </tr>\n",
       "    <tr>\n",
       "      <th>9</th>\n",
       "      <td>use_network</td>\n",
       "      <td>boolean</td>\n",
       "      <td>perform network regularization using a network...</td>\n",
       "      <td>True</td>\n",
       "      <td>GRegulNet</td>\n",
       "    </tr>\n",
       "    <tr>\n",
       "      <th>10</th>\n",
       "      <td>beta_network</td>\n",
       "      <td>&gt;= 0</td>\n",
       "      <td>value of beta for the network regularization p...</td>\n",
       "      <td>10</td>\n",
       "      <td>GRegulNet</td>\n",
       "    </tr>\n",
       "    <tr>\n",
       "      <th>11</th>\n",
       "      <td>fit_y_intercept_bool</td>\n",
       "      <td>boolean</td>\n",
       "      <td>fit a y-intercept for our regression problem</td>\n",
       "      <td>False</td>\n",
       "      <td>GRegulNet</td>\n",
       "    </tr>\n",
       "  </tbody>\n",
       "</table>\n",
       "</div>"
      ],
      "text/plain": [
       "                                  parameter       data type  \\\n",
       "0                       default_edge_weight            >= 0   \n",
       "1                       consider_self_loops         boolean   \n",
       "2           pseudocount_for_diagonal_matrix            >= 0   \n",
       "3   use_edge_weight_values_for_degrees_bool         boolean   \n",
       "4                      threshold_for_degree            >= 0   \n",
       "5                                model_type  set of options   \n",
       "6                      max_lasso_iterations            >= 1   \n",
       "7       use_cross_validation_for_model_bool         boolean   \n",
       "8                               alpha_lasso            >= 0   \n",
       "9                               use_network         boolean   \n",
       "10                             beta_network            >= 0   \n",
       "11                     fit_y_intercept_bool         boolean   \n",
       "\n",
       "                                          description  value  \\\n",
       "0   edge weight for any edge with missing weight info    0.1   \n",
       "1   add 1 to the degree for each node (based on se...  False   \n",
       "2   to ensure that no nodes have 0 degree value in...  0.001   \n",
       "3   if False, we use a threshold instead to derive...  False   \n",
       "4   edge weights > 0.5 are counted as 1 for the de...    0.5   \n",
       "5   which model type should be used for geneRegula...  Lasso   \n",
       "6               the maximum # of iterations for Lasso  Lasso   \n",
       "7   should we use cross validation for training th...  False   \n",
       "8               value for alpha for the lasso problem   0.01   \n",
       "9   perform network regularization using a network...   True   \n",
       "10  value of beta for the network regularization p...     10   \n",
       "11       fit a y-intercept for our regression problem  False   \n",
       "\n",
       "                class  \n",
       "0   PriorGraphNetwork  \n",
       "1   PriorGraphNetwork  \n",
       "2   PriorGraphNetwork  \n",
       "3   PriorGraphNetwork  \n",
       "4   PriorGraphNetwork  \n",
       "5           GRegulNet  \n",
       "6           GRegulNet  \n",
       "7           GRegulNet  \n",
       "8           GRegulNet  \n",
       "9           GRegulNet  \n",
       "10          GRegulNet  \n",
       "11          GRegulNet  "
      ]
     },
     "execution_count": 34,
     "metadata": {},
     "output_type": "execute_result"
    }
   ],
   "source": [
    "grn_demo.parameters_df"
   ]
  },
  {
   "cell_type": "markdown",
   "id": "ddc43cce",
   "metadata": {},
   "source": [
    "Extracting the predicted coefficients from the model."
   ]
  },
  {
   "cell_type": "code",
   "execution_count": 35,
   "id": "43a355f6",
   "metadata": {},
   "outputs": [
    {
     "data": {
      "text/plain": [
       "array([ 0.22070464,  0.20019482,  0.0023017 , -0.01671557, -0.14208692])"
      ]
     },
     "execution_count": 35,
     "metadata": {},
     "output_type": "execute_result"
    }
   ],
   "source": [
    "grn_demo.coef"
   ]
  },
  {
   "cell_type": "code",
   "execution_count": 36,
   "id": "c36ea16d",
   "metadata": {},
   "outputs": [
    {
     "data": {
      "text/plain": [
       "array([[-3.05621096e-01, -3.27389019e-01,  4.00491151e+01,\n",
       "        -3.23292935e-01, -3.14589869e-01],\n",
       "       [ 8.02536868e+00, -5.44840665e+00,  5.22771580e-03,\n",
       "        -2.05835082e-01, -1.24944596e+00],\n",
       "       [ 2.28985003e+00,  4.15307661e+00,  2.15276806e-02,\n",
       "        -4.68163074e-01, -3.32489977e+00],\n",
       "       [ 6.41252543e-01,  6.67828663e-01,  2.57612546e-04,\n",
       "        -2.88769362e+00,  1.68240645e+00],\n",
       "       [-9.18722507e-01, -9.33341534e-01, -3.82208217e-02,\n",
       "        -1.35658077e+00, -1.60777702e+00]])"
      ]
     },
     "execution_count": 36,
     "metadata": {},
     "output_type": "execute_result"
    }
   ],
   "source": [
    "grn_demo.X_tilda_train"
   ]
  },
  {
   "cell_type": "code",
   "execution_count": 24,
   "id": "43f34763",
   "metadata": {},
   "outputs": [
    {
     "data": {
      "text/plain": [
       "[0.4783175907443014,\n",
       " -0.15885558151849682,\n",
       " 0.21639223511559041,\n",
       " 0.08255353476061418,\n",
       " -0.7637703614804222]"
      ]
     },
     "execution_count": 24,
     "metadata": {},
     "output_type": "execute_result"
    }
   ],
   "source": [
    "# column correlations\n",
    "r1 = np.corrcoef(pd.DataFrame(grn_demo.X_tilda_train)[0], grn_demo.y_tilda_train)[0][1]\n",
    "r2 = np.corrcoef(pd.DataFrame(grn_demo.X_tilda_train)[1], grn_demo.y_tilda_train)[0][1]\n",
    "r3 = np.corrcoef(pd.DataFrame(grn_demo.X_tilda_train)[2], grn_demo.y_tilda_train)[0][1]\n",
    "r4 = np.corrcoef(pd.DataFrame(grn_demo.X_tilda_train)[3], grn_demo.y_tilda_train)[0][1]\n",
    "r5 = np.corrcoef(pd.DataFrame(grn_demo.X_tilda_train)[4], grn_demo.y_tilda_train)[0][1]\n",
    "[r1, r2, r3, r4, r5]"
   ]
  },
  {
   "cell_type": "code",
   "execution_count": 25,
   "id": "98975e6a",
   "metadata": {},
   "outputs": [
    {
     "data": {
      "text/plain": [
       "array([-0.99231703, -0.0729852 , -0.12071896, -0.10331121,  0.85382521])"
      ]
     },
     "execution_count": 25,
     "metadata": {},
     "output_type": "execute_result"
    }
   ],
   "source": [
    "# row correlations\n",
    "corr_matrix = np.corrcoef(grn_demo.X_tilda_train, grn_demo.y_tilda_train)\n",
    "corr_X_y = corr_matrix[:-1,-1]\n",
    "corr_X_y\n",
    "# array([-0.99231703, -0.0729852 , -0.12071896, -0.10331121,  0.85382521])\n"
   ]
  },
  {
   "cell_type": "code",
   "execution_count": 26,
   "id": "e7d605a4",
   "metadata": {},
   "outputs": [
    {
     "data": {
      "text/plain": [
       "array([-0.01059955, -0.2115059 ,  2.01079118,  0.0936446 , -0.13047974])"
      ]
     },
     "execution_count": 26,
     "metadata": {},
     "output_type": "execute_result"
    }
   ],
   "source": [
    "grn_demo.y_tilda_train\n",
    "# array([-0.01059955, -0.2115059 ,  2.01079118,  0.0936446 , -0.13047974])\n"
   ]
  },
  {
   "cell_type": "code",
   "execution_count": 27,
   "id": "21c17c40",
   "metadata": {},
   "outputs": [
    {
     "data": {
      "text/plain": [
       "[0.9, 0.5, 0.1, -0.2, -0.8]"
      ]
     },
     "execution_count": 27,
     "metadata": {},
     "output_type": "execute_result"
    }
   ],
   "source": [
    "demo_dict[\"corrVals\"]"
   ]
  },
  {
   "cell_type": "code",
   "execution_count": 28,
   "id": "f4190eb9",
   "metadata": {},
   "outputs": [
    {
     "data": {
      "text/html": [
       "<div>\n",
       "<style scoped>\n",
       "    .dataframe tbody tr th:only-of-type {\n",
       "        vertical-align: middle;\n",
       "    }\n",
       "\n",
       "    .dataframe tbody tr th {\n",
       "        vertical-align: top;\n",
       "    }\n",
       "\n",
       "    .dataframe thead th {\n",
       "        text-align: right;\n",
       "    }\n",
       "</style>\n",
       "<table border=\"1\" class=\"dataframe\">\n",
       "  <thead>\n",
       "    <tr style=\"text-align: right;\">\n",
       "      <th></th>\n",
       "      <th>parameter</th>\n",
       "      <th>data type</th>\n",
       "      <th>description</th>\n",
       "      <th>value</th>\n",
       "      <th>class</th>\n",
       "    </tr>\n",
       "  </thead>\n",
       "  <tbody>\n",
       "    <tr>\n",
       "      <th>0</th>\n",
       "      <td>default_edge_weight</td>\n",
       "      <td>&gt;= 0</td>\n",
       "      <td>edge weight for any edge with missing weight info</td>\n",
       "      <td>0.1</td>\n",
       "      <td>PriorGraphNetwork</td>\n",
       "    </tr>\n",
       "    <tr>\n",
       "      <th>1</th>\n",
       "      <td>consider_self_loops</td>\n",
       "      <td>boolean</td>\n",
       "      <td>add 1 to the degree for each node (based on se...</td>\n",
       "      <td>False</td>\n",
       "      <td>PriorGraphNetwork</td>\n",
       "    </tr>\n",
       "    <tr>\n",
       "      <th>2</th>\n",
       "      <td>pseudocount_for_diagonal_matrix</td>\n",
       "      <td>&gt;= 0</td>\n",
       "      <td>to ensure that no nodes have 0 degree value in...</td>\n",
       "      <td>0.001</td>\n",
       "      <td>PriorGraphNetwork</td>\n",
       "    </tr>\n",
       "    <tr>\n",
       "      <th>3</th>\n",
       "      <td>use_edge_weight_values_for_degrees_bool</td>\n",
       "      <td>boolean</td>\n",
       "      <td>if False, we use a threshold instead to derive...</td>\n",
       "      <td>False</td>\n",
       "      <td>PriorGraphNetwork</td>\n",
       "    </tr>\n",
       "    <tr>\n",
       "      <th>4</th>\n",
       "      <td>threshold_for_degree</td>\n",
       "      <td>&gt;= 0</td>\n",
       "      <td>edge weights &gt; 0.5 are counted as 1 for the de...</td>\n",
       "      <td>0.5</td>\n",
       "      <td>PriorGraphNetwork</td>\n",
       "    </tr>\n",
       "    <tr>\n",
       "      <th>5</th>\n",
       "      <td>model_type</td>\n",
       "      <td>set of options</td>\n",
       "      <td>which model type should be used for geneRegula...</td>\n",
       "      <td>Lasso</td>\n",
       "      <td>GRegulNet</td>\n",
       "    </tr>\n",
       "    <tr>\n",
       "      <th>6</th>\n",
       "      <td>max_lasso_iterations</td>\n",
       "      <td>&gt;= 1</td>\n",
       "      <td>the maximum # of iterations for Lasso</td>\n",
       "      <td>Lasso</td>\n",
       "      <td>GRegulNet</td>\n",
       "    </tr>\n",
       "    <tr>\n",
       "      <th>7</th>\n",
       "      <td>use_cross_validation_for_model_bool</td>\n",
       "      <td>boolean</td>\n",
       "      <td>should we use cross validation for training th...</td>\n",
       "      <td>False</td>\n",
       "      <td>GRegulNet</td>\n",
       "    </tr>\n",
       "    <tr>\n",
       "      <th>8</th>\n",
       "      <td>alpha_lasso</td>\n",
       "      <td>&gt;= 0</td>\n",
       "      <td>value for alpha for the lasso problem</td>\n",
       "      <td>0.01</td>\n",
       "      <td>GRegulNet</td>\n",
       "    </tr>\n",
       "    <tr>\n",
       "      <th>9</th>\n",
       "      <td>use_network</td>\n",
       "      <td>boolean</td>\n",
       "      <td>perform network regularization using a network...</td>\n",
       "      <td>True</td>\n",
       "      <td>GRegulNet</td>\n",
       "    </tr>\n",
       "    <tr>\n",
       "      <th>10</th>\n",
       "      <td>beta_network</td>\n",
       "      <td>&gt;= 0</td>\n",
       "      <td>value of beta for the network regularization p...</td>\n",
       "      <td>10</td>\n",
       "      <td>GRegulNet</td>\n",
       "    </tr>\n",
       "    <tr>\n",
       "      <th>11</th>\n",
       "      <td>fit_y_intercept_bool</td>\n",
       "      <td>boolean</td>\n",
       "      <td>fit a y-intercept for our regression problem</td>\n",
       "      <td>False</td>\n",
       "      <td>GRegulNet</td>\n",
       "    </tr>\n",
       "  </tbody>\n",
       "</table>\n",
       "</div>"
      ],
      "text/plain": [
       "                                  parameter       data type  \\\n",
       "0                       default_edge_weight            >= 0   \n",
       "1                       consider_self_loops         boolean   \n",
       "2           pseudocount_for_diagonal_matrix            >= 0   \n",
       "3   use_edge_weight_values_for_degrees_bool         boolean   \n",
       "4                      threshold_for_degree            >= 0   \n",
       "5                                model_type  set of options   \n",
       "6                      max_lasso_iterations            >= 1   \n",
       "7       use_cross_validation_for_model_bool         boolean   \n",
       "8                               alpha_lasso            >= 0   \n",
       "9                               use_network         boolean   \n",
       "10                             beta_network            >= 0   \n",
       "11                     fit_y_intercept_bool         boolean   \n",
       "\n",
       "                                          description  value  \\\n",
       "0   edge weight for any edge with missing weight info    0.1   \n",
       "1   add 1 to the degree for each node (based on se...  False   \n",
       "2   to ensure that no nodes have 0 degree value in...  0.001   \n",
       "3   if False, we use a threshold instead to derive...  False   \n",
       "4   edge weights > 0.5 are counted as 1 for the de...    0.5   \n",
       "5   which model type should be used for geneRegula...  Lasso   \n",
       "6               the maximum # of iterations for Lasso  Lasso   \n",
       "7   should we use cross validation for training th...  False   \n",
       "8               value for alpha for the lasso problem   0.01   \n",
       "9   perform network regularization using a network...   True   \n",
       "10  value of beta for the network regularization p...     10   \n",
       "11       fit a y-intercept for our regression problem  False   \n",
       "\n",
       "                class  \n",
       "0   PriorGraphNetwork  \n",
       "1   PriorGraphNetwork  \n",
       "2   PriorGraphNetwork  \n",
       "3   PriorGraphNetwork  \n",
       "4   PriorGraphNetwork  \n",
       "5           GRegulNet  \n",
       "6           GRegulNet  \n",
       "7           GRegulNet  \n",
       "8           GRegulNet  \n",
       "9           GRegulNet  \n",
       "10          GRegulNet  \n",
       "11          GRegulNet  "
      ]
     },
     "execution_count": 28,
     "metadata": {},
     "output_type": "execute_result"
    }
   ],
   "source": [
    "grn_demo.parameters_df"
   ]
  },
  {
   "cell_type": "code",
   "execution_count": null,
   "id": "ec7c8981",
   "metadata": {},
   "outputs": [],
   "source": []
  },
  {
   "cell_type": "code",
   "execution_count": null,
   "id": "386aa5b8",
   "metadata": {},
   "outputs": [],
   "source": []
  },
  {
   "cell_type": "code",
   "execution_count": null,
   "id": "39bc8c14",
   "metadata": {},
   "outputs": [],
   "source": []
  },
  {
   "cell_type": "code",
   "execution_count": null,
   "id": "65860be5",
   "metadata": {},
   "outputs": [],
   "source": []
  },
  {
   "cell_type": "code",
   "execution_count": null,
   "id": "6aae9ac1",
   "metadata": {},
   "outputs": [],
   "source": []
  },
  {
   "cell_type": "code",
   "execution_count": 14,
   "id": "ea92c988",
   "metadata": {},
   "outputs": [
    {
     "data": {
      "text/html": [
       "<div>\n",
       "<style scoped>\n",
       "    .dataframe tbody tr th:only-of-type {\n",
       "        vertical-align: middle;\n",
       "    }\n",
       "\n",
       "    .dataframe tbody tr th {\n",
       "        vertical-align: top;\n",
       "    }\n",
       "\n",
       "    .dataframe thead th {\n",
       "        text-align: right;\n",
       "    }\n",
       "</style>\n",
       "<table border=\"1\" class=\"dataframe\">\n",
       "  <thead>\n",
       "    <tr style=\"text-align: right;\">\n",
       "      <th></th>\n",
       "      <th>0</th>\n",
       "      <th>1</th>\n",
       "      <th>2</th>\n",
       "      <th>3</th>\n",
       "      <th>4</th>\n",
       "    </tr>\n",
       "  </thead>\n",
       "  <tbody>\n",
       "    <tr>\n",
       "      <th>0</th>\n",
       "      <td>default_edge_weight</td>\n",
       "      <td>&gt;= 0</td>\n",
       "      <td>edge weight for any edge with missing weight info</td>\n",
       "      <td>0.1</td>\n",
       "      <td>PriorGraphNetwork</td>\n",
       "    </tr>\n",
       "    <tr>\n",
       "      <th>1</th>\n",
       "      <td>consider_self_loops</td>\n",
       "      <td>boolean</td>\n",
       "      <td>add 1 to the degree for each node (based on se...</td>\n",
       "      <td>True</td>\n",
       "      <td>PriorGraphNetwork</td>\n",
       "    </tr>\n",
       "    <tr>\n",
       "      <th>2</th>\n",
       "      <td>pseudocount_for_diagonal_matrix</td>\n",
       "      <td>&gt;= 0</td>\n",
       "      <td>to ensure that no nodes have 0 degree value in...</td>\n",
       "      <td>0.001</td>\n",
       "      <td>PriorGraphNetwork</td>\n",
       "    </tr>\n",
       "    <tr>\n",
       "      <th>3</th>\n",
       "      <td>use_edge_weight_values_for_degrees_bool</td>\n",
       "      <td>boolean</td>\n",
       "      <td>if False, we use a threshold instead to derive...</td>\n",
       "      <td>False</td>\n",
       "      <td>PriorGraphNetwork</td>\n",
       "    </tr>\n",
       "    <tr>\n",
       "      <th>4</th>\n",
       "      <td>threshold_for_degree</td>\n",
       "      <td>&gt;= 0</td>\n",
       "      <td>edge weights &gt; 0.5 are counted as 1 for the de...</td>\n",
       "      <td>0.5</td>\n",
       "      <td>PriorGraphNetwork</td>\n",
       "    </tr>\n",
       "    <tr>\n",
       "      <th>5</th>\n",
       "      <td>model_type</td>\n",
       "      <td>set of options</td>\n",
       "      <td>which model type should be used for geneRegula...</td>\n",
       "      <td>LassoCV</td>\n",
       "      <td>GRegulNet</td>\n",
       "    </tr>\n",
       "    <tr>\n",
       "      <th>6</th>\n",
       "      <td>use_cross_validation_for_model_bool</td>\n",
       "      <td>boolean</td>\n",
       "      <td>should we use cross validation for training th...</td>\n",
       "      <td>True</td>\n",
       "      <td>GRegulNet</td>\n",
       "    </tr>\n",
       "    <tr>\n",
       "      <th>7</th>\n",
       "      <td>num_cv_folds</td>\n",
       "      <td>&gt;= 0</td>\n",
       "      <td>the # of cross-validation folds to use</td>\n",
       "      <td>5</td>\n",
       "      <td>GRegulNet</td>\n",
       "    </tr>\n",
       "    <tr>\n",
       "      <th>8</th>\n",
       "      <td>use_network</td>\n",
       "      <td>boolean</td>\n",
       "      <td>perform network regularization using a network...</td>\n",
       "      <td>True</td>\n",
       "      <td>GRegulNet</td>\n",
       "    </tr>\n",
       "    <tr>\n",
       "      <th>9</th>\n",
       "      <td>beta_network</td>\n",
       "      <td>&gt;= 0</td>\n",
       "      <td>value of beta for the network regularization p...</td>\n",
       "      <td>10</td>\n",
       "      <td>GRegulNet</td>\n",
       "    </tr>\n",
       "    <tr>\n",
       "      <th>10</th>\n",
       "      <td>fit_y_intercept_bool</td>\n",
       "      <td>boolean</td>\n",
       "      <td>fit a y-intercept for our regression problem</td>\n",
       "      <td>False</td>\n",
       "      <td>GRegulNet</td>\n",
       "    </tr>\n",
       "  </tbody>\n",
       "</table>\n",
       "</div>"
      ],
      "text/plain": [
       "                                          0               1  \\\n",
       "0                       default_edge_weight            >= 0   \n",
       "1                       consider_self_loops         boolean   \n",
       "2           pseudocount_for_diagonal_matrix            >= 0   \n",
       "3   use_edge_weight_values_for_degrees_bool         boolean   \n",
       "4                      threshold_for_degree            >= 0   \n",
       "5                                model_type  set of options   \n",
       "6       use_cross_validation_for_model_bool         boolean   \n",
       "7                              num_cv_folds            >= 0   \n",
       "8                               use_network         boolean   \n",
       "9                              beta_network            >= 0   \n",
       "10                     fit_y_intercept_bool         boolean   \n",
       "\n",
       "                                                    2        3  \\\n",
       "0   edge weight for any edge with missing weight info      0.1   \n",
       "1   add 1 to the degree for each node (based on se...     True   \n",
       "2   to ensure that no nodes have 0 degree value in...    0.001   \n",
       "3   if False, we use a threshold instead to derive...    False   \n",
       "4   edge weights > 0.5 are counted as 1 for the de...      0.5   \n",
       "5   which model type should be used for geneRegula...  LassoCV   \n",
       "6   should we use cross validation for training th...     True   \n",
       "7              the # of cross-validation folds to use        5   \n",
       "8   perform network regularization using a network...     True   \n",
       "9   value of beta for the network regularization p...       10   \n",
       "10       fit a y-intercept for our regression problem    False   \n",
       "\n",
       "                    4  \n",
       "0   PriorGraphNetwork  \n",
       "1   PriorGraphNetwork  \n",
       "2   PriorGraphNetwork  \n",
       "3   PriorGraphNetwork  \n",
       "4   PriorGraphNetwork  \n",
       "5           GRegulNet  \n",
       "6           GRegulNet  \n",
       "7           GRegulNet  \n",
       "8           GRegulNet  \n",
       "9           GRegulNet  \n",
       "10          GRegulNet  "
      ]
     },
     "execution_count": 14,
     "metadata": {},
     "output_type": "execute_result"
    }
   ],
   "source": [
    "pd.DataFrame(grn_demo.network_params)"
   ]
  },
  {
   "cell_type": "code",
   "execution_count": 15,
   "id": "b48fe843",
   "metadata": {},
   "outputs": [
    {
     "data": {
      "text/plain": [
       "array([[ 5.01249375e+01, -4.99750125e+01, -7.06576871e-02,\n",
       "        -4.99750125e-02, -4.99750125e-02],\n",
       "       [-4.99750125e+01,  5.01249375e+01, -7.06576871e-02,\n",
       "        -4.99750125e-02, -4.99750125e-02],\n",
       "       [-7.06576871e-02, -7.06576871e-02,  3.99600400e-01,\n",
       "        -7.06576871e-02, -7.06576871e-02],\n",
       "       [-4.99750125e-02, -4.99750125e-02, -7.06576871e-02,\n",
       "         5.49725137e-01, -3.99800100e-01],\n",
       "       [-4.99750125e-02, -4.99750125e-02, -7.06576871e-02,\n",
       "        -3.99800100e-01,  5.49725137e-01]])"
      ]
     },
     "execution_count": 15,
     "metadata": {},
     "output_type": "execute_result"
    }
   ],
   "source": [
    "grn_demo.A"
   ]
  },
  {
   "cell_type": "code",
   "execution_count": null,
   "id": "7cbe14f0",
   "metadata": {},
   "outputs": [],
   "source": []
  },
  {
   "cell_type": "markdown",
   "id": "b36e1cc5",
   "metadata": {},
   "source": [
    "i feel their correlations should be similar to generegulatenet coeffs "
   ]
  },
  {
   "cell_type": "code",
   "execution_count": null,
   "id": "b9ad3e71",
   "metadata": {},
   "outputs": [],
   "source": []
  },
  {
   "cell_type": "code",
   "execution_count": null,
   "id": "97bd7fef",
   "metadata": {},
   "outputs": [],
   "source": []
  },
  {
   "cell_type": "markdown",
   "id": "faf37180",
   "metadata": {},
   "source": [
    "You can check if a matrix is orthogonal by computing its transpose and its inverse, and then comparing the product of the matrix with its transpose and the product of the transpose with its inverse. If these products are equal to the identity matrix, then the matrix is orthogonal.\n",
    "\n"
   ]
  },
  {
   "cell_type": "code",
   "execution_count": 17,
   "id": "7c0b24f6",
   "metadata": {},
   "outputs": [],
   "source": [
    "import numpy as np\n",
    "\n",
    "# Define a 5x5 identity matrix\n",
    "I = np.eye(5)\n",
    "\n",
    "# Define a rotation matrix for a 2D plane\n",
    "R = np.array([[np.cos(30*np.pi/180), -np.sin(30*np.pi/180), 0, 0, 0],\n",
    "              [np.sin(30*np.pi/180), np.cos(30*np.pi/180), 0, 0, 0],\n",
    "              [0, 0, 1, 0, 0],\n",
    "              [0, 0, 0, 1, 0],\n",
    "              [0, 0, 0, 0, 1]])\n",
    "\n",
    "# Compute the product of the rotation matrix and the identity matrix\n",
    "Q = np.dot(R, I)\n"
   ]
  },
  {
   "cell_type": "code",
   "execution_count": 18,
   "id": "c3ffa9ca",
   "metadata": {},
   "outputs": [
    {
     "name": "stdout",
     "output_type": "stream",
     "text": [
      "[[ 0.8660254 -0.5        0.         0.         0.       ]\n",
      " [ 0.5        0.8660254  0.         0.         0.       ]\n",
      " [ 0.         0.         1.         0.         0.       ]\n",
      " [ 0.         0.         0.         1.         0.       ]\n",
      " [ 0.         0.         0.         0.         1.       ]]\n",
      "True\n"
     ]
    }
   ],
   "source": [
    "# Check if Q is orthogonal using the is_orthogonal function\n",
    "def is_orthogonal(matrix):\n",
    "    \"\"\"\n",
    "    Checks if a given matrix is orthogonal.\n",
    "    \n",
    "    Parameters:\n",
    "    matrix (numpy.ndarray): The matrix to check\n",
    "    \n",
    "    Returns:\n",
    "    bool: True if the matrix is orthogonal, False otherwise.\n",
    "    \"\"\"\n",
    "    # Compute the transpose of the matrix\n",
    "    matrix_T = matrix.T\n",
    "    \n",
    "    # Compute the product of the matrix and its transpose\n",
    "    matrix_matrix_T = np.dot(matrix, matrix_T)\n",
    "    \n",
    "    # Check if the product is equal to the identity matrix\n",
    "    return np.allclose(matrix_matrix_T, np.eye(matrix.shape[0]))\n",
    "\n",
    "print(Q)\n",
    "print(is_orthogonal(Q))"
   ]
  },
  {
   "cell_type": "code",
   "execution_count": 19,
   "id": "0e4fa6fd",
   "metadata": {},
   "outputs": [
    {
     "data": {
      "text/plain": [
       "array([[ 0.8660254, -0.5      ,  0.       ,  0.       ,  0.       ],\n",
       "       [ 0.5      ,  0.8660254,  0.       ,  0.       ,  0.       ],\n",
       "       [ 0.       ,  0.       ,  1.       ,  0.       ,  0.       ],\n",
       "       [ 0.       ,  0.       ,  0.       ,  1.       ,  0.       ],\n",
       "       [ 0.       ,  0.       ,  0.       ,  0.       ,  1.       ]])"
      ]
     },
     "execution_count": 19,
     "metadata": {},
     "output_type": "execute_result"
    }
   ],
   "source": [
    "Q"
   ]
  },
  {
   "cell_type": "code",
   "execution_count": null,
   "id": "641dc7df",
   "metadata": {},
   "outputs": [],
   "source": []
  },
  {
   "cell_type": "code",
   "execution_count": null,
   "id": "75f7d8fb",
   "metadata": {},
   "outputs": [],
   "source": []
  },
  {
   "cell_type": "code",
   "execution_count": null,
   "id": "796cd5de",
   "metadata": {},
   "outputs": [],
   "source": []
  },
  {
   "cell_type": "code",
   "execution_count": null,
   "id": "c93e08fa",
   "metadata": {},
   "outputs": [],
   "source": []
  },
  {
   "cell_type": "code",
   "execution_count": null,
   "id": "7bb2f718",
   "metadata": {},
   "outputs": [],
   "source": []
  },
  {
   "cell_type": "code",
   "execution_count": 20,
   "id": "d3628e7b",
   "metadata": {},
   "outputs": [
    {
     "data": {
      "text/plain": [
       "False"
      ]
     },
     "execution_count": 20,
     "metadata": {},
     "output_type": "execute_result"
    }
   ],
   "source": [
    "is_orthogonal(grn_demo.X_tilda_train)"
   ]
  },
  {
   "cell_type": "code",
   "execution_count": 22,
   "id": "cffceff3",
   "metadata": {},
   "outputs": [
    {
     "data": {
      "text/plain": [
       "False"
      ]
     },
     "execution_count": 22,
     "metadata": {},
     "output_type": "execute_result"
    }
   ],
   "source": [
    "is_orthogonal(A)"
   ]
  },
  {
   "cell_type": "code",
   "execution_count": null,
   "id": "2ef1dc70",
   "metadata": {},
   "outputs": [],
   "source": []
  }
 ],
 "metadata": {
  "kernelspec": {
   "display_name": "Python 3 (ipykernel)",
   "language": "python",
   "name": "python3"
  },
  "language_info": {
   "codemirror_mode": {
    "name": "ipython",
    "version": 3
   },
   "file_extension": ".py",
   "mimetype": "text/x-python",
   "name": "python",
   "nbconvert_exporter": "python",
   "pygments_lexer": "ipython3",
   "version": "3.10.6"
  }
 },
 "nbformat": 4,
 "nbformat_minor": 5
}
