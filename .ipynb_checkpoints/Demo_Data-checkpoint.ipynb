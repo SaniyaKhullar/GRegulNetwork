{
 "cells": [
  {
   "cell_type": "markdown",
   "id": "ca8da3d9",
   "metadata": {},
   "source": [
    "Please note that here, we explain the DemoDataBuilder class, which we created. \n",
    "\n",
    "for exploration of the results, etc. \n"
   ]
  }
 ],
 "metadata": {
  "kernelspec": {
   "display_name": "Python 3 (ipykernel)",
   "language": "python",
   "name": "python3"
  },
  "language_info": {
   "codemirror_mode": {
    "name": "ipython",
    "version": 3
   },
   "file_extension": ".py",
   "mimetype": "text/x-python",
   "name": "python",
   "nbconvert_exporter": "python",
   "pygments_lexer": "ipython3",
   "version": "3.10.6"
  }
 },
 "nbformat": 4,
 "nbformat_minor": 5
}
