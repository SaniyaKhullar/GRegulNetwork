{
 "cells": [
  {
   "cell_type": "markdown",
   "id": "3f4e68b7",
   "metadata": {},
   "source": [
    "# GRegulNet\n",
    "\n",
    "## Gene Regular(ized/atory) Network\n",
    "\n",
    "#### By: Saniya Khullar, Xiang Huang, Daifeng Wang"
   ]
  },
  {
   "cell_type": "markdown",
   "id": "6b537002",
   "metadata": {},
   "source": [
    "Please note that our package, GRegulNet, is run by the following function in Python:\n",
    "\n",
    "**geneRegulatNet(edge_list, alpha_lasso_val, beta_network_val)**\n",
    "\n",
    "At the minimum, you need to specify these 3 parameters: \n",
    "* 1. edge_list: [[source1, target1, weight1], [source2, target2, weight2], ... [sourceZ, targetZ, weightZ]]. \n",
    "\n",
    "If the weights are missing for any edge, then the default_weight will be used. \n",
    "\n",
    "* 2. alpha_lasso_val \\begin{equation} \\alpha \\end{equation}\n",
    "* 3. beta_network_val\n",
    "\n",
    "The optimization problem is:\n",
    "\n",
    "\\begin{equation}\n",
    "\\min_{c  \\in  \\mathbb{R}^N} \\frac{1}{2M} ||y - Xc||_2^2 + \\frac{\\beta}{2N^2} c^T Ac + \\alpha ||c||_1\n",
    "\\end{equation}\n",
    "\n",
    "This can be converted to Lasso by $y = \\tilde{y}$, $X = \\tilde{X}$, where $\\tilde{y}$ and $\\tilde{X}$ are the normalized versions of $y$ and $X$:\n",
    "\n",
    "\\begin{equation}\n",
    "\\min_{c  \\in  \\mathbb{R}^N} \\frac{1}{2M} ||\\tilde{y} - \\tilde{X}c||_2^2 + \\alpha ||c||_1\n",
    "\\end{equation}\n",
    "\n",
    "where $M$ is the number of samples and $N$ is the dimension of $c$ (that is, the # of predictors).\n",
    "\n",
    "\n",
    "\n",
    "\"\"\"\n",
    "Optimization for\n",
    "(1 / (2 * M)) * ||y - Xc||^2_2  +  (beta / (2 * N^2)) * c'Ac  +  alpha * ||c||_1\n",
    "Which is converted to lasso\n",
    "(1 / (2 * M)) * ||y_tilde - X_tilde @ c||^2_2   +  alpha * ||c||_1\n",
    "where M = n_samples and N is the dimension of c.\n",
    "Check compute_X_tilde_y_tilde() to see how we make sure above normalization is applied using Lasso of sklearn\n",
    "\"\"\"\n",
    "\n",
    "\n",
    "Please note that we utilize 3 classes, which can be imported directly by running: \"from gregulnetClasses import * \"\n",
    "in the Jupyter notebook cell. Class 1 is optional and is for running our demo. \n",
    "    \n",
    "* 1. DemoDataBuilderXandY:\n",
    "\n",
    ":) Please note that this class focuses on building Y data based on a normal distribution (specified mean\n",
    "    and standard deviation). M is the # of samples we want to generate. Thus, Y is a vector with M elements. \n",
    "    Then, this class returns X for a set of N predictors (each with M # of samples) based on a list of N correlation\n",
    "    values. For instance, if N = 5 predictors (the Transcription Factors (TFs)), we have [X1, X2, X3, X4, X5],\n",
    "    and a respective list of correlation values: [cor(X1, Y), cor(X2, Y), cor(X3, Y), cor(X4, Y), cor(X5, Y)].\n",
    "    Then, this class will generate X, a matrix of those 5 predictors (based on similar distribution as Y) \n",
    "    with these respective Pearson correlations (r).\n",
    "    \n",
    "    \n",
    "    \n",
    " * 2. PriorGraphNetwork:\n",
    "\n",
    ":) Please note that this class focuses on incorporating information from a prior network (in our case, \n",
    "    a biological network of some sort). The input would be an edge list with: source, target, weight. If no\n",
    "    weights are given then a weight specified by the default_weight parameter will be automatically assumed. \n",
    "   Currently, we assume that the input prior graph is undirected and thereby symmetric. \n",
    "\n",
    "This class will use the prior network (specified by the edge list) to build our W matrix and derive a degree matrix D. \n",
    "The V matrix is also built. Ultimately, these 3 matrices (W, D, and V) are used to derive our A matrix, which will be used for our network regularization penalty for our regression model. Later, this A matrix will be multiplied by a factor, beta_network, which will impact the strength of the network regularization in determining our regression model. \n",
    "\n",
    "\n",
    "* 3. GRegulNet:\n",
    "\n",
    ":) Please note that this class focuses on building a Gene Regulatory Network (GRN) from gene expression data for Transcription Factors (TFs), gene expression data for the target gene (TG), and a prior biological network (provided as an edge list, which is then used to derive the A matrix using the PriorGraphNetwork class).\n",
    "\n",
    "This GRegulNet class performs Network-penalized regression using the lasso approach :). Machine learning models are built using Python's scikit-learn library. When beta_network is 0, then the problem becomes simply one of a lasso regression on the original X and y data.  There is an option to perform cross validation on the training data (parameter: use_cross_validation_for_model_bool) when building the model (that is, LassoCV); otherwise, the traditional Lasso model is used. When alpha_lasso is 0, then linear regression is performed. \n",
    "\n",
    "\n",
    "\n",
    "**Python packages needed to run our code:**\n",
    "\n"
   ]
  },
  {
   "cell_type": "code",
   "execution_count": 1,
   "id": "d8161fe8",
   "metadata": {},
   "outputs": [],
   "source": [
    "from gregulnetClasses import *"
   ]
  },
  {
   "cell_type": "markdown",
   "id": "a844cc91",
   "metadata": {},
   "source": [
    "### Demo of GRegulNet:"
   ]
  },
  {
   "cell_type": "code",
   "execution_count": 33,
   "id": "a03e5f00",
   "metadata": {},
   "outputs": [
    {
     "name": "stdout",
     "output_type": "stream",
     "text": [
      ":) Please note that since we use the same data for training and for testing :) of our 100 samples. Thus, we have:\n",
      ":) X_train = X_test = 100 rows (samples) and 5 columns (N = 5 predictors) for training and for testing\n",
      ":) y_train = y_test = 100 corresponding rows (samples) for training and for testing.\n"
     ]
    },
    {
     "name": "stderr",
     "output_type": "stream",
     "text": [
      "100%|██████████████████████████████████████████████████████████████████████████████████| 5/5 [00:00<00:00, 2462.31it/s]\n",
      "100%|██████████████████████████████████████████████████████████████████████████████████| 5/5 [00:00<00:00, 2563.44it/s]\n",
      "100%|██████████████████████████████████████████████████████████████████████████████████| 5/5 [00:00<00:00, 4995.60it/s]\n"
     ]
    },
    {
     "data": {
      "application/vnd.plotly.v1+json": {
       "config": {
        "plotlyServerURL": "https://plot.ly"
       },
       "data": [
        {
         "alignmentgroup": "True",
         "hovertemplate": "TF=%{x}<br>correlation=%{y}<extra></extra>",
         "legendgroup": "",
         "marker": {
          "color": "#636efa",
          "pattern": {
           "shape": ""
          }
         },
         "name": "",
         "offsetgroup": "",
         "orientation": "v",
         "showlegend": false,
         "textposition": "auto",
         "type": "bar",
         "x": [
          "TF0",
          "TF1",
          "TF2",
          "TF3",
          "TF4"
         ],
         "xaxis": "x",
         "y": [
          0.9,
          0.5,
          0.1,
          -0.2,
          -0.8
         ],
         "yaxis": "y"
        }
       ],
       "layout": {
        "barmode": "group",
        "legend": {
         "tracegroupgap": 0
        },
        "margin": {
         "t": 60
        },
        "template": {
         "data": {
          "bar": [
           {
            "error_x": {
             "color": "#2a3f5f"
            },
            "error_y": {
             "color": "#2a3f5f"
            },
            "marker": {
             "line": {
              "color": "#E5ECF6",
              "width": 0.5
             },
             "pattern": {
              "fillmode": "overlay",
              "size": 10,
              "solidity": 0.2
             }
            },
            "type": "bar"
           }
          ],
          "barpolar": [
           {
            "marker": {
             "line": {
              "color": "#E5ECF6",
              "width": 0.5
             },
             "pattern": {
              "fillmode": "overlay",
              "size": 10,
              "solidity": 0.2
             }
            },
            "type": "barpolar"
           }
          ],
          "carpet": [
           {
            "aaxis": {
             "endlinecolor": "#2a3f5f",
             "gridcolor": "white",
             "linecolor": "white",
             "minorgridcolor": "white",
             "startlinecolor": "#2a3f5f"
            },
            "baxis": {
             "endlinecolor": "#2a3f5f",
             "gridcolor": "white",
             "linecolor": "white",
             "minorgridcolor": "white",
             "startlinecolor": "#2a3f5f"
            },
            "type": "carpet"
           }
          ],
          "choropleth": [
           {
            "colorbar": {
             "outlinewidth": 0,
             "ticks": ""
            },
            "type": "choropleth"
           }
          ],
          "contour": [
           {
            "colorbar": {
             "outlinewidth": 0,
             "ticks": ""
            },
            "colorscale": [
             [
              0,
              "#0d0887"
             ],
             [
              0.1111111111111111,
              "#46039f"
             ],
             [
              0.2222222222222222,
              "#7201a8"
             ],
             [
              0.3333333333333333,
              "#9c179e"
             ],
             [
              0.4444444444444444,
              "#bd3786"
             ],
             [
              0.5555555555555556,
              "#d8576b"
             ],
             [
              0.6666666666666666,
              "#ed7953"
             ],
             [
              0.7777777777777778,
              "#fb9f3a"
             ],
             [
              0.8888888888888888,
              "#fdca26"
             ],
             [
              1,
              "#f0f921"
             ]
            ],
            "type": "contour"
           }
          ],
          "contourcarpet": [
           {
            "colorbar": {
             "outlinewidth": 0,
             "ticks": ""
            },
            "type": "contourcarpet"
           }
          ],
          "heatmap": [
           {
            "colorbar": {
             "outlinewidth": 0,
             "ticks": ""
            },
            "colorscale": [
             [
              0,
              "#0d0887"
             ],
             [
              0.1111111111111111,
              "#46039f"
             ],
             [
              0.2222222222222222,
              "#7201a8"
             ],
             [
              0.3333333333333333,
              "#9c179e"
             ],
             [
              0.4444444444444444,
              "#bd3786"
             ],
             [
              0.5555555555555556,
              "#d8576b"
             ],
             [
              0.6666666666666666,
              "#ed7953"
             ],
             [
              0.7777777777777778,
              "#fb9f3a"
             ],
             [
              0.8888888888888888,
              "#fdca26"
             ],
             [
              1,
              "#f0f921"
             ]
            ],
            "type": "heatmap"
           }
          ],
          "heatmapgl": [
           {
            "colorbar": {
             "outlinewidth": 0,
             "ticks": ""
            },
            "colorscale": [
             [
              0,
              "#0d0887"
             ],
             [
              0.1111111111111111,
              "#46039f"
             ],
             [
              0.2222222222222222,
              "#7201a8"
             ],
             [
              0.3333333333333333,
              "#9c179e"
             ],
             [
              0.4444444444444444,
              "#bd3786"
             ],
             [
              0.5555555555555556,
              "#d8576b"
             ],
             [
              0.6666666666666666,
              "#ed7953"
             ],
             [
              0.7777777777777778,
              "#fb9f3a"
             ],
             [
              0.8888888888888888,
              "#fdca26"
             ],
             [
              1,
              "#f0f921"
             ]
            ],
            "type": "heatmapgl"
           }
          ],
          "histogram": [
           {
            "marker": {
             "pattern": {
              "fillmode": "overlay",
              "size": 10,
              "solidity": 0.2
             }
            },
            "type": "histogram"
           }
          ],
          "histogram2d": [
           {
            "colorbar": {
             "outlinewidth": 0,
             "ticks": ""
            },
            "colorscale": [
             [
              0,
              "#0d0887"
             ],
             [
              0.1111111111111111,
              "#46039f"
             ],
             [
              0.2222222222222222,
              "#7201a8"
             ],
             [
              0.3333333333333333,
              "#9c179e"
             ],
             [
              0.4444444444444444,
              "#bd3786"
             ],
             [
              0.5555555555555556,
              "#d8576b"
             ],
             [
              0.6666666666666666,
              "#ed7953"
             ],
             [
              0.7777777777777778,
              "#fb9f3a"
             ],
             [
              0.8888888888888888,
              "#fdca26"
             ],
             [
              1,
              "#f0f921"
             ]
            ],
            "type": "histogram2d"
           }
          ],
          "histogram2dcontour": [
           {
            "colorbar": {
             "outlinewidth": 0,
             "ticks": ""
            },
            "colorscale": [
             [
              0,
              "#0d0887"
             ],
             [
              0.1111111111111111,
              "#46039f"
             ],
             [
              0.2222222222222222,
              "#7201a8"
             ],
             [
              0.3333333333333333,
              "#9c179e"
             ],
             [
              0.4444444444444444,
              "#bd3786"
             ],
             [
              0.5555555555555556,
              "#d8576b"
             ],
             [
              0.6666666666666666,
              "#ed7953"
             ],
             [
              0.7777777777777778,
              "#fb9f3a"
             ],
             [
              0.8888888888888888,
              "#fdca26"
             ],
             [
              1,
              "#f0f921"
             ]
            ],
            "type": "histogram2dcontour"
           }
          ],
          "mesh3d": [
           {
            "colorbar": {
             "outlinewidth": 0,
             "ticks": ""
            },
            "type": "mesh3d"
           }
          ],
          "parcoords": [
           {
            "line": {
             "colorbar": {
              "outlinewidth": 0,
              "ticks": ""
             }
            },
            "type": "parcoords"
           }
          ],
          "pie": [
           {
            "automargin": true,
            "type": "pie"
           }
          ],
          "scatter": [
           {
            "fillpattern": {
             "fillmode": "overlay",
             "size": 10,
             "solidity": 0.2
            },
            "type": "scatter"
           }
          ],
          "scatter3d": [
           {
            "line": {
             "colorbar": {
              "outlinewidth": 0,
              "ticks": ""
             }
            },
            "marker": {
             "colorbar": {
              "outlinewidth": 0,
              "ticks": ""
             }
            },
            "type": "scatter3d"
           }
          ],
          "scattercarpet": [
           {
            "marker": {
             "colorbar": {
              "outlinewidth": 0,
              "ticks": ""
             }
            },
            "type": "scattercarpet"
           }
          ],
          "scattergeo": [
           {
            "marker": {
             "colorbar": {
              "outlinewidth": 0,
              "ticks": ""
             }
            },
            "type": "scattergeo"
           }
          ],
          "scattergl": [
           {
            "marker": {
             "colorbar": {
              "outlinewidth": 0,
              "ticks": ""
             }
            },
            "type": "scattergl"
           }
          ],
          "scattermapbox": [
           {
            "marker": {
             "colorbar": {
              "outlinewidth": 0,
              "ticks": ""
             }
            },
            "type": "scattermapbox"
           }
          ],
          "scatterpolar": [
           {
            "marker": {
             "colorbar": {
              "outlinewidth": 0,
              "ticks": ""
             }
            },
            "type": "scatterpolar"
           }
          ],
          "scatterpolargl": [
           {
            "marker": {
             "colorbar": {
              "outlinewidth": 0,
              "ticks": ""
             }
            },
            "type": "scatterpolargl"
           }
          ],
          "scatterternary": [
           {
            "marker": {
             "colorbar": {
              "outlinewidth": 0,
              "ticks": ""
             }
            },
            "type": "scatterternary"
           }
          ],
          "surface": [
           {
            "colorbar": {
             "outlinewidth": 0,
             "ticks": ""
            },
            "colorscale": [
             [
              0,
              "#0d0887"
             ],
             [
              0.1111111111111111,
              "#46039f"
             ],
             [
              0.2222222222222222,
              "#7201a8"
             ],
             [
              0.3333333333333333,
              "#9c179e"
             ],
             [
              0.4444444444444444,
              "#bd3786"
             ],
             [
              0.5555555555555556,
              "#d8576b"
             ],
             [
              0.6666666666666666,
              "#ed7953"
             ],
             [
              0.7777777777777778,
              "#fb9f3a"
             ],
             [
              0.8888888888888888,
              "#fdca26"
             ],
             [
              1,
              "#f0f921"
             ]
            ],
            "type": "surface"
           }
          ],
          "table": [
           {
            "cells": {
             "fill": {
              "color": "#EBF0F8"
             },
             "line": {
              "color": "white"
             }
            },
            "header": {
             "fill": {
              "color": "#C8D4E3"
             },
             "line": {
              "color": "white"
             }
            },
            "type": "table"
           }
          ]
         },
         "layout": {
          "annotationdefaults": {
           "arrowcolor": "#2a3f5f",
           "arrowhead": 0,
           "arrowwidth": 1
          },
          "autotypenumbers": "strict",
          "coloraxis": {
           "colorbar": {
            "outlinewidth": 0,
            "ticks": ""
           }
          },
          "colorscale": {
           "diverging": [
            [
             0,
             "#8e0152"
            ],
            [
             0.1,
             "#c51b7d"
            ],
            [
             0.2,
             "#de77ae"
            ],
            [
             0.3,
             "#f1b6da"
            ],
            [
             0.4,
             "#fde0ef"
            ],
            [
             0.5,
             "#f7f7f7"
            ],
            [
             0.6,
             "#e6f5d0"
            ],
            [
             0.7,
             "#b8e186"
            ],
            [
             0.8,
             "#7fbc41"
            ],
            [
             0.9,
             "#4d9221"
            ],
            [
             1,
             "#276419"
            ]
           ],
           "sequential": [
            [
             0,
             "#0d0887"
            ],
            [
             0.1111111111111111,
             "#46039f"
            ],
            [
             0.2222222222222222,
             "#7201a8"
            ],
            [
             0.3333333333333333,
             "#9c179e"
            ],
            [
             0.4444444444444444,
             "#bd3786"
            ],
            [
             0.5555555555555556,
             "#d8576b"
            ],
            [
             0.6666666666666666,
             "#ed7953"
            ],
            [
             0.7777777777777778,
             "#fb9f3a"
            ],
            [
             0.8888888888888888,
             "#fdca26"
            ],
            [
             1,
             "#f0f921"
            ]
           ],
           "sequentialminus": [
            [
             0,
             "#0d0887"
            ],
            [
             0.1111111111111111,
             "#46039f"
            ],
            [
             0.2222222222222222,
             "#7201a8"
            ],
            [
             0.3333333333333333,
             "#9c179e"
            ],
            [
             0.4444444444444444,
             "#bd3786"
            ],
            [
             0.5555555555555556,
             "#d8576b"
            ],
            [
             0.6666666666666666,
             "#ed7953"
            ],
            [
             0.7777777777777778,
             "#fb9f3a"
            ],
            [
             0.8888888888888888,
             "#fdca26"
            ],
            [
             1,
             "#f0f921"
            ]
           ]
          },
          "colorway": [
           "#636efa",
           "#EF553B",
           "#00cc96",
           "#ab63fa",
           "#FFA15A",
           "#19d3f3",
           "#FF6692",
           "#B6E880",
           "#FF97FF",
           "#FECB52"
          ],
          "font": {
           "color": "#2a3f5f"
          },
          "geo": {
           "bgcolor": "white",
           "lakecolor": "white",
           "landcolor": "#E5ECF6",
           "showlakes": true,
           "showland": true,
           "subunitcolor": "white"
          },
          "hoverlabel": {
           "align": "left"
          },
          "hovermode": "closest",
          "mapbox": {
           "style": "light"
          },
          "paper_bgcolor": "white",
          "plot_bgcolor": "#E5ECF6",
          "polar": {
           "angularaxis": {
            "gridcolor": "white",
            "linecolor": "white",
            "ticks": ""
           },
           "bgcolor": "#E5ECF6",
           "radialaxis": {
            "gridcolor": "white",
            "linecolor": "white",
            "ticks": ""
           }
          },
          "scene": {
           "xaxis": {
            "backgroundcolor": "#E5ECF6",
            "gridcolor": "white",
            "gridwidth": 2,
            "linecolor": "white",
            "showbackground": true,
            "ticks": "",
            "zerolinecolor": "white"
           },
           "yaxis": {
            "backgroundcolor": "#E5ECF6",
            "gridcolor": "white",
            "gridwidth": 2,
            "linecolor": "white",
            "showbackground": true,
            "ticks": "",
            "zerolinecolor": "white"
           },
           "zaxis": {
            "backgroundcolor": "#E5ECF6",
            "gridcolor": "white",
            "gridwidth": 2,
            "linecolor": "white",
            "showbackground": true,
            "ticks": "",
            "zerolinecolor": "white"
           }
          },
          "shapedefaults": {
           "line": {
            "color": "#2a3f5f"
           }
          },
          "ternary": {
           "aaxis": {
            "gridcolor": "white",
            "linecolor": "white",
            "ticks": ""
           },
           "baxis": {
            "gridcolor": "white",
            "linecolor": "white",
            "ticks": ""
           },
           "bgcolor": "#E5ECF6",
           "caxis": {
            "gridcolor": "white",
            "linecolor": "white",
            "ticks": ""
           }
          },
          "title": {
           "x": 0.05
          },
          "xaxis": {
           "automargin": true,
           "gridcolor": "white",
           "linecolor": "white",
           "ticks": "",
           "title": {
            "standoff": 15
           },
           "zerolinecolor": "white",
           "zerolinewidth": 2
          },
          "yaxis": {
           "automargin": true,
           "gridcolor": "white",
           "linecolor": "white",
           "ticks": "",
           "title": {
            "standoff": 15
           },
           "zerolinecolor": "white",
           "zerolinewidth": 2
          }
         }
        },
        "xaxis": {
         "anchor": "y",
         "domain": [
          0,
          1
         ],
         "title": {
          "text": "TF"
         }
        },
        "yaxis": {
         "anchor": "x",
         "domain": [
          0,
          1
         ],
         "title": {
          "text": "correlation"
         }
        }
       }
      },
      "text/html": [
       "<div>                            <div id=\"379fb1ee-1fe3-4e8f-9d16-df79b24e4116\" class=\"plotly-graph-div\" style=\"height:525px; width:100%;\"></div>            <script type=\"text/javascript\">                require([\"plotly\"], function(Plotly) {                    window.PLOTLYENV=window.PLOTLYENV || {};                                    if (document.getElementById(\"379fb1ee-1fe3-4e8f-9d16-df79b24e4116\")) {                    Plotly.newPlot(                        \"379fb1ee-1fe3-4e8f-9d16-df79b24e4116\",                        [{\"alignmentgroup\":\"True\",\"hovertemplate\":\"TF=%{x}<br>correlation=%{y}<extra></extra>\",\"legendgroup\":\"\",\"marker\":{\"color\":\"#636efa\",\"pattern\":{\"shape\":\"\"}},\"name\":\"\",\"offsetgroup\":\"\",\"orientation\":\"v\",\"showlegend\":false,\"textposition\":\"auto\",\"x\":[\"TF0\",\"TF1\",\"TF2\",\"TF3\",\"TF4\"],\"xaxis\":\"x\",\"y\":[0.9,0.5,0.1,-0.2,-0.8],\"yaxis\":\"y\",\"type\":\"bar\"}],                        {\"template\":{\"data\":{\"histogram2dcontour\":[{\"type\":\"histogram2dcontour\",\"colorbar\":{\"outlinewidth\":0,\"ticks\":\"\"},\"colorscale\":[[0.0,\"#0d0887\"],[0.1111111111111111,\"#46039f\"],[0.2222222222222222,\"#7201a8\"],[0.3333333333333333,\"#9c179e\"],[0.4444444444444444,\"#bd3786\"],[0.5555555555555556,\"#d8576b\"],[0.6666666666666666,\"#ed7953\"],[0.7777777777777778,\"#fb9f3a\"],[0.8888888888888888,\"#fdca26\"],[1.0,\"#f0f921\"]]}],\"choropleth\":[{\"type\":\"choropleth\",\"colorbar\":{\"outlinewidth\":0,\"ticks\":\"\"}}],\"histogram2d\":[{\"type\":\"histogram2d\",\"colorbar\":{\"outlinewidth\":0,\"ticks\":\"\"},\"colorscale\":[[0.0,\"#0d0887\"],[0.1111111111111111,\"#46039f\"],[0.2222222222222222,\"#7201a8\"],[0.3333333333333333,\"#9c179e\"],[0.4444444444444444,\"#bd3786\"],[0.5555555555555556,\"#d8576b\"],[0.6666666666666666,\"#ed7953\"],[0.7777777777777778,\"#fb9f3a\"],[0.8888888888888888,\"#fdca26\"],[1.0,\"#f0f921\"]]}],\"heatmap\":[{\"type\":\"heatmap\",\"colorbar\":{\"outlinewidth\":0,\"ticks\":\"\"},\"colorscale\":[[0.0,\"#0d0887\"],[0.1111111111111111,\"#46039f\"],[0.2222222222222222,\"#7201a8\"],[0.3333333333333333,\"#9c179e\"],[0.4444444444444444,\"#bd3786\"],[0.5555555555555556,\"#d8576b\"],[0.6666666666666666,\"#ed7953\"],[0.7777777777777778,\"#fb9f3a\"],[0.8888888888888888,\"#fdca26\"],[1.0,\"#f0f921\"]]}],\"heatmapgl\":[{\"type\":\"heatmapgl\",\"colorbar\":{\"outlinewidth\":0,\"ticks\":\"\"},\"colorscale\":[[0.0,\"#0d0887\"],[0.1111111111111111,\"#46039f\"],[0.2222222222222222,\"#7201a8\"],[0.3333333333333333,\"#9c179e\"],[0.4444444444444444,\"#bd3786\"],[0.5555555555555556,\"#d8576b\"],[0.6666666666666666,\"#ed7953\"],[0.7777777777777778,\"#fb9f3a\"],[0.8888888888888888,\"#fdca26\"],[1.0,\"#f0f921\"]]}],\"contourcarpet\":[{\"type\":\"contourcarpet\",\"colorbar\":{\"outlinewidth\":0,\"ticks\":\"\"}}],\"contour\":[{\"type\":\"contour\",\"colorbar\":{\"outlinewidth\":0,\"ticks\":\"\"},\"colorscale\":[[0.0,\"#0d0887\"],[0.1111111111111111,\"#46039f\"],[0.2222222222222222,\"#7201a8\"],[0.3333333333333333,\"#9c179e\"],[0.4444444444444444,\"#bd3786\"],[0.5555555555555556,\"#d8576b\"],[0.6666666666666666,\"#ed7953\"],[0.7777777777777778,\"#fb9f3a\"],[0.8888888888888888,\"#fdca26\"],[1.0,\"#f0f921\"]]}],\"surface\":[{\"type\":\"surface\",\"colorbar\":{\"outlinewidth\":0,\"ticks\":\"\"},\"colorscale\":[[0.0,\"#0d0887\"],[0.1111111111111111,\"#46039f\"],[0.2222222222222222,\"#7201a8\"],[0.3333333333333333,\"#9c179e\"],[0.4444444444444444,\"#bd3786\"],[0.5555555555555556,\"#d8576b\"],[0.6666666666666666,\"#ed7953\"],[0.7777777777777778,\"#fb9f3a\"],[0.8888888888888888,\"#fdca26\"],[1.0,\"#f0f921\"]]}],\"mesh3d\":[{\"type\":\"mesh3d\",\"colorbar\":{\"outlinewidth\":0,\"ticks\":\"\"}}],\"scatter\":[{\"fillpattern\":{\"fillmode\":\"overlay\",\"size\":10,\"solidity\":0.2},\"type\":\"scatter\"}],\"parcoords\":[{\"type\":\"parcoords\",\"line\":{\"colorbar\":{\"outlinewidth\":0,\"ticks\":\"\"}}}],\"scatterpolargl\":[{\"type\":\"scatterpolargl\",\"marker\":{\"colorbar\":{\"outlinewidth\":0,\"ticks\":\"\"}}}],\"bar\":[{\"error_x\":{\"color\":\"#2a3f5f\"},\"error_y\":{\"color\":\"#2a3f5f\"},\"marker\":{\"line\":{\"color\":\"#E5ECF6\",\"width\":0.5},\"pattern\":{\"fillmode\":\"overlay\",\"size\":10,\"solidity\":0.2}},\"type\":\"bar\"}],\"scattergeo\":[{\"type\":\"scattergeo\",\"marker\":{\"colorbar\":{\"outlinewidth\":0,\"ticks\":\"\"}}}],\"scatterpolar\":[{\"type\":\"scatterpolar\",\"marker\":{\"colorbar\":{\"outlinewidth\":0,\"ticks\":\"\"}}}],\"histogram\":[{\"marker\":{\"pattern\":{\"fillmode\":\"overlay\",\"size\":10,\"solidity\":0.2}},\"type\":\"histogram\"}],\"scattergl\":[{\"type\":\"scattergl\",\"marker\":{\"colorbar\":{\"outlinewidth\":0,\"ticks\":\"\"}}}],\"scatter3d\":[{\"type\":\"scatter3d\",\"line\":{\"colorbar\":{\"outlinewidth\":0,\"ticks\":\"\"}},\"marker\":{\"colorbar\":{\"outlinewidth\":0,\"ticks\":\"\"}}}],\"scattermapbox\":[{\"type\":\"scattermapbox\",\"marker\":{\"colorbar\":{\"outlinewidth\":0,\"ticks\":\"\"}}}],\"scatterternary\":[{\"type\":\"scatterternary\",\"marker\":{\"colorbar\":{\"outlinewidth\":0,\"ticks\":\"\"}}}],\"scattercarpet\":[{\"type\":\"scattercarpet\",\"marker\":{\"colorbar\":{\"outlinewidth\":0,\"ticks\":\"\"}}}],\"carpet\":[{\"aaxis\":{\"endlinecolor\":\"#2a3f5f\",\"gridcolor\":\"white\",\"linecolor\":\"white\",\"minorgridcolor\":\"white\",\"startlinecolor\":\"#2a3f5f\"},\"baxis\":{\"endlinecolor\":\"#2a3f5f\",\"gridcolor\":\"white\",\"linecolor\":\"white\",\"minorgridcolor\":\"white\",\"startlinecolor\":\"#2a3f5f\"},\"type\":\"carpet\"}],\"table\":[{\"cells\":{\"fill\":{\"color\":\"#EBF0F8\"},\"line\":{\"color\":\"white\"}},\"header\":{\"fill\":{\"color\":\"#C8D4E3\"},\"line\":{\"color\":\"white\"}},\"type\":\"table\"}],\"barpolar\":[{\"marker\":{\"line\":{\"color\":\"#E5ECF6\",\"width\":0.5},\"pattern\":{\"fillmode\":\"overlay\",\"size\":10,\"solidity\":0.2}},\"type\":\"barpolar\"}],\"pie\":[{\"automargin\":true,\"type\":\"pie\"}]},\"layout\":{\"autotypenumbers\":\"strict\",\"colorway\":[\"#636efa\",\"#EF553B\",\"#00cc96\",\"#ab63fa\",\"#FFA15A\",\"#19d3f3\",\"#FF6692\",\"#B6E880\",\"#FF97FF\",\"#FECB52\"],\"font\":{\"color\":\"#2a3f5f\"},\"hovermode\":\"closest\",\"hoverlabel\":{\"align\":\"left\"},\"paper_bgcolor\":\"white\",\"plot_bgcolor\":\"#E5ECF6\",\"polar\":{\"bgcolor\":\"#E5ECF6\",\"angularaxis\":{\"gridcolor\":\"white\",\"linecolor\":\"white\",\"ticks\":\"\"},\"radialaxis\":{\"gridcolor\":\"white\",\"linecolor\":\"white\",\"ticks\":\"\"}},\"ternary\":{\"bgcolor\":\"#E5ECF6\",\"aaxis\":{\"gridcolor\":\"white\",\"linecolor\":\"white\",\"ticks\":\"\"},\"baxis\":{\"gridcolor\":\"white\",\"linecolor\":\"white\",\"ticks\":\"\"},\"caxis\":{\"gridcolor\":\"white\",\"linecolor\":\"white\",\"ticks\":\"\"}},\"coloraxis\":{\"colorbar\":{\"outlinewidth\":0,\"ticks\":\"\"}},\"colorscale\":{\"sequential\":[[0.0,\"#0d0887\"],[0.1111111111111111,\"#46039f\"],[0.2222222222222222,\"#7201a8\"],[0.3333333333333333,\"#9c179e\"],[0.4444444444444444,\"#bd3786\"],[0.5555555555555556,\"#d8576b\"],[0.6666666666666666,\"#ed7953\"],[0.7777777777777778,\"#fb9f3a\"],[0.8888888888888888,\"#fdca26\"],[1.0,\"#f0f921\"]],\"sequentialminus\":[[0.0,\"#0d0887\"],[0.1111111111111111,\"#46039f\"],[0.2222222222222222,\"#7201a8\"],[0.3333333333333333,\"#9c179e\"],[0.4444444444444444,\"#bd3786\"],[0.5555555555555556,\"#d8576b\"],[0.6666666666666666,\"#ed7953\"],[0.7777777777777778,\"#fb9f3a\"],[0.8888888888888888,\"#fdca26\"],[1.0,\"#f0f921\"]],\"diverging\":[[0,\"#8e0152\"],[0.1,\"#c51b7d\"],[0.2,\"#de77ae\"],[0.3,\"#f1b6da\"],[0.4,\"#fde0ef\"],[0.5,\"#f7f7f7\"],[0.6,\"#e6f5d0\"],[0.7,\"#b8e186\"],[0.8,\"#7fbc41\"],[0.9,\"#4d9221\"],[1,\"#276419\"]]},\"xaxis\":{\"gridcolor\":\"white\",\"linecolor\":\"white\",\"ticks\":\"\",\"title\":{\"standoff\":15},\"zerolinecolor\":\"white\",\"automargin\":true,\"zerolinewidth\":2},\"yaxis\":{\"gridcolor\":\"white\",\"linecolor\":\"white\",\"ticks\":\"\",\"title\":{\"standoff\":15},\"zerolinecolor\":\"white\",\"automargin\":true,\"zerolinewidth\":2},\"scene\":{\"xaxis\":{\"backgroundcolor\":\"#E5ECF6\",\"gridcolor\":\"white\",\"linecolor\":\"white\",\"showbackground\":true,\"ticks\":\"\",\"zerolinecolor\":\"white\",\"gridwidth\":2},\"yaxis\":{\"backgroundcolor\":\"#E5ECF6\",\"gridcolor\":\"white\",\"linecolor\":\"white\",\"showbackground\":true,\"ticks\":\"\",\"zerolinecolor\":\"white\",\"gridwidth\":2},\"zaxis\":{\"backgroundcolor\":\"#E5ECF6\",\"gridcolor\":\"white\",\"linecolor\":\"white\",\"showbackground\":true,\"ticks\":\"\",\"zerolinecolor\":\"white\",\"gridwidth\":2}},\"shapedefaults\":{\"line\":{\"color\":\"#2a3f5f\"}},\"annotationdefaults\":{\"arrowcolor\":\"#2a3f5f\",\"arrowhead\":0,\"arrowwidth\":1},\"geo\":{\"bgcolor\":\"white\",\"landcolor\":\"#E5ECF6\",\"subunitcolor\":\"white\",\"showland\":true,\"showlakes\":true,\"lakecolor\":\"white\"},\"title\":{\"x\":0.05},\"mapbox\":{\"style\":\"light\"}}},\"xaxis\":{\"anchor\":\"y\",\"domain\":[0.0,1.0],\"title\":{\"text\":\"TF\"}},\"yaxis\":{\"anchor\":\"x\",\"domain\":[0.0,1.0],\"title\":{\"text\":\"correlation\"}},\"legend\":{\"tracegroupgap\":0},\"margin\":{\"t\":60},\"barmode\":\"group\"},                        {\"responsive\": true}                    ).then(function(){\n",
       "                            \n",
       "var gd = document.getElementById('379fb1ee-1fe3-4e8f-9d16-df79b24e4116');\n",
       "var x = new MutationObserver(function (mutations, observer) {{\n",
       "        var display = window.getComputedStyle(gd).display;\n",
       "        if (!display || display === 'none') {{\n",
       "            console.log([gd, 'removed!']);\n",
       "            Plotly.purge(gd);\n",
       "            observer.disconnect();\n",
       "        }}\n",
       "}});\n",
       "\n",
       "// Listen for the removal of the full notebook cells\n",
       "var notebookContainer = gd.closest('#notebook-container');\n",
       "if (notebookContainer) {{\n",
       "    x.observe(notebookContainer, {childList: true});\n",
       "}}\n",
       "\n",
       "// Listen for the clearing of the current output cell\n",
       "var outputEl = gd.closest('.output');\n",
       "if (outputEl) {{\n",
       "    x.observe(outputEl, {childList: true});\n",
       "}}\n",
       "\n",
       "                        })                };                });            </script>        </div>"
      ]
     },
     "metadata": {},
     "output_type": "display_data"
    }
   ],
   "source": [
    "demo_dict = {\"M\": 100,\n",
    "            \"corrVals\": [0.9, 0.5, 0.1, -0.2, -0.8],\n",
    "            \"same_train_and_test_data_bool\":True}\n",
    "dummy_data = DemoDataBuilderXandY(**demo_dict)\n",
    "\n",
    "X_train = dummy_data.X_train\n",
    "y_train = dummy_data.y_train\n",
    "X_test = dummy_data.X_test\n",
    "y_test = dummy_data.y_test \n",
    "\n",
    "edge_list = [[0, 1, 100], [3, 4, 0.8], [0, 2], [0, 3], [0, 4], # may specify edge weights if we want\n",
    "              [1, 2], [1, 3], [1, 4], [2, 3], [2, 4]]\n",
    "alpha_lasso_val = 0.01\n",
    "beta_network_val = 10"
   ]
  },
  {
   "cell_type": "code",
   "execution_count": 34,
   "id": "a768fa43",
   "metadata": {},
   "outputs": [
    {
     "data": {
      "text/html": [
       "<div>\n",
       "<style scoped>\n",
       "    .dataframe tbody tr th:only-of-type {\n",
       "        vertical-align: middle;\n",
       "    }\n",
       "\n",
       "    .dataframe tbody tr th {\n",
       "        vertical-align: top;\n",
       "    }\n",
       "\n",
       "    .dataframe thead th {\n",
       "        text-align: right;\n",
       "    }\n",
       "</style>\n",
       "<table border=\"1\" class=\"dataframe\">\n",
       "  <thead>\n",
       "    <tr style=\"text-align: right;\">\n",
       "      <th></th>\n",
       "      <th>source</th>\n",
       "      <th>target</th>\n",
       "      <th>weight</th>\n",
       "    </tr>\n",
       "  </thead>\n",
       "  <tbody>\n",
       "    <tr>\n",
       "      <th>0</th>\n",
       "      <td>0</td>\n",
       "      <td>1</td>\n",
       "      <td>100.0</td>\n",
       "    </tr>\n",
       "    <tr>\n",
       "      <th>1</th>\n",
       "      <td>3</td>\n",
       "      <td>4</td>\n",
       "      <td>0.8</td>\n",
       "    </tr>\n",
       "    <tr>\n",
       "      <th>2</th>\n",
       "      <td>0</td>\n",
       "      <td>2</td>\n",
       "      <td>NaN</td>\n",
       "    </tr>\n",
       "    <tr>\n",
       "      <th>3</th>\n",
       "      <td>0</td>\n",
       "      <td>3</td>\n",
       "      <td>NaN</td>\n",
       "    </tr>\n",
       "    <tr>\n",
       "      <th>4</th>\n",
       "      <td>0</td>\n",
       "      <td>4</td>\n",
       "      <td>NaN</td>\n",
       "    </tr>\n",
       "    <tr>\n",
       "      <th>5</th>\n",
       "      <td>1</td>\n",
       "      <td>2</td>\n",
       "      <td>NaN</td>\n",
       "    </tr>\n",
       "    <tr>\n",
       "      <th>6</th>\n",
       "      <td>1</td>\n",
       "      <td>3</td>\n",
       "      <td>NaN</td>\n",
       "    </tr>\n",
       "    <tr>\n",
       "      <th>7</th>\n",
       "      <td>1</td>\n",
       "      <td>4</td>\n",
       "      <td>NaN</td>\n",
       "    </tr>\n",
       "    <tr>\n",
       "      <th>8</th>\n",
       "      <td>2</td>\n",
       "      <td>3</td>\n",
       "      <td>NaN</td>\n",
       "    </tr>\n",
       "    <tr>\n",
       "      <th>9</th>\n",
       "      <td>2</td>\n",
       "      <td>4</td>\n",
       "      <td>NaN</td>\n",
       "    </tr>\n",
       "  </tbody>\n",
       "</table>\n",
       "</div>"
      ],
      "text/plain": [
       "   source  target  weight\n",
       "0       0       1   100.0\n",
       "1       3       4     0.8\n",
       "2       0       2     NaN\n",
       "3       0       3     NaN\n",
       "4       0       4     NaN\n",
       "5       1       2     NaN\n",
       "6       1       3     NaN\n",
       "7       1       4     NaN\n",
       "8       2       3     NaN\n",
       "9       2       4     NaN"
      ]
     },
     "execution_count": 34,
     "metadata": {},
     "output_type": "execute_result"
    }
   ],
   "source": [
    "pd.DataFrame(edge_list, columns = [\"source\", \"target\", \"weight\"])\n",
    "\n",
    "# table using R markdown..."
   ]
  },
  {
   "cell_type": "code",
   "execution_count": 35,
   "id": "8fc0e919",
   "metadata": {},
   "outputs": [],
   "source": [
    "#use_cross_validation_for_model_bool"
   ]
  },
  {
   "cell_type": "markdown",
   "id": "32627f7b",
   "metadata": {},
   "source": [
    "Building the network regularized regression model. "
   ]
  },
  {
   "cell_type": "code",
   "execution_count": 36,
   "id": "3e953424",
   "metadata": {},
   "outputs": [
    {
     "name": "stdout",
     "output_type": "stream",
     "text": [
      "undirected_edge_list_to_matrix\n",
      ":) Please note that we count the number of edges with weight > 0.5 to get the degree for a given node.\n",
      ":) We also add 0.001 as a pseudocount to our degree value for each node.\n",
      "\n",
      ":) A is symmetric!\n",
      "network used\n",
      "Train\n",
      "Lasso\n"
     ]
    },
    {
     "data": {
      "text/plain": [
       "<gregulnetClasses.GRegulNet at 0x25686a92fe0>"
      ]
     },
     "execution_count": 36,
     "metadata": {},
     "output_type": "execute_result"
    },
    {
     "data": {
      "image/png": "[encoded data removed]",
      "text/plain": [
       "<Figure size 640x480 with 1 Axes>"
      ]
     },
     "metadata": {},
     "output_type": "display_data"
    }
   ],
   "source": [
    "grn_demo = geneRegulatNet(edge_list = edge_list, \n",
    "                          alpha_lasso_val = alpha_lasso_val, \n",
    "                          beta_network_val = beta_network_val)\n",
    "grn_demo.fit(X_train, y_train)"
   ]
  },
  {
   "cell_type": "code",
   "execution_count": 37,
   "id": "f8842e1a",
   "metadata": {},
   "outputs": [],
   "source": [
    "# grn_demo = geneRegulatNet(edge_list = edge_list, \n",
    "#                           alpha_lasso_val = alpha_lasso_val, \n",
    "#                           beta_network_val = beta_network_val, \n",
    "#                           use_cross_validation_for_model_bool = True,\n",
    "#                          consider_self_loops = True)\n",
    "# grn_demo.fit(X_train, y_train)"
   ]
  },
  {
   "cell_type": "code",
   "execution_count": 38,
   "id": "b8d32e35",
   "metadata": {},
   "outputs": [
    {
     "data": {
      "text/html": [
       "<div>\n",
       "<style scoped>\n",
       "    .dataframe tbody tr th:only-of-type {\n",
       "        vertical-align: middle;\n",
       "    }\n",
       "\n",
       "    .dataframe tbody tr th {\n",
       "        vertical-align: top;\n",
       "    }\n",
       "\n",
       "    .dataframe thead th {\n",
       "        text-align: right;\n",
       "    }\n",
       "</style>\n",
       "<table border=\"1\" class=\"dataframe\">\n",
       "  <thead>\n",
       "    <tr style=\"text-align: right;\">\n",
       "      <th></th>\n",
       "      <th>parameter</th>\n",
       "      <th>data type</th>\n",
       "      <th>description</th>\n",
       "      <th>value</th>\n",
       "      <th>class</th>\n",
       "    </tr>\n",
       "  </thead>\n",
       "  <tbody>\n",
       "    <tr>\n",
       "      <th>0</th>\n",
       "      <td>default_edge_weight</td>\n",
       "      <td>&gt;= 0</td>\n",
       "      <td>edge weight for any edge with missing weight info</td>\n",
       "      <td>0.1</td>\n",
       "      <td>PriorGraphNetwork</td>\n",
       "    </tr>\n",
       "    <tr>\n",
       "      <th>1</th>\n",
       "      <td>consider_self_loops</td>\n",
       "      <td>boolean</td>\n",
       "      <td>add 1 to the degree for each node (based on se...</td>\n",
       "      <td>False</td>\n",
       "      <td>PriorGraphNetwork</td>\n",
       "    </tr>\n",
       "    <tr>\n",
       "      <th>2</th>\n",
       "      <td>pseudocount_for_diagonal_matrix</td>\n",
       "      <td>&gt;= 0</td>\n",
       "      <td>to ensure that no nodes have 0 degree value in...</td>\n",
       "      <td>0.001</td>\n",
       "      <td>PriorGraphNetwork</td>\n",
       "    </tr>\n",
       "    <tr>\n",
       "      <th>3</th>\n",
       "      <td>use_edge_weight_values_for_degrees_bool</td>\n",
       "      <td>boolean</td>\n",
       "      <td>if False, we use a threshold instead to derive...</td>\n",
       "      <td>False</td>\n",
       "      <td>PriorGraphNetwork</td>\n",
       "    </tr>\n",
       "    <tr>\n",
       "      <th>4</th>\n",
       "      <td>threshold_for_degree</td>\n",
       "      <td>&gt;= 0</td>\n",
       "      <td>edge weights &gt; 0.5 are counted as 1 for the de...</td>\n",
       "      <td>0.5</td>\n",
       "      <td>PriorGraphNetwork</td>\n",
       "    </tr>\n",
       "    <tr>\n",
       "      <th>5</th>\n",
       "      <td>model_type</td>\n",
       "      <td>set of options</td>\n",
       "      <td>which model type should be used for geneRegula...</td>\n",
       "      <td>Lasso</td>\n",
       "      <td>GRegulNet</td>\n",
       "    </tr>\n",
       "    <tr>\n",
       "      <th>6</th>\n",
       "      <td>max_lasso_iterations</td>\n",
       "      <td>&gt;= 1</td>\n",
       "      <td>the maximum # of iterations for Lasso</td>\n",
       "      <td>Lasso</td>\n",
       "      <td>GRegulNet</td>\n",
       "    </tr>\n",
       "    <tr>\n",
       "      <th>7</th>\n",
       "      <td>use_cross_validation_for_model_bool</td>\n",
       "      <td>boolean</td>\n",
       "      <td>should we use cross validation for training th...</td>\n",
       "      <td>False</td>\n",
       "      <td>GRegulNet</td>\n",
       "    </tr>\n",
       "    <tr>\n",
       "      <th>8</th>\n",
       "      <td>alpha_lasso</td>\n",
       "      <td>&gt;= 0</td>\n",
       "      <td>value for alpha for the lasso problem</td>\n",
       "      <td>0.01</td>\n",
       "      <td>GRegulNet</td>\n",
       "    </tr>\n",
       "    <tr>\n",
       "      <th>9</th>\n",
       "      <td>use_network</td>\n",
       "      <td>boolean</td>\n",
       "      <td>perform network regularization using a network...</td>\n",
       "      <td>True</td>\n",
       "      <td>GRegulNet</td>\n",
       "    </tr>\n",
       "    <tr>\n",
       "      <th>10</th>\n",
       "      <td>beta_network</td>\n",
       "      <td>&gt;= 0</td>\n",
       "      <td>value of beta for the network regularization p...</td>\n",
       "      <td>10</td>\n",
       "      <td>GRegulNet</td>\n",
       "    </tr>\n",
       "    <tr>\n",
       "      <th>11</th>\n",
       "      <td>fit_y_intercept_bool</td>\n",
       "      <td>boolean</td>\n",
       "      <td>fit a y-intercept for our regression problem</td>\n",
       "      <td>False</td>\n",
       "      <td>GRegulNet</td>\n",
       "    </tr>\n",
       "  </tbody>\n",
       "</table>\n",
       "</div>"
      ],
      "text/plain": [
       "                                  parameter       data type  \\\n",
       "0                       default_edge_weight            >= 0   \n",
       "1                       consider_self_loops         boolean   \n",
       "2           pseudocount_for_diagonal_matrix            >= 0   \n",
       "3   use_edge_weight_values_for_degrees_bool         boolean   \n",
       "4                      threshold_for_degree            >= 0   \n",
       "5                                model_type  set of options   \n",
       "6                      max_lasso_iterations            >= 1   \n",
       "7       use_cross_validation_for_model_bool         boolean   \n",
       "8                               alpha_lasso            >= 0   \n",
       "9                               use_network         boolean   \n",
       "10                             beta_network            >= 0   \n",
       "11                     fit_y_intercept_bool         boolean   \n",
       "\n",
       "                                          description  value  \\\n",
       "0   edge weight for any edge with missing weight info    0.1   \n",
       "1   add 1 to the degree for each node (based on se...  False   \n",
       "2   to ensure that no nodes have 0 degree value in...  0.001   \n",
       "3   if False, we use a threshold instead to derive...  False   \n",
       "4   edge weights > 0.5 are counted as 1 for the de...    0.5   \n",
       "5   which model type should be used for geneRegula...  Lasso   \n",
       "6               the maximum # of iterations for Lasso  Lasso   \n",
       "7   should we use cross validation for training th...  False   \n",
       "8               value for alpha for the lasso problem   0.01   \n",
       "9   perform network regularization using a network...   True   \n",
       "10  value of beta for the network regularization p...     10   \n",
       "11       fit a y-intercept for our regression problem  False   \n",
       "\n",
       "                class  \n",
       "0   PriorGraphNetwork  \n",
       "1   PriorGraphNetwork  \n",
       "2   PriorGraphNetwork  \n",
       "3   PriorGraphNetwork  \n",
       "4   PriorGraphNetwork  \n",
       "5           GRegulNet  \n",
       "6           GRegulNet  \n",
       "7           GRegulNet  \n",
       "8           GRegulNet  \n",
       "9           GRegulNet  \n",
       "10          GRegulNet  \n",
       "11          GRegulNet  "
      ]
     },
     "execution_count": 38,
     "metadata": {},
     "output_type": "execute_result"
    }
   ],
   "source": [
    "grn_demo.parameters_df"
   ]
  },
  {
   "cell_type": "markdown",
   "id": "71a45f35",
   "metadata": {},
   "source": [
    "Extracting the predicted coefficients from the model."
   ]
  },
  {
   "cell_type": "code",
   "execution_count": 26,
   "id": "8248aff8",
   "metadata": {},
   "outputs": [
    {
     "data": {
      "text/plain": [
       "array([ 0.21463071,  0.21240863,  0.00233532, -0.0170906 , -0.14422149])"
      ]
     },
     "execution_count": 26,
     "metadata": {},
     "output_type": "execute_result"
    }
   ],
   "source": [
    "grn_demo.coef"
   ]
  },
  {
   "cell_type": "code",
   "execution_count": 27,
   "id": "a3123d08",
   "metadata": {},
   "outputs": [
    {
     "data": {
      "text/plain": [
       "array([[ 2.95670407e-01,  3.37196898e-01, -4.00491103e+01,\n",
       "         3.23304504e-01,  3.14657386e-01],\n",
       "       [-2.04409948e+01,  1.98523357e+01,  1.88132306e-02,\n",
       "         4.76582424e-02,  2.78704023e-01],\n",
       "       [ 3.38305668e+00,  3.53423344e+00,  2.28080975e-02,\n",
       "        -5.12324132e-01, -3.53693139e+00],\n",
       "       [ 6.48396342e-01,  6.50845122e-01,  2.31161244e-04,\n",
       "        -2.88665702e+00,  1.68866988e+00],\n",
       "       [-9.22927579e-01, -9.24395358e-01, -3.82061735e-02,\n",
       "        -1.35760342e+00, -1.61006338e+00]])"
      ]
     },
     "execution_count": 27,
     "metadata": {},
     "output_type": "execute_result"
    }
   ],
   "source": [
    "grn_demo.X_tilda_train"
   ]
  },
  {
   "cell_type": "code",
   "execution_count": 28,
   "id": "298fb2a5",
   "metadata": {},
   "outputs": [
    {
     "data": {
      "text/plain": [
       "[0.4783175907443014,\n",
       " -0.15885558151849682,\n",
       " 0.21639223511559041,\n",
       " 0.08255353476061418,\n",
       " -0.7637703614804222]"
      ]
     },
     "execution_count": 28,
     "metadata": {},
     "output_type": "execute_result"
    }
   ],
   "source": [
    "# column correlations\n",
    "r1 = np.corrcoef(pd.DataFrame(grn_demo.X_tilda_train)[0], grn_demo.y_tilda_train)[0][1]\n",
    "r2 = np.corrcoef(pd.DataFrame(grn_demo.X_tilda_train)[1], grn_demo.y_tilda_train)[0][1]\n",
    "r3 = np.corrcoef(pd.DataFrame(grn_demo.X_tilda_train)[2], grn_demo.y_tilda_train)[0][1]\n",
    "r4 = np.corrcoef(pd.DataFrame(grn_demo.X_tilda_train)[3], grn_demo.y_tilda_train)[0][1]\n",
    "r5 = np.corrcoef(pd.DataFrame(grn_demo.X_tilda_train)[4], grn_demo.y_tilda_train)[0][1]\n",
    "[r1, r2, r3, r4, r5]"
   ]
  },
  {
   "cell_type": "code",
   "execution_count": 29,
   "id": "f3c5a6fb",
   "metadata": {},
   "outputs": [
    {
     "data": {
      "text/plain": [
       "array([-0.99231703, -0.0729852 , -0.12071896, -0.10331121,  0.85382521])"
      ]
     },
     "execution_count": 29,
     "metadata": {},
     "output_type": "execute_result"
    }
   ],
   "source": [
    "# row correlations\n",
    "corr_matrix = np.corrcoef(grn_demo.X_tilda_train, grn_demo.y_tilda_train)\n",
    "corr_X_y = corr_matrix[:-1,-1]\n",
    "corr_X_y"
   ]
  },
  {
   "cell_type": "code",
   "execution_count": 30,
   "id": "50839ea7",
   "metadata": {},
   "outputs": [
    {
     "data": {
      "text/plain": [
       "array([-0.01059955, -0.2115059 ,  2.01079118,  0.0936446 , -0.13047974])"
      ]
     },
     "execution_count": 30,
     "metadata": {},
     "output_type": "execute_result"
    }
   ],
   "source": [
    "grn_demo.y_tilda_train"
   ]
  },
  {
   "cell_type": "code",
   "execution_count": 31,
   "id": "c7f296fd",
   "metadata": {},
   "outputs": [
    {
     "data": {
      "text/plain": [
       "[0.9, 0.5, 0.1, -0.2, -0.8]"
      ]
     },
     "execution_count": 31,
     "metadata": {},
     "output_type": "execute_result"
    }
   ],
   "source": [
    "demo_dict[\"corrVals\"]"
   ]
  },
  {
   "cell_type": "code",
   "execution_count": 32,
   "id": "5671a4c2",
   "metadata": {},
   "outputs": [
    {
     "data": {
      "text/html": [
       "<div>\n",
       "<style scoped>\n",
       "    .dataframe tbody tr th:only-of-type {\n",
       "        vertical-align: middle;\n",
       "    }\n",
       "\n",
       "    .dataframe tbody tr th {\n",
       "        vertical-align: top;\n",
       "    }\n",
       "\n",
       "    .dataframe thead th {\n",
       "        text-align: right;\n",
       "    }\n",
       "</style>\n",
       "<table border=\"1\" class=\"dataframe\">\n",
       "  <thead>\n",
       "    <tr style=\"text-align: right;\">\n",
       "      <th></th>\n",
       "      <th>parameter</th>\n",
       "      <th>data type</th>\n",
       "      <th>description</th>\n",
       "      <th>value</th>\n",
       "      <th>class</th>\n",
       "    </tr>\n",
       "  </thead>\n",
       "  <tbody>\n",
       "    <tr>\n",
       "      <th>0</th>\n",
       "      <td>default_edge_weight</td>\n",
       "      <td>&gt;= 0</td>\n",
       "      <td>edge weight for any edge with missing weight info</td>\n",
       "      <td>0.1</td>\n",
       "      <td>PriorGraphNetwork</td>\n",
       "    </tr>\n",
       "    <tr>\n",
       "      <th>1</th>\n",
       "      <td>consider_self_loops</td>\n",
       "      <td>boolean</td>\n",
       "      <td>add 1 to the degree for each node (based on se...</td>\n",
       "      <td>False</td>\n",
       "      <td>PriorGraphNetwork</td>\n",
       "    </tr>\n",
       "    <tr>\n",
       "      <th>2</th>\n",
       "      <td>pseudocount_for_diagonal_matrix</td>\n",
       "      <td>&gt;= 0</td>\n",
       "      <td>to ensure that no nodes have 0 degree value in...</td>\n",
       "      <td>0.001</td>\n",
       "      <td>PriorGraphNetwork</td>\n",
       "    </tr>\n",
       "    <tr>\n",
       "      <th>3</th>\n",
       "      <td>use_edge_weight_values_for_degrees_bool</td>\n",
       "      <td>boolean</td>\n",
       "      <td>if False, we use a threshold instead to derive...</td>\n",
       "      <td>False</td>\n",
       "      <td>PriorGraphNetwork</td>\n",
       "    </tr>\n",
       "    <tr>\n",
       "      <th>4</th>\n",
       "      <td>threshold_for_degree</td>\n",
       "      <td>&gt;= 0</td>\n",
       "      <td>edge weights &gt; 0.5 are counted as 1 for the de...</td>\n",
       "      <td>0.5</td>\n",
       "      <td>PriorGraphNetwork</td>\n",
       "    </tr>\n",
       "    <tr>\n",
       "      <th>5</th>\n",
       "      <td>model_type</td>\n",
       "      <td>set of options</td>\n",
       "      <td>which model type should be used for geneRegula...</td>\n",
       "      <td>Lasso</td>\n",
       "      <td>GRegulNet</td>\n",
       "    </tr>\n",
       "    <tr>\n",
       "      <th>6</th>\n",
       "      <td>max_lasso_iterations</td>\n",
       "      <td>&gt;= 1</td>\n",
       "      <td>the maximum # of iterations for Lasso</td>\n",
       "      <td>Lasso</td>\n",
       "      <td>GRegulNet</td>\n",
       "    </tr>\n",
       "    <tr>\n",
       "      <th>7</th>\n",
       "      <td>use_cross_validation_for_model_bool</td>\n",
       "      <td>boolean</td>\n",
       "      <td>should we use cross validation for training th...</td>\n",
       "      <td>False</td>\n",
       "      <td>GRegulNet</td>\n",
       "    </tr>\n",
       "    <tr>\n",
       "      <th>8</th>\n",
       "      <td>alpha_lasso</td>\n",
       "      <td>&gt;= 0</td>\n",
       "      <td>value for alpha for the lasso problem</td>\n",
       "      <td>0.01</td>\n",
       "      <td>GRegulNet</td>\n",
       "    </tr>\n",
       "    <tr>\n",
       "      <th>9</th>\n",
       "      <td>use_network</td>\n",
       "      <td>boolean</td>\n",
       "      <td>perform network regularization using a network...</td>\n",
       "      <td>True</td>\n",
       "      <td>GRegulNet</td>\n",
       "    </tr>\n",
       "    <tr>\n",
       "      <th>10</th>\n",
       "      <td>beta_network</td>\n",
       "      <td>&gt;= 0</td>\n",
       "      <td>value of beta for the network regularization p...</td>\n",
       "      <td>10</td>\n",
       "      <td>GRegulNet</td>\n",
       "    </tr>\n",
       "    <tr>\n",
       "      <th>11</th>\n",
       "      <td>fit_y_intercept_bool</td>\n",
       "      <td>boolean</td>\n",
       "      <td>fit a y-intercept for our regression problem</td>\n",
       "      <td>False</td>\n",
       "      <td>GRegulNet</td>\n",
       "    </tr>\n",
       "  </tbody>\n",
       "</table>\n",
       "</div>"
      ],
      "text/plain": [
       "                                  parameter       data type  \\\n",
       "0                       default_edge_weight            >= 0   \n",
       "1                       consider_self_loops         boolean   \n",
       "2           pseudocount_for_diagonal_matrix            >= 0   \n",
       "3   use_edge_weight_values_for_degrees_bool         boolean   \n",
       "4                      threshold_for_degree            >= 0   \n",
       "5                                model_type  set of options   \n",
       "6                      max_lasso_iterations            >= 1   \n",
       "7       use_cross_validation_for_model_bool         boolean   \n",
       "8                               alpha_lasso            >= 0   \n",
       "9                               use_network         boolean   \n",
       "10                             beta_network            >= 0   \n",
       "11                     fit_y_intercept_bool         boolean   \n",
       "\n",
       "                                          description  value  \\\n",
       "0   edge weight for any edge with missing weight info    0.1   \n",
       "1   add 1 to the degree for each node (based on se...  False   \n",
       "2   to ensure that no nodes have 0 degree value in...  0.001   \n",
       "3   if False, we use a threshold instead to derive...  False   \n",
       "4   edge weights > 0.5 are counted as 1 for the de...    0.5   \n",
       "5   which model type should be used for geneRegula...  Lasso   \n",
       "6               the maximum # of iterations for Lasso  Lasso   \n",
       "7   should we use cross validation for training th...  False   \n",
       "8               value for alpha for the lasso problem   0.01   \n",
       "9   perform network regularization using a network...   True   \n",
       "10  value of beta for the network regularization p...     10   \n",
       "11       fit a y-intercept for our regression problem  False   \n",
       "\n",
       "                class  \n",
       "0   PriorGraphNetwork  \n",
       "1   PriorGraphNetwork  \n",
       "2   PriorGraphNetwork  \n",
       "3   PriorGraphNetwork  \n",
       "4   PriorGraphNetwork  \n",
       "5           GRegulNet  \n",
       "6           GRegulNet  \n",
       "7           GRegulNet  \n",
       "8           GRegulNet  \n",
       "9           GRegulNet  \n",
       "10          GRegulNet  \n",
       "11          GRegulNet  "
      ]
     },
     "execution_count": 32,
     "metadata": {},
     "output_type": "execute_result"
    }
   ],
   "source": [
    "grn_demo.parameters_df"
   ]
  },
  {
   "cell_type": "code",
   "execution_count": null,
   "id": "2f726d4f",
   "metadata": {},
   "outputs": [],
   "source": []
  },
  {
   "cell_type": "code",
   "execution_count": null,
   "id": "dcbfdd2d",
   "metadata": {},
   "outputs": [],
   "source": []
  },
  {
   "cell_type": "code",
   "execution_count": null,
   "id": "c1bd2475",
   "metadata": {},
   "outputs": [],
   "source": []
  },
  {
   "cell_type": "code",
   "execution_count": null,
   "id": "575c23b2",
   "metadata": {},
   "outputs": [],
   "source": []
  },
  {
   "cell_type": "code",
   "execution_count": null,
   "id": "67e1231c",
   "metadata": {},
   "outputs": [],
   "source": []
  },
  {
   "cell_type": "code",
   "execution_count": 14,
   "id": "8a631b4f",
   "metadata": {},
   "outputs": [
    {
     "data": {
      "text/html": [
       "<div>\n",
       "<style scoped>\n",
       "    .dataframe tbody tr th:only-of-type {\n",
       "        vertical-align: middle;\n",
       "    }\n",
       "\n",
       "    .dataframe tbody tr th {\n",
       "        vertical-align: top;\n",
       "    }\n",
       "\n",
       "    .dataframe thead th {\n",
       "        text-align: right;\n",
       "    }\n",
       "</style>\n",
       "<table border=\"1\" class=\"dataframe\">\n",
       "  <thead>\n",
       "    <tr style=\"text-align: right;\">\n",
       "      <th></th>\n",
       "      <th>0</th>\n",
       "      <th>1</th>\n",
       "      <th>2</th>\n",
       "      <th>3</th>\n",
       "      <th>4</th>\n",
       "    </tr>\n",
       "  </thead>\n",
       "  <tbody>\n",
       "    <tr>\n",
       "      <th>0</th>\n",
       "      <td>default_edge_weight</td>\n",
       "      <td>&gt;= 0</td>\n",
       "      <td>edge weight for any edge with missing weight info</td>\n",
       "      <td>0.1</td>\n",
       "      <td>PriorGraphNetwork</td>\n",
       "    </tr>\n",
       "    <tr>\n",
       "      <th>1</th>\n",
       "      <td>consider_self_loops</td>\n",
       "      <td>boolean</td>\n",
       "      <td>add 1 to the degree for each node (based on se...</td>\n",
       "      <td>True</td>\n",
       "      <td>PriorGraphNetwork</td>\n",
       "    </tr>\n",
       "    <tr>\n",
       "      <th>2</th>\n",
       "      <td>pseudocount_for_diagonal_matrix</td>\n",
       "      <td>&gt;= 0</td>\n",
       "      <td>to ensure that no nodes have 0 degree value in...</td>\n",
       "      <td>0.001</td>\n",
       "      <td>PriorGraphNetwork</td>\n",
       "    </tr>\n",
       "    <tr>\n",
       "      <th>3</th>\n",
       "      <td>use_edge_weight_values_for_degrees_bool</td>\n",
       "      <td>boolean</td>\n",
       "      <td>if False, we use a threshold instead to derive...</td>\n",
       "      <td>False</td>\n",
       "      <td>PriorGraphNetwork</td>\n",
       "    </tr>\n",
       "    <tr>\n",
       "      <th>4</th>\n",
       "      <td>threshold_for_degree</td>\n",
       "      <td>&gt;= 0</td>\n",
       "      <td>edge weights &gt; 0.5 are counted as 1 for the de...</td>\n",
       "      <td>0.5</td>\n",
       "      <td>PriorGraphNetwork</td>\n",
       "    </tr>\n",
       "    <tr>\n",
       "      <th>5</th>\n",
       "      <td>model_type</td>\n",
       "      <td>set of options</td>\n",
       "      <td>which model type should be used for geneRegula...</td>\n",
       "      <td>LassoCV</td>\n",
       "      <td>GRegulNet</td>\n",
       "    </tr>\n",
       "    <tr>\n",
       "      <th>6</th>\n",
       "      <td>use_cross_validation_for_model_bool</td>\n",
       "      <td>boolean</td>\n",
       "      <td>should we use cross validation for training th...</td>\n",
       "      <td>True</td>\n",
       "      <td>GRegulNet</td>\n",
       "    </tr>\n",
       "    <tr>\n",
       "      <th>7</th>\n",
       "      <td>num_cv_folds</td>\n",
       "      <td>&gt;= 0</td>\n",
       "      <td>the # of cross-validation folds to use</td>\n",
       "      <td>5</td>\n",
       "      <td>GRegulNet</td>\n",
       "    </tr>\n",
       "    <tr>\n",
       "      <th>8</th>\n",
       "      <td>use_network</td>\n",
       "      <td>boolean</td>\n",
       "      <td>perform network regularization using a network...</td>\n",
       "      <td>True</td>\n",
       "      <td>GRegulNet</td>\n",
       "    </tr>\n",
       "    <tr>\n",
       "      <th>9</th>\n",
       "      <td>beta_network</td>\n",
       "      <td>&gt;= 0</td>\n",
       "      <td>value of beta for the network regularization p...</td>\n",
       "      <td>10</td>\n",
       "      <td>GRegulNet</td>\n",
       "    </tr>\n",
       "    <tr>\n",
       "      <th>10</th>\n",
       "      <td>fit_y_intercept_bool</td>\n",
       "      <td>boolean</td>\n",
       "      <td>fit a y-intercept for our regression problem</td>\n",
       "      <td>False</td>\n",
       "      <td>GRegulNet</td>\n",
       "    </tr>\n",
       "  </tbody>\n",
       "</table>\n",
       "</div>"
      ],
      "text/plain": [
       "                                          0               1  \\\n",
       "0                       default_edge_weight            >= 0   \n",
       "1                       consider_self_loops         boolean   \n",
       "2           pseudocount_for_diagonal_matrix            >= 0   \n",
       "3   use_edge_weight_values_for_degrees_bool         boolean   \n",
       "4                      threshold_for_degree            >= 0   \n",
       "5                                model_type  set of options   \n",
       "6       use_cross_validation_for_model_bool         boolean   \n",
       "7                              num_cv_folds            >= 0   \n",
       "8                               use_network         boolean   \n",
       "9                              beta_network            >= 0   \n",
       "10                     fit_y_intercept_bool         boolean   \n",
       "\n",
       "                                                    2        3  \\\n",
       "0   edge weight for any edge with missing weight info      0.1   \n",
       "1   add 1 to the degree for each node (based on se...     True   \n",
       "2   to ensure that no nodes have 0 degree value in...    0.001   \n",
       "3   if False, we use a threshold instead to derive...    False   \n",
       "4   edge weights > 0.5 are counted as 1 for the de...      0.5   \n",
       "5   which model type should be used for geneRegula...  LassoCV   \n",
       "6   should we use cross validation for training th...     True   \n",
       "7              the # of cross-validation folds to use        5   \n",
       "8   perform network regularization using a network...     True   \n",
       "9   value of beta for the network regularization p...       10   \n",
       "10       fit a y-intercept for our regression problem    False   \n",
       "\n",
       "                    4  \n",
       "0   PriorGraphNetwork  \n",
       "1   PriorGraphNetwork  \n",
       "2   PriorGraphNetwork  \n",
       "3   PriorGraphNetwork  \n",
       "4   PriorGraphNetwork  \n",
       "5           GRegulNet  \n",
       "6           GRegulNet  \n",
       "7           GRegulNet  \n",
       "8           GRegulNet  \n",
       "9           GRegulNet  \n",
       "10          GRegulNet  "
      ]
     },
     "execution_count": 14,
     "metadata": {},
     "output_type": "execute_result"
    }
   ],
   "source": [
    "pd.DataFrame(grn_demo.network_params)"
   ]
  },
  {
   "cell_type": "code",
   "execution_count": 15,
   "id": "188b46e3",
   "metadata": {},
   "outputs": [
    {
     "data": {
      "text/plain": [
       "array([[ 5.01249375e+01, -4.99750125e+01, -7.06576871e-02,\n",
       "        -4.99750125e-02, -4.99750125e-02],\n",
       "       [-4.99750125e+01,  5.01249375e+01, -7.06576871e-02,\n",
       "        -4.99750125e-02, -4.99750125e-02],\n",
       "       [-7.06576871e-02, -7.06576871e-02,  3.99600400e-01,\n",
       "        -7.06576871e-02, -7.06576871e-02],\n",
       "       [-4.99750125e-02, -4.99750125e-02, -7.06576871e-02,\n",
       "         5.49725137e-01, -3.99800100e-01],\n",
       "       [-4.99750125e-02, -4.99750125e-02, -7.06576871e-02,\n",
       "        -3.99800100e-01,  5.49725137e-01]])"
      ]
     },
     "execution_count": 15,
     "metadata": {},
     "output_type": "execute_result"
    }
   ],
   "source": [
    "grn_demo.A"
   ]
  },
  {
   "cell_type": "code",
   "execution_count": null,
   "id": "c9da95d2",
   "metadata": {},
   "outputs": [],
   "source": []
  },
  {
   "cell_type": "markdown",
   "id": "5e044ec0",
   "metadata": {},
   "source": [
    "i feel their correlations should be similar to generegulatenet coeffs "
   ]
  },
  {
   "cell_type": "code",
   "execution_count": null,
   "id": "baae0f6b",
   "metadata": {},
   "outputs": [],
   "source": []
  },
  {
   "cell_type": "code",
   "execution_count": null,
   "id": "7812b728",
   "metadata": {},
   "outputs": [],
   "source": []
  },
  {
   "cell_type": "markdown",
   "id": "3f8dcf67",
   "metadata": {},
   "source": [
    "You can check if a matrix is orthogonal by computing its transpose and its inverse, and then comparing the product of the matrix with its transpose and the product of the transpose with its inverse. If these products are equal to the identity matrix, then the matrix is orthogonal.\n",
    "\n"
   ]
  },
  {
   "cell_type": "code",
   "execution_count": 16,
   "id": "4285a0c6",
   "metadata": {},
   "outputs": [],
   "source": [
    "# def is_orthogonal(matrix):\n",
    "#     import numpy as np\n",
    "#     \"\"\"\n",
    "#     Checks if a given matrix is orthogonal.\n",
    "    \n",
    "#     Parameters:\n",
    "#     matrix (numpy.ndarray): The matrix to check\n",
    "    \n",
    "#     Returns:\n",
    "#     bool: True if the matrix is orthogonal, False otherwise.\n",
    "#     \"\"\"\n",
    "#     # Compute the transpose of the matrix\n",
    "#     matrix_T = matrix.T\n",
    "    \n",
    "#     # Compute the inverse of the matrix\n",
    "#     matrix_inv = np.linalg.inv(matrix)\n",
    "    \n",
    "#     # Compute the product of the matrix and its transpose\n",
    "#     matrix_matrix_T = np.dot(matrix, matrix_T)\n",
    "    \n",
    "#     # Compute the product of the transpose of the matrix and its inverse\n",
    "#     matrix_T_matrix_inv = np.dot(matrix_T, matrix_inv)\n",
    "    \n",
    "#     # Check if the products are equal to the identity matrix\n",
    "#     return np.allclose(matrix_matrix_T, np.eye(matrix.shape[0])) and np.allclose(matrix_T_matrix_inv, np.eye(matrix.shape[0]))"
   ]
  },
  {
   "cell_type": "code",
   "execution_count": 17,
   "id": "b89ffb6e",
   "metadata": {},
   "outputs": [],
   "source": [
    "import numpy as np\n",
    "\n",
    "# Define a 5x5 identity matrix\n",
    "I = np.eye(5)\n",
    "\n",
    "# Define a rotation matrix for a 2D plane\n",
    "R = np.array([[np.cos(30*np.pi/180), -np.sin(30*np.pi/180), 0, 0, 0],\n",
    "              [np.sin(30*np.pi/180), np.cos(30*np.pi/180), 0, 0, 0],\n",
    "              [0, 0, 1, 0, 0],\n",
    "              [0, 0, 0, 1, 0],\n",
    "              [0, 0, 0, 0, 1]])\n",
    "\n",
    "# Compute the product of the rotation matrix and the identity matrix\n",
    "Q = np.dot(R, I)\n"
   ]
  },
  {
   "cell_type": "code",
   "execution_count": 18,
   "id": "d2fbfb2b",
   "metadata": {},
   "outputs": [
    {
     "name": "stdout",
     "output_type": "stream",
     "text": [
      "[[ 0.8660254 -0.5        0.         0.         0.       ]\n",
      " [ 0.5        0.8660254  0.         0.         0.       ]\n",
      " [ 0.         0.         1.         0.         0.       ]\n",
      " [ 0.         0.         0.         1.         0.       ]\n",
      " [ 0.         0.         0.         0.         1.       ]]\n",
      "True\n"
     ]
    }
   ],
   "source": [
    "# Check if Q is orthogonal using the is_orthogonal function\n",
    "def is_orthogonal(matrix):\n",
    "    \"\"\"\n",
    "    Checks if a given matrix is orthogonal.\n",
    "    \n",
    "    Parameters:\n",
    "    matrix (numpy.ndarray): The matrix to check\n",
    "    \n",
    "    Returns:\n",
    "    bool: True if the matrix is orthogonal, False otherwise.\n",
    "    \"\"\"\n",
    "    # Compute the transpose of the matrix\n",
    "    matrix_T = matrix.T\n",
    "    \n",
    "    # Compute the product of the matrix and its transpose\n",
    "    matrix_matrix_T = np.dot(matrix, matrix_T)\n",
    "    \n",
    "    # Check if the product is equal to the identity matrix\n",
    "    return np.allclose(matrix_matrix_T, np.eye(matrix.shape[0]))\n",
    "\n",
    "print(Q)\n",
    "print(is_orthogonal(Q))"
   ]
  },
  {
   "cell_type": "code",
   "execution_count": 19,
   "id": "51e30041",
   "metadata": {},
   "outputs": [
    {
     "data": {
      "text/plain": [
       "array([[ 0.8660254, -0.5      ,  0.       ,  0.       ,  0.       ],\n",
       "       [ 0.5      ,  0.8660254,  0.       ,  0.       ,  0.       ],\n",
       "       [ 0.       ,  0.       ,  1.       ,  0.       ,  0.       ],\n",
       "       [ 0.       ,  0.       ,  0.       ,  1.       ,  0.       ],\n",
       "       [ 0.       ,  0.       ,  0.       ,  0.       ,  1.       ]])"
      ]
     },
     "execution_count": 19,
     "metadata": {},
     "output_type": "execute_result"
    }
   ],
   "source": [
    "Q"
   ]
  },
  {
   "cell_type": "code",
   "execution_count": null,
   "id": "c17e7615",
   "metadata": {},
   "outputs": [],
   "source": []
  },
  {
   "cell_type": "code",
   "execution_count": null,
   "id": "9c8cbb67",
   "metadata": {},
   "outputs": [],
   "source": []
  },
  {
   "cell_type": "code",
   "execution_count": null,
   "id": "de70c778",
   "metadata": {},
   "outputs": [],
   "source": []
  },
  {
   "cell_type": "code",
   "execution_count": null,
   "id": "e3b46738",
   "metadata": {},
   "outputs": [],
   "source": []
  },
  {
   "cell_type": "code",
   "execution_count": null,
   "id": "ffc89081",
   "metadata": {},
   "outputs": [],
   "source": []
  },
  {
   "cell_type": "code",
   "execution_count": 20,
   "id": "fcd28e51",
   "metadata": {},
   "outputs": [
    {
     "data": {
      "text/plain": [
       "False"
      ]
     },
     "execution_count": 20,
     "metadata": {},
     "output_type": "execute_result"
    }
   ],
   "source": [
    "is_orthogonal(grn_demo.X_tilda_train)"
   ]
  },
  {
   "cell_type": "code",
   "execution_count": 21,
   "id": "112cf63f",
   "metadata": {},
   "outputs": [
    {
     "name": "stdout",
     "output_type": "stream",
     "text": [
      "[[-0.47920594  0.20888304  0.12678514  0.80396679  0.25355961]\n",
      " [-0.41232978 -0.37957983  0.68901533 -0.11553516 -0.44476152]\n",
      " [-0.52499093  0.52203152 -0.38724556 -0.23012343 -0.4989506 ]\n",
      " [-0.52986756 -0.12419354 -0.0302682  -0.49272197  0.67832531]\n",
      " [-0.20969196 -0.72411745 -0.59858844  0.21108599 -0.16975804]]\n"
     ]
    }
   ],
   "source": [
    "import numpy as np\n",
    "\n",
    "# Define a random 5x5 matrix\n",
    "A = np.random.rand(5, 5)\n",
    "\n",
    "# Compute its QR decomposition\n",
    "Q, R = np.linalg.qr(A)\n",
    "\n",
    "# Q is a 5x5 orthogonal matrix\n",
    "print(Q)"
   ]
  },
  {
   "cell_type": "code",
   "execution_count": 22,
   "id": "3724703e",
   "metadata": {},
   "outputs": [
    {
     "data": {
      "text/plain": [
       "False"
      ]
     },
     "execution_count": 22,
     "metadata": {},
     "output_type": "execute_result"
    }
   ],
   "source": [
    "is_orthogonal(A)"
   ]
  },
  {
   "cell_type": "code",
   "execution_count": null,
   "id": "06a895d2",
   "metadata": {},
   "outputs": [],
   "source": []
  }
 ],
 "metadata": {
  "kernelspec": {
   "display_name": "Python 3 (ipykernel)",
   "language": "python",
   "name": "python3"
  },
  "language_info": {
   "codemirror_mode": {
    "name": "ipython",
    "version": 3
   },
   "file_extension": ".py",
   "mimetype": "text/x-python",
   "name": "python",
   "nbconvert_exporter": "python",
   "pygments_lexer": "ipython3",
   "version": "3.10.6"
  }
 },
 "nbformat": 4,
 "nbformat_minor": 5
}
