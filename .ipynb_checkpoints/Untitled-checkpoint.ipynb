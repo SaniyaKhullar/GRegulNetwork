{
 "cells": [
  {
   "cell_type": "code",
   "execution_count": 1,
   "id": "42efcf5a",
   "metadata": {},
   "outputs": [
    {
     "name": "stderr",
     "output_type": "stream",
     "text": [
      "C:\\Users\\Saniya\\AppData\\Local\\Temp\\ipykernel_17972\\3150010066.py:19: DeprecationWarning: Please use `LinearOperator` from the `scipy.sparse.linalg` namespace, the `scipy.sparse.linalg.interface` namespace is deprecated.\n",
      "  from scipy.sparse.linalg.interface import LinearOperator\n"
     ]
    }
   ],
   "source": [
    "import pandas as pd\n",
    "import numpy as np\n",
    "import random\n",
    "from tqdm import tqdm\n",
    "import os\n",
    "import sys\n",
    "# https://www.dev2qa.com/how-to-run-python-script-py-file-in-jupyter-notebook-ipynb-file-and-ipython/#:~:text=How%20To%20Run%20Python%20Script%20.py%20File%20In,2.%20Invoke%20Python%20Script%20File%20From%20Ipython%20Command-Line.\n",
    "import networkx as nx\n",
    "import scipy\n",
    "from scipy.linalg import svd as robust_svd\n",
    "from sklearn.model_selection import KFold, train_test_split\n",
    "from sklearn.decomposition import TruncatedSVD\n",
    "from sklearn import linear_model\n",
    "from sklearn.linear_model import ElasticNetCV, LinearRegression, Ridge\n",
    "from numpy.typing import ArrayLike\n",
    "import plotly.express as px\n",
    "import matplotlib.pyplot as plt\n",
    "from numpy.typing import ArrayLike\n",
    "from scipy.sparse.linalg.interface import LinearOperator\n",
    "import warnings\n",
    "from sklearn.exceptions import ConvergenceWarning\n",
    "printdf = lambda *args, **kwargs: print(pd.DataFrame(*args, **kwargs))\n",
    "rng_seed = 2023 # random seed for reproducibility\n",
    "randSeed = 123"
   ]
  },
  {
   "cell_type": "code",
   "execution_count": 3,
   "id": "88fb47fc",
   "metadata": {},
   "outputs": [],
   "source": [
    "# from geneRegulatNet import *\n",
    "# from GRegulNet import *\n",
    "# from PriorGraphNetwork import *\n",
    "# from DemoDataBuilderXandY import *"
   ]
  },
  {
   "cell_type": "code",
   "execution_count": 10,
   "id": "340b5296",
   "metadata": {},
   "outputs": [
    {
     "ename": "ImportError",
     "evalue": "cannot import name 'DemoDataBuilderXandY' from 'DemoDataBuilderXandY' (C:\\Users\\Saniya\\Downloads\\gregulnet\\DemoDataBuilderXandY.py)",
     "output_type": "error",
     "traceback": [
      "\u001b[1;31m---------------------------------------------------------------------------\u001b[0m",
      "\u001b[1;31mImportError\u001b[0m                               Traceback (most recent call last)",
      "Input \u001b[1;32mIn [10]\u001b[0m, in \u001b[0;36m<cell line: 4>\u001b[1;34m()\u001b[0m\n\u001b[0;32m      2\u001b[0m \u001b[38;5;28;01mimport\u001b[39;00m \u001b[38;5;21;01mGRegulNet\u001b[39;00m\n\u001b[0;32m      3\u001b[0m \u001b[38;5;28;01mimport\u001b[39;00m \u001b[38;5;21;01mPriorGraphNetwork\u001b[39;00m\n\u001b[1;32m----> 4\u001b[0m \u001b[38;5;28;01mfrom\u001b[39;00m \u001b[38;5;21;01mDemoDataBuilderXandY\u001b[39;00m \u001b[38;5;28;01mimport\u001b[39;00m DemoDataBuilderXandY\n",
      "\u001b[1;31mImportError\u001b[0m: cannot import name 'DemoDataBuilderXandY' from 'DemoDataBuilderXandY' (C:\\Users\\Saniya\\Downloads\\gregulnet\\DemoDataBuilderXandY.py)"
     ]
    }
   ],
   "source": [
    "import geneRegulatNet\n",
    "import GRegulNet\n",
    "import PriorGraphNetwork\n",
    "from DemoDataBuilderXandY import DemoDataBuilderXandY\n"
   ]
  },
  {
   "cell_type": "code",
   "execution_count": null,
   "id": "435a7321",
   "metadata": {},
   "outputs": [],
   "source": []
  },
  {
   "cell_type": "code",
   "execution_count": null,
   "id": "baaea03b",
   "metadata": {},
   "outputs": [],
   "source": [
    "from gregulnetClasses import *"
   ]
  },
  {
   "cell_type": "code",
   "execution_count": 9,
   "id": "18aa6fb5",
   "metadata": {},
   "outputs": [
    {
     "ename": "TypeError",
     "evalue": "'module' object is not callable",
     "output_type": "error",
     "traceback": [
      "\u001b[1;31m---------------------------------------------------------------------------\u001b[0m",
      "\u001b[1;31mTypeError\u001b[0m                                 Traceback (most recent call last)",
      "Input \u001b[1;32mIn [9]\u001b[0m, in \u001b[0;36m<cell line: 4>\u001b[1;34m()\u001b[0m\n\u001b[0;32m      1\u001b[0m demo_dict \u001b[38;5;241m=\u001b[39m {\u001b[38;5;124m\"\u001b[39m\u001b[38;5;124mM\u001b[39m\u001b[38;5;124m\"\u001b[39m: \u001b[38;5;241m100\u001b[39m,\n\u001b[0;32m      2\u001b[0m             \u001b[38;5;124m\"\u001b[39m\u001b[38;5;124mcorrVals\u001b[39m\u001b[38;5;124m\"\u001b[39m: [\u001b[38;5;241m0.9\u001b[39m, \u001b[38;5;241m0.5\u001b[39m, \u001b[38;5;241m0.1\u001b[39m, \u001b[38;5;241m-\u001b[39m\u001b[38;5;241m0.2\u001b[39m, \u001b[38;5;241m-\u001b[39m\u001b[38;5;241m0.8\u001b[39m],\n\u001b[0;32m      3\u001b[0m             \u001b[38;5;124m\"\u001b[39m\u001b[38;5;124msame_train_and_test_data_bool\u001b[39m\u001b[38;5;124m\"\u001b[39m:\u001b[38;5;28;01mTrue\u001b[39;00m}\n\u001b[1;32m----> 4\u001b[0m dummy_data \u001b[38;5;241m=\u001b[39m DemoDataBuilderXandY(\u001b[38;5;241m*\u001b[39m\u001b[38;5;241m*\u001b[39mdemo_dict)\n\u001b[0;32m      6\u001b[0m X_train \u001b[38;5;241m=\u001b[39m dummy_data\u001b[38;5;241m.\u001b[39mX_train\n\u001b[0;32m      7\u001b[0m y_train \u001b[38;5;241m=\u001b[39m dummy_data\u001b[38;5;241m.\u001b[39my_train\n",
      "\u001b[1;31mTypeError\u001b[0m: 'module' object is not callable"
     ]
    }
   ],
   "source": [
    "demo_dict = {\"M\": 100,\n",
    "            \"corrVals\": [0.9, 0.5, 0.1, -0.2, -0.8],\n",
    "            \"same_train_and_test_data_bool\":True}\n",
    "dummy_data = DemoDataBuilderXandY(**demo_dict)\n",
    "\n",
    "X_train = dummy_data.X_train\n",
    "y_train = dummy_data.y_train\n",
    "X_test = dummy_data.X_test\n",
    "y_test = dummy_data.y_test \n",
    "edge_list = [[0, 1, 100], [3, 4, 0.8], [0, 2], [0, 3], [0, 4], # may specify if we want\n",
    "              [1, 2], [1, 3], [1, 4], [2, 3], [2, 4]]\n",
    "alpha_lasso_val = 0.01\n",
    "beta_network_val = 10\n",
    "\n",
    "\n",
    "\n",
    "grn_demo = geneRegulatNet(edge_list, alpha_lasso_val, beta_network_val)\n",
    "grn_demo.fit(X_train, y_train)\n",
    "grn_demo\n",
    "grn_demo.coef\n"
   ]
  },
  {
   "cell_type": "code",
   "execution_count": null,
   "id": "9dce2250",
   "metadata": {},
   "outputs": [],
   "source": []
  },
  {
   "cell_type": "code",
   "execution_count": null,
   "id": "9209fa48",
   "metadata": {},
   "outputs": [],
   "source": []
  },
  {
   "cell_type": "code",
   "execution_count": null,
   "id": "6b94e216",
   "metadata": {},
   "outputs": [],
   "source": []
  }
 ],
 "metadata": {
  "kernelspec": {
   "display_name": "Python 3 (ipykernel)",
   "language": "python",
   "name": "python3"
  },
  "language_info": {
   "codemirror_mode": {
    "name": "ipython",
    "version": 3
   },
   "file_extension": ".py",
   "mimetype": "text/x-python",
   "name": "python",
   "nbconvert_exporter": "python",
   "pygments_lexer": "ipython3",
   "version": "3.10.6"
  }
 },
 "nbformat": 4,
 "nbformat_minor": 5
}
