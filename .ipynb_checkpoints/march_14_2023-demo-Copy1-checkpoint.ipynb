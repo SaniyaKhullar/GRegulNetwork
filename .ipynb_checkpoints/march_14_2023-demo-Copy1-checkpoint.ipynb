{
 "cells": [
  {
   "cell_type": "code",
   "execution_count": 1,
   "id": "b8551801",
   "metadata": {},
   "outputs": [],
   "source": [
    "# network = Network(edge_list)\n",
    "# netreg = NetReg(alpha=0.1, beta=10, network=network)\n",
    "# netreg.fit(X, y)"
   ]
  },
  {
   "cell_type": "code",
   "execution_count": 2,
   "id": "a074f363",
   "metadata": {},
   "outputs": [
    {
     "data": {
      "text/plain": [
       "\"\\nOptimization for\\n(1 / (2 * M)) * ||y - Xc||^2_2  +  (beta / (2 * N^2)) * c'Ac  +  alpha * ||c||_1\\nWhich is converted to lasso\\n(1 / (2 * M)) * ||y_tilde - X_tilde @ c||^2_2   +  alpha * ||c||_1\\nwhere M = n_samples and N is the dimention of c.\\nCheck compute_X_tilde_y_tilde() to see how we make sure above normalization is applied using Lasso of sklearn\\n\""
      ]
     },
     "execution_count": 2,
     "metadata": {},
     "output_type": "execute_result"
    }
   ],
   "source": [
    "\"\"\"\n",
    "Optimization for\n",
    "(1 / (2 * M)) * ||y - Xc||^2_2  +  (beta / (2 * N^2)) * c'Ac  +  alpha * ||c||_1\n",
    "Which is converted to lasso\n",
    "(1 / (2 * M)) * ||y_tilde - X_tilde @ c||^2_2   +  alpha * ||c||_1\n",
    "where M = n_samples and N is the dimention of c.\n",
    "Check compute_X_tilde_y_tilde() to see how we make sure above normalization is applied using Lasso of sklearn\n",
    "\"\"\"\n"
   ]
  },
  {
   "cell_type": "code",
   "execution_count": 3,
   "id": "76880012",
   "metadata": {},
   "outputs": [
    {
     "name": "stderr",
     "output_type": "stream",
     "text": [
      "C:\\Users\\Saniya\\AppData\\Local\\Temp\\ipykernel_24516\\2982726177.py:20: DeprecationWarning: Please use `LinearOperator` from the `scipy.sparse.linalg` namespace, the `scipy.sparse.linalg.interface` namespace is deprecated.\n",
      "  from scipy.sparse.linalg.interface import LinearOperator\n"
     ]
    }
   ],
   "source": [
    "import pandas as pd\n",
    "import numpy as np\n",
    "import random\n",
    "from tqdm import tqdm\n",
    "import os\n",
    "import sys # https://www.dev2qa.com/how-to-run-python-script-py-file-in-jupyter-notebook-ipynb-file-and-ipython/#:~:text=How%20To%20Run%20Python%20Script%20.py%20File%20In,2.%20Invoke%20Python%20Script%20File%20From%20Ipython%20Command-Line.\n",
    "import networkx as nx\n",
    "import scipy\n",
    "from scipy.linalg import svd as robust_svd\n",
    "from sklearn.model_selection import KFold, train_test_split\n",
    "from sklearn.decomposition import TruncatedSVD\n",
    "from sklearn import linear_model\n",
    "from sklearn.linear_model import ElasticNetCV\n",
    "from sklearn.linear_model import LinearRegression\n",
    "from sklearn.linear_model import Ridge\n",
    "from numpy.typing import ArrayLike\n",
    "import plotly.express as px\n",
    "import matplotlib.pyplot as plt\n",
    "from numpy.typing import ArrayLike\n",
    "from scipy.sparse.linalg.interface import LinearOperator\n",
    "import warnings\n",
    "from sklearn.exceptions import ConvergenceWarning\n",
    "printdf = lambda *args, **kwargs: print(pd.DataFrame(*args, **kwargs))\n",
    "rng_seed = 2023 # random seed for reproducibility\n",
    "randSeed = 123"
   ]
  },
  {
   "cell_type": "code",
   "execution_count": 4,
   "id": "f56e7344",
   "metadata": {},
   "outputs": [],
   "source": [
    "class DiagonalLinearOperator(LinearOperator):\n",
    "    \"\"\"Construct a diagonal matrix as a linear operator instead a full numerical matirx np.diag(d).\n",
    "    This saves memory and computation time which is especially useful when d is huge.\n",
    "    D.T = D\n",
    "    For 2d matrix A:\n",
    "    D @ A = d[:, np.newwaxis]* A  # scales rows of A\n",
    "    A @ D =  A * d[np.newaxis, :]  # scales cols of A\n",
    "\n",
    "    For 1d vector v:\n",
    "    D @ v = d * v\n",
    "    v @ D = v * d\n",
    "\n",
    "    NOTE: Coding just for fun: using a numerical matrix or a sparse matrix maybe just fine for network regularization.\n",
    "    By Xiang Huang\n",
    "    \"\"\"\n",
    "    def __init__(self, d):\n",
    "        \"\"\"d is a 1d vector of dimension N\"\"\"\n",
    "        N = len(d)\n",
    "        self.d = d\n",
    "        super().__init__(dtype=None, shape=(N, N))\n",
    "\n",
    "    def _transpose(self):\n",
    "        return self\n",
    "\n",
    "    def _matvec(self, v):\n",
    "        return self.d * v\n",
    "\n",
    "    def _matmat(self, A):\n",
    "        return self.d[:, np.newaxis] * A\n",
    "\n",
    "    def __rmatmul__(self, x):\n",
    "        \"\"\"Implmentation of A @ D, and x @ D\n",
    "        We could implment __matmul__ in a similar way without inheriting LinearOperator\n",
    "        Because we inherit from LinearOperator, we can implment _matvec, and _matmat instead.\n",
    "        \"\"\"\n",
    "        if x.ndim == 2:\n",
    "            return x * self.d[np.newaxis, :]\n",
    "        elif x.ndim == 1:\n",
    "            return x * self.d\n",
    "        else:\n",
    "            raise ValueError(f'Array should be 1d or 2d, but it is {x.ndim}d')\n",
    "    # Generally A @ D will call A.__matmul__(D) which raises a ValueError and not a NotImplemented\n",
    "    # We need to set __array_priority__ to high value higher than 0 (np.array) and 10.1 (scipy.sparse.csr_matrix)\n",
    "    # https://github.com/numpy/numpy/issues/8155\n",
    "    # https://stackoverflow.com/questions/40252765/overriding-other-rmul-with-your-classs-mul\n",
    "    __array_priority__ = 1000\n"
   ]
  },
  {
   "cell_type": "code",
   "execution_count": 5,
   "id": "c502dd00",
   "metadata": {},
   "outputs": [],
   "source": [
    "# create X and Y matrix\n",
    "class DemoDataBuilderXandY: \n",
    "    #Build_X_and_Y_demo_data:\n",
    "    \"\"\":) Please note that this class focuses on building Y data based on a normal distribution (specified mean\n",
    "    and standard deviation). M is the # of samples we want to generate. Thus, Y is a vector with M elements. \n",
    "    Then, this class returns X for a set of N predictors (each with M # of samples) based on a list of N correlation\n",
    "    values. For instance, if N = 5 predictors (the Transcription Factors (TFs)), we have [X1, X2, X3, X4, X5],\n",
    "    and a respective list of correlation values: [cor(X1, Y), cor(X2, Y), cor(X3, Y), cor(X4, Y), cor(X5, Y)].\n",
    "    Then, this class will generate X, a matrix of those 5 predictord (based on similar distribution as Y) \n",
    "    with those respective correlations.\"\"\"    \n",
    "    \n",
    "    def __init__(self, **kwargs):\n",
    "        # define default values for constants\n",
    "        self.same_train_and_test_data_bool = False\n",
    "        self.test_data_percent = 30\n",
    "        self._mu = 0\n",
    "        self._sd = 1\n",
    "        self._num_iters_for_generating_X = 100\n",
    "        self._rng_seed = 2023 # for Y\n",
    "        self._randSeed = 123 # for X\n",
    "        \n",
    "        self.__dict__.update(kwargs)\n",
    "        \n",
    "        # check that all required keys are present:\n",
    "        required_keys = [\"corrVals\", \"M\"]\n",
    "        missing_keys = [key for key in required_keys if key not in self.__dict__]\n",
    "        if missing_keys:\n",
    "            raise ValueError(f\":( Please note ye are missing information for these keys: {missing_keys}\")\n",
    "\n",
    "        self.N = self.get_N()\n",
    "        self.y = self.generate_Y()\n",
    "        self.X = self.generate_X()\n",
    "        if self.same_train_and_test_data_bool:\n",
    "            self.testing_size = 1\n",
    "        else:\n",
    "            self.testing_size = (self.test_data_percent/100.0)\n",
    "        data_sets = self.generate_training_and_testing_data() # [X_train, X_test, y_train, y_test]\n",
    "        self.X_train = data_sets[0]\n",
    "        self.X_test = data_sets[1]\n",
    "        self.y_train = data_sets[2]\n",
    "        self.y_test = data_sets[3]\n",
    "        \n",
    "        self.tf_names_list = self.get_tf_names_list()\n",
    "        self.corr_df = self.return_correlations_dataframe()\n",
    "        self.combined_correlations_df = self.get_combined_correlations_df()\n",
    "        self.view_input_correlations = self.view_input_correlations()\n",
    "        \n",
    "    def get_tf_names_list(self):\n",
    "        tf_names_list = []\n",
    "        for i in range(0, self.N):\n",
    "            term = \"TF\" + str(i)\n",
    "            tf_names_list.append(term)\n",
    "        return tf_names_list\n",
    "    \n",
    "    # getter method\n",
    "    def get_N(self):\n",
    "        N = len(self.corrVals)\n",
    "        return N \n",
    "    \n",
    "    def return_correlations_dataframe(self):\n",
    "        #N = len(tf_names_list)\n",
    "        corr_info = [\"expected_correlations\"] * self.N\n",
    "        import pandas as pd\n",
    "        corr_df = pd.DataFrame(corr_info, columns = [\"info\"])\n",
    "        corr_df[\"TF\"] = self.tf_names_list\n",
    "        corr_df[\"value\"] = self.corrVals\n",
    "        corr_df[\"data\"] = \"correlations\"\n",
    "        return corr_df\n",
    "    \n",
    "    def generate_Y(self):\n",
    "        seed_val = self._rng_seed\n",
    "        import numpy as np\n",
    "        rng = np.random.default_rng(seed=seed_val)\n",
    "        y = rng.normal(self._mu, self._sd, self.M)\n",
    "        return y\n",
    "    \n",
    "    # X matrix of data (since this is a demo)\n",
    "    def generate_X(self):# y, corrVals, randSeed, numIterations=10):\n",
    "        \"\"\"Original code and the only function that is from Saniya.\n",
    "        TODO: improve with vectorization later, currently bad for large X\"\"\"\n",
    "        import numpy as np\n",
    "        np.random.seed(self._randSeed)\n",
    "        y = self.y\n",
    "        n = len(y)\n",
    "        numTFs = self.N # len(corrVals)\n",
    "        numIterations = self._num_iters_for_generating_X\n",
    "        correlations = self.corrVals\n",
    "        corrVals = [correlations[0]] + correlations\n",
    "        e = np.random.normal(0, 1, (n, numTFs + 1))\n",
    "        X = np.copy(e)\n",
    "        X[:, 0] = y * np.sqrt(1.0 - corrVals[0]**2) / np.sqrt(1.0 - np.corrcoef(y, X[:,0])[0,1]**2)\n",
    "        for j in range(numIterations):\n",
    "            for i in range(1, numTFs + 1):\n",
    "                corr = np.corrcoef(y, X[:, i])[0, 1]\n",
    "                X[:, i] = X[:, i] + (corrVals[i] - corr) * y\n",
    "        return X[:, 1:]\n",
    "    \n",
    "    def generate_training_and_testing_data(self):\n",
    "        same_train_and_test_data_bool = self.same_train_and_test_data_bool \n",
    "        from sklearn.model_selection import train_test_split\n",
    "        X = self.X\n",
    "        y = self.y\n",
    "        if same_train_and_test_data_bool == False: # different training and testing datasets\n",
    "            X_train, X_test, y_train, y_test = train_test_split(X, y, test_size = self.testing_size)\n",
    "            print(f\":) Please note that since we hold out {self.testing_size * 100.0}% of our {self.M} samples for testing, we have:\")\n",
    "            print(f\":) X_train = {X_train.shape[0]} rows (samples) and {X_train.shape[1]} columns (N = {self.N} predictors) for training.\")\n",
    "            print(f\":) X_test = {X_test.shape[0]} rows (samples) and {X_test.shape[1]} columns (N = {self.N} predictors) for testing.\")\n",
    "            print(f\":) y_train = {y_train.shape[0]} corresponding rows (samples) for training.\")\n",
    "            print(f\":) y_test = {y_test.shape[0]} corresponding rows (samples) for testing.\")\n",
    "        else: # training and testing datasets are the same :)\n",
    "            X_train, X_test, y_train, y_test = X, X, y, y\n",
    "            y_train = y\n",
    "            y_test = y_train\n",
    "            print(f\":) Please note that since we use the same data for training and for testing :) of our {self.M} samples. Thus, we have:\")\n",
    "            print(f\":) X_train = X_test = {X_train.shape[0]} rows (samples) and {X_train.shape[1]} columns (N = {self.N} predictors) for training and for testing\")\n",
    "            print(f\":) y_train = y_test = {y_train.shape[0]} corresponding rows (samples) for training and for testing.\")    \n",
    "        return [X_train, X_test, y_train, y_test]\n",
    "    \n",
    "    \n",
    "    def get_combined_correlations_df(self):\n",
    "        combined_correlations_df = self.actual_vs_expected_corrs_DefensiveProgramming_all_groups(self.X, self.y, \n",
    "                                                                                            self.X_train, \n",
    "                                                                                            self.y_train,\n",
    "                                                                                        self.X_test, \n",
    "                                                                                            self.y_test,\n",
    "                                                                                self.corrVals, \n",
    "                                                                                self.tf_names_list, \n",
    "                                                                             self.same_train_and_test_data_bool)\n",
    "        return combined_correlations_df\n",
    "    \n",
    "    def actual_vs_expected_corrs_DefensiveProgramming_all_groups(self, X, y, X_train, y_train, X_test, y_test,\n",
    "                                                                corrVals, tf_names_list,\n",
    "                                                                 same_train_and_test_data_bool):\n",
    "        import pandas as pd\n",
    "        from tqdm import tqdm\n",
    "        import numpy as np\n",
    "        overall_corrs_df = self.compare_actual_and_expected_correlations_DefensiveProgramming_one_data_group(X, y, corrVals, \n",
    "                                                                                         tf_names_list, same_train_and_test_data_bool, \"Overall\")\n",
    "        training_corrs_df = self.compare_actual_and_expected_correlations_DefensiveProgramming_one_data_group(X_train, y_train, corrVals, \n",
    "                                                                                          tf_names_list, same_train_and_test_data_bool, \"Training\")\n",
    "        testing_corrs_df = self.compare_actual_and_expected_correlations_DefensiveProgramming_one_data_group(X_test, y_test, corrVals, \n",
    "                                                                                         tf_names_list, same_train_and_test_data_bool, \"Testing\")\n",
    "        combined_correlations_df = pd.concat([overall_corrs_df, training_corrs_df, testing_corrs_df]).drop_duplicates()\n",
    "        return combined_correlations_df\n",
    "    \n",
    "    def compare_actual_and_expected_correlations_DefensiveProgramming_one_data_group(self, X_matrix, y, corrVals, \n",
    "                                                              predictor_names_list,\n",
    "                                                              same_train_and_test_data_boolean,\n",
    "                                                              data_type):\n",
    "        # please note that this function by Saniya ensures that the actual and expected correlations are close\n",
    "        # so that the simulation has the x-y correlations we were hoping for in corrVals\n",
    "        import pandas as pd\n",
    "        from tqdm import tqdm\n",
    "        import numpy as np\n",
    "        updatedDF = pd.DataFrame(X_matrix)#.shape\n",
    "        actualCorrsList = []\n",
    "        for i in tqdm(range(0, len(corrVals))):\n",
    "            expectedCor = corrVals[i]\n",
    "            actualCor = np.corrcoef(updatedDF[i], y)[0][1]\n",
    "            difference = abs(expectedCor - actualCor)\n",
    "            predictor_name = predictor_names_list[i]\n",
    "            actualCorrsList.append([i, predictor_name, expectedCor, actualCor, difference])\n",
    "        comparisonDF = pd.DataFrame(actualCorrsList, columns = [\"i\", \"predictor\", \"expected_corr_with_Y\", \"actual_corr\", \"difference\"])\n",
    "        comparisonDF[\"X_group\"] = data_type\n",
    "        num_samples = X_matrix.shape[0]\n",
    "        if same_train_and_test_data_boolean:\n",
    "            comparisonDF[\"num_samples\"] = \"same \" + str(num_samples)\n",
    "        else:\n",
    "            comparisonDF[\"num_samples\"] = \"unique \" + str(num_samples)\n",
    "        return comparisonDF\n",
    "\n",
    "        # Visualizing Functions :)\n",
    "    def view_input_correlations(self):\n",
    "        corr_val_df = pd.DataFrame(self.corrVals, columns = [\"correlation\"])#.transpose()\n",
    "        corr_val_df.index = self.tf_names_list\n",
    "        corr_val_df[\"TF\"] = self.tf_names_list\n",
    "        import plotly.express as px\n",
    "        fig = px.bar(corr_val_df, x='TF', y='correlation',  barmode='group')\n",
    "        fig.show()\n",
    "        return fig\n",
    "    "
   ]
  },
  {
   "cell_type": "code",
   "execution_count": 6,
   "id": "7ab30440",
   "metadata": {},
   "outputs": [],
   "source": [
    "def view_matrix_as_dataframe(matrix, column_names_list = [], row_names_list = []):\n",
    "    # :) Please note this function by Saniya returns a dataframe representation of the numpy matrix\n",
    "    # optional are the names of the columns and names of the rows (indices)\n",
    "    import pandas as pd\n",
    "    matDF = pd.DataFrame(matrix)\n",
    "    if len(column_names_list) == matDF.shape[1]: \n",
    "        matDF.columns = column_names_list\n",
    "    if len(row_names_list) == matDF.shape[0]: \n",
    "        matDF.index = row_names_list    \n",
    "    return matDF\n",
    "\n",
    "def check_symmetric(a, rtol=1e-05, atol=1e-08):\n",
    "            # https://stackoverflow.com/questions/42908334/checking-if-a-matrix-is-symmetric-in-numpy\n",
    "            # Please note that this function checks if a matrix is symmetric in Python\n",
    "            # for square matrices (same # of rows and columns), there is a possiblity they may be symmetric\n",
    "            # returns True if the matrix is symmetric (matrix = matrix_tranpose)\n",
    "            # returns False if the matrix is NOT symmetric\n",
    "    import numpy as np\n",
    "    return np.allclose(a, a.T, rtol=rtol, atol=atol)\n",
    "\n",
    "# create W and D and V matrices\n",
    "class PriorGraphNetwork:\n",
    "    \"\"\":) Please note that this class focuses on incorporating information from a prior network (in our case, \n",
    "    a biological network of some sort). The input would be an edge list with: source, target, weight. If no\n",
    "    weights are given then a weight of 1 will be automatically assumed. \n",
    "    \n",
    "    If the prior network is NOT symmetric (most likely directed):\n",
    "    please note we can use graph embedding techniques like weighted node2vec (on the directed graph) to generate\n",
    "    an embedding, find the cosine similarity, and then use the node-node similarity values for our network.\n",
    "    \n",
    "    Ultimately, this class builds the W matrix (for the prior network weights to be used for our network \n",
    "    regularization penalty), the D matrix (of degrees), and the V matrix (custom for our approach). \"\"\"  \n",
    "    \n",
    "    import numpy as np\n",
    "    from sklearn.metrics.pairwise import cosine_similarity\n",
    "    from node2vec import Node2Vec\n",
    "    import networkx as nx\n",
    "    from typing import List, Tuple\n",
    "    def __init__(self, **kwargs): # define default values for constants\n",
    "        self.use_edge_weight_values_for_degrees_bool = False # we instead consider a threshold by default (for counting edges into our degrees)\n",
    "        self.consider_self_loops = False # no self loops considered\n",
    "        \n",
    "        self.pseudocount_for_diagonal_matrix = 1e-3 # to ensure that we do not have any 0 degrees for any node in our matrix.\n",
    "        self.undirected_graph_bool = True # by default we assume the input network is undirected and symmetric :)\n",
    "        self.default_edge_weight = 0.1 # if an edge is missing weight information   \n",
    "        \n",
    "        # default if we use edge weights for degree:\n",
    "        # if use_edge_weight_values_for_degrees_bool is True: we can use the edge weight values to get the degrees. \n",
    "        self.square_root_weights_for_degree_sum_bool = False # take the square root of the edge weights for the degree calculations\n",
    "        self.squaring_weights_for_degree_sum_bool = False # square the edge weights for the degree calculations\n",
    "        # default if we use a threshold for the degree:\n",
    "        self.threshold_for_degree = 0.5\n",
    "        \n",
    "        ####################\n",
    "        self.dimensions = 64\n",
    "        self.walk_length = 30\n",
    "        self.num_walks = 200\n",
    "        self.p = 1\n",
    "        self.q = 0.5\n",
    "        self.workers = 4\n",
    "        self.window = 10\n",
    "        self.min_count = 1\n",
    "        self.batch_words = 4\n",
    "        self.node_color_name = \"yellow\"\n",
    "        self.edge_color_name = \"red\"\n",
    "        self.edge_weight_scaling = 5\n",
    "        self.debug = False\n",
    "        \n",
    "        self.__dict__.update(kwargs) # overwrite with any user arguments :)\n",
    "        required_keys = [\"edge_list\"]  \n",
    "        # if consider_self_loops is true, we add 1 to degree value for each node, \n",
    "        # so each node has some degree and connection with itself. \n",
    "#         if self.use_edge_weight_values_for_degrees_bool: # instead, we can use the edge weight values to get the degrees. \n",
    "#             # check that all required keys are present:\n",
    "#             required_keys = required_keys + [\"square_root_weights_bool\"]\n",
    "#         else: # we are using a threshold:\n",
    "#             required_keys = required_keys + [\"threshold_for_degree\"] # otherwise, we can just use this threshold for the degree. We would then not use threshold_for_degree\n",
    "        self.tf_names_list = self.retrieve_tf_names_list()\n",
    "        self.N = len(self.tf_names_list)\n",
    "        # check that all required keys are present:\n",
    "        missing_keys = [key for key in required_keys if key not in self.__dict__]\n",
    "        if missing_keys:\n",
    "            raise ValueError(f\":( Please note since use_edge_weight_values_for_degrees_bool = {self.use_edge_weight_values_for_degrees_bool} ye are missing information for these keys: {missing_keys}\")\n",
    "        # other defined results:\n",
    "        \n",
    "        self.V = self.create_V_matrix()\n",
    "        if self.undirected_graph_bool:\n",
    "            self.directed=False\n",
    "            self.W_original = self.undirected_edge_list_to_matrix()#self.edge_list, self.default_weight)\n",
    "        else:\n",
    "            self.directed=True\n",
    "            self.W_original = self.directed_node2vec_similarity(self.edge_list,\n",
    "                                                     self.dimensions,\n",
    "                                                     self.walk_length,\n",
    "                                                     self.num_walks,\n",
    "                                                     self.p, self.q, self.workers,\n",
    "                                                     self.window,\n",
    "                                                     self.min_count,\n",
    "                                                     self.batch_words)  \n",
    "        self.W = self.generate_symmetric_weight_matrix()\n",
    "        self.view_W_network = self.view_W_network()\n",
    "        self.degree_vector = self.generate_degree_vector_from_weight_matrix()\n",
    "        self.D = self.generate_degree_matrix_from_weight_matrix()\n",
    "        self.edge_list_from_W = self.return_W_edge_list()\n",
    "        self.A = self.create_A_matrix()\n",
    "        \n",
    "    def retrieve_tf_names_list(self):\n",
    "        import pandas as pd\n",
    "        edges_df = pd.DataFrame(self.edge_list)\n",
    "        all_nodes = list(set(list(edges_df[0]) + list(edges_df[1])))\n",
    "        all_nodes.sort()\n",
    "        min_edge = min(all_nodes)\n",
    "        max_edge = max(all_nodes)\n",
    "        #N = len(all_nodes)\n",
    "        tf_names_list = []\n",
    "        for i in range(0, len(all_nodes)):\n",
    "            term = \"TF\" + str(all_nodes[i])\n",
    "            tf_names_list.append(term)\n",
    "        return tf_names_list\n",
    "\n",
    "    def create_V_matrix(self):\n",
    "        N = self.N\n",
    "        V = N * np.eye(N) - np.ones(N)\n",
    "        return V\n",
    "    \n",
    "    #  Building out the Weight matrix from the edge lists:\n",
    "    import numpy as np\n",
    "    from sklearn.metrics.pairwise import cosine_similarity\n",
    "    from node2vec import Node2Vec\n",
    "    import networkx as nx\n",
    "    from typing import List, Tuple\n",
    "    def undirected_edge_list_to_matrix(self):#, edge_list, default_weight=1):\n",
    "        print(\"undirected_edge_list_to_matrix\")\n",
    "        import numpy as np\n",
    "        nodes = list(set([edge[0] for edge in self.edge_list] + [edge[1] for edge in self.edge_list]))\n",
    "        num_nodes = len(nodes)\n",
    "        weight_matrix = np.zeros((num_nodes, num_nodes))\n",
    "        for edge in self.edge_list:\n",
    "            source = nodes.index(edge[0])\n",
    "            target = nodes.index(edge[1])\n",
    "            weight = edge[2] if len(edge) == 3 else self.default_edge_weight\n",
    "            weight_matrix[source][target] = weight\n",
    "            weight_matrix[target][source] = weight\n",
    "        return weight_matrix\n",
    "    \n",
    "    def generate_symmetric_weight_matrix(self) -> np.ndarray:\n",
    "        \"\"\"generate symmetric W matrix. W matrix (Symmetric --> W = W_Transpose).\n",
    "        Note: each diagonal element is the summation of other non-diagonal elements in the same row divided by (N-1)\n",
    "        2023.02.14_Xiang. TODO: add parameter descriptions\n",
    "        \"\"\"\n",
    "        # fix diagonal elements\n",
    "        import numpy as np\n",
    "        W = self.W_original\n",
    "        np.fill_diagonal(W, (W.sum(axis=0) - W.diagonal()) / (self.N - 1))\n",
    "        symmetric_W = check_symmetric(W)\n",
    "        if symmetric_W == False:\n",
    "            print(\":( W matrix is NOT symmetric\")\n",
    "            return None\n",
    "        return W\n",
    "    \n",
    "\n",
    "    def directed_node2vec_similarity(self, edge_list: List[Tuple[int, int, float]],\n",
    "                                                     dimensions: int = 64,\n",
    "                                                     walk_length: int = 30,\n",
    "                                                     num_walks: int = 200,\n",
    "                                                     p: float = 1,\n",
    "                                                     q: float = 0.5,\n",
    "                                                     workers: int = 4,\n",
    "                                                     window: int = 10,\n",
    "                                                     min_count: int = 1,\n",
    "                                                     batch_words: int = 4) -> np.ndarray:\n",
    "        print(\"directed_node2vec_similarity\")\n",
    "        \"\"\"\n",
    "        Given an edge list and node2vec parameters, returns a scaled similarity matrix for the node embeddings generated\n",
    "        by training a node2vec model on the directed graph defined by the edge list.\n",
    "\n",
    "        Parameters:\n",
    "        -----------\n",
    "        edge_list: List[List[int, int, float]]\n",
    "            A list of lists representing the edges of a directed graph. Each edge should be a list of three values:\n",
    "            [source_node, target_node, edge_weight]. If no edge weight is specified, it is assumed to be 1.0.\n",
    "\n",
    "        dimensions: int, optional (default=64)\n",
    "            The dimensionality of the node embeddings.\n",
    "\n",
    "        walk_length: int, optional (default=30)\n",
    "            The length of each random walk during the node2vec training process.\n",
    "\n",
    "        num_walks: int, optional (default=200)\n",
    "            The number of random walks to generate for each node during the node2vec training process.\n",
    "\n",
    "        p: float, optional (default=1)\n",
    "            The return parameter for the node2vec algorithm.\n",
    "\n",
    "        q: float, optional (default=0.5)\n",
    "            The in-out parameter for the node2vec algorithm.\n",
    "\n",
    "        workers: int, optional (default=4)\n",
    "            The number of worker threads to use during the node2vec training process.\n",
    "\n",
    "        window: int, optional (default=10)\n",
    "            The size of the window for the skip-gram model during training.\n",
    "\n",
    "        min_count: int, optional (default=1)\n",
    "            The minimum count for a word in the training data to be included in the model.\n",
    "\n",
    "        batch_words: int, optional (default=4)\n",
    "            The number of words in each batch during training.\n",
    "\n",
    "        Returns:\n",
    "        --------\n",
    "        scaled_similarity_matrix: np.ndarray\n",
    "            A scaled (0-1 range) cosine similarity matrix for the node embeddings generated by training a node2vec model\n",
    "            on the directed graph defined by the edge list.\n",
    "        \"\"\"\n",
    "        import networkx as nx\n",
    "        from node2vec import Node2Vec\n",
    "        from typing import List, Tuple\n",
    "        import numpy as np\n",
    "        # Create directed graph from edge list\n",
    "        directed_graph = nx.DiGraph()\n",
    "        for edge in edge_list:\n",
    "            source, target = edge[:2]\n",
    "            weight = edge[2] if len(edge) == 3 else 1.0\n",
    "            directed_graph.add_edge(source, target, weight=weight)\n",
    "\n",
    "        # Initialize the Node2Vec model\n",
    "        model = Node2Vec(directed_graph, dimensions=dimensions, walk_length=walk_length, \n",
    "                         num_walks=num_walks, p=p, q=q, workers=workers)\n",
    "\n",
    "        # Train the model\n",
    "        model = model.fit(window=window, min_count=min_count, batch_words=batch_words)\n",
    "\n",
    "        # Get node embeddings\n",
    "        node_embeddings = model.wv.vectors\n",
    "\n",
    "        # Calculate cosine similarity matrix\n",
    "        from sklearn.metrics.pairwise import cosine_similarity\n",
    "        similarity_matrix = cosine_similarity(node_embeddings)\n",
    "\n",
    "        # Scale similarity matrix to 0-1 range\n",
    "        scaled_similarity_matrix = (similarity_matrix + 1) / 2\n",
    "\n",
    "        return scaled_similarity_matrix\n",
    "\n",
    "    def return_W_edge_list(self):\n",
    "        wMat = view_matrix_as_dataframe(self.W, column_names_list = self.tf_names_list, row_names_list = self.tf_names_list)\n",
    "        w_edgeList = wMat.stack().reset_index()\n",
    "        w_edgeList = w_edgeList[w_edgeList[\"level_0\"] != w_edgeList[\"level_1\"]]\n",
    "        w_edgeList = w_edgeList.rename(columns = {\"level_0\":\"source\", \"level_1\":\"target\", 0:\"weight\"})\n",
    "        w_edgeList = w_edgeList.sort_values(by = [\"weight\"], ascending = False)\n",
    "        return w_edgeList\n",
    "    \n",
    "    \n",
    "    def view_W_network(self):\n",
    "        roundedW = np.round(self.W, decimals=4)\n",
    "        wMat = view_matrix_as_dataframe(roundedW, column_names_list = self.tf_names_list, row_names_list = self.tf_names_list)\n",
    "        w_edgeList = wMat.stack().reset_index()\n",
    "        # https://stackoverflow.com/questions/48218455/how-to-create-an-edge-list-dataframe-from-a-adjacency-matrix-in-python\n",
    "        w_edgeList = w_edgeList[w_edgeList[\"level_0\"] != w_edgeList[\"level_1\"]]\n",
    "        w_edgeList = w_edgeList.rename(columns = {\"level_0\":\"source\", \"level_1\":\"target\", 0:\"weight\"})\n",
    "        w_edgeList = w_edgeList[w_edgeList[\"weight\"] != 0]\n",
    "        import networkx as nx\n",
    "        G = nx.from_pandas_edgelist(w_edgeList, source = \"source\", target = \"target\", edge_attr = \"weight\")\n",
    "        pos = nx.spring_layout(G)\n",
    "        weights_list = [G.edges[e]['weight'] * self.edge_weight_scaling for e in G.edges]\n",
    "        nx.draw(G, pos, node_color = self.node_color_name, edge_color = self.edge_color_name, with_labels = True, width = weights_list) #weights)#w_edgeList['weight'])\n",
    "        labels = {e: G.edges[e]['weight'] for e in G.edges}\n",
    "        nx.draw_networkx_edge_labels(G, pos, edge_labels = labels)\n",
    "        \n",
    "    \n",
    "    def generate_degree_vector_from_weight_matrix(self) -> np.ndarray:\n",
    "        \"\"\"generate d degree vector.  2023.02.14_Xiang TODO: add parameter descriptions\n",
    "        \"\"\"\n",
    "        if self.use_edge_weight_values_for_degrees_bool == False:\n",
    "            W_bool = (self.W > self.threshold_for_degree)\n",
    "            d = np.float64(W_bool.sum(axis=0) - W_bool.diagonal())\n",
    "        else: \n",
    "            if self.square_root_weights_for_degree_sum_bool: # taking the square root of the weights for the edges\n",
    "                W_to_use = np.sqrt(self.W)\n",
    "            elif self.squaring_weights_for_degree_sum_bool:\n",
    "                W_to_use = self.W ** 2\n",
    "            else:\n",
    "                W_to_use = self.W\n",
    "            d = W_to_use.diagonal() * (N - 1) # summing the edge weights\n",
    "        d += self.pseudocount_for_diagonal_matrix\n",
    "        if self.consider_self_loops:\n",
    "            d += 1 # we also add in a self-loop :)    \n",
    "        # otherwise, we can just use this threshold for the degree\n",
    "        if self.use_edge_weight_values_for_degrees_bool:\n",
    "            print(\":) Please note that we use the sum of the edge weight values to get the degree for a given node.\")\n",
    "        else:\n",
    "            print(f\":) Please note that we count the number of edges with weight > {self.threshold_for_degree} to get the degree for a given node.\")\n",
    "        if self.consider_self_loops:\n",
    "            print(f\":) Please note that since consider_self_loops = {self.consider_self_loops} we also add 1 to the degree for each node (as a self-loop).\")\n",
    "        print(f\":) We also add {self.pseudocount_for_diagonal_matrix} as a pseudocount to our degree value for each node.\")\n",
    "        print() #\n",
    "        return d\n",
    "\n",
    "    # D matrix\n",
    "    def generate_degree_matrix_from_weight_matrix(self):\n",
    "        \"\"\":) Please note that this function returns the D matrix as a diagonal matrix \n",
    "        where the entries are 1/sqrt(d). Here, d is a vector corresponding to the degree of each matrix\"\"\"\n",
    "        # we see that the D matrix is higher for nodes that are singletons, a much higher value because it is not connected\n",
    "        d = self.degree_vector\n",
    "        d_inv_sqrt = 1 / np.sqrt(d)\n",
    "        # D = np.diag(d_inv_sqrt)  # full matrix D, only suitable for small scale. Use DiagonalLinearOperator instead.\n",
    "        # D = DiagonalLinearOperator(d_inv_sqrt)\n",
    "        D = np.diag(d_inv_sqrt)\n",
    "        return D\n",
    "    \n",
    "    # A matrix\n",
    "    def create_A_matrix(self):\n",
    "        # :) here: %*% refers to matrix multiplication\n",
    "        # and * refers to element-wise multiplication (for 2 dataframes with same exact dimensions,\n",
    "        # component-wise multiplication)\n",
    "        # Please note that this function by Saniya creates the A matrix, which is:   \n",
    "        # :) here: %*% refers to matrix multiplication\n",
    "        # and * refers to element-wise multiplication (for 2 dataframes with same exact dimensions,\n",
    "        # component-wise multiplication)\n",
    "        # Please note that this function by Saniya creates the A matrix, which is:\n",
    "        # (D_transpose) %*% (V*W) %*% (D)\n",
    "        VW = self.V * self.W\n",
    "        D = self.D\n",
    "        D_transpose = D.T\n",
    "        Amat = np.matmul(D_transpose, VW)\n",
    "        Amat = np.matmul(Amat, D) \n",
    "        # please see if A is symmetric\n",
    "        approxSame = check_symmetric(Amat)\n",
    "        if approxSame:\n",
    "            print(\":) A is symmetric!\")\n",
    "            return Amat\n",
    "        else:\n",
    "            print(f\":( False. A is NOT a symmetric matrix.\")\n",
    "            print(Amat)\n",
    "        return False"
   ]
  },
  {
   "cell_type": "code",
   "execution_count": 7,
   "id": "b781bb32",
   "metadata": {},
   "outputs": [],
   "source": [
    "# https://www.geeksforgeeks.org/implementation-of-elastic-net-regression-from-scratch/\n",
    "class GRegulNet:\n",
    "    \"\"\" :) Please note that this class focuses on building a Gene Regulatory Network (GRN)\n",
    "    from gene expression data for Transcription Factors (TFs), gene expression data \n",
    "    for the target gene (TG), and a prior biological network (W). \n",
    "    This class performs Network-penalized regression :) \"\"\"\n",
    "    \n",
    "    _parameter_constraints = {\n",
    "        \"alpha_lasso\": (0, None),\n",
    "        \"beta_network\": (0, None),\n",
    "        \"num_cv_folds\": (0, None),\n",
    "        \"fit_y_intercept_bool\": [False, True],\n",
    "        \"same_train_and_test_data_bool\": [False, True],\n",
    "        \"use_network\": [True, False],\n",
    "        \"use_cross_validation_for_model_bool\": [False, True],\n",
    "        \"max_lasso_iterations\": (1, None),\n",
    "        \"model_type\": [\"Lasso\", \"LassoCV\", \"Linear\"]#,\n",
    "        #\"network\":(PriorGraphNetwork(), None)\n",
    "    }\n",
    "    \n",
    "    def __init__(self,  **kwargs):# beta_network, alpha_lasso, X_train, y_train, X_test, y_test):\n",
    "        self.__dict__.update(kwargs)\n",
    "        self.same_train_and_test_data_bool = False # different or same training and testing data?\n",
    "        self.use_cross_validation_for_model_bool = False\n",
    "        self.num_cv_folds = 5 # for cross validation models\n",
    "        self.model_type = \"Lasso\"\n",
    "        self.use_network = True\n",
    "        required_keys = [\"network\", \"beta_network\"] #\"same_train_and_test_data_bool\"]\n",
    "        if self.use_cross_validation_for_model_bool == False: # we then need to provide our own alpha lasso values\n",
    "            #required_keys = [\"alpha_lasso\", \"same_train_and_test_data_bool\"]\n",
    "            required_keys += [\"alpha_lasso\"]\n",
    "            if self.alpha_lasso == 0:\n",
    "                self.model_type = \"Linear\"\n",
    "        else: \n",
    "            self.model_type = \"LassoCV\"\n",
    "        self.fit_y_intercept_bool = False\n",
    "        self.max_lasso_iterations = 10000\n",
    "\n",
    "        # check that all required keys are present:\n",
    "        missing_keys = [key for key in required_keys if key not in self.__dict__]\n",
    "        if missing_keys:\n",
    "            raise ValueError(f\":( Please note ye are missing information for these keys: {missing_keys}\")\n",
    "        self.A = self.network.A\n",
    "        self._apply_parameter_constraints() # ensuring that the parameter constraints are met\n",
    "        \n",
    "    def fit(self, X, y): # fits a model Function used for model training \n",
    "        self.M = y.shape[0]\n",
    "        self.X_train = X\n",
    "        self.N = self.X_train.shape[1]\n",
    "        self.y_train = y\n",
    "        if self.use_network:\n",
    "            print(\"network used\")\n",
    "            self.B_train = self.compute_B_matrix(\"train\")\n",
    "            self.X_tilda_train, self.y_tilda_train = self.compute_X_tilde_y_tilde(self.B_train, self.X_train, \n",
    "                                                                                  self.y_train)\n",
    "            self.X_training_to_use, self.y_training_to_use = self.X_tilda_train, self.y_tilda_train\n",
    "            self.data_used = \"X_tilda_train, y_tilda_train\"\n",
    "        else:\n",
    "            print(\"original used\")\n",
    "            self.X_training_to_use, self.y_training_to_use = self.X_train, self.y_train\n",
    "            self.data_used = \"X_train, y_train\"\n",
    "        \n",
    "        self.regr = self.return_fit_ml_model(self.X_training_to_use, self.y_training_to_use)\n",
    "        ml_model = self.regr\n",
    "        coef = ml_model.coef_\n",
    "        coef[coef == -0.0] = 0\n",
    "        self.coef = coef # Get the coefficients\n",
    "        if self.fit_y_intercept_bool:\n",
    "            self.intercept = ml_model.intercept_\n",
    "        self.predY_train = ml_model.predict(self.X_training_to_use) # training data   \n",
    "        self.mse_train = self.calculate_mean_square_error(self.y_training_to_use, self.predY_train) # Calculate MSE\n",
    "        return self\n",
    "    \n",
    "    # # https://www.geeksforgeeks.org/implementation-of-elastic-net-regression-from-scratch/\n",
    "    def _apply_parameter_constraints(self):\n",
    "        constraints = {**GRegulNet._parameter_constraints}\n",
    "        for key, value in self.__dict__.items():\n",
    "            if key in constraints:\n",
    "                if isinstance(constraints[key], tuple):\n",
    "                    if isinstance(constraints[key][0], type) and not isinstance(value, constraints[key][0]):\n",
    "                        setattr(self, key, constraints[key][0])\n",
    "                    elif constraints[key][1] is not None and isinstance(constraints[key][1], type) and not isinstance(value, constraints[key][1]):\n",
    "                        setattr(self, key, constraints[key][1])\n",
    "                elif value not in constraints[key]:\n",
    "                    setattr(self, key, constraints[key][0])\n",
    "        return self\n",
    "    \n",
    "     # Function for model training\n",
    "    # getter method\n",
    "    def get_beta_network(self):\n",
    "        return self.beta_network\n",
    "    \n",
    "     # getter method\n",
    "    def get_alpha_lasso(self):\n",
    "        return self.alpha_lasso\n",
    "    \n",
    "    def compute_B_matrix(self, data_type):##betaRidgeVal, X, A, M):\n",
    "        \"\"\"M is N_sample, because ||y - Xc||^2 need to be normalized by 1/n_sample, but not the 2 * beta_L2 * c'Ac term\n",
    "        see https://scikit-learn.org/stable/modules/generated/sklearn.linear_model.Lasso.html\n",
    "        The optimization objective for Lasso is:\n",
    "        (1 / (2 * n_samples)) * ||y - Xw||^2_2 + alpha * ||w||_1\n",
    "        where M = n_sample\n",
    "        \"\"\"\n",
    "        if data_type == \"train\":\n",
    "            print(\"Train\")\n",
    "            X = self.X_train\n",
    "        else:\n",
    "            print(\"Test\")\n",
    "            X = self.X_test\n",
    "        \n",
    "        XtX = X.T @ X\n",
    "        beta_L2 = self.beta_network\n",
    "        #N = A.shape[0]\n",
    "        # N = self.A.shape[0]\n",
    "        N_squared = self.N ** 2\n",
    "        part_2 = 2 * beta_L2 * self.M / (N_squared) * self.A\n",
    "        B = XtX + part_2 \n",
    "        return B\n",
    "    \n",
    "    def compute_X_tilde_y_tilde(self, B, X, y):\n",
    "        \"\"\"Compute X_tilde, y_tilde such that X_tilde.T @ X_tilde = B,   y_tilde.T @ X_tilde = y.T @ X \"\"\"\n",
    "        U, s, _Vh = np.linalg.svd(B, hermitian=True)  # B = U @ np.diag(s) @ _Vh\n",
    "        if (cond := s[0] / s[-1]) > 1e10:\n",
    "            print(f'Large conditional number of B matrix: {cond: .2f}')\n",
    "        S_sqrt = DiagonalLinearOperator(np.sqrt(s))\n",
    "        S_inv_sqrt = DiagonalLinearOperator(1 / np.sqrt(s))\n",
    "        X_tilde = S_sqrt @ U.T\n",
    "        y_tilde = (y @ X @ U @ S_inv_sqrt).T\n",
    "        # assert(np.allclose(y.T @ X, y_tilde.T @ X_tilde))\n",
    "        # assert(np.allclose(B, X_tilde.T @ X_tilde))\n",
    "        # scale: we normalize by 1/M, but sklearn.linear_model.Lasso normalize by 1/N because X_tilde is N*N matrix,\n",
    "        # so Lasso thinks the number of sample is N instead of M, to use lasso solve our desired problem, correct the scale\n",
    "        scale = np.sqrt(self.N / self.M)\n",
    "        X_tilde *= scale\n",
    "        y_tilde *= scale\n",
    "        return X_tilde, y_tilde\n",
    "       \n",
    "        \n",
    "    def return_Linear_ML_model(self, X, y):\n",
    "        # model_type can be baseline or network\n",
    "        from sklearn.linear_model import LinearRegression\n",
    "        model_name = \"Linear\"\n",
    "        print(model_name)\n",
    "        regr = LinearRegression(fit_intercept = self.fit_y_intercept_bool)\n",
    "        regr.fit(X, y)\n",
    "        return regr    \n",
    "        \n",
    "    def return_Lasso_ML_model(self, X, y):\n",
    "        # model_type can be baseline or network\n",
    "        from sklearn.linear_model import Lasso\n",
    "        model_name = \"Lasso\"\n",
    "        print(model_name)\n",
    "        regr = Lasso(alpha = self.alpha_lasso, fit_intercept = self.fit_y_intercept_bool,\n",
    "                    max_iter = self.max_lasso_iterations)\n",
    "        regr.fit(X, y)\n",
    "        return regr\n",
    "\n",
    "    def return_LassoCV_ML_model(self, X, y):\n",
    "        # model_type can be baseline or network\n",
    "        from sklearn.linear_model import LassoCV\n",
    "        model_name = \"LassoCV\"\n",
    "        print(model_name)\n",
    "        regr = LassoCV(cv = self.num_cv_folds, random_state = 0, fit_intercept = self.fit_y_intercept_bool)\n",
    "        regr.fit(X, y)\n",
    "        return regr            \n",
    "\n",
    "    def return_fit_ml_model(self, X, y):\n",
    "        if self.model_type == \"Linear\":\n",
    "            model_to_return = self.return_Linear_ML_model(X, y)\n",
    "        elif self.model_type == \"Lasso\":\n",
    "            model_to_return = self.return_Lasso_ML_model(X, y)\n",
    "        elif self.model_type == \"LassoCV\":\n",
    "            model_to_return = self.return_LassoCV_ML_model(X, y)\n",
    "        return model_to_return\n",
    "\n",
    "    def calculate_mean_square_error(self, actual_values, predicted_values):\n",
    "        # Please note that this function by Saniya calculates the Mean Square Error (MSE)\n",
    "        import numpy as np\n",
    "        difference = (actual_values - predicted_values)\n",
    "        squared_diff = difference ** 2 # square of the difference\n",
    "        mean_squared_diff = np.mean(squared_diff)\n",
    "        return mean_squared_diff\n",
    "    \n",
    "    def predict(self, X, y):\n",
    "        import pandas as pd\n",
    "        import numpy as np\n",
    "        self.X_test = X\n",
    "        self.y_test = y\n",
    "        ml_model = self.regr\n",
    "        B_test = self.compute_B_matrix(\"test\")\n",
    "        X_tilda_test, y_tilda_test = self.compute_X_tilde_y_tilde(B_test, X_test, y_test)\n",
    "        X_testing_to_use, y_testing_to_use = X_tilda_test, y_tilda_test\n",
    "        predY_test = ml_model.predict(X_testing_to_use) # training data   \n",
    "        mse_test = self.calculate_mean_square_error(y_testing_to_use, predY_test) # Calculate MSE\n",
    "        return mse_test\n"
   ]
  },
  {
   "cell_type": "code",
   "execution_count": 8,
   "id": "f744a9d2",
   "metadata": {},
   "outputs": [
    {
     "data": {
      "text/plain": [
       "[[0, 1, 2],\n",
       " [3, 4, 2],\n",
       " [0, 2],\n",
       " [0, 3],\n",
       " [0, 4],\n",
       " [1, 2],\n",
       " [1, 3],\n",
       " [1, 4],\n",
       " [2, 3],\n",
       " [2, 4]]"
      ]
     },
     "execution_count": 8,
     "metadata": {},
     "output_type": "execute_result"
    }
   ],
   "source": [
    "edge_list = [[0, 1, 2], [3, 4, 2], [0, 2], [0, 3], [0, 4], # may specify if we want\n",
    "              [1, 2], [1, 3], [1, 4], [2, 3], [2, 4]]\n",
    "\n",
    "edge_list"
   ]
  },
  {
   "cell_type": "code",
   "execution_count": null,
   "id": "f2b860fb",
   "metadata": {},
   "outputs": [],
   "source": []
  },
  {
   "cell_type": "code",
   "execution_count": null,
   "id": "b4bce702",
   "metadata": {},
   "outputs": [],
   "source": []
  },
  {
   "cell_type": "code",
   "execution_count": 23,
   "id": "31c2b611",
   "metadata": {},
   "outputs": [],
   "source": [
    "def geneRegulatNet(edge_list, alpha_lasso_val, beta_network_val, use_edge_weight_values_for_degrees_bool = False,\n",
    "                  consider_self_loops = False, pseudocount_for_diagonal_matrix = 1e-3, \n",
    "                  default_edge_weight = 0.1, square_root_weights_for_degree_sum_bool = False, \n",
    "                  squaring_weights_for_degree_sum_bool = False, threshold_for_degree = 0.5,\n",
    "                 use_cross_validation_for_model_bool = False, num_cv_folds = 5, \n",
    "                model_type = \"Lasso\", use_network = True, fit_y_intercept_bool = False,\n",
    "                   max_lasso_iterations = 10000):\n",
    "    \n",
    "    prior_graph_dict = {\"edge_list\": edge_list,\n",
    "                       \"use_edge_weight_values_for_degrees_bool\": use_edge_weight_values_for_degrees_bool,\n",
    "                       \"consider_self_loops\":consider_self_loops,\n",
    "                       \"pseudocount_for_diagonal_matrix\":pseudocount_for_diagonal_matrix,\n",
    "                        \"default_edge_weight\": default_edge_weight,\n",
    "                        \"square_root_weights_for_degree_sum_bool\":square_root_weights_for_degree_sum_bool, \n",
    "                        \"squaring_weights_for_degree_sum_bool\": squaring_weights_for_degree_sum_bool, \n",
    "                        \"threshold_for_degree\": threshold_for_degree}\n",
    "    \n",
    "           ####################\n",
    "\n",
    "    netty = PriorGraphNetwork(**prior_graph_dict) # uses the network to get features like the A matrix.\n",
    "    greg_dict = {\"alpha_lasso\": alpha_lasso_val,\n",
    "                \"beta_network\":beta_network_val,\n",
    "                \"network\":netty,\n",
    "                \"use_cross_validation_for_model_bool\":use_cross_validation_for_model_bool,\n",
    "                 \"num_cv_folds\":num_cv_folds, \n",
    "                 \"model_type\":model_type, \n",
    "                 \"use_network\":use_network,\n",
    "                 \"fit_y_intercept_bool\":fit_y_intercept_bool, \n",
    "                 \"max_lasso_iterations\":max_lasso_iterations\n",
    "                }\n",
    "    \n",
    "    \n",
    "\n",
    "\n",
    "    # pickle.dump()\n",
    "    greggy = GRegulNet(**greg_dict)\n",
    "    print(print(greggy.__dir__()))\n",
    "    greggy\n",
    "    return greggy\n",
    "\n",
    "\n",
    "# # pickle.dump()\n",
    "# greggy = GRegulNet(**greg_dict)\n",
    "# print(print(greggy.__dir__()))\n",
    "# greggy"
   ]
  },
  {
   "cell_type": "code",
   "execution_count": 24,
   "id": "17399fd0",
   "metadata": {
    "scrolled": true
   },
   "outputs": [
    {
     "name": "stdout",
     "output_type": "stream",
     "text": [
      ":) Please note that since we use the same data for training and for testing :) of our 100 samples. Thus, we have:\n",
      ":) X_train = X_test = 100 rows (samples) and 5 columns (N = 5 predictors) for training and for testing\n",
      ":) y_train = y_test = 100 corresponding rows (samples) for training and for testing.\n"
     ]
    },
    {
     "name": "stderr",
     "output_type": "stream",
     "text": [
      "100%|██████████████████████████████████████████████████████████████████████████████████| 5/5 [00:00<00:00, 2500.18it/s]\n",
      "100%|██████████████████████████████████████████████████████████████████████████████████| 5/5 [00:00<00:00, 4997.98it/s]\n",
      "100%|██████████████████████████████████████████████████████████████████████████████████| 5/5 [00:00<00:00, 5001.55it/s]\n"
     ]
    },
    {
     "data": {
      "application/vnd.plotly.v1+json": {
       "config": {
        "plotlyServerURL": "https://plot.ly"
       },
       "data": [
        {
         "alignmentgroup": "True",
         "hovertemplate": "TF=%{x}<br>correlation=%{y}<extra></extra>",
         "legendgroup": "",
         "marker": {
          "color": "#636efa",
          "pattern": {
           "shape": ""
          }
         },
         "name": "",
         "offsetgroup": "",
         "orientation": "v",
         "showlegend": false,
         "textposition": "auto",
         "type": "bar",
         "x": [
          "TF0",
          "TF1",
          "TF2",
          "TF3",
          "TF4"
         ],
         "xaxis": "x",
         "y": [
          0.9,
          0.5,
          0.1,
          -0.2,
          -0.8
         ],
         "yaxis": "y"
        }
       ],
       "layout": {
        "barmode": "group",
        "legend": {
         "tracegroupgap": 0
        },
        "margin": {
         "t": 60
        },
        "template": {
         "data": {
          "bar": [
           {
            "error_x": {
             "color": "#2a3f5f"
            },
            "error_y": {
             "color": "#2a3f5f"
            },
            "marker": {
             "line": {
              "color": "#E5ECF6",
              "width": 0.5
             },
             "pattern": {
              "fillmode": "overlay",
              "size": 10,
              "solidity": 0.2
             }
            },
            "type": "bar"
           }
          ],
          "barpolar": [
           {
            "marker": {
             "line": {
              "color": "#E5ECF6",
              "width": 0.5
             },
             "pattern": {
              "fillmode": "overlay",
              "size": 10,
              "solidity": 0.2
             }
            },
            "type": "barpolar"
           }
          ],
          "carpet": [
           {
            "aaxis": {
             "endlinecolor": "#2a3f5f",
             "gridcolor": "white",
             "linecolor": "white",
             "minorgridcolor": "white",
             "startlinecolor": "#2a3f5f"
            },
            "baxis": {
             "endlinecolor": "#2a3f5f",
             "gridcolor": "white",
             "linecolor": "white",
             "minorgridcolor": "white",
             "startlinecolor": "#2a3f5f"
            },
            "type": "carpet"
           }
          ],
          "choropleth": [
           {
            "colorbar": {
             "outlinewidth": 0,
             "ticks": ""
            },
            "type": "choropleth"
           }
          ],
          "contour": [
           {
            "colorbar": {
             "outlinewidth": 0,
             "ticks": ""
            },
            "colorscale": [
             [
              0,
              "#0d0887"
             ],
             [
              0.1111111111111111,
              "#46039f"
             ],
             [
              0.2222222222222222,
              "#7201a8"
             ],
             [
              0.3333333333333333,
              "#9c179e"
             ],
             [
              0.4444444444444444,
              "#bd3786"
             ],
             [
              0.5555555555555556,
              "#d8576b"
             ],
             [
              0.6666666666666666,
              "#ed7953"
             ],
             [
              0.7777777777777778,
              "#fb9f3a"
             ],
             [
              0.8888888888888888,
              "#fdca26"
             ],
             [
              1,
              "#f0f921"
             ]
            ],
            "type": "contour"
           }
          ],
          "contourcarpet": [
           {
            "colorbar": {
             "outlinewidth": 0,
             "ticks": ""
            },
            "type": "contourcarpet"
           }
          ],
          "heatmap": [
           {
            "colorbar": {
             "outlinewidth": 0,
             "ticks": ""
            },
            "colorscale": [
             [
              0,
              "#0d0887"
             ],
             [
              0.1111111111111111,
              "#46039f"
             ],
             [
              0.2222222222222222,
              "#7201a8"
             ],
             [
              0.3333333333333333,
              "#9c179e"
             ],
             [
              0.4444444444444444,
              "#bd3786"
             ],
             [
              0.5555555555555556,
              "#d8576b"
             ],
             [
              0.6666666666666666,
              "#ed7953"
             ],
             [
              0.7777777777777778,
              "#fb9f3a"
             ],
             [
              0.8888888888888888,
              "#fdca26"
             ],
             [
              1,
              "#f0f921"
             ]
            ],
            "type": "heatmap"
           }
          ],
          "heatmapgl": [
           {
            "colorbar": {
             "outlinewidth": 0,
             "ticks": ""
            },
            "colorscale": [
             [
              0,
              "#0d0887"
             ],
             [
              0.1111111111111111,
              "#46039f"
             ],
             [
              0.2222222222222222,
              "#7201a8"
             ],
             [
              0.3333333333333333,
              "#9c179e"
             ],
             [
              0.4444444444444444,
              "#bd3786"
             ],
             [
              0.5555555555555556,
              "#d8576b"
             ],
             [
              0.6666666666666666,
              "#ed7953"
             ],
             [
              0.7777777777777778,
              "#fb9f3a"
             ],
             [
              0.8888888888888888,
              "#fdca26"
             ],
             [
              1,
              "#f0f921"
             ]
            ],
            "type": "heatmapgl"
           }
          ],
          "histogram": [
           {
            "marker": {
             "pattern": {
              "fillmode": "overlay",
              "size": 10,
              "solidity": 0.2
             }
            },
            "type": "histogram"
           }
          ],
          "histogram2d": [
           {
            "colorbar": {
             "outlinewidth": 0,
             "ticks": ""
            },
            "colorscale": [
             [
              0,
              "#0d0887"
             ],
             [
              0.1111111111111111,
              "#46039f"
             ],
             [
              0.2222222222222222,
              "#7201a8"
             ],
             [
              0.3333333333333333,
              "#9c179e"
             ],
             [
              0.4444444444444444,
              "#bd3786"
             ],
             [
              0.5555555555555556,
              "#d8576b"
             ],
             [
              0.6666666666666666,
              "#ed7953"
             ],
             [
              0.7777777777777778,
              "#fb9f3a"
             ],
             [
              0.8888888888888888,
              "#fdca26"
             ],
             [
              1,
              "#f0f921"
             ]
            ],
            "type": "histogram2d"
           }
          ],
          "histogram2dcontour": [
           {
            "colorbar": {
             "outlinewidth": 0,
             "ticks": ""
            },
            "colorscale": [
             [
              0,
              "#0d0887"
             ],
             [
              0.1111111111111111,
              "#46039f"
             ],
             [
              0.2222222222222222,
              "#7201a8"
             ],
             [
              0.3333333333333333,
              "#9c179e"
             ],
             [
              0.4444444444444444,
              "#bd3786"
             ],
             [
              0.5555555555555556,
              "#d8576b"
             ],
             [
              0.6666666666666666,
              "#ed7953"
             ],
             [
              0.7777777777777778,
              "#fb9f3a"
             ],
             [
              0.8888888888888888,
              "#fdca26"
             ],
             [
              1,
              "#f0f921"
             ]
            ],
            "type": "histogram2dcontour"
           }
          ],
          "mesh3d": [
           {
            "colorbar": {
             "outlinewidth": 0,
             "ticks": ""
            },
            "type": "mesh3d"
           }
          ],
          "parcoords": [
           {
            "line": {
             "colorbar": {
              "outlinewidth": 0,
              "ticks": ""
             }
            },
            "type": "parcoords"
           }
          ],
          "pie": [
           {
            "automargin": true,
            "type": "pie"
           }
          ],
          "scatter": [
           {
            "fillpattern": {
             "fillmode": "overlay",
             "size": 10,
             "solidity": 0.2
            },
            "type": "scatter"
           }
          ],
          "scatter3d": [
           {
            "line": {
             "colorbar": {
              "outlinewidth": 0,
              "ticks": ""
             }
            },
            "marker": {
             "colorbar": {
              "outlinewidth": 0,
              "ticks": ""
             }
            },
            "type": "scatter3d"
           }
          ],
          "scattercarpet": [
           {
            "marker": {
             "colorbar": {
              "outlinewidth": 0,
              "ticks": ""
             }
            },
            "type": "scattercarpet"
           }
          ],
          "scattergeo": [
           {
            "marker": {
             "colorbar": {
              "outlinewidth": 0,
              "ticks": ""
             }
            },
            "type": "scattergeo"
           }
          ],
          "scattergl": [
           {
            "marker": {
             "colorbar": {
              "outlinewidth": 0,
              "ticks": ""
             }
            },
            "type": "scattergl"
           }
          ],
          "scattermapbox": [
           {
            "marker": {
             "colorbar": {
              "outlinewidth": 0,
              "ticks": ""
             }
            },
            "type": "scattermapbox"
           }
          ],
          "scatterpolar": [
           {
            "marker": {
             "colorbar": {
              "outlinewidth": 0,
              "ticks": ""
             }
            },
            "type": "scatterpolar"
           }
          ],
          "scatterpolargl": [
           {
            "marker": {
             "colorbar": {
              "outlinewidth": 0,
              "ticks": ""
             }
            },
            "type": "scatterpolargl"
           }
          ],
          "scatterternary": [
           {
            "marker": {
             "colorbar": {
              "outlinewidth": 0,
              "ticks": ""
             }
            },
            "type": "scatterternary"
           }
          ],
          "surface": [
           {
            "colorbar": {
             "outlinewidth": 0,
             "ticks": ""
            },
            "colorscale": [
             [
              0,
              "#0d0887"
             ],
             [
              0.1111111111111111,
              "#46039f"
             ],
             [
              0.2222222222222222,
              "#7201a8"
             ],
             [
              0.3333333333333333,
              "#9c179e"
             ],
             [
              0.4444444444444444,
              "#bd3786"
             ],
             [
              0.5555555555555556,
              "#d8576b"
             ],
             [
              0.6666666666666666,
              "#ed7953"
             ],
             [
              0.7777777777777778,
              "#fb9f3a"
             ],
             [
              0.8888888888888888,
              "#fdca26"
             ],
             [
              1,
              "#f0f921"
             ]
            ],
            "type": "surface"
           }
          ],
          "table": [
           {
            "cells": {
             "fill": {
              "color": "#EBF0F8"
             },
             "line": {
              "color": "white"
             }
            },
            "header": {
             "fill": {
              "color": "#C8D4E3"
             },
             "line": {
              "color": "white"
             }
            },
            "type": "table"
           }
          ]
         },
         "layout": {
          "annotationdefaults": {
           "arrowcolor": "#2a3f5f",
           "arrowhead": 0,
           "arrowwidth": 1
          },
          "autotypenumbers": "strict",
          "coloraxis": {
           "colorbar": {
            "outlinewidth": 0,
            "ticks": ""
           }
          },
          "colorscale": {
           "diverging": [
            [
             0,
             "#8e0152"
            ],
            [
             0.1,
             "#c51b7d"
            ],
            [
             0.2,
             "#de77ae"
            ],
            [
             0.3,
             "#f1b6da"
            ],
            [
             0.4,
             "#fde0ef"
            ],
            [
             0.5,
             "#f7f7f7"
            ],
            [
             0.6,
             "#e6f5d0"
            ],
            [
             0.7,
             "#b8e186"
            ],
            [
             0.8,
             "#7fbc41"
            ],
            [
             0.9,
             "#4d9221"
            ],
            [
             1,
             "#276419"
            ]
           ],
           "sequential": [
            [
             0,
             "#0d0887"
            ],
            [
             0.1111111111111111,
             "#46039f"
            ],
            [
             0.2222222222222222,
             "#7201a8"
            ],
            [
             0.3333333333333333,
             "#9c179e"
            ],
            [
             0.4444444444444444,
             "#bd3786"
            ],
            [
             0.5555555555555556,
             "#d8576b"
            ],
            [
             0.6666666666666666,
             "#ed7953"
            ],
            [
             0.7777777777777778,
             "#fb9f3a"
            ],
            [
             0.8888888888888888,
             "#fdca26"
            ],
            [
             1,
             "#f0f921"
            ]
           ],
           "sequentialminus": [
            [
             0,
             "#0d0887"
            ],
            [
             0.1111111111111111,
             "#46039f"
            ],
            [
             0.2222222222222222,
             "#7201a8"
            ],
            [
             0.3333333333333333,
             "#9c179e"
            ],
            [
             0.4444444444444444,
             "#bd3786"
            ],
            [
             0.5555555555555556,
             "#d8576b"
            ],
            [
             0.6666666666666666,
             "#ed7953"
            ],
            [
             0.7777777777777778,
             "#fb9f3a"
            ],
            [
             0.8888888888888888,
             "#fdca26"
            ],
            [
             1,
             "#f0f921"
            ]
           ]
          },
          "colorway": [
           "#636efa",
           "#EF553B",
           "#00cc96",
           "#ab63fa",
           "#FFA15A",
           "#19d3f3",
           "#FF6692",
           "#B6E880",
           "#FF97FF",
           "#FECB52"
          ],
          "font": {
           "color": "#2a3f5f"
          },
          "geo": {
           "bgcolor": "white",
           "lakecolor": "white",
           "landcolor": "#E5ECF6",
           "showlakes": true,
           "showland": true,
           "subunitcolor": "white"
          },
          "hoverlabel": {
           "align": "left"
          },
          "hovermode": "closest",
          "mapbox": {
           "style": "light"
          },
          "paper_bgcolor": "white",
          "plot_bgcolor": "#E5ECF6",
          "polar": {
           "angularaxis": {
            "gridcolor": "white",
            "linecolor": "white",
            "ticks": ""
           },
           "bgcolor": "#E5ECF6",
           "radialaxis": {
            "gridcolor": "white",
            "linecolor": "white",
            "ticks": ""
           }
          },
          "scene": {
           "xaxis": {
            "backgroundcolor": "#E5ECF6",
            "gridcolor": "white",
            "gridwidth": 2,
            "linecolor": "white",
            "showbackground": true,
            "ticks": "",
            "zerolinecolor": "white"
           },
           "yaxis": {
            "backgroundcolor": "#E5ECF6",
            "gridcolor": "white",
            "gridwidth": 2,
            "linecolor": "white",
            "showbackground": true,
            "ticks": "",
            "zerolinecolor": "white"
           },
           "zaxis": {
            "backgroundcolor": "#E5ECF6",
            "gridcolor": "white",
            "gridwidth": 2,
            "linecolor": "white",
            "showbackground": true,
            "ticks": "",
            "zerolinecolor": "white"
           }
          },
          "shapedefaults": {
           "line": {
            "color": "#2a3f5f"
           }
          },
          "ternary": {
           "aaxis": {
            "gridcolor": "white",
            "linecolor": "white",
            "ticks": ""
           },
           "baxis": {
            "gridcolor": "white",
            "linecolor": "white",
            "ticks": ""
           },
           "bgcolor": "#E5ECF6",
           "caxis": {
            "gridcolor": "white",
            "linecolor": "white",
            "ticks": ""
           }
          },
          "title": {
           "x": 0.05
          },
          "xaxis": {
           "automargin": true,
           "gridcolor": "white",
           "linecolor": "white",
           "ticks": "",
           "title": {
            "standoff": 15
           },
           "zerolinecolor": "white",
           "zerolinewidth": 2
          },
          "yaxis": {
           "automargin": true,
           "gridcolor": "white",
           "linecolor": "white",
           "ticks": "",
           "title": {
            "standoff": 15
           },
           "zerolinecolor": "white",
           "zerolinewidth": 2
          }
         }
        },
        "xaxis": {
         "anchor": "y",
         "domain": [
          0,
          1
         ],
         "title": {
          "text": "TF"
         }
        },
        "yaxis": {
         "anchor": "x",
         "domain": [
          0,
          1
         ],
         "title": {
          "text": "correlation"
         }
        }
       }
      },
      "text/html": [
       "<div>                            <div id=\"d151632a-320e-485c-934d-03716d2e1dc2\" class=\"plotly-graph-div\" style=\"height:525px; width:100%;\"></div>            <script type=\"text/javascript\">                require([\"plotly\"], function(Plotly) {                    window.PLOTLYENV=window.PLOTLYENV || {};                                    if (document.getElementById(\"d151632a-320e-485c-934d-03716d2e1dc2\")) {                    Plotly.newPlot(                        \"d151632a-320e-485c-934d-03716d2e1dc2\",                        [{\"alignmentgroup\":\"True\",\"hovertemplate\":\"TF=%{x}<br>correlation=%{y}<extra></extra>\",\"legendgroup\":\"\",\"marker\":{\"color\":\"#636efa\",\"pattern\":{\"shape\":\"\"}},\"name\":\"\",\"offsetgroup\":\"\",\"orientation\":\"v\",\"showlegend\":false,\"textposition\":\"auto\",\"x\":[\"TF0\",\"TF1\",\"TF2\",\"TF3\",\"TF4\"],\"xaxis\":\"x\",\"y\":[0.9,0.5,0.1,-0.2,-0.8],\"yaxis\":\"y\",\"type\":\"bar\"}],                        {\"template\":{\"data\":{\"histogram2dcontour\":[{\"type\":\"histogram2dcontour\",\"colorbar\":{\"outlinewidth\":0,\"ticks\":\"\"},\"colorscale\":[[0.0,\"#0d0887\"],[0.1111111111111111,\"#46039f\"],[0.2222222222222222,\"#7201a8\"],[0.3333333333333333,\"#9c179e\"],[0.4444444444444444,\"#bd3786\"],[0.5555555555555556,\"#d8576b\"],[0.6666666666666666,\"#ed7953\"],[0.7777777777777778,\"#fb9f3a\"],[0.8888888888888888,\"#fdca26\"],[1.0,\"#f0f921\"]]}],\"choropleth\":[{\"type\":\"choropleth\",\"colorbar\":{\"outlinewidth\":0,\"ticks\":\"\"}}],\"histogram2d\":[{\"type\":\"histogram2d\",\"colorbar\":{\"outlinewidth\":0,\"ticks\":\"\"},\"colorscale\":[[0.0,\"#0d0887\"],[0.1111111111111111,\"#46039f\"],[0.2222222222222222,\"#7201a8\"],[0.3333333333333333,\"#9c179e\"],[0.4444444444444444,\"#bd3786\"],[0.5555555555555556,\"#d8576b\"],[0.6666666666666666,\"#ed7953\"],[0.7777777777777778,\"#fb9f3a\"],[0.8888888888888888,\"#fdca26\"],[1.0,\"#f0f921\"]]}],\"heatmap\":[{\"type\":\"heatmap\",\"colorbar\":{\"outlinewidth\":0,\"ticks\":\"\"},\"colorscale\":[[0.0,\"#0d0887\"],[0.1111111111111111,\"#46039f\"],[0.2222222222222222,\"#7201a8\"],[0.3333333333333333,\"#9c179e\"],[0.4444444444444444,\"#bd3786\"],[0.5555555555555556,\"#d8576b\"],[0.6666666666666666,\"#ed7953\"],[0.7777777777777778,\"#fb9f3a\"],[0.8888888888888888,\"#fdca26\"],[1.0,\"#f0f921\"]]}],\"heatmapgl\":[{\"type\":\"heatmapgl\",\"colorbar\":{\"outlinewidth\":0,\"ticks\":\"\"},\"colorscale\":[[0.0,\"#0d0887\"],[0.1111111111111111,\"#46039f\"],[0.2222222222222222,\"#7201a8\"],[0.3333333333333333,\"#9c179e\"],[0.4444444444444444,\"#bd3786\"],[0.5555555555555556,\"#d8576b\"],[0.6666666666666666,\"#ed7953\"],[0.7777777777777778,\"#fb9f3a\"],[0.8888888888888888,\"#fdca26\"],[1.0,\"#f0f921\"]]}],\"contourcarpet\":[{\"type\":\"contourcarpet\",\"colorbar\":{\"outlinewidth\":0,\"ticks\":\"\"}}],\"contour\":[{\"type\":\"contour\",\"colorbar\":{\"outlinewidth\":0,\"ticks\":\"\"},\"colorscale\":[[0.0,\"#0d0887\"],[0.1111111111111111,\"#46039f\"],[0.2222222222222222,\"#7201a8\"],[0.3333333333333333,\"#9c179e\"],[0.4444444444444444,\"#bd3786\"],[0.5555555555555556,\"#d8576b\"],[0.6666666666666666,\"#ed7953\"],[0.7777777777777778,\"#fb9f3a\"],[0.8888888888888888,\"#fdca26\"],[1.0,\"#f0f921\"]]}],\"surface\":[{\"type\":\"surface\",\"colorbar\":{\"outlinewidth\":0,\"ticks\":\"\"},\"colorscale\":[[0.0,\"#0d0887\"],[0.1111111111111111,\"#46039f\"],[0.2222222222222222,\"#7201a8\"],[0.3333333333333333,\"#9c179e\"],[0.4444444444444444,\"#bd3786\"],[0.5555555555555556,\"#d8576b\"],[0.6666666666666666,\"#ed7953\"],[0.7777777777777778,\"#fb9f3a\"],[0.8888888888888888,\"#fdca26\"],[1.0,\"#f0f921\"]]}],\"mesh3d\":[{\"type\":\"mesh3d\",\"colorbar\":{\"outlinewidth\":0,\"ticks\":\"\"}}],\"scatter\":[{\"fillpattern\":{\"fillmode\":\"overlay\",\"size\":10,\"solidity\":0.2},\"type\":\"scatter\"}],\"parcoords\":[{\"type\":\"parcoords\",\"line\":{\"colorbar\":{\"outlinewidth\":0,\"ticks\":\"\"}}}],\"scatterpolargl\":[{\"type\":\"scatterpolargl\",\"marker\":{\"colorbar\":{\"outlinewidth\":0,\"ticks\":\"\"}}}],\"bar\":[{\"error_x\":{\"color\":\"#2a3f5f\"},\"error_y\":{\"color\":\"#2a3f5f\"},\"marker\":{\"line\":{\"color\":\"#E5ECF6\",\"width\":0.5},\"pattern\":{\"fillmode\":\"overlay\",\"size\":10,\"solidity\":0.2}},\"type\":\"bar\"}],\"scattergeo\":[{\"type\":\"scattergeo\",\"marker\":{\"colorbar\":{\"outlinewidth\":0,\"ticks\":\"\"}}}],\"scatterpolar\":[{\"type\":\"scatterpolar\",\"marker\":{\"colorbar\":{\"outlinewidth\":0,\"ticks\":\"\"}}}],\"histogram\":[{\"marker\":{\"pattern\":{\"fillmode\":\"overlay\",\"size\":10,\"solidity\":0.2}},\"type\":\"histogram\"}],\"scattergl\":[{\"type\":\"scattergl\",\"marker\":{\"colorbar\":{\"outlinewidth\":0,\"ticks\":\"\"}}}],\"scatter3d\":[{\"type\":\"scatter3d\",\"line\":{\"colorbar\":{\"outlinewidth\":0,\"ticks\":\"\"}},\"marker\":{\"colorbar\":{\"outlinewidth\":0,\"ticks\":\"\"}}}],\"scattermapbox\":[{\"type\":\"scattermapbox\",\"marker\":{\"colorbar\":{\"outlinewidth\":0,\"ticks\":\"\"}}}],\"scatterternary\":[{\"type\":\"scatterternary\",\"marker\":{\"colorbar\":{\"outlinewidth\":0,\"ticks\":\"\"}}}],\"scattercarpet\":[{\"type\":\"scattercarpet\",\"marker\":{\"colorbar\":{\"outlinewidth\":0,\"ticks\":\"\"}}}],\"carpet\":[{\"aaxis\":{\"endlinecolor\":\"#2a3f5f\",\"gridcolor\":\"white\",\"linecolor\":\"white\",\"minorgridcolor\":\"white\",\"startlinecolor\":\"#2a3f5f\"},\"baxis\":{\"endlinecolor\":\"#2a3f5f\",\"gridcolor\":\"white\",\"linecolor\":\"white\",\"minorgridcolor\":\"white\",\"startlinecolor\":\"#2a3f5f\"},\"type\":\"carpet\"}],\"table\":[{\"cells\":{\"fill\":{\"color\":\"#EBF0F8\"},\"line\":{\"color\":\"white\"}},\"header\":{\"fill\":{\"color\":\"#C8D4E3\"},\"line\":{\"color\":\"white\"}},\"type\":\"table\"}],\"barpolar\":[{\"marker\":{\"line\":{\"color\":\"#E5ECF6\",\"width\":0.5},\"pattern\":{\"fillmode\":\"overlay\",\"size\":10,\"solidity\":0.2}},\"type\":\"barpolar\"}],\"pie\":[{\"automargin\":true,\"type\":\"pie\"}]},\"layout\":{\"autotypenumbers\":\"strict\",\"colorway\":[\"#636efa\",\"#EF553B\",\"#00cc96\",\"#ab63fa\",\"#FFA15A\",\"#19d3f3\",\"#FF6692\",\"#B6E880\",\"#FF97FF\",\"#FECB52\"],\"font\":{\"color\":\"#2a3f5f\"},\"hovermode\":\"closest\",\"hoverlabel\":{\"align\":\"left\"},\"paper_bgcolor\":\"white\",\"plot_bgcolor\":\"#E5ECF6\",\"polar\":{\"bgcolor\":\"#E5ECF6\",\"angularaxis\":{\"gridcolor\":\"white\",\"linecolor\":\"white\",\"ticks\":\"\"},\"radialaxis\":{\"gridcolor\":\"white\",\"linecolor\":\"white\",\"ticks\":\"\"}},\"ternary\":{\"bgcolor\":\"#E5ECF6\",\"aaxis\":{\"gridcolor\":\"white\",\"linecolor\":\"white\",\"ticks\":\"\"},\"baxis\":{\"gridcolor\":\"white\",\"linecolor\":\"white\",\"ticks\":\"\"},\"caxis\":{\"gridcolor\":\"white\",\"linecolor\":\"white\",\"ticks\":\"\"}},\"coloraxis\":{\"colorbar\":{\"outlinewidth\":0,\"ticks\":\"\"}},\"colorscale\":{\"sequential\":[[0.0,\"#0d0887\"],[0.1111111111111111,\"#46039f\"],[0.2222222222222222,\"#7201a8\"],[0.3333333333333333,\"#9c179e\"],[0.4444444444444444,\"#bd3786\"],[0.5555555555555556,\"#d8576b\"],[0.6666666666666666,\"#ed7953\"],[0.7777777777777778,\"#fb9f3a\"],[0.8888888888888888,\"#fdca26\"],[1.0,\"#f0f921\"]],\"sequentialminus\":[[0.0,\"#0d0887\"],[0.1111111111111111,\"#46039f\"],[0.2222222222222222,\"#7201a8\"],[0.3333333333333333,\"#9c179e\"],[0.4444444444444444,\"#bd3786\"],[0.5555555555555556,\"#d8576b\"],[0.6666666666666666,\"#ed7953\"],[0.7777777777777778,\"#fb9f3a\"],[0.8888888888888888,\"#fdca26\"],[1.0,\"#f0f921\"]],\"diverging\":[[0,\"#8e0152\"],[0.1,\"#c51b7d\"],[0.2,\"#de77ae\"],[0.3,\"#f1b6da\"],[0.4,\"#fde0ef\"],[0.5,\"#f7f7f7\"],[0.6,\"#e6f5d0\"],[0.7,\"#b8e186\"],[0.8,\"#7fbc41\"],[0.9,\"#4d9221\"],[1,\"#276419\"]]},\"xaxis\":{\"gridcolor\":\"white\",\"linecolor\":\"white\",\"ticks\":\"\",\"title\":{\"standoff\":15},\"zerolinecolor\":\"white\",\"automargin\":true,\"zerolinewidth\":2},\"yaxis\":{\"gridcolor\":\"white\",\"linecolor\":\"white\",\"ticks\":\"\",\"title\":{\"standoff\":15},\"zerolinecolor\":\"white\",\"automargin\":true,\"zerolinewidth\":2},\"scene\":{\"xaxis\":{\"backgroundcolor\":\"#E5ECF6\",\"gridcolor\":\"white\",\"linecolor\":\"white\",\"showbackground\":true,\"ticks\":\"\",\"zerolinecolor\":\"white\",\"gridwidth\":2},\"yaxis\":{\"backgroundcolor\":\"#E5ECF6\",\"gridcolor\":\"white\",\"linecolor\":\"white\",\"showbackground\":true,\"ticks\":\"\",\"zerolinecolor\":\"white\",\"gridwidth\":2},\"zaxis\":{\"backgroundcolor\":\"#E5ECF6\",\"gridcolor\":\"white\",\"linecolor\":\"white\",\"showbackground\":true,\"ticks\":\"\",\"zerolinecolor\":\"white\",\"gridwidth\":2}},\"shapedefaults\":{\"line\":{\"color\":\"#2a3f5f\"}},\"annotationdefaults\":{\"arrowcolor\":\"#2a3f5f\",\"arrowhead\":0,\"arrowwidth\":1},\"geo\":{\"bgcolor\":\"white\",\"landcolor\":\"#E5ECF6\",\"subunitcolor\":\"white\",\"showland\":true,\"showlakes\":true,\"lakecolor\":\"white\"},\"title\":{\"x\":0.05},\"mapbox\":{\"style\":\"light\"}}},\"xaxis\":{\"anchor\":\"y\",\"domain\":[0.0,1.0],\"title\":{\"text\":\"TF\"}},\"yaxis\":{\"anchor\":\"x\",\"domain\":[0.0,1.0],\"title\":{\"text\":\"correlation\"}},\"legend\":{\"tracegroupgap\":0},\"margin\":{\"t\":60},\"barmode\":\"group\"},                        {\"responsive\": true}                    ).then(function(){\n",
       "                            \n",
       "var gd = document.getElementById('d151632a-320e-485c-934d-03716d2e1dc2');\n",
       "var x = new MutationObserver(function (mutations, observer) {{\n",
       "        var display = window.getComputedStyle(gd).display;\n",
       "        if (!display || display === 'none') {{\n",
       "            console.log([gd, 'removed!']);\n",
       "            Plotly.purge(gd);\n",
       "            observer.disconnect();\n",
       "        }}\n",
       "}});\n",
       "\n",
       "// Listen for the removal of the full notebook cells\n",
       "var notebookContainer = gd.closest('#notebook-container');\n",
       "if (notebookContainer) {{\n",
       "    x.observe(notebookContainer, {childList: true});\n",
       "}}\n",
       "\n",
       "// Listen for the clearing of the current output cell\n",
       "var outputEl = gd.closest('.output');\n",
       "if (outputEl) {{\n",
       "    x.observe(outputEl, {childList: true});\n",
       "}}\n",
       "\n",
       "                        })                };                });            </script>        </div>"
      ]
     },
     "metadata": {},
     "output_type": "display_data"
    },
    {
     "name": "stdout",
     "output_type": "stream",
     "text": [
      "undirected_edge_list_to_matrix\n",
      ":) Please note that we count the number of edges with weight > 0.5 to get the degree for a given node.\n",
      ":) We also add 0.001 as a pseudocount to our degree value for each node.\n",
      "\n",
      ":) A is symmetric!\n",
      "['alpha_lasso', 'beta_network', 'network', 'use_cross_validation_for_model_bool', 'num_cv_folds', 'model_type', 'use_network', 'fit_y_intercept_bool', 'max_lasso_iterations', 'same_train_and_test_data_bool', 'A', '__module__', '__doc__', '_parameter_constraints', '__init__', 'fit', '_apply_parameter_constraints', 'get_beta_network', 'get_alpha_lasso', 'compute_B_matrix', 'compute_X_tilde_y_tilde', 'return_Linear_ML_model', 'return_Lasso_ML_model', 'return_LassoCV_ML_model', 'return_fit_ml_model', 'calculate_mean_square_error', 'predict', '__dict__', '__weakref__', '__new__', '__repr__', '__hash__', '__str__', '__getattribute__', '__setattr__', '__delattr__', '__lt__', '__le__', '__eq__', '__ne__', '__gt__', '__ge__', '__reduce_ex__', '__reduce__', '__subclasshook__', '__init_subclass__', '__format__', '__sizeof__', '__dir__', '__class__']\n",
      "None\n",
      "network used\n",
      "Train\n",
      "Lasso\n"
     ]
    },
    {
     "data": {
      "text/plain": [
       "array([ 0.21463071,  0.21240863,  0.00233532, -0.0170906 , -0.14422149])"
      ]
     },
     "execution_count": 24,
     "metadata": {},
     "output_type": "execute_result"
    },
    {
     "data": {
      "image/png": "[encoded data removed]",
      "text/plain": [
       "<Figure size 640x480 with 1 Axes>"
      ]
     },
     "metadata": {},
     "output_type": "display_data"
    }
   ],
   "source": [
    "demo_dict = {\"M\": 100,\n",
    "            \"corrVals\": [0.9, 0.5, 0.1, -0.2, -0.8],\n",
    "            \"same_train_and_test_data_bool\":True}\n",
    "dummy_data = DemoDataBuilderXandY(**demo_dict)\n",
    "\n",
    "X_train = dummy_data.X_train\n",
    "y_train = dummy_data.y_train\n",
    "X_test = dummy_data.X_test\n",
    "y_test = dummy_data.y_test \n",
    "edge_list = [[0, 1, 100], [3, 4, 0.8], [0, 2], [0, 3], [0, 4], # may specify if we want\n",
    "              [1, 2], [1, 3], [1, 4], [2, 3], [2, 4]]\n",
    "alpha_lasso_val = 0.01\n",
    "beta_network_val = 10\n",
    "\n",
    "\n",
    "\n",
    "grn_demo = geneRegulatNet(edge_list, alpha_lasso_val, beta_network_val)\n",
    "grn_demo.fit(X_train, y_train)\n",
    "grn_demo\n",
    "grn_demo.coef\n"
   ]
  },
  {
   "cell_type": "code",
   "execution_count": 26,
   "id": "7864c5f1",
   "metadata": {},
   "outputs": [
    {
     "data": {
      "text/plain": [
       "array([[ 2.95670407e-01,  3.37196898e-01, -4.00491103e+01,\n",
       "         3.23304504e-01,  3.14657386e-01],\n",
       "       [-2.04409948e+01,  1.98523357e+01,  1.88132306e-02,\n",
       "         4.76582424e-02,  2.78704023e-01],\n",
       "       [ 3.38305668e+00,  3.53423344e+00,  2.28080975e-02,\n",
       "        -5.12324132e-01, -3.53693139e+00],\n",
       "       [ 6.48396342e-01,  6.50845122e-01,  2.31161244e-04,\n",
       "        -2.88665702e+00,  1.68866988e+00],\n",
       "       [-9.22927579e-01, -9.24395358e-01, -3.82061735e-02,\n",
       "        -1.35760342e+00, -1.61006338e+00]])"
      ]
     },
     "execution_count": 26,
     "metadata": {},
     "output_type": "execute_result"
    }
   ],
   "source": [
    "grn_demo.X_tilda_train"
   ]
  },
  {
   "cell_type": "code",
   "execution_count": 27,
   "id": "cf0d47fc",
   "metadata": {},
   "outputs": [
    {
     "data": {
      "text/plain": [
       "array([-0.01059955, -0.2115059 ,  2.01079118,  0.0936446 , -0.13047974])"
      ]
     },
     "execution_count": 27,
     "metadata": {},
     "output_type": "execute_result"
    }
   ],
   "source": [
    "grn_demo.y_tilda_train"
   ]
  },
  {
   "cell_type": "code",
   "execution_count": 34,
   "id": "e7bdeed7",
   "metadata": {},
   "outputs": [
    {
     "data": {
      "text/plain": [
       "-0.9923170271148671"
      ]
     },
     "execution_count": 34,
     "metadata": {},
     "output_type": "execute_result"
    }
   ],
   "source": [
    "np.corrcoef(grn_demo.X_tilda_train[0], grn_demo.y_tilda_train)[0][1]"
   ]
  },
  {
   "cell_type": "code",
   "execution_count": 35,
   "id": "10865205",
   "metadata": {},
   "outputs": [
    {
     "data": {
      "text/plain": [
       "-0.07298519765985641"
      ]
     },
     "execution_count": 35,
     "metadata": {},
     "output_type": "execute_result"
    }
   ],
   "source": [
    "np.corrcoef(grn_demo.X_tilda_train[1], grn_demo.y_tilda_train)[0][1]"
   ]
  },
  {
   "cell_type": "code",
   "execution_count": 36,
   "id": "50b382c3",
   "metadata": {},
   "outputs": [
    {
     "data": {
      "text/plain": [
       "-0.12071895709213028"
      ]
     },
     "execution_count": 36,
     "metadata": {},
     "output_type": "execute_result"
    }
   ],
   "source": [
    "np.corrcoef(grn_demo.X_tilda_train[2], grn_demo.y_tilda_train)[0][1]"
   ]
  },
  {
   "cell_type": "code",
   "execution_count": 37,
   "id": "97469ef4",
   "metadata": {},
   "outputs": [
    {
     "data": {
      "text/plain": [
       "-0.10331120758086121"
      ]
     },
     "execution_count": 37,
     "metadata": {},
     "output_type": "execute_result"
    }
   ],
   "source": [
    "np.corrcoef(grn_demo.X_tilda_train[3], grn_demo.y_tilda_train)[0][1]"
   ]
  },
  {
   "cell_type": "code",
   "execution_count": 39,
   "id": "40bc9762",
   "metadata": {},
   "outputs": [
    {
     "data": {
      "text/plain": [
       "0.8538252122873552"
      ]
     },
     "execution_count": 39,
     "metadata": {},
     "output_type": "execute_result"
    }
   ],
   "source": [
    "np.corrcoef(grn_demo.X_tilda_train[4], grn_demo.y_tilda_train)[0][1]"
   ]
  },
  {
   "cell_type": "code",
   "execution_count": 41,
   "id": "4743e56b",
   "metadata": {},
   "outputs": [
    {
     "data": {
      "text/plain": [
       "array([ 0.21463071,  0.21240863,  0.00233532, -0.0170906 , -0.14422149])"
      ]
     },
     "execution_count": 41,
     "metadata": {},
     "output_type": "execute_result"
    }
   ],
   "source": [
    "grn_demo.coef\n"
   ]
  },
  {
   "cell_type": "code",
   "execution_count": 42,
   "id": "87533c7e",
   "metadata": {},
   "outputs": [
    {
     "data": {
      "text/html": [
       "<div>\n",
       "<style scoped>\n",
       "    .dataframe tbody tr th:only-of-type {\n",
       "        vertical-align: middle;\n",
       "    }\n",
       "\n",
       "    .dataframe tbody tr th {\n",
       "        vertical-align: top;\n",
       "    }\n",
       "\n",
       "    .dataframe thead th {\n",
       "        text-align: right;\n",
       "    }\n",
       "</style>\n",
       "<table border=\"1\" class=\"dataframe\">\n",
       "  <thead>\n",
       "    <tr style=\"text-align: right;\">\n",
       "      <th></th>\n",
       "      <th>0</th>\n",
       "      <th>1</th>\n",
       "      <th>2</th>\n",
       "      <th>3</th>\n",
       "      <th>4</th>\n",
       "    </tr>\n",
       "  </thead>\n",
       "  <tbody>\n",
       "    <tr>\n",
       "      <th>0</th>\n",
       "      <td>0.295670</td>\n",
       "      <td>0.337197</td>\n",
       "      <td>-40.049110</td>\n",
       "      <td>0.323305</td>\n",
       "      <td>0.314657</td>\n",
       "    </tr>\n",
       "    <tr>\n",
       "      <th>1</th>\n",
       "      <td>-20.440995</td>\n",
       "      <td>19.852336</td>\n",
       "      <td>0.018813</td>\n",
       "      <td>0.047658</td>\n",
       "      <td>0.278704</td>\n",
       "    </tr>\n",
       "    <tr>\n",
       "      <th>2</th>\n",
       "      <td>3.383057</td>\n",
       "      <td>3.534233</td>\n",
       "      <td>0.022808</td>\n",
       "      <td>-0.512324</td>\n",
       "      <td>-3.536931</td>\n",
       "    </tr>\n",
       "    <tr>\n",
       "      <th>3</th>\n",
       "      <td>0.648396</td>\n",
       "      <td>0.650845</td>\n",
       "      <td>0.000231</td>\n",
       "      <td>-2.886657</td>\n",
       "      <td>1.688670</td>\n",
       "    </tr>\n",
       "    <tr>\n",
       "      <th>4</th>\n",
       "      <td>-0.922928</td>\n",
       "      <td>-0.924395</td>\n",
       "      <td>-0.038206</td>\n",
       "      <td>-1.357603</td>\n",
       "      <td>-1.610063</td>\n",
       "    </tr>\n",
       "  </tbody>\n",
       "</table>\n",
       "</div>"
      ],
      "text/plain": [
       "           0          1          2         3         4\n",
       "0   0.295670   0.337197 -40.049110  0.323305  0.314657\n",
       "1 -20.440995  19.852336   0.018813  0.047658  0.278704\n",
       "2   3.383057   3.534233   0.022808 -0.512324 -3.536931\n",
       "3   0.648396   0.650845   0.000231 -2.886657  1.688670\n",
       "4  -0.922928  -0.924395  -0.038206 -1.357603 -1.610063"
      ]
     },
     "execution_count": 42,
     "metadata": {},
     "output_type": "execute_result"
    }
   ],
   "source": [
    "import pandas as pd\n",
    "pd.DataFrame(grn_demo.X_tilda_train)"
   ]
  },
  {
   "cell_type": "code",
   "execution_count": 43,
   "id": "3314d787",
   "metadata": {},
   "outputs": [
    {
     "data": {
      "text/plain": [
       "array([[ 2.95670407e-01,  3.37196898e-01, -4.00491103e+01,\n",
       "         3.23304504e-01,  3.14657386e-01],\n",
       "       [-2.04409948e+01,  1.98523357e+01,  1.88132306e-02,\n",
       "         4.76582424e-02,  2.78704023e-01],\n",
       "       [ 3.38305668e+00,  3.53423344e+00,  2.28080975e-02,\n",
       "        -5.12324132e-01, -3.53693139e+00],\n",
       "       [ 6.48396342e-01,  6.50845122e-01,  2.31161244e-04,\n",
       "        -2.88665702e+00,  1.68866988e+00],\n",
       "       [-9.22927579e-01, -9.24395358e-01, -3.82061735e-02,\n",
       "        -1.35760342e+00, -1.61006338e+00]])"
      ]
     },
     "execution_count": 43,
     "metadata": {},
     "output_type": "execute_result"
    }
   ],
   "source": [
    "grn_demo.X_tilda_train"
   ]
  },
  {
   "cell_type": "code",
   "execution_count": 31,
   "id": "ff6e0404",
   "metadata": {},
   "outputs": [
    {
     "ename": "ValueError",
     "evalue": "object too deep for desired array",
     "output_type": "error",
     "traceback": [
      "\u001b[1;31m---------------------------------------------------------------------------\u001b[0m",
      "\u001b[1;31mValueError\u001b[0m                                Traceback (most recent call last)",
      "Input \u001b[1;32mIn [31]\u001b[0m, in \u001b[0;36m<cell line: 1>\u001b[1;34m()\u001b[0m\n\u001b[1;32m----> 1\u001b[0m \u001b[43mnp\u001b[49m\u001b[38;5;241;43m.\u001b[39;49m\u001b[43mcorrelate\u001b[49m\u001b[43m(\u001b[49m\u001b[43mgrn_demo\u001b[49m\u001b[38;5;241;43m.\u001b[39;49m\u001b[43mX_tilda_train\u001b[49m\u001b[43m,\u001b[49m\u001b[43m \u001b[49m\u001b[43mgrn_demo\u001b[49m\u001b[38;5;241;43m.\u001b[39;49m\u001b[43my_tilda_train\u001b[49m\u001b[43m)\u001b[49m\n",
      "File \u001b[1;32m<__array_function__ internals>:180\u001b[0m, in \u001b[0;36mcorrelate\u001b[1;34m(*args, **kwargs)\u001b[0m\n",
      "File \u001b[1;32m~\\AppData\\Local\\Programs\\Python\\Python310\\lib\\site-packages\\numpy\\core\\numeric.py:747\u001b[0m, in \u001b[0;36mcorrelate\u001b[1;34m(a, v, mode)\u001b[0m\n\u001b[0;32m    676\u001b[0m \u001b[38;5;129m@array_function_dispatch\u001b[39m(_correlate_dispatcher)\n\u001b[0;32m    677\u001b[0m \u001b[38;5;28;01mdef\u001b[39;00m \u001b[38;5;21mcorrelate\u001b[39m(a, v, mode\u001b[38;5;241m=\u001b[39m\u001b[38;5;124m'\u001b[39m\u001b[38;5;124mvalid\u001b[39m\u001b[38;5;124m'\u001b[39m):\n\u001b[0;32m    678\u001b[0m     \u001b[38;5;124mr\u001b[39m\u001b[38;5;124;03m\"\"\"\u001b[39;00m\n\u001b[0;32m    679\u001b[0m \u001b[38;5;124;03m    Cross-correlation of two 1-dimensional sequences.\u001b[39;00m\n\u001b[0;32m    680\u001b[0m \n\u001b[1;32m   (...)\u001b[0m\n\u001b[0;32m    745\u001b[0m \n\u001b[0;32m    746\u001b[0m \u001b[38;5;124;03m    \"\"\"\u001b[39;00m\n\u001b[1;32m--> 747\u001b[0m     \u001b[38;5;28;01mreturn\u001b[39;00m \u001b[43mmultiarray\u001b[49m\u001b[38;5;241;43m.\u001b[39;49m\u001b[43mcorrelate2\u001b[49m\u001b[43m(\u001b[49m\u001b[43ma\u001b[49m\u001b[43m,\u001b[49m\u001b[43m \u001b[49m\u001b[43mv\u001b[49m\u001b[43m,\u001b[49m\u001b[43m \u001b[49m\u001b[43mmode\u001b[49m\u001b[43m)\u001b[49m\n",
      "\u001b[1;31mValueError\u001b[0m: object too deep for desired array"
     ]
    }
   ],
   "source": [
    "np.correlate(grn_demo.X_tilda_train, grn_demo.y_tilda_train)"
   ]
  },
  {
   "cell_type": "code",
   "execution_count": 30,
   "id": "dc9988f1",
   "metadata": {},
   "outputs": [
    {
     "data": {
      "text/plain": [
       "array([[ 1.00000000e+00, -1.83542179e-03,  1.04907767e-01,\n",
       "         6.28616657e-03, -8.71037503e-01, -9.92317027e-01],\n",
       "       [-1.83542179e-03,  1.00000000e+00,  8.34594915e-04,\n",
       "         5.00096687e-05, -6.92954864e-03, -7.29851977e-02],\n",
       "       [ 1.04907767e-01,  8.34594915e-04,  1.00000000e+00,\n",
       "        -2.85841798e-03,  3.96074337e-01, -1.20718957e-01],\n",
       "       [ 6.28616657e-03,  5.00096687e-05, -2.85841798e-03,\n",
       "         1.00000000e+00,  2.37331262e-02, -1.03311208e-01],\n",
       "       [-8.71037503e-01, -6.92954864e-03,  3.96074337e-01,\n",
       "         2.37331262e-02,  1.00000000e+00,  8.53825212e-01],\n",
       "       [-9.92317027e-01, -7.29851977e-02, -1.20718957e-01,\n",
       "        -1.03311208e-01,  8.53825212e-01,  1.00000000e+00]])"
      ]
     },
     "execution_count": 30,
     "metadata": {},
     "output_type": "execute_result"
    }
   ],
   "source": [
    "R1 = np.corrcoef(grn_demo.X_tilda_train, grn_demo.y_tilda_train)\n",
    "R1"
   ]
  },
  {
   "cell_type": "code",
   "execution_count": 29,
   "id": "5a990c81",
   "metadata": {},
   "outputs": [
    {
     "ename": "ValueError",
     "evalue": "could not convert string to float: 'wide_variable_0'",
     "output_type": "error",
     "traceback": [
      "\u001b[1;31m---------------------------------------------------------------------------\u001b[0m",
      "\u001b[1;31mValueError\u001b[0m                                Traceback (most recent call last)",
      "Input \u001b[1;32mIn [29]\u001b[0m, in \u001b[0;36m<cell line: 4>\u001b[1;34m()\u001b[0m\n\u001b[0;32m      1\u001b[0m \u001b[38;5;28;01mimport\u001b[39;00m \u001b[38;5;21;01mplotly\u001b[39;00m\u001b[38;5;21;01m.\u001b[39;00m\u001b[38;5;21;01mexpress\u001b[39;00m \u001b[38;5;28;01mas\u001b[39;00m \u001b[38;5;21;01mpx\u001b[39;00m\n\u001b[0;32m      3\u001b[0m \u001b[38;5;28;01mimport\u001b[39;00m \u001b[38;5;21;01mplotly\u001b[39;00m\u001b[38;5;21;01m.\u001b[39;00m\u001b[38;5;21;01mexpress\u001b[39;00m \u001b[38;5;28;01mas\u001b[39;00m \u001b[38;5;21;01mpx\u001b[39;00m\n\u001b[1;32m----> 4\u001b[0m fig \u001b[38;5;241m=\u001b[39m \u001b[43mpx\u001b[49m\u001b[38;5;241;43m.\u001b[39;49m\u001b[43mscatter\u001b[49m\u001b[43m(\u001b[49m\u001b[43mx\u001b[49m\u001b[38;5;241;43m=\u001b[39;49m\u001b[43mgrn_demo\u001b[49m\u001b[38;5;241;43m.\u001b[39;49m\u001b[43mX_tilda_train\u001b[49m\u001b[43m,\u001b[49m\u001b[43m \u001b[49m\u001b[43my\u001b[49m\u001b[38;5;241;43m=\u001b[39;49m\u001b[43mgrn_demo\u001b[49m\u001b[38;5;241;43m.\u001b[39;49m\u001b[43my_tilda_train\u001b[49m\u001b[43m)\u001b[49m\n\u001b[0;32m      5\u001b[0m fig\u001b[38;5;241m.\u001b[39mshow()\n",
      "File \u001b[1;32m~\\AppData\\Local\\Programs\\Python\\Python310\\lib\\site-packages\\plotly\\express\\_chart_types.py:66\u001b[0m, in \u001b[0;36mscatter\u001b[1;34m(data_frame, x, y, color, symbol, size, hover_name, hover_data, custom_data, text, facet_row, facet_col, facet_col_wrap, facet_row_spacing, facet_col_spacing, error_x, error_x_minus, error_y, error_y_minus, animation_frame, animation_group, category_orders, labels, orientation, color_discrete_sequence, color_discrete_map, color_continuous_scale, range_color, color_continuous_midpoint, symbol_sequence, symbol_map, opacity, size_max, marginal_x, marginal_y, trendline, trendline_options, trendline_color_override, trendline_scope, log_x, log_y, range_x, range_y, render_mode, title, template, width, height)\u001b[0m\n\u001b[0;32m     12\u001b[0m \u001b[38;5;28;01mdef\u001b[39;00m \u001b[38;5;21mscatter\u001b[39m(\n\u001b[0;32m     13\u001b[0m     data_frame\u001b[38;5;241m=\u001b[39m\u001b[38;5;28;01mNone\u001b[39;00m,\n\u001b[0;32m     14\u001b[0m     x\u001b[38;5;241m=\u001b[39m\u001b[38;5;28;01mNone\u001b[39;00m,\n\u001b[1;32m   (...)\u001b[0m\n\u001b[0;32m     60\u001b[0m     height\u001b[38;5;241m=\u001b[39m\u001b[38;5;28;01mNone\u001b[39;00m,\n\u001b[0;32m     61\u001b[0m ) \u001b[38;5;241m-\u001b[39m\u001b[38;5;241m>\u001b[39m go\u001b[38;5;241m.\u001b[39mFigure:\n\u001b[0;32m     62\u001b[0m     \u001b[38;5;124;03m\"\"\"\u001b[39;00m\n\u001b[0;32m     63\u001b[0m \u001b[38;5;124;03m    In a scatter plot, each row of `data_frame` is represented by a symbol\u001b[39;00m\n\u001b[0;32m     64\u001b[0m \u001b[38;5;124;03m    mark in 2D space.\u001b[39;00m\n\u001b[0;32m     65\u001b[0m \u001b[38;5;124;03m    \"\"\"\u001b[39;00m\n\u001b[1;32m---> 66\u001b[0m     \u001b[38;5;28;01mreturn\u001b[39;00m \u001b[43mmake_figure\u001b[49m\u001b[43m(\u001b[49m\u001b[43margs\u001b[49m\u001b[38;5;241;43m=\u001b[39;49m\u001b[38;5;28;43mlocals\u001b[39;49m\u001b[43m(\u001b[49m\u001b[43m)\u001b[49m\u001b[43m,\u001b[49m\u001b[43m \u001b[49m\u001b[43mconstructor\u001b[49m\u001b[38;5;241;43m=\u001b[39;49m\u001b[43mgo\u001b[49m\u001b[38;5;241;43m.\u001b[39;49m\u001b[43mScatter\u001b[49m\u001b[43m)\u001b[49m\n",
      "File \u001b[1;32m~\\AppData\\Local\\Programs\\Python\\Python310\\lib\\site-packages\\plotly\\express\\_core.py:1990\u001b[0m, in \u001b[0;36mmake_figure\u001b[1;34m(args, constructor, trace_patch, layout_patch)\u001b[0m\n\u001b[0;32m   1987\u001b[0m layout_patch \u001b[38;5;241m=\u001b[39m layout_patch \u001b[38;5;129;01mor\u001b[39;00m {}\n\u001b[0;32m   1988\u001b[0m apply_default_cascade(args)\n\u001b[1;32m-> 1990\u001b[0m args \u001b[38;5;241m=\u001b[39m \u001b[43mbuild_dataframe\u001b[49m\u001b[43m(\u001b[49m\u001b[43margs\u001b[49m\u001b[43m,\u001b[49m\u001b[43m \u001b[49m\u001b[43mconstructor\u001b[49m\u001b[43m)\u001b[49m\n\u001b[0;32m   1991\u001b[0m \u001b[38;5;28;01mif\u001b[39;00m constructor \u001b[38;5;129;01min\u001b[39;00m [go\u001b[38;5;241m.\u001b[39mTreemap, go\u001b[38;5;241m.\u001b[39mSunburst, go\u001b[38;5;241m.\u001b[39mIcicle] \u001b[38;5;129;01mand\u001b[39;00m args[\u001b[38;5;124m\"\u001b[39m\u001b[38;5;124mpath\u001b[39m\u001b[38;5;124m\"\u001b[39m] \u001b[38;5;129;01mis\u001b[39;00m \u001b[38;5;129;01mnot\u001b[39;00m \u001b[38;5;28;01mNone\u001b[39;00m:\n\u001b[0;32m   1992\u001b[0m     args \u001b[38;5;241m=\u001b[39m process_dataframe_hierarchy(args)\n",
      "File \u001b[1;32m~\\AppData\\Local\\Programs\\Python\\Python310\\lib\\site-packages\\plotly\\express\\_core.py:1405\u001b[0m, in \u001b[0;36mbuild_dataframe\u001b[1;34m(args, constructor)\u001b[0m\n\u001b[0;32m   1402\u001b[0m     args[\u001b[38;5;124m\"\u001b[39m\u001b[38;5;124mcolor\u001b[39m\u001b[38;5;124m\"\u001b[39m] \u001b[38;5;241m=\u001b[39m \u001b[38;5;28;01mNone\u001b[39;00m\n\u001b[0;32m   1403\u001b[0m \u001b[38;5;66;03m# now that things have been prepped, we do the systematic rewriting of `args`\u001b[39;00m\n\u001b[1;32m-> 1405\u001b[0m df_output, wide_id_vars \u001b[38;5;241m=\u001b[39m \u001b[43mprocess_args_into_dataframe\u001b[49m\u001b[43m(\u001b[49m\n\u001b[0;32m   1406\u001b[0m \u001b[43m    \u001b[49m\u001b[43margs\u001b[49m\u001b[43m,\u001b[49m\u001b[43m \u001b[49m\u001b[43mwide_mode\u001b[49m\u001b[43m,\u001b[49m\u001b[43m \u001b[49m\u001b[43mvar_name\u001b[49m\u001b[43m,\u001b[49m\u001b[43m \u001b[49m\u001b[43mvalue_name\u001b[49m\n\u001b[0;32m   1407\u001b[0m \u001b[43m\u001b[49m\u001b[43m)\u001b[49m\n\u001b[0;32m   1409\u001b[0m \u001b[38;5;66;03m# now that `df_output` exists and `args` contains only references, we complete\u001b[39;00m\n\u001b[0;32m   1410\u001b[0m \u001b[38;5;66;03m# the special-case and wide-mode handling by further rewriting args and/or mutating\u001b[39;00m\n\u001b[0;32m   1411\u001b[0m \u001b[38;5;66;03m# df_output\u001b[39;00m\n\u001b[0;32m   1413\u001b[0m count_name \u001b[38;5;241m=\u001b[39m _escape_col_name(df_output, \u001b[38;5;124m\"\u001b[39m\u001b[38;5;124mcount\u001b[39m\u001b[38;5;124m\"\u001b[39m, [var_name, value_name])\n",
      "File \u001b[1;32m~\\AppData\\Local\\Programs\\Python\\Python310\\lib\\site-packages\\plotly\\express\\_core.py:1265\u001b[0m, in \u001b[0;36mprocess_args_into_dataframe\u001b[1;34m(args, wide_mode, var_name, value_name)\u001b[0m\n\u001b[0;32m   1263\u001b[0m     \u001b[38;5;28;01mpass\u001b[39;00m\n\u001b[0;32m   1264\u001b[0m \u001b[38;5;28;01melse\u001b[39;00m:\n\u001b[1;32m-> 1265\u001b[0m     \u001b[43margs\u001b[49m\u001b[43m[\u001b[49m\u001b[43mfield_name\u001b[49m\u001b[43m]\u001b[49m\u001b[43m[\u001b[49m\u001b[43mi\u001b[49m\u001b[43m]\u001b[49m \u001b[38;5;241m=\u001b[39m \u001b[38;5;28mstr\u001b[39m(col_name)\n\u001b[0;32m   1266\u001b[0m \u001b[38;5;28;01mif\u001b[39;00m field_name \u001b[38;5;241m!=\u001b[39m \u001b[38;5;124m\"\u001b[39m\u001b[38;5;124mwide_variable\u001b[39m\u001b[38;5;124m\"\u001b[39m:\n\u001b[0;32m   1267\u001b[0m     wide_id_vars\u001b[38;5;241m.\u001b[39madd(\u001b[38;5;28mstr\u001b[39m(col_name))\n",
      "\u001b[1;31mValueError\u001b[0m: could not convert string to float: 'wide_variable_0'"
     ]
    }
   ],
   "source": [
    "import plotly.express as px\n",
    "\n",
    "import plotly.express as px\n",
    "fig = px.scatter(x=grn_demo.X_tilda_train, y=grn_demo.y_tilda_train)\n",
    "fig.show()"
   ]
  },
  {
   "cell_type": "code",
   "execution_count": null,
   "id": "c374b4a2",
   "metadata": {},
   "outputs": [],
   "source": []
  },
  {
   "cell_type": "code",
   "execution_count": 25,
   "id": "81c8bb1a",
   "metadata": {},
   "outputs": [
    {
     "data": {
      "text/plain": [
       "array([ 0.21463071,  0.21240863,  0.00233532, -0.0170906 , -0.14422149])"
      ]
     },
     "execution_count": 25,
     "metadata": {},
     "output_type": "execute_result"
    }
   ],
   "source": [
    "grn_demo.coef"
   ]
  },
  {
   "cell_type": "code",
   "execution_count": null,
   "id": "5e081beb",
   "metadata": {},
   "outputs": [],
   "source": []
  },
  {
   "cell_type": "code",
   "execution_count": null,
   "id": "26374014",
   "metadata": {},
   "outputs": [],
   "source": []
  },
  {
   "cell_type": "code",
   "execution_count": 11,
   "id": "ed9e5aa1",
   "metadata": {},
   "outputs": [
    {
     "ename": "NameError",
     "evalue": "name 'greggy' is not defined",
     "output_type": "error",
     "traceback": [
      "\u001b[1;31m---------------------------------------------------------------------------\u001b[0m",
      "\u001b[1;31mNameError\u001b[0m                                 Traceback (most recent call last)",
      "Input \u001b[1;32mIn [11]\u001b[0m, in \u001b[0;36m<cell line: 1>\u001b[1;34m()\u001b[0m\n\u001b[1;32m----> 1\u001b[0m \u001b[38;5;28mprint\u001b[39m(\u001b[38;5;28mprint\u001b[39m(\u001b[43mgreggy\u001b[49m\u001b[38;5;241m.\u001b[39m\u001b[38;5;21m__dir__\u001b[39m()))\n",
      "\u001b[1;31mNameError\u001b[0m: name 'greggy' is not defined"
     ]
    }
   ],
   "source": [
    "\n",
    "#print(print(greggy.__dir__()))"
   ]
  },
  {
   "cell_type": "code",
   "execution_count": null,
   "id": "0ee04dd7",
   "metadata": {},
   "outputs": [],
   "source": [
    "X_train = dummy_data.X_train\n",
    "y_train = dummy_data.y_train\n",
    "greggy.fit(X_train, y_train)"
   ]
  },
  {
   "cell_type": "code",
   "execution_count": null,
   "id": "7f584eb6",
   "metadata": {},
   "outputs": [],
   "source": [
    "print(print(greggy.__dir__()))"
   ]
  },
  {
   "cell_type": "code",
   "execution_count": null,
   "id": "70a00bc0",
   "metadata": {},
   "outputs": [],
   "source": [
    "greggy"
   ]
  },
  {
   "cell_type": "code",
   "execution_count": null,
   "id": "d376a82e",
   "metadata": {},
   "outputs": [],
   "source": [
    "greggy.predict(X_test, y_test)"
   ]
  },
  {
   "cell_type": "code",
   "execution_count": null,
   "id": "822f8a47",
   "metadata": {},
   "outputs": [],
   "source": [
    "greggy.predict(X_train, y_train)"
   ]
  },
  {
   "cell_type": "code",
   "execution_count": null,
   "id": "a154d888",
   "metadata": {},
   "outputs": [],
   "source": []
  },
  {
   "cell_type": "code",
   "execution_count": null,
   "id": "04bbeb60",
   "metadata": {},
   "outputs": [],
   "source": []
  },
  {
   "cell_type": "code",
   "execution_count": null,
   "id": "4f7a49f6",
   "metadata": {},
   "outputs": [],
   "source": []
  },
  {
   "cell_type": "code",
   "execution_count": null,
   "id": "6393e633",
   "metadata": {},
   "outputs": [],
   "source": []
  },
  {
   "cell_type": "code",
   "execution_count": null,
   "id": "f56ac79d",
   "metadata": {},
   "outputs": [],
   "source": [
    "# # # https://www.geeksforgeeks.org/implementation-of-elastic-net-regression-from-scratch/\n",
    "#     def _apply_parameter_constraints(self):\n",
    "#         constraints = {**GRegulNet._parameter_constraints}\n",
    "\n",
    "#         for key, value in self.__dict__.items():\n",
    "#             if key in constraints:\n",
    "#                 if isinstance(constraints[key], tuple):\n",
    "#                     if isinstance(constraints[key][0], type) and not isinstance(value, constraints[key][0]):\n",
    "#                         setattr(self, key, constraints[key][0])\n",
    "#                     elif constraints[key][1] is not None and isinstance(constraints[key][1], type) and not isinstance(value, constraints[key][1]):\n",
    "#                         setattr(self, key, constraints[key][1])\n",
    "#                 elif value not in constraints[key]:\n",
    "#                     setattr(self, key, constraints[key][0])\n",
    "\n",
    "#         return self\n",
    "    \n",
    "    \n",
    "#      # Function for model training\n",
    "\n",
    "    \n",
    "#     # getter method\n",
    "#     def get_beta_network(self):\n",
    "#         return self.beta_network\n",
    "    \n",
    "#      # getter method\n",
    "#     def get_alpha_lasso(self):\n",
    "#         return self.alpha_lasso\n",
    "    \n",
    "#     def compute_B_matrix(self, data_type):##betaRidgeVal, X, A, M):\n",
    "#         \"\"\"M is N_sample, because ||y - Xc||^2 need to be normalized by 1/n_sample, but not the 2 * beta_L2 * c'Ac term\n",
    "#         see https://scikit-learn.org/stable/modules/generated/sklearn.linear_model.Lasso.html\n",
    "#         The optimization objective for Lasso is:\n",
    "#         (1 / (2 * n_samples)) * ||y - Xw||^2_2 + alpha * ||w||_1\n",
    "#         where M = n_sample\n",
    "#         \"\"\"\n",
    "#         if data_type == \"train\":\n",
    "#             print(\"Train\")\n",
    "#             X = self.X_train\n",
    "#         else:\n",
    "#             print(\"Test\")\n",
    "#             X = self.X_test\n",
    "        \n",
    "#         XtX = X.T @ X\n",
    "#         beta_L2 = self.beta_network\n",
    "#         #N = A.shape[0]\n",
    "#         N_squared = self.N ** 2\n",
    "#         part_2 = 2 * beta_L2 * self.M / (N_squared) * self.A\n",
    "#         B = XtX + part_2 \n",
    "#         return B\n",
    "    \n",
    "#     def compute_X_tilde_y_tilde(self, B, X, y):\n",
    "#         \"\"\"Compute X_tilde, y_tilde such that X_tilde.T @ X_tilde = B,   y_tilde.T @ X_tilde = y.T @ X \"\"\"\n",
    "#         U, s, _Vh = np.linalg.svd(B, hermitian=True)  # B = U @ np.diag(s) @ _Vh\n",
    "#         if (cond := s[0] / s[-1]) > 1e10:\n",
    "#             print(f'Large conditional number of B matrix: {cond: .2f}')\n",
    "#         S_sqrt = DiagonalLinearOperator(np.sqrt(s))\n",
    "#         S_inv_sqrt = DiagonalLinearOperator(1 / np.sqrt(s))\n",
    "#         X_tilde = S_sqrt @ U.T\n",
    "#         y_tilde = (y @ X @ U @ S_inv_sqrt).T\n",
    "#         # assert(np.allclose(y.T @ X, y_tilde.T @ X_tilde))\n",
    "#         # assert(np.allclose(B, X_tilde.T @ X_tilde))\n",
    "#         # scale: we normalize by 1/M, but sklearn.linear_model.Lasso normalize by 1/N because X_tilde is N*N matrix,\n",
    "#         # so Lasso thinks the number of sample is N instead of M, to use lasso solve our desired problem, correct the scale\n",
    "#         scale = np.sqrt(self.N / self.M)\n",
    "#         X_tilde *= scale\n",
    "#         y_tilde *= scale\n",
    "#         return X_tilde, y_tilde\n",
    "       \n",
    "        \n",
    "#     def return_Linear_ML_model(self, X, y):\n",
    "#         # model_type can be baseline or network\n",
    "#         from sklearn.linear_model import LinearRegression\n",
    "#         model_name = \"Linear\"\n",
    "#         print(model_name)\n",
    "#         regr = LinearRegression(fit_intercept = self.fit_y_intercept_bool)\n",
    "#         regr.fit(X, y)\n",
    "#         return regr    \n",
    "        \n",
    "#     def return_Lasso_ML_model(self, X, y):\n",
    "#         # model_type can be baseline or network\n",
    "#         from sklearn.linear_model import Lasso\n",
    "#         model_name = \"Lasso\"\n",
    "#         print(model_name)\n",
    "#         regr = Lasso(alpha = self.alpha_lasso, fit_intercept = self.fit_y_intercept_bool,\n",
    "#                     max_iter = self.max_lasso_iterations)\n",
    "#         regr.fit(X, y)\n",
    "#         return regr\n",
    "\n",
    "#     def return_LassoCV_ML_model(self, X, y):\n",
    "#         # model_type can be baseline or network\n",
    "#         from sklearn.linear_model import LassoCV\n",
    "#         model_name = \"LassoCV\"\n",
    "#         print(model_name)\n",
    "#         regr = LassoCV(cv = self.num_cv_folds, random_state = 0, fit_intercept = self.fit_y_intercept_bool)\n",
    "#         regr.fit(X, y)\n",
    "#         return regr            \n",
    "\n",
    "#     def return_fit_ml_model(self, X, y):\n",
    "#         if self.model_type == \"Linear\":\n",
    "#             model_to_return = self.return_Linear_ML_model(X, y)\n",
    "#         elif self.model_type == \"Lasso\":\n",
    "#             model_to_return = self.return_Lasso_ML_model(X, y)\n",
    "#         elif self.model_type == \"LassoCV\":\n",
    "#             model_to_return = self.return_LassoCV_ML_model(X, y)\n",
    "#         return model_to_return\n",
    "\n",
    "#     def calculate_mean_square_error(self, actual_values, predicted_values):\n",
    "#         # Please note that this function by Saniya calculates the Mean Square Error (MSE)\n",
    "#         import numpy as np\n",
    "#         difference = (actual_values - predicted_values)\n",
    "#         squared_diff = difference ** 2 # square of the difference\n",
    "#         mean_squared_diff = np.mean(squared_diff)\n",
    "#         return mean_squared_diff"
   ]
  },
  {
   "cell_type": "code",
   "execution_count": null,
   "id": "39ac4a86",
   "metadata": {},
   "outputs": [],
   "source": []
  },
  {
   "cell_type": "code",
   "execution_count": null,
   "id": "cd8a8c85",
   "metadata": {},
   "outputs": [],
   "source": [
    "# # # https://www.geeksforgeeks.org/implementation-of-elastic-net-regression-from-scratch/\n",
    "# # class GRegulNet:\n",
    "# #     \"\"\" :) Please note that this class focuses on building a Gene Regulatory Network (GRN)\n",
    "# #     from gene expression data for Transcription Factors (TFs), gene expression data \n",
    "# #     for the target gene (TG), and a prior biological network (W). \n",
    "# #     This class performs Network-penalized regression :) \"\"\"\n",
    "    \n",
    "# #     _parameter_constraints = {\n",
    "# #         \"alpha_lasso\": (0, None),\n",
    "# #         \"beta_network\": (0, None),\n",
    "# #         \"num_cv_folds\": (0, None),\n",
    "# #         \"fit_y_intercept_bool\": [False, True],\n",
    "# #         \"same_train_and_test_data_bool\": [False, True],\n",
    "# #         \"use_network\": [True, False],\n",
    "# #         \"use_cross_validation_for_model_bool\": [False, True],\n",
    "# #         \"max_lasso_iterations\": (1, None),\n",
    "# #         \"model_type\": [\"Lasso\", \"LassoCV\", \"Linear\"],\n",
    "# #         \"network\":(PriorGraphNetwork(), None)\n",
    "# #     }\n",
    "    \n",
    "# #     def __init__(self,  **kwargs):# beta_network, alpha_lasso, X_train, y_train, X_test, y_test):\n",
    "# #         self.__dict__.update(kwargs)\n",
    "# #         self.same_train_and_test_data_bool = False # different or same training and testing data?\n",
    "# #         self.use_cross_validation_for_model_bool = False\n",
    "# #         self.num_cv_folds = 5 # for cross validation models\n",
    "# #         self.model_type = \"Lasso\"\n",
    "# #         self.use_network = True\n",
    "# #         required_keys = [\"network\"] #\"same_train_and_test_data_bool\"]\n",
    "# #         if self.use_cross_validation_for_model_bool == False: # we then need to provide our own alpha lasso values\n",
    "# #             #required_keys = [\"alpha_lasso\", \"same_train_and_test_data_bool\"]\n",
    "# #             required_keys += [\"alpha_lasso\"]\n",
    "# #             if self.alpha_lasso == 0:\n",
    "# #                 self.model_type = \"Linear\"\n",
    "# #         else: \n",
    "# #             self.model_type = \"LassoCV\"\n",
    "# #         self.fit_y_intercept_bool = False\n",
    "# #         self.max_lasso_iterations = 10000\n",
    "# #         self.M = self.y_train.shape[0]# + self.y_test.shape[0]\n",
    "# #         if self.same_train_and_test_data_bool:\n",
    "# #             required_keys += [\"beta_network\", \"X_train\", \"y_train\"]\n",
    "# #             self.X_test = self.X_train\n",
    "# #             self.y_test = self.y_train\n",
    "# #         else:\n",
    "# #             required_keys += [\"beta_network\", \"X_train\", \"X_test\", \"y_train\", \"y_test\"] \n",
    "# #             self.M += self.y_test.shape[0]\n",
    "        \n",
    "# #         # check that all required keys are present:\n",
    "# #         missing_keys = [key for key in required_keys if key not in self.__dict__]\n",
    "# #         if missing_keys:\n",
    "# #             raise ValueError(f\":( Please note ye are missing information for these keys: {missing_keys}\")\n",
    "            \n",
    "# #         self._apply_parameter_constraints() # ensuring that the parameter constraints are met\n",
    "        \n",
    "# #         self.N = self.X_train.shape[1]\n",
    "# # #         if self.use_network:\n",
    "# # #             print(\"network used\")\n",
    "# # #             self.B_train = self.compute_B_matrix(\"train\")\n",
    "# # #             self.B_test = self.compute_B_matrix(\"test\")\n",
    "# # #             self.X_tilda_train, self.y_tilda_train = self.compute_X_tilde_y_tilde(self.B_train, self.X_train, self.y_train)\n",
    "# # #             self.X_tilda_test, self.y_tilda_test = self.compute_X_tilde_y_tilde(self.B_test, self.X_test, self.y_test)\n",
    "# # #             self.X_training_to_use, self.y_training_to_use = self.X_tilda_train, self.y_tilda_train\n",
    "# # #             self.X_testing_to_use, self.y_testing_to_use = self.X_tilda_test, self.y_tilda_test\n",
    "# # #             self.data_used = \"X_tilda_train, y_tilda_train\"\n",
    "# # #         else:\n",
    "# # #             print(\"original used\")\n",
    "# # #             self.X_training_to_use, self.y_training_to_use = self.X_train, self.y_train\n",
    "# # #             self.X_testing_to_use, self.y_testing_to_use = self.X_test, self.y_test\n",
    "# # #             self.data_used = \"X_train, y_train\"\n",
    "\n",
    "# #         self.regr = self.return_fit_ml_model(self.X_training_to_use, self.y_training_to_use)\n",
    "# #         ml_model = self.regr\n",
    "# #         coef = ml_model.coef_\n",
    "# #         coef[coef == -0.0] = 0\n",
    "# #         self.coef = coef # Get the coefficients\n",
    "# #         if self.fit_y_intercept_bool:\n",
    "# #             self.intercept = ml_model.intercept_\n",
    "# #         self.predY_train = ml_model.predict(self.X_training_to_use) # training data   \n",
    "# #         self.mse_train = self.calculate_mean_square_error(self.y_training_to_use, self.predY_train) # Calculate MSE\n",
    "# #         if self.same_train_and_test_data_bool: # training is the same as testing data\n",
    "# #             self.predY_test = self.predY_train # testing data\n",
    "# #             self.mse_test = self.mse_train # Calculate MSE\n",
    "# #         else: # different train and test data:\n",
    "# #             self.predY_test = ml_model.predict(self.X_testing_to_use) # training data   \n",
    "# #             self.mse_test = self.calculate_mean_square_error(self.y_testing_to_use, self.predY_test) # Calculate MSE\n",
    "        \n",
    "#     def _apply_parameter_constraints(self):\n",
    "#         constraints = {**GRegulNet._parameter_constraints}\n",
    "\n",
    "#         for key, value in self.__dict__.items():\n",
    "#             if key in constraints:\n",
    "#                 if isinstance(constraints[key], tuple):\n",
    "#                     if isinstance(constraints[key][0], type) and not isinstance(value, constraints[key][0]):\n",
    "#                         setattr(self, key, constraints[key][0])\n",
    "#                     elif constraints[key][1] is not None and isinstance(constraints[key][1], type) and not isinstance(value, constraints[key][1]):\n",
    "#                         setattr(self, key, constraints[key][1])\n",
    "#                 elif value not in constraints[key]:\n",
    "#                     setattr(self, key, constraints[key][0])\n",
    "\n",
    "#         return self\n",
    "    \n",
    "    \n",
    "#      # Function for model training\n",
    "              \n",
    "#     def fit(self, X, Y):\n",
    "# #         if self.use_network:\n",
    "# #             print(\"network used\")\n",
    "# #             self.B_train = self.compute_B_matrix(\"train\")\n",
    "# #             self.B_test = self.compute_B_matrix(\"test\")\n",
    "# #             self.X_tilda_train, self.y_tilda_train = self.compute_X_tilde_y_tilde(self.B_train, self.X_train, self.y_train)\n",
    "# #             self.X_tilda_test, self.y_tilda_test = self.compute_X_tilde_y_tilde(self.B_test, self.X_test, self.y_test)\n",
    "# #             self.X_training_to_use, self.y_training_to_use = self.X_tilda_train, self.y_tilda_train\n",
    "# #             self.X_testing_to_use, self.y_testing_to_use = self.X_tilda_test, self.y_tilda_test\n",
    "# #             self.data_used = \"X_tilda_train, y_tilda_train\"\n",
    "# #         else:\n",
    "# #             print(\"original used\")\n",
    "# #             self.X_training_to_use, self.y_training_to_use = self.X_train, self.y_train\n",
    "# #             self.X_testing_to_use, self.y_testing_to_use = self.X_test, self.y_test\n",
    "# #             self.data_used = \"X_train, y_train\"\n",
    "\n",
    "          \n",
    "#         # no_of_training_examples, no_of_features\n",
    "          \n",
    "#         self.m, self.n = X.shape\n",
    "          \n",
    "#         # weight initialization\n",
    "          \n",
    "#         self.W = np.zeros( self.n )\n",
    "          \n",
    "#         self.b = 0\n",
    "          \n",
    "#         self.X = X\n",
    "          \n",
    "#         self.Y = Y\n",
    "          \n",
    "#         # gradient descent learning\n",
    "                  \n",
    "#         for i in range( self.iterations ) :\n",
    "              \n",
    "#             self.update_weights()\n",
    "              \n",
    "#         return self\n",
    "    \n",
    "#     # getter method\n",
    "#     def get_beta_network(self):\n",
    "#         return self.beta_network\n",
    "    \n",
    "#      # getter method\n",
    "#     def get_alpha_lasso(self):\n",
    "#         return self.alpha_lasso\n",
    "    \n",
    "#     def compute_B_matrix(self, data_type):##betaRidgeVal, X, A, M):\n",
    "#         \"\"\"M is N_sample, because ||y - Xc||^2 need to be normalized by 1/n_sample, but not the 2 * beta_L2 * c'Ac term\n",
    "#         see https://scikit-learn.org/stable/modules/generated/sklearn.linear_model.Lasso.html\n",
    "#         The optimization objective for Lasso is:\n",
    "#         (1 / (2 * n_samples)) * ||y - Xw||^2_2 + alpha * ||w||_1\n",
    "#         where M = n_sample\n",
    "#         \"\"\"\n",
    "#         if data_type == \"train\":\n",
    "#             print(\"Train\")\n",
    "#             X = self.X_train\n",
    "#         else:\n",
    "#             print(\"Test\")\n",
    "#             X = self.X_test\n",
    "        \n",
    "#         XtX = X.T @ X\n",
    "#         beta_L2 = self.beta_network\n",
    "#         #N = A.shape[0]\n",
    "#         N_squared = self.N ** 2\n",
    "#         part_2 = 2 * beta_L2 * self.M / (N_squared) * self.A\n",
    "#         B = XtX + part_2 \n",
    "#         return B\n",
    "    \n",
    "#     def compute_X_tilde_y_tilde(self, B, X, y):\n",
    "#         \"\"\"Compute X_tilde, y_tilde such that X_tilde.T @ X_tilde = B,   y_tilde.T @ X_tilde = y.T @ X \"\"\"\n",
    "#         U, s, _Vh = np.linalg.svd(B, hermitian=True)  # B = U @ np.diag(s) @ _Vh\n",
    "#         if (cond := s[0] / s[-1]) > 1e10:\n",
    "#             print(f'Large conditional number of B matrix: {cond: .2f}')\n",
    "#         S_sqrt = DiagonalLinearOperator(np.sqrt(s))\n",
    "#         S_inv_sqrt = DiagonalLinearOperator(1 / np.sqrt(s))\n",
    "#         X_tilde = S_sqrt @ U.T\n",
    "#         y_tilde = (y @ X @ U @ S_inv_sqrt).T\n",
    "#         # assert(np.allclose(y.T @ X, y_tilde.T @ X_tilde))\n",
    "#         # assert(np.allclose(B, X_tilde.T @ X_tilde))\n",
    "#         # scale: we normalize by 1/M, but sklearn.linear_model.Lasso normalize by 1/N because X_tilde is N*N matrix,\n",
    "#         # so Lasso thinks the number of sample is N instead of M, to use lasso solve our desired problem, correct the scale\n",
    "#         scale = np.sqrt(self.N / self.M)\n",
    "#         X_tilde *= scale\n",
    "#         y_tilde *= scale\n",
    "#         return X_tilde, y_tilde\n",
    "       \n",
    "        \n",
    "#     def return_Linear_ML_model(self, X, y):\n",
    "#         # model_type can be baseline or network\n",
    "#         from sklearn.linear_model import LinearRegression\n",
    "#         model_name = \"Linear\"\n",
    "#         print(model_name)\n",
    "#         regr = LinearRegression(fit_intercept = self.fit_y_intercept_bool)\n",
    "#         regr.fit(X, y)\n",
    "#         return regr    \n",
    "        \n",
    "#     def return_Lasso_ML_model(self, X, y):\n",
    "#         # model_type can be baseline or network\n",
    "#         from sklearn.linear_model import Lasso\n",
    "#         model_name = \"Lasso\"\n",
    "#         print(model_name)\n",
    "#         regr = Lasso(alpha = self.alpha_lasso, fit_intercept = self.fit_y_intercept_bool,\n",
    "#                     max_iter = self.max_lasso_iterations)\n",
    "#         regr.fit(X, y)\n",
    "#         return regr\n",
    "\n",
    "#     def return_LassoCV_ML_model(self, X, y):\n",
    "#         # model_type can be baseline or network\n",
    "#         from sklearn.linear_model import LassoCV\n",
    "#         model_name = \"LassoCV\"\n",
    "#         print(model_name)\n",
    "#         regr = LassoCV(cv = self.num_cv_folds, random_state = 0, fit_intercept = self.fit_y_intercept_bool)\n",
    "#         regr.fit(X, y)\n",
    "#         return regr            \n",
    "\n",
    "#     def return_fit_ml_model(self, X, y):\n",
    "#         if self.model_type == \"Linear\":\n",
    "#             model_to_return = self.return_Linear_ML_model(X, y)\n",
    "#         elif self.model_type == \"Lasso\":\n",
    "#             model_to_return = self.return_Lasso_ML_model(X, y)\n",
    "#         elif self.model_type == \"LassoCV\":\n",
    "#             model_to_return = self.return_LassoCV_ML_model(X, y)\n",
    "#         return model_to_return\n",
    "\n",
    "#     def calculate_mean_square_error(self, actual_values, predicted_values):\n",
    "#         # Please note that this function by Saniya calculates the Mean Square Error (MSE)\n",
    "#         import numpy as np\n",
    "#         difference = (actual_values - predicted_values)\n",
    "#         squared_diff = difference ** 2 # square of the difference\n",
    "#         mean_squared_diff = np.mean(squared_diff)\n",
    "#         return mean_squared_diff"
   ]
  }
 ],
 "metadata": {
  "kernelspec": {
   "display_name": "Python 3 (ipykernel)",
   "language": "python",
   "name": "python3"
  },
  "language_info": {
   "codemirror_mode": {
    "name": "ipython",
    "version": 3
   },
   "file_extension": ".py",
   "mimetype": "text/x-python",
   "name": "python",
   "nbconvert_exporter": "python",
   "pygments_lexer": "ipython3",
   "version": "3.10.6"
  }
 },
 "nbformat": 4,
 "nbformat_minor": 5
}
